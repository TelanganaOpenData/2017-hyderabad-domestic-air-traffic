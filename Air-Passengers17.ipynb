{
 "cells": [
  {
   "cell_type": "code",
   "execution_count": 10,
   "metadata": {
    "run_control": {
     "frozen": false,
     "read_only": false
    }
   },
   "outputs": [],
   "source": [
    "df <- read.csv(\"https://query.data.world/s/ctnyny3uk5yv3iqicf3n2p5nui7ugy\", header=TRUE, stringsAsFactors=FALSE);\n",
    "# https://query.data.world/s/ctnyny3uk5yv3iqicf3n2p5nui7ugy"
   ]
  },
  {
   "cell_type": "code",
   "execution_count": 3,
   "metadata": {
    "run_control": {
     "frozen": false,
     "read_only": false
    }
   },
   "outputs": [
    {
     "name": "stdout",
     "output_type": "stream",
     "text": [
      "'data.frame':\t376 obs. of  6 variables:\n",
      " $ ï..Year               : int  2017 2017 2017 2017 2017 2017 2017 2017 2017 2017 ...\n",
      " $ Month                 : chr  \"April\" \"April\" \"April\" \"April\" ...\n",
      " $ CITY.1                : chr  \"HYDERABAD\" \"HYDERABAD\" \"HYDERABAD\" \"HYDERABAD\" ...\n",
      " $ CITY.2                : chr  \"AGARTALA\" \"AURANGABAD\" \"BAGDOGRA\" \"CHANDIGARH\" ...\n",
      " $ PASSENGERS.TO.CITY.2  : int  49 1461 0 4195 48886 5533 2237 9770 5063 5704 ...\n",
      " $ PASSENGERS.FROM.CITY.2: int  55 1791 422 3661 49131 5943 2802 9775 4455 5764 ...\n"
     ]
    }
   ],
   "source": [
    "str(df)"
   ]
  },
  {
   "cell_type": "code",
   "execution_count": 9,
   "metadata": {
    "run_control": {
     "frozen": false,
     "read_only": false
    }
   },
   "outputs": [
    {
     "data": {
      "text/plain": [
       "    ï..Year        Month              CITY.1             CITY.2         \n",
       " Min.   :2017   Length:376         Length:376         Length:376        \n",
       " 1st Qu.:2017   Class :character   Class :character   Class :character  \n",
       " Median :2017   Mode  :character   Mode  :character   Mode  :character  \n",
       " Mean   :2017                                                           \n",
       " 3rd Qu.:2017                                                           \n",
       " Max.   :2017                                                           \n",
       " PASSENGERS.TO.CITY.2 PASSENGERS.FROM.CITY.2\n",
       " Min.   :     0       Min.   :     0        \n",
       " 1st Qu.:  1457       1st Qu.:  1317        \n",
       " Median :  5638       Median :  6190        \n",
       " Mean   : 15836       Mean   : 16102        \n",
       " 3rd Qu.: 18128       3rd Qu.: 18601        \n",
       " Max.   :108792       Max.   :114562        "
      ]
     },
     "metadata": {},
     "output_type": "display_data"
    }
   ],
   "source": [
    "summary(df)"
   ]
  },
  {
   "cell_type": "code",
   "execution_count": null,
   "metadata": {
    "run_control": {
     "frozen": false,
     "read_only": false
    }
   },
   "outputs": [],
   "source": []
  }
 ],
 "metadata": {
  "hide_input": false,
  "kernelspec": {
   "display_name": "R",
   "language": "R",
   "name": "ir"
  },
  "language_info": {
   "codemirror_mode": "r",
   "file_extension": ".r",
   "mimetype": "text/x-r-source",
   "name": "R",
   "pygments_lexer": "r",
   "version": "3.3.2"
  },
  "nav_menu": {},
  "toc": {
   "navigate_menu": true,
   "number_sections": true,
   "sideBar": true,
   "threshold": 6,
   "toc_cell": false,
   "toc_section_display": "block",
   "toc_window_display": false
  }
 },
 "nbformat": 4,
 "nbformat_minor": 2
}
