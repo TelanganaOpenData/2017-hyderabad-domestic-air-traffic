{
 "cells": [
  {
   "cell_type": "code",
   "execution_count": 2,
   "metadata": {
    "run_control": {
     "frozen": false,
     "read_only": false
    }
   },
   "outputs": [],
   "source": [
    "df <- read.csv(\"https://query.data.world/s/ctnyny3uk5yv3iqicf3n2p5nui7ugy\", header=TRUE, stringsAsFactors=FALSE);\n",
    "# https://query.data.world/s/ctnyny3uk5yv3iqicf3n2p5nui7ugy"
   ]
  },
  {
   "cell_type": "code",
   "execution_count": 3,
   "metadata": {
    "run_control": {
     "frozen": false,
     "read_only": false
    }
   },
   "outputs": [
    {
     "name": "stdout",
     "output_type": "stream",
     "text": [
      "'data.frame':\t376 obs. of  6 variables:\n",
      " $ ï..Year               : int  2017 2017 2017 2017 2017 2017 2017 2017 2017 2017 ...\n",
      " $ Month                 : chr  \"April\" \"April\" \"April\" \"April\" ...\n",
      " $ CITY.1                : chr  \"HYDERABAD\" \"HYDERABAD\" \"HYDERABAD\" \"HYDERABAD\" ...\n",
      " $ CITY.2                : chr  \"AGARTALA\" \"AURANGABAD\" \"BAGDOGRA\" \"CHANDIGARH\" ...\n",
      " $ PASSENGERS.TO.CITY.2  : int  49 1461 0 4195 48886 5533 2237 9770 5063 5704 ...\n",
      " $ PASSENGERS.FROM.CITY.2: int  55 1791 422 3661 49131 5943 2802 9775 4455 5764 ...\n"
     ]
    }
   ],
   "source": [
    "str(df)"
   ]
  },
  {
   "cell_type": "code",
   "execution_count": 4,
   "metadata": {
    "run_control": {
     "frozen": false,
     "read_only": false
    },
    "scrolled": true
   },
   "outputs": [
    {
     "data": {
      "text/plain": [
       "    ï..Year        Month              CITY.1             CITY.2         \n",
       " Min.   :2017   Length:376         Length:376         Length:376        \n",
       " 1st Qu.:2017   Class :character   Class :character   Class :character  \n",
       " Median :2017   Mode  :character   Mode  :character   Mode  :character  \n",
       " Mean   :2017                                                           \n",
       " 3rd Qu.:2017                                                           \n",
       " Max.   :2017                                                           \n",
       " PASSENGERS.TO.CITY.2 PASSENGERS.FROM.CITY.2\n",
       " Min.   :     0       Min.   :     0        \n",
       " 1st Qu.:  1457       1st Qu.:  1317        \n",
       " Median :  5638       Median :  6190        \n",
       " Mean   : 15836       Mean   : 16102        \n",
       " 3rd Qu.: 18128       3rd Qu.: 18601        \n",
       " Max.   :108792       Max.   :114562        "
      ]
     },
     "metadata": {},
     "output_type": "display_data"
    }
   ],
   "source": [
    "summary(df)"
   ]
  },
  {
   "cell_type": "code",
   "execution_count": 5,
   "metadata": {
    "run_control": {
     "frozen": false,
     "read_only": false
    }
   },
   "outputs": [
    {
     "data": {
      "text/html": [
       "<table>\n",
       "<thead><tr><th scope=col>ï..Year</th><th scope=col>Month</th><th scope=col>CITY.1</th><th scope=col>CITY.2</th><th scope=col>PASSENGERS.TO.CITY.2</th><th scope=col>PASSENGERS.FROM.CITY.2</th></tr></thead>\n",
       "<tbody>\n",
       "\t<tr><td>2017      </td><td>April     </td><td>HYDERABAD </td><td>AGARTALA  </td><td>   49     </td><td>   55     </td></tr>\n",
       "\t<tr><td>2017      </td><td>April     </td><td>HYDERABAD </td><td>AURANGABAD</td><td> 1461     </td><td> 1791     </td></tr>\n",
       "\t<tr><td>2017      </td><td>April     </td><td>HYDERABAD </td><td>BAGDOGRA  </td><td>    0     </td><td>  422     </td></tr>\n",
       "\t<tr><td>2017      </td><td>April     </td><td>HYDERABAD </td><td>CHANDIGARH</td><td> 4195     </td><td> 3661     </td></tr>\n",
       "\t<tr><td>2017      </td><td>April     </td><td>HYDERABAD </td><td>CHENNAI   </td><td>48886     </td><td>49131     </td></tr>\n",
       "\t<tr><td>2017      </td><td>April     </td><td>HYDERABAD </td><td>INDORE    </td><td> 5533     </td><td> 5943     </td></tr>\n",
       "</tbody>\n",
       "</table>\n"
      ],
      "text/latex": [
       "\\begin{tabular}{r|llllll}\n",
       " ï..Year & Month & CITY.1 & CITY.2 & PASSENGERS.TO.CITY.2 & PASSENGERS.FROM.CITY.2\\\\\n",
       "\\hline\n",
       "\t 2017       & April      & HYDERABAD  & AGARTALA   &    49      &    55     \\\\\n",
       "\t 2017       & April      & HYDERABAD  & AURANGABAD &  1461      &  1791     \\\\\n",
       "\t 2017       & April      & HYDERABAD  & BAGDOGRA   &     0      &   422     \\\\\n",
       "\t 2017       & April      & HYDERABAD  & CHANDIGARH &  4195      &  3661     \\\\\n",
       "\t 2017       & April      & HYDERABAD  & CHENNAI    & 48886      & 49131     \\\\\n",
       "\t 2017       & April      & HYDERABAD  & INDORE     &  5533      &  5943     \\\\\n",
       "\\end{tabular}\n"
      ],
      "text/markdown": [
       "\n",
       "ï..Year | Month | CITY.1 | CITY.2 | PASSENGERS.TO.CITY.2 | PASSENGERS.FROM.CITY.2 | \n",
       "|---|---|---|---|---|---|\n",
       "| 2017       | April      | HYDERABAD  | AGARTALA   |    49      |    55      | \n",
       "| 2017       | April      | HYDERABAD  | AURANGABAD |  1461      |  1791      | \n",
       "| 2017       | April      | HYDERABAD  | BAGDOGRA   |     0      |   422      | \n",
       "| 2017       | April      | HYDERABAD  | CHANDIGARH |  4195      |  3661      | \n",
       "| 2017       | April      | HYDERABAD  | CHENNAI    | 48886      | 49131      | \n",
       "| 2017       | April      | HYDERABAD  | INDORE     |  5533      |  5943      | \n",
       "\n",
       "\n"
      ],
      "text/plain": [
       "  ï..Year Month CITY.1    CITY.2     PASSENGERS.TO.CITY.2\n",
       "1 2017    April HYDERABAD AGARTALA      49               \n",
       "2 2017    April HYDERABAD AURANGABAD  1461               \n",
       "3 2017    April HYDERABAD BAGDOGRA       0               \n",
       "4 2017    April HYDERABAD CHANDIGARH  4195               \n",
       "5 2017    April HYDERABAD CHENNAI    48886               \n",
       "6 2017    April HYDERABAD INDORE      5533               \n",
       "  PASSENGERS.FROM.CITY.2\n",
       "1    55                 \n",
       "2  1791                 \n",
       "3   422                 \n",
       "4  3661                 \n",
       "5 49131                 \n",
       "6  5943                 "
      ]
     },
     "metadata": {},
     "output_type": "display_data"
    },
    {
     "data": {
      "text/html": [
       "<table>\n",
       "<thead><tr><th></th><th scope=col>ï..Year</th><th scope=col>Month</th><th scope=col>CITY.1</th><th scope=col>CITY.2</th><th scope=col>PASSENGERS.TO.CITY.2</th><th scope=col>PASSENGERS.FROM.CITY.2</th></tr></thead>\n",
       "<tbody>\n",
       "\t<tr><th scope=row>371</th><td>2017      </td><td>September </td><td>HYDERABAD </td><td>COIMBATORE</td><td>  5060    </td><td> 5138     </td></tr>\n",
       "\t<tr><th scope=row>372</th><td>2017      </td><td>September </td><td>HYDERABAD </td><td>KOCHI     </td><td> 29339    </td><td>28435     </td></tr>\n",
       "\t<tr><th scope=row>373</th><td>2017      </td><td>September </td><td>HYDERABAD </td><td>DEHRA DUN </td><td>   394    </td><td>  541     </td></tr>\n",
       "\t<tr><th scope=row>374</th><td>2017      </td><td>September </td><td>HYDERABAD </td><td>DELHI     </td><td>100815    </td><td>93644     </td></tr>\n",
       "\t<tr><th scope=row>375</th><td>2017      </td><td>September </td><td>HYDERABAD </td><td>GUWAHATI  </td><td>  2484    </td><td> 3349     </td></tr>\n",
       "\t<tr><th scope=row>376</th><td>2017      </td><td>September </td><td>HYDERABAD </td><td>GOA       </td><td> 17112    </td><td>16787     </td></tr>\n",
       "</tbody>\n",
       "</table>\n"
      ],
      "text/latex": [
       "\\begin{tabular}{r|llllll}\n",
       "  & ï..Year & Month & CITY.1 & CITY.2 & PASSENGERS.TO.CITY.2 & PASSENGERS.FROM.CITY.2\\\\\n",
       "\\hline\n",
       "\t371 & 2017       & September  & HYDERABAD  & COIMBATORE &   5060     &  5138     \\\\\n",
       "\t372 & 2017       & September  & HYDERABAD  & KOCHI      &  29339     & 28435     \\\\\n",
       "\t373 & 2017       & September  & HYDERABAD  & DEHRA DUN  &    394     &   541     \\\\\n",
       "\t374 & 2017       & September  & HYDERABAD  & DELHI      & 100815     & 93644     \\\\\n",
       "\t375 & 2017       & September  & HYDERABAD  & GUWAHATI   &   2484     &  3349     \\\\\n",
       "\t376 & 2017       & September  & HYDERABAD  & GOA        &  17112     & 16787     \\\\\n",
       "\\end{tabular}\n"
      ],
      "text/markdown": [
       "\n",
       "| <!--/--> | ï..Year | Month | CITY.1 | CITY.2 | PASSENGERS.TO.CITY.2 | PASSENGERS.FROM.CITY.2 | \n",
       "|---|---|---|---|---|---|\n",
       "| 371 | 2017       | September  | HYDERABAD  | COIMBATORE |   5060     |  5138      | \n",
       "| 372 | 2017       | September  | HYDERABAD  | KOCHI      |  29339     | 28435      | \n",
       "| 373 | 2017       | September  | HYDERABAD  | DEHRA DUN  |    394     |   541      | \n",
       "| 374 | 2017       | September  | HYDERABAD  | DELHI      | 100815     | 93644      | \n",
       "| 375 | 2017       | September  | HYDERABAD  | GUWAHATI   |   2484     |  3349      | \n",
       "| 376 | 2017       | September  | HYDERABAD  | GOA        |  17112     | 16787      | \n",
       "\n",
       "\n"
      ],
      "text/plain": [
       "    ï..Year Month     CITY.1    CITY.2     PASSENGERS.TO.CITY.2\n",
       "371 2017    September HYDERABAD COIMBATORE   5060              \n",
       "372 2017    September HYDERABAD KOCHI       29339              \n",
       "373 2017    September HYDERABAD DEHRA DUN     394              \n",
       "374 2017    September HYDERABAD DELHI      100815              \n",
       "375 2017    September HYDERABAD GUWAHATI     2484              \n",
       "376 2017    September HYDERABAD GOA         17112              \n",
       "    PASSENGERS.FROM.CITY.2\n",
       "371  5138                 \n",
       "372 28435                 \n",
       "373   541                 \n",
       "374 93644                 \n",
       "375  3349                 \n",
       "376 16787                 "
      ]
     },
     "metadata": {},
     "output_type": "display_data"
    }
   ],
   "source": [
    "head(df);tail(df) \n",
    " "
   ]
  }
 ],
 "metadata": {
  "hide_input": false,
  "kernelspec": {
   "display_name": "R",
   "language": "R",
   "name": "ir"
  },
  "language_info": {
   "codemirror_mode": "r",
   "file_extension": ".r",
   "mimetype": "text/x-r-source",
   "name": "R",
   "pygments_lexer": "r",
   "version": "3.3.2"
  },
  "nav_menu": {},
  "toc": {
   "navigate_menu": true,
   "number_sections": true,
   "sideBar": true,
   "threshold": 6,
   "toc_cell": false,
   "toc_section_display": "block",
   "toc_window_display": false
  }
 },
 "nbformat": 4,
 "nbformat_minor": 2
}
