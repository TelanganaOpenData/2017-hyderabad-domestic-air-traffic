{
 "cells": [
  {
   "cell_type": "markdown",
   "metadata": {
    "run_control": {
     "marked": false
    }
   },
   "source": [
    "**Download Airlines dataset for the year 2008 from stat-computing.org **  \n",
    "http://stat-computing.org/dataexpo/2009/the-data.html   \n",
    "**Extract csv file from the zip folder and save it into data folder**  \n",
    "*note:*   \n",
    "**Refer to http://www.airportcodes.org/ for a list of airport codes**"
   ]
  },
  {
   "cell_type": "markdown",
   "metadata": {
    "run_control": {
     "marked": false
    }
   },
   "source": [
    "> Import CSV file into your R session and name the dataframe as myDF?"
   ]
  },
  {
   "cell_type": "code",
   "execution_count": 1,
   "metadata": {
    "hide_input": false,
    "run_control": {
     "frozen": false,
     "marked": false,
     "read_only": false
    },
    "scrolled": true
   },
   "outputs": [
    {
     "name": "stdout",
     "output_type": "stream",
     "text": [
      "\r",
      "Read 0.0% of 7009728 rows\r",
      "Read 5.4% of 7009728 rows\r",
      "Read 11.0% of 7009728 rows\r",
      "Read 16.5% of 7009728 rows\r",
      "Read 22.1% of 7009728 rows\r",
      "Read 27.7% of 7009728 rows\r",
      "Read 33.2% of 7009728 rows\r",
      "Read 38.8% of 7009728 rows\r",
      "Read 44.4% of 7009728 rows\r",
      "Read 49.9% of 7009728 rows\r",
      "Read 55.1% of 7009728 rows\r",
      "Read 60.3% of 7009728 rows\r",
      "Read 65.6% of 7009728 rows\r",
      "Read 70.3% of 7009728 rows\r",
      "Read 75.3% of 7009728 rows\r",
      "Read 80.6% of 7009728 rows\r",
      "Read 85.7% of 7009728 rows\r",
      "Read 90.9% of 7009728 rows\r",
      "Read 95.6% of 7009728 rows\r",
      "Read 7009728 rows and 29 (of 29) columns from 0.642 GB file in 00:01:41\n"
     ]
    }
   ],
   "source": [
    "library(data.table)\n",
    "myDF <- fread(\"data/2008.csv\") \n",
    "# imported all of the data from 2008 dataset of the ASA data expo 2009"
   ]
  },
  {
   "cell_type": "markdown",
   "metadata": {},
   "source": [
    "## Extraction of Flights data, Arrival & Departure time analysis"
   ]
  },
  {
   "cell_type": "markdown",
   "metadata": {
    "run_control": {
     "marked": false
    }
   },
   "source": [
    "#### Write down How many  observations  and variables our myDF dataframe has? "
   ]
  },
  {
   "cell_type": "code",
   "execution_count": 2,
   "metadata": {
    "collapsed": true,
    "run_control": {
     "frozen": false,
     "marked": false,
     "read_only": false
    }
   },
   "outputs": [
    {
     "data": {
      "text/html": [
       "<ol class=list-inline>\n",
       "\t<li>7009728</li>\n",
       "\t<li>29</li>\n",
       "</ol>\n"
      ],
      "text/latex": [
       "\\begin{enumerate*}\n",
       "\\item 7009728\n",
       "\\item 29\n",
       "\\end{enumerate*}\n"
      ],
      "text/markdown": [
       "1. 7009728\n",
       "2. 29\n",
       "\n",
       "\n"
      ],
      "text/plain": [
       "[1] 7009728      29"
      ]
     },
     "metadata": {},
     "output_type": "display_data"
    }
   ],
   "source": [
    "dim(myDF)"
   ]
  },
  {
   "cell_type": "markdown",
   "metadata": {
    "run_control": {
     "marked": false
    }
   },
   "source": [
    "#### Extract the Head and Tail of a Data Set?"
   ]
  },
  {
   "cell_type": "code",
   "execution_count": 3,
   "metadata": {
    "collapsed": true,
    "run_control": {
     "frozen": false,
     "marked": false,
     "read_only": false
    },
    "scrolled": true
   },
   "outputs": [
    {
     "data": {
      "text/html": [
       "<table>\n",
       "<thead><tr><th scope=col>Year</th><th scope=col>Month</th><th scope=col>DayofMonth</th><th scope=col>DayOfWeek</th><th scope=col>DepTime</th><th scope=col>CRSDepTime</th><th scope=col>ArrTime</th><th scope=col>CRSArrTime</th><th scope=col>UniqueCarrier</th><th scope=col>FlightNum</th><th scope=col>...</th><th scope=col>TaxiIn</th><th scope=col>TaxiOut</th><th scope=col>Cancelled</th><th scope=col>CancellationCode</th><th scope=col>Diverted</th><th scope=col>CarrierDelay</th><th scope=col>WeatherDelay</th><th scope=col>NASDelay</th><th scope=col>SecurityDelay</th><th scope=col>LateAircraftDelay</th></tr></thead>\n",
       "<tbody>\n",
       "\t<tr><td>2008</td><td>1   </td><td>3   </td><td>4   </td><td>2003</td><td>1955</td><td>2211</td><td>2225</td><td>WN  </td><td> 335</td><td>... </td><td>4   </td><td> 8  </td><td>0   </td><td>    </td><td>0   </td><td>NA  </td><td>NA  </td><td>NA  </td><td>NA  </td><td>NA  </td></tr>\n",
       "\t<tr><td>2008</td><td>1   </td><td>3   </td><td>4   </td><td> 754</td><td> 735</td><td>1002</td><td>1000</td><td>WN  </td><td>3231</td><td>... </td><td>5   </td><td>10  </td><td>0   </td><td>    </td><td>0   </td><td>NA  </td><td>NA  </td><td>NA  </td><td>NA  </td><td>NA  </td></tr>\n",
       "\t<tr><td>2008</td><td>1   </td><td>3   </td><td>4   </td><td> 628</td><td> 620</td><td> 804</td><td> 750</td><td>WN  </td><td> 448</td><td>... </td><td>3   </td><td>17  </td><td>0   </td><td>    </td><td>0   </td><td>NA  </td><td>NA  </td><td>NA  </td><td>NA  </td><td>NA  </td></tr>\n",
       "\t<tr><td>2008</td><td>1   </td><td>3   </td><td>4   </td><td> 926</td><td> 930</td><td>1054</td><td>1100</td><td>WN  </td><td>1746</td><td>... </td><td>3   </td><td> 7  </td><td>0   </td><td>    </td><td>0   </td><td>NA  </td><td>NA  </td><td>NA  </td><td>NA  </td><td>NA  </td></tr>\n",
       "\t<tr><td>2008</td><td>1   </td><td>3   </td><td>4   </td><td>1829</td><td>1755</td><td>1959</td><td>1925</td><td>WN  </td><td>3920</td><td>... </td><td>3   </td><td>10  </td><td>0   </td><td>    </td><td>0   </td><td> 2  </td><td> 0  </td><td> 0  </td><td> 0  </td><td>32  </td></tr>\n",
       "\t<tr><td>2008</td><td>1   </td><td>3   </td><td>4   </td><td>1940</td><td>1915</td><td>2121</td><td>2110</td><td>WN  </td><td> 378</td><td>... </td><td>4   </td><td>10  </td><td>0   </td><td>    </td><td>0   </td><td>NA  </td><td>NA  </td><td>NA  </td><td>NA  </td><td>NA  </td></tr>\n",
       "</tbody>\n",
       "</table>\n"
      ],
      "text/latex": [
       "\\begin{tabular}{r|lllllllllllllllllllllllllllll}\n",
       " Year & Month & DayofMonth & DayOfWeek & DepTime & CRSDepTime & ArrTime & CRSArrTime & UniqueCarrier & FlightNum & ... & TaxiIn & TaxiOut & Cancelled & CancellationCode & Diverted & CarrierDelay & WeatherDelay & NASDelay & SecurityDelay & LateAircraftDelay\\\\\n",
       "\\hline\n",
       "\t 2008 & 1    & 3    & 4    & 2003 & 1955 & 2211 & 2225 & WN   &  335 & ...  & 4    &  8   & 0    &      & 0    & NA   & NA   & NA   & NA   & NA  \\\\\n",
       "\t 2008 & 1    & 3    & 4    &  754 &  735 & 1002 & 1000 & WN   & 3231 & ...  & 5    & 10   & 0    &      & 0    & NA   & NA   & NA   & NA   & NA  \\\\\n",
       "\t 2008 & 1    & 3    & 4    &  628 &  620 &  804 &  750 & WN   &  448 & ...  & 3    & 17   & 0    &      & 0    & NA   & NA   & NA   & NA   & NA  \\\\\n",
       "\t 2008 & 1    & 3    & 4    &  926 &  930 & 1054 & 1100 & WN   & 1746 & ...  & 3    &  7   & 0    &      & 0    & NA   & NA   & NA   & NA   & NA  \\\\\n",
       "\t 2008 & 1    & 3    & 4    & 1829 & 1755 & 1959 & 1925 & WN   & 3920 & ...  & 3    & 10   & 0    &      & 0    &  2   &  0   &  0   &  0   & 32  \\\\\n",
       "\t 2008 & 1    & 3    & 4    & 1940 & 1915 & 2121 & 2110 & WN   &  378 & ...  & 4    & 10   & 0    &      & 0    & NA   & NA   & NA   & NA   & NA  \\\\\n",
       "\\end{tabular}\n"
      ],
      "text/markdown": [
       "\n",
       "Year | Month | DayofMonth | DayOfWeek | DepTime | CRSDepTime | ArrTime | CRSArrTime | UniqueCarrier | FlightNum | ... | TaxiIn | TaxiOut | Cancelled | CancellationCode | Diverted | CarrierDelay | WeatherDelay | NASDelay | SecurityDelay | LateAircraftDelay | \n",
       "|---|---|---|---|---|---|\n",
       "| 2008 | 1    | 3    | 4    | 2003 | 1955 | 2211 | 2225 | WN   |  335 | ...  | 4    |  8   | 0    |      | 0    | NA   | NA   | NA   | NA   | NA   | \n",
       "| 2008 | 1    | 3    | 4    |  754 |  735 | 1002 | 1000 | WN   | 3231 | ...  | 5    | 10   | 0    |      | 0    | NA   | NA   | NA   | NA   | NA   | \n",
       "| 2008 | 1    | 3    | 4    |  628 |  620 |  804 |  750 | WN   |  448 | ...  | 3    | 17   | 0    |      | 0    | NA   | NA   | NA   | NA   | NA   | \n",
       "| 2008 | 1    | 3    | 4    |  926 |  930 | 1054 | 1100 | WN   | 1746 | ...  | 3    |  7   | 0    |      | 0    | NA   | NA   | NA   | NA   | NA   | \n",
       "| 2008 | 1    | 3    | 4    | 1829 | 1755 | 1959 | 1925 | WN   | 3920 | ...  | 3    | 10   | 0    |      | 0    |  2   |  0   |  0   |  0   | 32   | \n",
       "| 2008 | 1    | 3    | 4    | 1940 | 1915 | 2121 | 2110 | WN   |  378 | ...  | 4    | 10   | 0    |      | 0    | NA   | NA   | NA   | NA   | NA   | \n",
       "\n",
       "\n"
      ],
      "text/plain": [
       "  Year Month DayofMonth DayOfWeek DepTime CRSDepTime ArrTime CRSArrTime\n",
       "1 2008 1     3          4         2003    1955       2211    2225      \n",
       "2 2008 1     3          4          754     735       1002    1000      \n",
       "3 2008 1     3          4          628     620        804     750      \n",
       "4 2008 1     3          4          926     930       1054    1100      \n",
       "5 2008 1     3          4         1829    1755       1959    1925      \n",
       "6 2008 1     3          4         1940    1915       2121    2110      \n",
       "  UniqueCarrier FlightNum ... TaxiIn TaxiOut Cancelled CancellationCode\n",
       "1 WN             335      ... 4       8      0                         \n",
       "2 WN            3231      ... 5      10      0                         \n",
       "3 WN             448      ... 3      17      0                         \n",
       "4 WN            1746      ... 3       7      0                         \n",
       "5 WN            3920      ... 3      10      0                         \n",
       "6 WN             378      ... 4      10      0                         \n",
       "  Diverted CarrierDelay WeatherDelay NASDelay SecurityDelay LateAircraftDelay\n",
       "1 0        NA           NA           NA       NA            NA               \n",
       "2 0        NA           NA           NA       NA            NA               \n",
       "3 0        NA           NA           NA       NA            NA               \n",
       "4 0        NA           NA           NA       NA            NA               \n",
       "5 0         2            0            0        0            32               \n",
       "6 0        NA           NA           NA       NA            NA               "
      ]
     },
     "metadata": {},
     "output_type": "display_data"
    },
    {
     "data": {
      "text/html": [
       "<table>\n",
       "<thead><tr><th scope=col>Year</th><th scope=col>Month</th><th scope=col>DayofMonth</th><th scope=col>DayOfWeek</th><th scope=col>DepTime</th><th scope=col>CRSDepTime</th><th scope=col>ArrTime</th><th scope=col>CRSArrTime</th><th scope=col>UniqueCarrier</th><th scope=col>FlightNum</th><th scope=col>...</th><th scope=col>TaxiIn</th><th scope=col>TaxiOut</th><th scope=col>Cancelled</th><th scope=col>CancellationCode</th><th scope=col>Diverted</th><th scope=col>CarrierDelay</th><th scope=col>WeatherDelay</th><th scope=col>NASDelay</th><th scope=col>SecurityDelay</th><th scope=col>LateAircraftDelay</th></tr></thead>\n",
       "<tbody>\n",
       "\t<tr><td>2008</td><td>12  </td><td>13  </td><td>6   </td><td> 749</td><td> 750</td><td> 901</td><td> 859</td><td>DL  </td><td>1636</td><td>... </td><td>20  </td><td>11  </td><td>0   </td><td>    </td><td>0   </td><td>NA  </td><td>NA  </td><td>NA  </td><td>NA  </td><td>NA  </td></tr>\n",
       "\t<tr><td>2008</td><td>12  </td><td>13  </td><td>6   </td><td>1002</td><td> 959</td><td>1204</td><td>1150</td><td>DL  </td><td>1636</td><td>... </td><td> 6  </td><td>45  </td><td>0   </td><td>    </td><td>0   </td><td>NA  </td><td>NA  </td><td>NA  </td><td>NA  </td><td>NA  </td></tr>\n",
       "\t<tr><td>2008</td><td>12  </td><td>13  </td><td>6   </td><td> 834</td><td> 835</td><td>1021</td><td>1023</td><td>DL  </td><td>1637</td><td>... </td><td> 5  </td><td>23  </td><td>0   </td><td>    </td><td>0   </td><td>NA  </td><td>NA  </td><td>NA  </td><td>NA  </td><td>NA  </td></tr>\n",
       "\t<tr><td>2008</td><td>12  </td><td>13  </td><td>6   </td><td> 655</td><td> 700</td><td> 856</td><td> 856</td><td>DL  </td><td>1638</td><td>... </td><td>24  </td><td>12  </td><td>0   </td><td>    </td><td>0   </td><td>NA  </td><td>NA  </td><td>NA  </td><td>NA  </td><td>NA  </td></tr>\n",
       "\t<tr><td>2008</td><td>12  </td><td>13  </td><td>6   </td><td>1251</td><td>1240</td><td>1446</td><td>1437</td><td>DL  </td><td>1639</td><td>... </td><td>13  </td><td>13  </td><td>0   </td><td>    </td><td>0   </td><td>NA  </td><td>NA  </td><td>NA  </td><td>NA  </td><td>NA  </td></tr>\n",
       "\t<tr><td>2008</td><td>12  </td><td>13  </td><td>6   </td><td>1110</td><td>1103</td><td>1413</td><td>1418</td><td>DL  </td><td>1641</td><td>... </td><td> 8  </td><td>11  </td><td>0   </td><td>    </td><td>0   </td><td>NA  </td><td>NA  </td><td>NA  </td><td>NA  </td><td>NA  </td></tr>\n",
       "</tbody>\n",
       "</table>\n"
      ],
      "text/latex": [
       "\\begin{tabular}{r|lllllllllllllllllllllllllllll}\n",
       " Year & Month & DayofMonth & DayOfWeek & DepTime & CRSDepTime & ArrTime & CRSArrTime & UniqueCarrier & FlightNum & ... & TaxiIn & TaxiOut & Cancelled & CancellationCode & Diverted & CarrierDelay & WeatherDelay & NASDelay & SecurityDelay & LateAircraftDelay\\\\\n",
       "\\hline\n",
       "\t 2008 & 12   & 13   & 6    &  749 &  750 &  901 &  859 & DL   & 1636 & ...  & 20   & 11   & 0    &      & 0    & NA   & NA   & NA   & NA   & NA  \\\\\n",
       "\t 2008 & 12   & 13   & 6    & 1002 &  959 & 1204 & 1150 & DL   & 1636 & ...  &  6   & 45   & 0    &      & 0    & NA   & NA   & NA   & NA   & NA  \\\\\n",
       "\t 2008 & 12   & 13   & 6    &  834 &  835 & 1021 & 1023 & DL   & 1637 & ...  &  5   & 23   & 0    &      & 0    & NA   & NA   & NA   & NA   & NA  \\\\\n",
       "\t 2008 & 12   & 13   & 6    &  655 &  700 &  856 &  856 & DL   & 1638 & ...  & 24   & 12   & 0    &      & 0    & NA   & NA   & NA   & NA   & NA  \\\\\n",
       "\t 2008 & 12   & 13   & 6    & 1251 & 1240 & 1446 & 1437 & DL   & 1639 & ...  & 13   & 13   & 0    &      & 0    & NA   & NA   & NA   & NA   & NA  \\\\\n",
       "\t 2008 & 12   & 13   & 6    & 1110 & 1103 & 1413 & 1418 & DL   & 1641 & ...  &  8   & 11   & 0    &      & 0    & NA   & NA   & NA   & NA   & NA  \\\\\n",
       "\\end{tabular}\n"
      ],
      "text/markdown": [
       "\n",
       "Year | Month | DayofMonth | DayOfWeek | DepTime | CRSDepTime | ArrTime | CRSArrTime | UniqueCarrier | FlightNum | ... | TaxiIn | TaxiOut | Cancelled | CancellationCode | Diverted | CarrierDelay | WeatherDelay | NASDelay | SecurityDelay | LateAircraftDelay | \n",
       "|---|---|---|---|---|---|\n",
       "| 2008 | 12   | 13   | 6    |  749 |  750 |  901 |  859 | DL   | 1636 | ...  | 20   | 11   | 0    |      | 0    | NA   | NA   | NA   | NA   | NA   | \n",
       "| 2008 | 12   | 13   | 6    | 1002 |  959 | 1204 | 1150 | DL   | 1636 | ...  |  6   | 45   | 0    |      | 0    | NA   | NA   | NA   | NA   | NA   | \n",
       "| 2008 | 12   | 13   | 6    |  834 |  835 | 1021 | 1023 | DL   | 1637 | ...  |  5   | 23   | 0    |      | 0    | NA   | NA   | NA   | NA   | NA   | \n",
       "| 2008 | 12   | 13   | 6    |  655 |  700 |  856 |  856 | DL   | 1638 | ...  | 24   | 12   | 0    |      | 0    | NA   | NA   | NA   | NA   | NA   | \n",
       "| 2008 | 12   | 13   | 6    | 1251 | 1240 | 1446 | 1437 | DL   | 1639 | ...  | 13   | 13   | 0    |      | 0    | NA   | NA   | NA   | NA   | NA   | \n",
       "| 2008 | 12   | 13   | 6    | 1110 | 1103 | 1413 | 1418 | DL   | 1641 | ...  |  8   | 11   | 0    |      | 0    | NA   | NA   | NA   | NA   | NA   | \n",
       "\n",
       "\n"
      ],
      "text/plain": [
       "  Year Month DayofMonth DayOfWeek DepTime CRSDepTime ArrTime CRSArrTime\n",
       "1 2008 12    13         6          749     750        901     859      \n",
       "2 2008 12    13         6         1002     959       1204    1150      \n",
       "3 2008 12    13         6          834     835       1021    1023      \n",
       "4 2008 12    13         6          655     700        856     856      \n",
       "5 2008 12    13         6         1251    1240       1446    1437      \n",
       "6 2008 12    13         6         1110    1103       1413    1418      \n",
       "  UniqueCarrier FlightNum ... TaxiIn TaxiOut Cancelled CancellationCode\n",
       "1 DL            1636      ... 20     11      0                         \n",
       "2 DL            1636      ...  6     45      0                         \n",
       "3 DL            1637      ...  5     23      0                         \n",
       "4 DL            1638      ... 24     12      0                         \n",
       "5 DL            1639      ... 13     13      0                         \n",
       "6 DL            1641      ...  8     11      0                         \n",
       "  Diverted CarrierDelay WeatherDelay NASDelay SecurityDelay LateAircraftDelay\n",
       "1 0        NA           NA           NA       NA            NA               \n",
       "2 0        NA           NA           NA       NA            NA               \n",
       "3 0        NA           NA           NA       NA            NA               \n",
       "4 0        NA           NA           NA       NA            NA               \n",
       "5 0        NA           NA           NA       NA            NA               \n",
       "6 0        NA           NA           NA       NA            NA               "
      ]
     },
     "metadata": {},
     "output_type": "display_data"
    }
   ],
   "source": [
    "head(myDF);tail(myDF)"
   ]
  },
  {
   "cell_type": "markdown",
   "metadata": {
    "run_control": {
     "marked": false
    }
   },
   "source": [
    "#### Which were the origin cities for the first six flights in the airline data file for 2008?"
   ]
  },
  {
   "cell_type": "code",
   "execution_count": null,
   "metadata": {
    "collapsed": true,
    "hide_input": false,
    "run_control": {
     "frozen": false,
     "marked": false,
     "read_only": false
    },
    "scrolled": true
   },
   "outputs": [],
   "source": [
    "head(myDF$Origin)"
   ]
  },
  {
   "cell_type": "markdown",
   "metadata": {
    "run_control": {
     "marked": false
    }
   },
   "source": [
    "#### What are he destination cities for the first six flights in the airline data file for 2008?"
   ]
  },
  {
   "cell_type": "code",
   "execution_count": null,
   "metadata": {
    "collapsed": true,
    "run_control": {
     "frozen": false,
     "marked": false,
     "read_only": false
    },
    "scrolled": true
   },
   "outputs": [],
   "source": [
    "head(myDF$Dest)"
   ]
  },
  {
   "cell_type": "markdown",
   "metadata": {
    "run_control": {
     "marked": false
    }
   },
   "source": [
    "#### Which were the origin cities for the last six flights in the airline data file for 2008?"
   ]
  },
  {
   "cell_type": "code",
   "execution_count": null,
   "metadata": {
    "collapsed": true,
    "run_control": {
     "frozen": false,
     "marked": false,
     "read_only": false
    },
    "scrolled": true
   },
   "outputs": [],
   "source": [
    "tail(myDF$Origin)"
   ]
  },
  {
   "cell_type": "markdown",
   "metadata": {
    "run_control": {
     "marked": false
    }
   },
   "source": [
    "#### What are he destination cities for the last six flights in the airline data file for 2008?"
   ]
  },
  {
   "cell_type": "code",
   "execution_count": 7,
   "metadata": {
    "run_control": {
     "frozen": false,
     "marked": false,
     "read_only": false
    },
    "scrolled": true
   },
   "outputs": [
    {
     "data": {
      "text/html": [
       "<ol class=list-inline>\n",
       "\t<li>'ATL'</li>\n",
       "\t<li>'IAD'</li>\n",
       "\t<li>'SAT'</li>\n",
       "\t<li>'ATL'</li>\n",
       "\t<li>'ATL'</li>\n",
       "\t<li>'ATL'</li>\n",
       "</ol>\n"
      ],
      "text/latex": [
       "\\begin{enumerate*}\n",
       "\\item 'ATL'\n",
       "\\item 'IAD'\n",
       "\\item 'SAT'\n",
       "\\item 'ATL'\n",
       "\\item 'ATL'\n",
       "\\item 'ATL'\n",
       "\\end{enumerate*}\n"
      ],
      "text/markdown": [
       "1. 'ATL'\n",
       "2. 'IAD'\n",
       "3. 'SAT'\n",
       "4. 'ATL'\n",
       "5. 'ATL'\n",
       "6. 'ATL'\n",
       "\n",
       "\n"
      ],
      "text/plain": [
       "[1] \"ATL\" \"IAD\" \"SAT\" \"ATL\" \"ATL\" \"ATL\""
      ]
     },
     "metadata": {},
     "output_type": "display_data"
    }
   ],
   "source": [
    "tail(myDF$Dest)"
   ]
  },
  {
   "cell_type": "markdown",
   "metadata": {
    "run_control": {
     "marked": false
    }
   },
   "source": [
    "#### How many number of flights departur from Indianapolis (IND) in 2008?"
   ]
  },
  {
   "cell_type": "code",
   "execution_count": 8,
   "metadata": {
    "run_control": {
     "frozen": false,
     "marked": false,
     "read_only": false
    },
    "scrolled": true
   },
   "outputs": [
    {
     "data": {
      "text/html": [
       "42750"
      ],
      "text/latex": [
       "42750"
      ],
      "text/markdown": [
       "42750"
      ],
      "text/plain": [
       "[1] 42750"
      ]
     },
     "metadata": {},
     "output_type": "display_data"
    }
   ],
   "source": [
    "sum(myDF$Origin==\"IND\")"
   ]
  },
  {
   "cell_type": "markdown",
   "metadata": {
    "run_control": {
     "marked": false
    }
   },
   "source": [
    "#### similarly how many flights that destination city are Indianapolis (IND) in 2008?"
   ]
  },
  {
   "cell_type": "code",
   "execution_count": 4,
   "metadata": {
    "run_control": {
     "frozen": false,
     "marked": false,
     "read_only": false
    },
    "scrolled": true
   },
   "outputs": [
    {
     "data": {
      "text/html": [
       "42732"
      ],
      "text/latex": [
       "42732"
      ],
      "text/markdown": [
       "42732"
      ],
      "text/plain": [
       "[1] 42732"
      ]
     },
     "metadata": {},
     "output_type": "display_data"
    }
   ],
   "source": [
    "sum(myDF$Dest==\"IND\")"
   ]
  },
  {
   "cell_type": "markdown",
   "metadata": {
    "run_control": {
     "marked": false
    }
   },
   "source": [
    "#### What are the first 6 flights that had IND as the origin?"
   ]
  },
  {
   "cell_type": "code",
   "execution_count": 5,
   "metadata": {
    "collapsed": true,
    "run_control": {
     "frozen": false,
     "read_only": false
    }
   },
   "outputs": [
    {
     "data": {
      "text/html": [
       "<table>\n",
       "<thead><tr><th scope=col>Year</th><th scope=col>Month</th><th scope=col>DayofMonth</th><th scope=col>DayOfWeek</th><th scope=col>DepTime</th><th scope=col>CRSDepTime</th><th scope=col>ArrTime</th><th scope=col>CRSArrTime</th><th scope=col>UniqueCarrier</th><th scope=col>FlightNum</th><th scope=col>...</th><th scope=col>TaxiIn</th><th scope=col>TaxiOut</th><th scope=col>Cancelled</th><th scope=col>CancellationCode</th><th scope=col>Diverted</th><th scope=col>CarrierDelay</th><th scope=col>WeatherDelay</th><th scope=col>NASDelay</th><th scope=col>SecurityDelay</th><th scope=col>LateAircraftDelay</th></tr></thead>\n",
       "<tbody>\n",
       "\t<tr><td>2008</td><td>1   </td><td>3   </td><td>4   </td><td> 628</td><td> 620</td><td> 804</td><td> 750</td><td>WN  </td><td> 448</td><td>... </td><td>3   </td><td>17  </td><td>0   </td><td>    </td><td>0   </td><td>NA  </td><td>NA  </td><td>NA  </td><td>NA  </td><td>NA  </td></tr>\n",
       "\t<tr><td>2008</td><td>1   </td><td>3   </td><td>4   </td><td> 926</td><td> 930</td><td>1054</td><td>1100</td><td>WN  </td><td>1746</td><td>... </td><td>3   </td><td> 7  </td><td>0   </td><td>    </td><td>0   </td><td>NA  </td><td>NA  </td><td>NA  </td><td>NA  </td><td>NA  </td></tr>\n",
       "\t<tr><td>2008</td><td>1   </td><td>3   </td><td>4   </td><td>1829</td><td>1755</td><td>1959</td><td>1925</td><td>WN  </td><td>3920</td><td>... </td><td>3   </td><td>10  </td><td>0   </td><td>    </td><td>0   </td><td> 2  </td><td> 0  </td><td> 0  </td><td> 0  </td><td>32  </td></tr>\n",
       "\t<tr><td>2008</td><td>1   </td><td>3   </td><td>4   </td><td>1940</td><td>1915</td><td>2121</td><td>2110</td><td>WN  </td><td> 378</td><td>... </td><td>4   </td><td>10  </td><td>0   </td><td>    </td><td>0   </td><td>NA  </td><td>NA  </td><td>NA  </td><td>NA  </td><td>NA  </td></tr>\n",
       "\t<tr><td>2008</td><td>1   </td><td>3   </td><td>4   </td><td>1937</td><td>1830</td><td>2037</td><td>1940</td><td>WN  </td><td> 509</td><td>... </td><td>3   </td><td> 7  </td><td>0   </td><td>    </td><td>0   </td><td>10  </td><td> 0  </td><td> 0  </td><td> 0  </td><td>47  </td></tr>\n",
       "\t<tr><td>2008</td><td>1   </td><td>3   </td><td>4   </td><td>1039</td><td>1040</td><td>1132</td><td>1150</td><td>WN  </td><td> 535</td><td>... </td><td>7   </td><td> 7  </td><td>0   </td><td>    </td><td>0   </td><td>NA  </td><td>NA  </td><td>NA  </td><td>NA  </td><td>NA  </td></tr>\n",
       "</tbody>\n",
       "</table>\n"
      ],
      "text/latex": [
       "\\begin{tabular}{r|lllllllllllllllllllllllllllll}\n",
       " Year & Month & DayofMonth & DayOfWeek & DepTime & CRSDepTime & ArrTime & CRSArrTime & UniqueCarrier & FlightNum & ... & TaxiIn & TaxiOut & Cancelled & CancellationCode & Diverted & CarrierDelay & WeatherDelay & NASDelay & SecurityDelay & LateAircraftDelay\\\\\n",
       "\\hline\n",
       "\t 2008 & 1    & 3    & 4    &  628 &  620 &  804 &  750 & WN   &  448 & ...  & 3    & 17   & 0    &      & 0    & NA   & NA   & NA   & NA   & NA  \\\\\n",
       "\t 2008 & 1    & 3    & 4    &  926 &  930 & 1054 & 1100 & WN   & 1746 & ...  & 3    &  7   & 0    &      & 0    & NA   & NA   & NA   & NA   & NA  \\\\\n",
       "\t 2008 & 1    & 3    & 4    & 1829 & 1755 & 1959 & 1925 & WN   & 3920 & ...  & 3    & 10   & 0    &      & 0    &  2   &  0   &  0   &  0   & 32  \\\\\n",
       "\t 2008 & 1    & 3    & 4    & 1940 & 1915 & 2121 & 2110 & WN   &  378 & ...  & 4    & 10   & 0    &      & 0    & NA   & NA   & NA   & NA   & NA  \\\\\n",
       "\t 2008 & 1    & 3    & 4    & 1937 & 1830 & 2037 & 1940 & WN   &  509 & ...  & 3    &  7   & 0    &      & 0    & 10   &  0   &  0   &  0   & 47  \\\\\n",
       "\t 2008 & 1    & 3    & 4    & 1039 & 1040 & 1132 & 1150 & WN   &  535 & ...  & 7    &  7   & 0    &      & 0    & NA   & NA   & NA   & NA   & NA  \\\\\n",
       "\\end{tabular}\n"
      ],
      "text/markdown": [
       "\n",
       "Year | Month | DayofMonth | DayOfWeek | DepTime | CRSDepTime | ArrTime | CRSArrTime | UniqueCarrier | FlightNum | ... | TaxiIn | TaxiOut | Cancelled | CancellationCode | Diverted | CarrierDelay | WeatherDelay | NASDelay | SecurityDelay | LateAircraftDelay | \n",
       "|---|---|---|---|---|---|\n",
       "| 2008 | 1    | 3    | 4    |  628 |  620 |  804 |  750 | WN   |  448 | ...  | 3    | 17   | 0    |      | 0    | NA   | NA   | NA   | NA   | NA   | \n",
       "| 2008 | 1    | 3    | 4    |  926 |  930 | 1054 | 1100 | WN   | 1746 | ...  | 3    |  7   | 0    |      | 0    | NA   | NA   | NA   | NA   | NA   | \n",
       "| 2008 | 1    | 3    | 4    | 1829 | 1755 | 1959 | 1925 | WN   | 3920 | ...  | 3    | 10   | 0    |      | 0    |  2   |  0   |  0   |  0   | 32   | \n",
       "| 2008 | 1    | 3    | 4    | 1940 | 1915 | 2121 | 2110 | WN   |  378 | ...  | 4    | 10   | 0    |      | 0    | NA   | NA   | NA   | NA   | NA   | \n",
       "| 2008 | 1    | 3    | 4    | 1937 | 1830 | 2037 | 1940 | WN   |  509 | ...  | 3    |  7   | 0    |      | 0    | 10   |  0   |  0   |  0   | 47   | \n",
       "| 2008 | 1    | 3    | 4    | 1039 | 1040 | 1132 | 1150 | WN   |  535 | ...  | 7    |  7   | 0    |      | 0    | NA   | NA   | NA   | NA   | NA   | \n",
       "\n",
       "\n"
      ],
      "text/plain": [
       "  Year Month DayofMonth DayOfWeek DepTime CRSDepTime ArrTime CRSArrTime\n",
       "1 2008 1     3          4          628     620        804     750      \n",
       "2 2008 1     3          4          926     930       1054    1100      \n",
       "3 2008 1     3          4         1829    1755       1959    1925      \n",
       "4 2008 1     3          4         1940    1915       2121    2110      \n",
       "5 2008 1     3          4         1937    1830       2037    1940      \n",
       "6 2008 1     3          4         1039    1040       1132    1150      \n",
       "  UniqueCarrier FlightNum ... TaxiIn TaxiOut Cancelled CancellationCode\n",
       "1 WN             448      ... 3      17      0                         \n",
       "2 WN            1746      ... 3       7      0                         \n",
       "3 WN            3920      ... 3      10      0                         \n",
       "4 WN             378      ... 4      10      0                         \n",
       "5 WN             509      ... 3       7      0                         \n",
       "6 WN             535      ... 7       7      0                         \n",
       "  Diverted CarrierDelay WeatherDelay NASDelay SecurityDelay LateAircraftDelay\n",
       "1 0        NA           NA           NA       NA            NA               \n",
       "2 0        NA           NA           NA       NA            NA               \n",
       "3 0         2            0            0        0            32               \n",
       "4 0        NA           NA           NA       NA            NA               \n",
       "5 0        10            0            0        0            47               \n",
       "6 0        NA           NA           NA       NA            NA               "
      ]
     },
     "metadata": {},
     "output_type": "display_data"
    }
   ],
   "source": [
    "head(myDF[myDF$Origin==\"IND\",])"
   ]
  },
  {
   "cell_type": "markdown",
   "metadata": {
    "run_control": {
     "marked": false
    }
   },
   "source": [
    "#### In 2008, how many flights departed from O’Hare Airport (ORD)?"
   ]
  },
  {
   "cell_type": "code",
   "execution_count": 6,
   "metadata": {
    "run_control": {
     "frozen": false,
     "marked": false,
     "read_only": false
    },
    "scrolled": true
   },
   "outputs": [
    {
     "data": {
      "text/html": [
       "350380"
      ],
      "text/latex": [
       "350380"
      ],
      "text/markdown": [
       "350380"
      ],
      "text/plain": [
       "[1] 350380"
      ]
     },
     "metadata": {},
     "output_type": "display_data"
    }
   ],
   "source": [
    "sum(myDF$Origin==\"ORD\")"
   ]
  },
  {
   "cell_type": "markdown",
   "metadata": {
    "run_control": {
     "marked": false
    }
   },
   "source": [
    "#### In 2008, how many flights arrived at O’Hare Airport (ORD)?"
   ]
  },
  {
   "cell_type": "code",
   "execution_count": 7,
   "metadata": {
    "run_control": {
     "frozen": false,
     "marked": false,
     "read_only": false
    },
    "scrolled": true
   },
   "outputs": [
    {
     "data": {
      "text/html": [
       "350452"
      ],
      "text/latex": [
       "350452"
      ],
      "text/markdown": [
       "350452"
      ],
      "text/plain": [
       "[1] 350452"
      ]
     },
     "metadata": {},
     "output_type": "display_data"
    }
   ],
   "source": [
    "sum(myDF$Dest==\"ORD\")"
   ]
  },
  {
   "cell_type": "markdown",
   "metadata": {
    "run_control": {
     "marked": false
    }
   },
   "source": [
    "#### How many flights in the data set departed from the Indianapolis Airport (IND) and arrived at the O’Hare Airport (ORD)?"
   ]
  },
  {
   "cell_type": "code",
   "execution_count": 8,
   "metadata": {
    "run_control": {
     "frozen": false,
     "marked": false,
     "read_only": false
    },
    "scrolled": true
   },
   "outputs": [
    {
     "data": {
      "text/html": [
       "4102"
      ],
      "text/latex": [
       "4102"
      ],
      "text/markdown": [
       "4102"
      ],
      "text/plain": [
       "[1] 4102"
      ]
     },
     "metadata": {},
     "output_type": "display_data"
    }
   ],
   "source": [
    "sum((myDF$Origin == \"IND\") & (myDF$Dest == \"ORD\"))"
   ]
  },
  {
   "cell_type": "markdown",
   "metadata": {
    "run_control": {
     "marked": false
    }
   },
   "source": [
    "> Create a smaller data frame or subset with *only* the flights in which IND as the origin city   \n",
    "> Similarly create another data frame with the flights for which IND is the destination city   \n",
    "> Cross check the number of observation & variables for each dataframe have below or not!    \n",
    "42750 29  \n",
    "42732 29  "
   ]
  },
  {
   "cell_type": "code",
   "execution_count": 9,
   "metadata": {
    "collapsed": true,
    "run_control": {
     "frozen": false,
     "marked": false,
     "read_only": false
    },
    "scrolled": true
   },
   "outputs": [],
   "source": [
    "MyIndOrigins <- subset(myDF, myDF$Origin==\"IND\")\n",
    "IndianapolisDestinations <- subset(myDF, myDF$Dest==\"IND\")"
   ]
  },
  {
   "cell_type": "code",
   "execution_count": 10,
   "metadata": {
    "run_control": {
     "frozen": false,
     "marked": false,
     "read_only": false
    },
    "scrolled": true
   },
   "outputs": [
    {
     "data": {
      "text/html": [
       "<ol class=list-inline>\n",
       "\t<li>42750</li>\n",
       "\t<li>29</li>\n",
       "</ol>\n"
      ],
      "text/latex": [
       "\\begin{enumerate*}\n",
       "\\item 42750\n",
       "\\item 29\n",
       "\\end{enumerate*}\n"
      ],
      "text/markdown": [
       "1. 42750\n",
       "2. 29\n",
       "\n",
       "\n"
      ],
      "text/plain": [
       "[1] 42750    29"
      ]
     },
     "metadata": {},
     "output_type": "display_data"
    },
    {
     "data": {
      "text/html": [
       "<ol class=list-inline>\n",
       "\t<li>42732</li>\n",
       "\t<li>29</li>\n",
       "</ol>\n"
      ],
      "text/latex": [
       "\\begin{enumerate*}\n",
       "\\item 42732\n",
       "\\item 29\n",
       "\\end{enumerate*}\n"
      ],
      "text/markdown": [
       "1. 42732\n",
       "2. 29\n",
       "\n",
       "\n"
      ],
      "text/plain": [
       "[1] 42732    29"
      ]
     },
     "metadata": {},
     "output_type": "display_data"
    }
   ],
   "source": [
    "dim(MyIndOrigins)\n",
    "dim(IndianapolisDestinations)"
   ]
  },
  {
   "cell_type": "markdown",
   "metadata": {
    "run_control": {
     "marked": false
    }
   },
   "source": [
    "#### Get the first 6 flights of each of those new data frames created from above statements?"
   ]
  },
  {
   "cell_type": "code",
   "execution_count": 11,
   "metadata": {
    "run_control": {
     "frozen": false,
     "marked": false,
     "read_only": false
    },
    "scrolled": false
   },
   "outputs": [
    {
     "data": {
      "text/html": [
       "<table>\n",
       "<thead><tr><th scope=col>Year</th><th scope=col>Month</th><th scope=col>DayofMonth</th><th scope=col>DayOfWeek</th><th scope=col>DepTime</th><th scope=col>CRSDepTime</th><th scope=col>ArrTime</th><th scope=col>CRSArrTime</th><th scope=col>UniqueCarrier</th><th scope=col>FlightNum</th><th scope=col>...</th><th scope=col>TaxiIn</th><th scope=col>TaxiOut</th><th scope=col>Cancelled</th><th scope=col>CancellationCode</th><th scope=col>Diverted</th><th scope=col>CarrierDelay</th><th scope=col>WeatherDelay</th><th scope=col>NASDelay</th><th scope=col>SecurityDelay</th><th scope=col>LateAircraftDelay</th></tr></thead>\n",
       "<tbody>\n",
       "\t<tr><td>2008</td><td>1   </td><td>3   </td><td>4   </td><td> 628</td><td> 620</td><td> 804</td><td> 750</td><td>WN  </td><td> 448</td><td>... </td><td>3   </td><td>17  </td><td>0   </td><td>    </td><td>0   </td><td>NA  </td><td>NA  </td><td>NA  </td><td>NA  </td><td>NA  </td></tr>\n",
       "\t<tr><td>2008</td><td>1   </td><td>3   </td><td>4   </td><td> 926</td><td> 930</td><td>1054</td><td>1100</td><td>WN  </td><td>1746</td><td>... </td><td>3   </td><td> 7  </td><td>0   </td><td>    </td><td>0   </td><td>NA  </td><td>NA  </td><td>NA  </td><td>NA  </td><td>NA  </td></tr>\n",
       "\t<tr><td>2008</td><td>1   </td><td>3   </td><td>4   </td><td>1829</td><td>1755</td><td>1959</td><td>1925</td><td>WN  </td><td>3920</td><td>... </td><td>3   </td><td>10  </td><td>0   </td><td>    </td><td>0   </td><td> 2  </td><td> 0  </td><td> 0  </td><td> 0  </td><td>32  </td></tr>\n",
       "\t<tr><td>2008</td><td>1   </td><td>3   </td><td>4   </td><td>1940</td><td>1915</td><td>2121</td><td>2110</td><td>WN  </td><td> 378</td><td>... </td><td>4   </td><td>10  </td><td>0   </td><td>    </td><td>0   </td><td>NA  </td><td>NA  </td><td>NA  </td><td>NA  </td><td>NA  </td></tr>\n",
       "\t<tr><td>2008</td><td>1   </td><td>3   </td><td>4   </td><td>1937</td><td>1830</td><td>2037</td><td>1940</td><td>WN  </td><td> 509</td><td>... </td><td>3   </td><td> 7  </td><td>0   </td><td>    </td><td>0   </td><td>10  </td><td> 0  </td><td> 0  </td><td> 0  </td><td>47  </td></tr>\n",
       "\t<tr><td>2008</td><td>1   </td><td>3   </td><td>4   </td><td>1039</td><td>1040</td><td>1132</td><td>1150</td><td>WN  </td><td> 535</td><td>... </td><td>7   </td><td> 7  </td><td>0   </td><td>    </td><td>0   </td><td>NA  </td><td>NA  </td><td>NA  </td><td>NA  </td><td>NA  </td></tr>\n",
       "</tbody>\n",
       "</table>\n"
      ],
      "text/latex": [
       "\\begin{tabular}{r|lllllllllllllllllllllllllllll}\n",
       " Year & Month & DayofMonth & DayOfWeek & DepTime & CRSDepTime & ArrTime & CRSArrTime & UniqueCarrier & FlightNum & ... & TaxiIn & TaxiOut & Cancelled & CancellationCode & Diverted & CarrierDelay & WeatherDelay & NASDelay & SecurityDelay & LateAircraftDelay\\\\\n",
       "\\hline\n",
       "\t 2008 & 1    & 3    & 4    &  628 &  620 &  804 &  750 & WN   &  448 & ...  & 3    & 17   & 0    &      & 0    & NA   & NA   & NA   & NA   & NA  \\\\\n",
       "\t 2008 & 1    & 3    & 4    &  926 &  930 & 1054 & 1100 & WN   & 1746 & ...  & 3    &  7   & 0    &      & 0    & NA   & NA   & NA   & NA   & NA  \\\\\n",
       "\t 2008 & 1    & 3    & 4    & 1829 & 1755 & 1959 & 1925 & WN   & 3920 & ...  & 3    & 10   & 0    &      & 0    &  2   &  0   &  0   &  0   & 32  \\\\\n",
       "\t 2008 & 1    & 3    & 4    & 1940 & 1915 & 2121 & 2110 & WN   &  378 & ...  & 4    & 10   & 0    &      & 0    & NA   & NA   & NA   & NA   & NA  \\\\\n",
       "\t 2008 & 1    & 3    & 4    & 1937 & 1830 & 2037 & 1940 & WN   &  509 & ...  & 3    &  7   & 0    &      & 0    & 10   &  0   &  0   &  0   & 47  \\\\\n",
       "\t 2008 & 1    & 3    & 4    & 1039 & 1040 & 1132 & 1150 & WN   &  535 & ...  & 7    &  7   & 0    &      & 0    & NA   & NA   & NA   & NA   & NA  \\\\\n",
       "\\end{tabular}\n"
      ],
      "text/markdown": [
       "\n",
       "Year | Month | DayofMonth | DayOfWeek | DepTime | CRSDepTime | ArrTime | CRSArrTime | UniqueCarrier | FlightNum | ... | TaxiIn | TaxiOut | Cancelled | CancellationCode | Diverted | CarrierDelay | WeatherDelay | NASDelay | SecurityDelay | LateAircraftDelay | \n",
       "|---|---|---|---|---|---|\n",
       "| 2008 | 1    | 3    | 4    |  628 |  620 |  804 |  750 | WN   |  448 | ...  | 3    | 17   | 0    |      | 0    | NA   | NA   | NA   | NA   | NA   | \n",
       "| 2008 | 1    | 3    | 4    |  926 |  930 | 1054 | 1100 | WN   | 1746 | ...  | 3    |  7   | 0    |      | 0    | NA   | NA   | NA   | NA   | NA   | \n",
       "| 2008 | 1    | 3    | 4    | 1829 | 1755 | 1959 | 1925 | WN   | 3920 | ...  | 3    | 10   | 0    |      | 0    |  2   |  0   |  0   |  0   | 32   | \n",
       "| 2008 | 1    | 3    | 4    | 1940 | 1915 | 2121 | 2110 | WN   |  378 | ...  | 4    | 10   | 0    |      | 0    | NA   | NA   | NA   | NA   | NA   | \n",
       "| 2008 | 1    | 3    | 4    | 1937 | 1830 | 2037 | 1940 | WN   |  509 | ...  | 3    |  7   | 0    |      | 0    | 10   |  0   |  0   |  0   | 47   | \n",
       "| 2008 | 1    | 3    | 4    | 1039 | 1040 | 1132 | 1150 | WN   |  535 | ...  | 7    |  7   | 0    |      | 0    | NA   | NA   | NA   | NA   | NA   | \n",
       "\n",
       "\n"
      ],
      "text/plain": [
       "  Year Month DayofMonth DayOfWeek DepTime CRSDepTime ArrTime CRSArrTime\n",
       "1 2008 1     3          4          628     620        804     750      \n",
       "2 2008 1     3          4          926     930       1054    1100      \n",
       "3 2008 1     3          4         1829    1755       1959    1925      \n",
       "4 2008 1     3          4         1940    1915       2121    2110      \n",
       "5 2008 1     3          4         1937    1830       2037    1940      \n",
       "6 2008 1     3          4         1039    1040       1132    1150      \n",
       "  UniqueCarrier FlightNum ... TaxiIn TaxiOut Cancelled CancellationCode\n",
       "1 WN             448      ... 3      17      0                         \n",
       "2 WN            1746      ... 3       7      0                         \n",
       "3 WN            3920      ... 3      10      0                         \n",
       "4 WN             378      ... 4      10      0                         \n",
       "5 WN             509      ... 3       7      0                         \n",
       "6 WN             535      ... 7       7      0                         \n",
       "  Diverted CarrierDelay WeatherDelay NASDelay SecurityDelay LateAircraftDelay\n",
       "1 0        NA           NA           NA       NA            NA               \n",
       "2 0        NA           NA           NA       NA            NA               \n",
       "3 0         2            0            0        0            32               \n",
       "4 0        NA           NA           NA       NA            NA               \n",
       "5 0        10            0            0        0            47               \n",
       "6 0        NA           NA           NA       NA            NA               "
      ]
     },
     "metadata": {},
     "output_type": "display_data"
    },
    {
     "data": {
      "text/html": [
       "<table>\n",
       "<thead><tr><th scope=col>Year</th><th scope=col>Month</th><th scope=col>DayofMonth</th><th scope=col>DayOfWeek</th><th scope=col>DepTime</th><th scope=col>CRSDepTime</th><th scope=col>ArrTime</th><th scope=col>CRSArrTime</th><th scope=col>UniqueCarrier</th><th scope=col>FlightNum</th><th scope=col>...</th><th scope=col>TaxiIn</th><th scope=col>TaxiOut</th><th scope=col>Cancelled</th><th scope=col>CancellationCode</th><th scope=col>Diverted</th><th scope=col>CarrierDelay</th><th scope=col>WeatherDelay</th><th scope=col>NASDelay</th><th scope=col>SecurityDelay</th><th scope=col>LateAircraftDelay</th></tr></thead>\n",
       "<tbody>\n",
       "\t<tr><td>2008</td><td>1   </td><td>3   </td><td>4   </td><td> 802</td><td> 750</td><td>1001</td><td> 955</td><td>WN  </td><td>2272</td><td>... </td><td>7   </td><td> 8  </td><td>0   </td><td>    </td><td>0   </td><td>NA  </td><td>NA  </td><td>NA  </td><td>NA  </td><td> NA </td></tr>\n",
       "\t<tr><td>2008</td><td>1   </td><td>3   </td><td>4   </td><td>2255</td><td>1820</td><td> 509</td><td>  55</td><td>WN  </td><td>1924</td><td>... </td><td>9   </td><td> 9  </td><td>0   </td><td>    </td><td>0   </td><td> 0  </td><td> 0  </td><td> 0  </td><td> 8  </td><td>246 </td></tr>\n",
       "\t<tr><td>2008</td><td>1   </td><td>3   </td><td>4   </td><td>1129</td><td>1050</td><td>1757</td><td>1725</td><td>WN  </td><td>3920</td><td>... </td><td>8   </td><td>21  </td><td>0   </td><td>    </td><td>0   </td><td>32  </td><td> 0  </td><td> 0  </td><td> 0  </td><td>  0 </td></tr>\n",
       "\t<tr><td>2008</td><td>1   </td><td>3   </td><td>4   </td><td>1038</td><td>1010</td><td>1259</td><td>1230</td><td>WN  </td><td>   4</td><td>... </td><td>8   </td><td>10  </td><td>0   </td><td>    </td><td>0   </td><td> 3  </td><td> 0  </td><td> 1  </td><td> 0  </td><td> 25 </td></tr>\n",
       "\t<tr><td>2008</td><td>1   </td><td>3   </td><td>4   </td><td>1920</td><td>1850</td><td>2140</td><td>2110</td><td>WN  </td><td> 321</td><td>... </td><td>9   </td><td>10  </td><td>0   </td><td>    </td><td>0   </td><td>30  </td><td> 0  </td><td> 0  </td><td> 0  </td><td>  0 </td></tr>\n",
       "\t<tr><td>2008</td><td>1   </td><td>3   </td><td>4   </td><td>1139</td><td>1140</td><td>1401</td><td>1405</td><td>WN  </td><td> 829</td><td>... </td><td>8   </td><td>11  </td><td>0   </td><td>    </td><td>0   </td><td>NA  </td><td>NA  </td><td>NA  </td><td>NA  </td><td> NA </td></tr>\n",
       "</tbody>\n",
       "</table>\n"
      ],
      "text/latex": [
       "\\begin{tabular}{r|lllllllllllllllllllllllllllll}\n",
       " Year & Month & DayofMonth & DayOfWeek & DepTime & CRSDepTime & ArrTime & CRSArrTime & UniqueCarrier & FlightNum & ... & TaxiIn & TaxiOut & Cancelled & CancellationCode & Diverted & CarrierDelay & WeatherDelay & NASDelay & SecurityDelay & LateAircraftDelay\\\\\n",
       "\\hline\n",
       "\t 2008 & 1    & 3    & 4    &  802 &  750 & 1001 &  955 & WN   & 2272 & ...  & 7    &  8   & 0    &      & 0    & NA   & NA   & NA   & NA   &  NA \\\\\n",
       "\t 2008 & 1    & 3    & 4    & 2255 & 1820 &  509 &   55 & WN   & 1924 & ...  & 9    &  9   & 0    &      & 0    &  0   &  0   &  0   &  8   & 246 \\\\\n",
       "\t 2008 & 1    & 3    & 4    & 1129 & 1050 & 1757 & 1725 & WN   & 3920 & ...  & 8    & 21   & 0    &      & 0    & 32   &  0   &  0   &  0   &   0 \\\\\n",
       "\t 2008 & 1    & 3    & 4    & 1038 & 1010 & 1259 & 1230 & WN   &    4 & ...  & 8    & 10   & 0    &      & 0    &  3   &  0   &  1   &  0   &  25 \\\\\n",
       "\t 2008 & 1    & 3    & 4    & 1920 & 1850 & 2140 & 2110 & WN   &  321 & ...  & 9    & 10   & 0    &      & 0    & 30   &  0   &  0   &  0   &   0 \\\\\n",
       "\t 2008 & 1    & 3    & 4    & 1139 & 1140 & 1401 & 1405 & WN   &  829 & ...  & 8    & 11   & 0    &      & 0    & NA   & NA   & NA   & NA   &  NA \\\\\n",
       "\\end{tabular}\n"
      ],
      "text/markdown": [
       "\n",
       "Year | Month | DayofMonth | DayOfWeek | DepTime | CRSDepTime | ArrTime | CRSArrTime | UniqueCarrier | FlightNum | ... | TaxiIn | TaxiOut | Cancelled | CancellationCode | Diverted | CarrierDelay | WeatherDelay | NASDelay | SecurityDelay | LateAircraftDelay | \n",
       "|---|---|---|---|---|---|\n",
       "| 2008 | 1    | 3    | 4    |  802 |  750 | 1001 |  955 | WN   | 2272 | ...  | 7    |  8   | 0    |      | 0    | NA   | NA   | NA   | NA   |  NA  | \n",
       "| 2008 | 1    | 3    | 4    | 2255 | 1820 |  509 |   55 | WN   | 1924 | ...  | 9    |  9   | 0    |      | 0    |  0   |  0   |  0   |  8   | 246  | \n",
       "| 2008 | 1    | 3    | 4    | 1129 | 1050 | 1757 | 1725 | WN   | 3920 | ...  | 8    | 21   | 0    |      | 0    | 32   |  0   |  0   |  0   |   0  | \n",
       "| 2008 | 1    | 3    | 4    | 1038 | 1010 | 1259 | 1230 | WN   |    4 | ...  | 8    | 10   | 0    |      | 0    |  3   |  0   |  1   |  0   |  25  | \n",
       "| 2008 | 1    | 3    | 4    | 1920 | 1850 | 2140 | 2110 | WN   |  321 | ...  | 9    | 10   | 0    |      | 0    | 30   |  0   |  0   |  0   |   0  | \n",
       "| 2008 | 1    | 3    | 4    | 1139 | 1140 | 1401 | 1405 | WN   |  829 | ...  | 8    | 11   | 0    |      | 0    | NA   | NA   | NA   | NA   |  NA  | \n",
       "\n",
       "\n"
      ],
      "text/plain": [
       "  Year Month DayofMonth DayOfWeek DepTime CRSDepTime ArrTime CRSArrTime\n",
       "1 2008 1     3          4          802     750       1001     955      \n",
       "2 2008 1     3          4         2255    1820        509      55      \n",
       "3 2008 1     3          4         1129    1050       1757    1725      \n",
       "4 2008 1     3          4         1038    1010       1259    1230      \n",
       "5 2008 1     3          4         1920    1850       2140    2110      \n",
       "6 2008 1     3          4         1139    1140       1401    1405      \n",
       "  UniqueCarrier FlightNum ... TaxiIn TaxiOut Cancelled CancellationCode\n",
       "1 WN            2272      ... 7       8      0                         \n",
       "2 WN            1924      ... 9       9      0                         \n",
       "3 WN            3920      ... 8      21      0                         \n",
       "4 WN               4      ... 8      10      0                         \n",
       "5 WN             321      ... 9      10      0                         \n",
       "6 WN             829      ... 8      11      0                         \n",
       "  Diverted CarrierDelay WeatherDelay NASDelay SecurityDelay LateAircraftDelay\n",
       "1 0        NA           NA           NA       NA             NA              \n",
       "2 0         0            0            0        8            246              \n",
       "3 0        32            0            0        0              0              \n",
       "4 0         3            0            1        0             25              \n",
       "5 0        30            0            0        0              0              \n",
       "6 0        NA           NA           NA       NA             NA              "
      ]
     },
     "metadata": {},
     "output_type": "display_data"
    }
   ],
   "source": [
    "head(MyIndOrigins)\n",
    "head(IndianapolisDestinations)"
   ]
  },
  {
   "cell_type": "markdown",
   "metadata": {
    "run_control": {
     "marked": false
    }
   },
   "source": [
    "#### How many indianapolis flights departed during each month?"
   ]
  },
  {
   "cell_type": "code",
   "execution_count": 12,
   "metadata": {
    "run_control": {
     "frozen": false,
     "marked": false,
     "read_only": false
    },
    "scrolled": true
   },
   "outputs": [
    {
     "data": {
      "text/plain": [
       "\n",
       "   1    2    3    4    5    6    7    8    9   10   11   12 \n",
       "3580 3414 3764 3644 3768 3852 3986 3700 3300 3418 3126 3198 "
      ]
     },
     "metadata": {},
     "output_type": "display_data"
    }
   ],
   "source": [
    "table(MyIndOrigins$Month)"
   ]
  },
  {
   "cell_type": "markdown",
   "metadata": {
    "run_control": {
     "marked": false
    }
   },
   "source": [
    "#### Use the same question above to represent in a graphical/plotting "
   ]
  },
  {
   "cell_type": "code",
   "execution_count": 13,
   "metadata": {
    "run_control": {
     "frozen": false,
     "marked": false,
     "read_only": false
    },
    "scrolled": true
   },
   "outputs": [
    {
     "data": {
      "image/png": "[encoded data removed]",
      "text/plain": [
       "plot without title"
      ]
     },
     "metadata": {},
     "output_type": "display_data",
     "source": "R display func"
    }
   ],
   "source": [
    "plot(table(MyIndOrigins$Month))"
   ]
  },
  {
   "cell_type": "markdown",
   "metadata": {
    "run_control": {
     "marked": false
    }
   },
   "source": [
    "#### write down your own observations or interpretations from the above 2 questions of numerical and graphical representation of indianapolis flights of each month ?"
   ]
  },
  {
   "cell_type": "code",
   "execution_count": 14,
   "metadata": {
    "collapsed": true,
    "run_control": {
     "frozen": false,
     "marked": false,
     "read_only": false
    },
    "scrolled": true
   },
   "outputs": [],
   "source": [
    "# early months of the year little bit drop except in march\n",
    "# lots of flights in the summer time\n",
    "# decreasing in somewhat in the fall\n",
    "# increase in little bit in october\n",
    "# overall up and down growing gradually during each of the months"
   ]
  },
  {
   "cell_type": "markdown",
   "metadata": {
    "run_control": {
     "marked": false
    }
   },
   "source": [
    "#### Apply the same interpretations for the flight for which indianapolis was the destination?"
   ]
  },
  {
   "cell_type": "code",
   "execution_count": 15,
   "metadata": {
    "run_control": {
     "frozen": false,
     "marked": false,
     "read_only": false
    },
    "scrolled": true
   },
   "outputs": [
    {
     "data": {
      "text/plain": [
       "\n",
       "   1    2    3    4    5    6    7    8    9   10   11   12 \n",
       "3582 3413 3764 3642 3765 3857 3985 3696 3294 3418 3125 3191 "
      ]
     },
     "metadata": {},
     "output_type": "display_data"
    },
    {
     "data": {
      "image/png": "[encoded data removed]",
      "text/plain": [
       "plot without title"
      ]
     },
     "metadata": {},
     "output_type": "display_data",
     "source": "R display func"
    }
   ],
   "source": [
    "table(IndianapolisDestinations$Month)\n",
    "plot(table(IndianapolisDestinations$Month))\n",
    "# its almost same observations we got for  the Indianapolis origins, \n",
    "# since plots looks almost the same"
   ]
  },
  {
   "cell_type": "markdown",
   "metadata": {
    "run_control": {
     "marked": false
    }
   },
   "source": [
    "> Make a data frame that consists of the flights in the year 2008 departing from TUP. Then, answer the following questions."
   ]
  },
  {
   "cell_type": "code",
   "execution_count": 16,
   "metadata": {
    "collapsed": true,
    "run_control": {
     "frozen": false,
     "marked": false,
     "read_only": false
    },
    "scrolled": true
   },
   "outputs": [],
   "source": [
    "FligthsDepFromTUP  <- subset(myDF, myDF$Origin==\"TUP\")"
   ]
  },
  {
   "cell_type": "code",
   "execution_count": 17,
   "metadata": {
    "run_control": {
     "frozen": false,
     "marked": false,
     "read_only": false
    },
    "scrolled": true
   },
   "outputs": [
    {
     "data": {
      "text/html": [
       "<ol class=list-inline>\n",
       "\t<li>10</li>\n",
       "\t<li>29</li>\n",
       "</ol>\n"
      ],
      "text/latex": [
       "\\begin{enumerate*}\n",
       "\\item 10\n",
       "\\item 29\n",
       "\\end{enumerate*}\n"
      ],
      "text/markdown": [
       "1. 10\n",
       "2. 29\n",
       "\n",
       "\n"
      ],
      "text/plain": [
       "[1] 10 29"
      ]
     },
     "metadata": {},
     "output_type": "display_data"
    }
   ],
   "source": [
    "dim(FligthsDepFromTUP)"
   ]
  },
  {
   "cell_type": "markdown",
   "metadata": {
    "run_control": {
     "marked": false
    }
   },
   "source": [
    "#### How many flights departed from TUP in 2008?"
   ]
  },
  {
   "cell_type": "code",
   "execution_count": 18,
   "metadata": {
    "run_control": {
     "frozen": false,
     "marked": false,
     "read_only": false
    },
    "scrolled": true
   },
   "outputs": [
    {
     "data": {
      "text/html": [
       "10"
      ],
      "text/latex": [
       "10"
      ],
      "text/markdown": [
       "10"
      ],
      "text/plain": [
       "[1] 10"
      ]
     },
     "metadata": {},
     "output_type": "display_data"
    }
   ],
   "source": [
    "nrow(FligthsDepFromTUP)"
   ]
  },
  {
   "cell_type": "markdown",
   "metadata": {
    "run_control": {
     "marked": false
    }
   },
   "source": [
    "#### What is the average departure delay of the flights that depart from TUP in 2008?"
   ]
  },
  {
   "cell_type": "code",
   "execution_count": 19,
   "metadata": {
    "run_control": {
     "frozen": false,
     "marked": false,
     "read_only": false
    },
    "scrolled": true
   },
   "outputs": [
    {
     "data": {
      "text/html": [
       "-3.8"
      ],
      "text/latex": [
       "-3.8"
      ],
      "text/markdown": [
       "-3.8"
      ],
      "text/plain": [
       "[1] -3.8"
      ]
     },
     "metadata": {},
     "output_type": "display_data"
    }
   ],
   "source": [
    "mean(FligthsDepFromTUP$DepDelay)\n",
    "# The flights departed 3.8 minutes early, on average, from TUP in 2008."
   ]
  },
  {
   "cell_type": "markdown",
   "metadata": {
    "run_control": {
     "marked": false
    }
   },
   "source": [
    "> **Analyzing the Departure Times of Flights:** determine how many flights arrived at and/or departed from a certain city."
   ]
  },
  {
   "cell_type": "markdown",
   "metadata": {
    "run_control": {
     "marked": false
    }
   },
   "source": [
    "#### Find out the number of flights in the early morning before 6 AM departed out of IND origin?  "
   ]
  },
  {
   "cell_type": "code",
   "execution_count": 20,
   "metadata": {
    "run_control": {
     "frozen": false,
     "marked": false,
     "read_only": false
    },
    "scrolled": true
   },
   "outputs": [
    {
     "data": {
      "text/html": [
       "&lt;NA&gt;"
      ],
      "text/latex": [
       "<NA>"
      ],
      "text/markdown": [
       "&lt;NA&gt;"
      ],
      "text/plain": [
       "[1] NA"
      ]
     },
     "metadata": {},
     "output_type": "display_data"
    },
    {
     "data": {
      "text/html": [
       "692"
      ],
      "text/latex": [
       "692"
      ],
      "text/markdown": [
       "692"
      ],
      "text/plain": [
       "[1] 692"
      ]
     },
     "metadata": {},
     "output_type": "display_data"
    }
   ],
   "source": [
    "sum(MyIndOrigins$DepTime<600) # you will get NA but that's not true\n",
    "sum(MyIndOrigins$DepTime<600, na.rm = TRUE) # apply na.rm = TRUE to get actual values\n",
    "# ther are 692 flights in the early morning departed out of IND  6 AM"
   ]
  },
  {
   "cell_type": "markdown",
   "metadata": {
    "run_control": {
     "marked": false
    }
   },
   "source": [
    "#### Similarly, flights that departed before 12 noon, 6 PM, 12 midnight"
   ]
  },
  {
   "cell_type": "code",
   "execution_count": 21,
   "metadata": {
    "run_control": {
     "frozen": false,
     "marked": false,
     "read_only": false
    },
    "scrolled": true
   },
   "outputs": [
    {
     "data": {
      "text/html": [
       "18705"
      ],
      "text/latex": [
       "18705"
      ],
      "text/markdown": [
       "18705"
      ],
      "text/plain": [
       "[1] 18705"
      ]
     },
     "metadata": {},
     "output_type": "display_data"
    },
    {
     "data": {
      "text/html": [
       "35004"
      ],
      "text/latex": [
       "35004"
      ],
      "text/markdown": [
       "35004"
      ],
      "text/plain": [
       "[1] 35004"
      ]
     },
     "metadata": {},
     "output_type": "display_data"
    },
    {
     "data": {
      "text/html": [
       "42011"
      ],
      "text/latex": [
       "42011"
      ],
      "text/markdown": [
       "42011"
      ],
      "text/plain": [
       "[1] 42011"
      ]
     },
     "metadata": {},
     "output_type": "display_data"
    },
    {
     "data": {
      "text/html": [
       "42011"
      ],
      "text/latex": [
       "42011"
      ],
      "text/markdown": [
       "42011"
      ],
      "text/plain": [
       "[1] 42011"
      ]
     },
     "metadata": {},
     "output_type": "display_data"
    }
   ],
   "source": [
    "sum(MyIndOrigins$DepTime<1200, na.rm = TRUE)\n",
    "#almost near to half of theme departed before 12 noon\n",
    "sum(MyIndOrigins$DepTime<1800, na.rm = TRUE)\n",
    "#35004\n",
    "sum(MyIndOrigins$DepTime<2400, na.rm = TRUE) # before midnight\n",
    "sum(MyIndOrigins$DepTime<=2400, na.rm = TRUE) # before midnight or equal to midnight\n",
    "# almost same still get the same value"
   ]
  },
  {
   "cell_type": "markdown",
   "metadata": {
    "run_control": {
     "marked": false
    }
   },
   "source": [
    "#### Now checkout how many NA values in Departed time column contains?"
   ]
  },
  {
   "cell_type": "code",
   "execution_count": 22,
   "metadata": {
    "run_control": {
     "frozen": false,
     "marked": false,
     "read_only": false
    },
    "scrolled": true
   },
   "outputs": [
    {
     "data": {
      "text/html": [
       "739"
      ],
      "text/latex": [
       "739"
      ],
      "text/markdown": [
       "739"
      ],
      "text/plain": [
       "[1] 739"
      ]
     },
     "metadata": {},
     "output_type": "display_data"
    }
   ],
   "source": [
    "sum(is.na(MyIndOrigins$DepTime))\n",
    "# there are 739 flights whose value is NA which we don't know their departed time"
   ]
  },
  {
   "cell_type": "markdown",
   "metadata": {
    "run_control": {
     "marked": false
    }
   },
   "source": [
    "#### Cross check whether the total number of flights departed from IND  is the sum of  the flights departed before or equal to midnight and number of NA's "
   ]
  },
  {
   "cell_type": "code",
   "execution_count": 23,
   "metadata": {
    "run_control": {
     "frozen": false,
     "marked": false,
     "read_only": false
    },
    "scrolled": true
   },
   "outputs": [
    {
     "data": {
      "text/html": [
       "42750"
      ],
      "text/latex": [
       "42750"
      ],
      "text/markdown": [
       "42750"
      ],
      "text/plain": [
       "[1] 42750"
      ]
     },
     "metadata": {},
     "output_type": "display_data"
    }
   ],
   "source": [
    "42011 + 739 # we got 42750 i.e total number of flights departed from IND"
   ]
  },
  {
   "cell_type": "markdown",
   "metadata": {
    "run_control": {
     "marked": false
    }
   },
   "source": [
    "> Now we will see how many flights arrived at and/or departed from a certain city!"
   ]
  },
  {
   "cell_type": "markdown",
   "metadata": {
    "run_control": {
     "marked": false
    }
   },
   "source": [
    "#### How many flights arrived at LAX in 2008?"
   ]
  },
  {
   "cell_type": "code",
   "execution_count": 24,
   "metadata": {
    "run_control": {
     "frozen": false,
     "marked": false,
     "read_only": false
    },
    "scrolled": true
   },
   "outputs": [
    {
     "data": {
      "text/html": [
       "215685"
      ],
      "text/latex": [
       "215685"
      ],
      "text/markdown": [
       "215685"
      ],
      "text/plain": [
       "[1] 215685"
      ]
     },
     "metadata": {},
     "output_type": "display_data"
    },
    {
     "data": {
      "text/html": [
       "<ol class=list-inline>\n",
       "\t<li>215685</li>\n",
       "\t<li>29</li>\n",
       "</ol>\n"
      ],
      "text/latex": [
       "\\begin{enumerate*}\n",
       "\\item 215685\n",
       "\\item 29\n",
       "\\end{enumerate*}\n"
      ],
      "text/markdown": [
       "1. 215685\n",
       "2. 29\n",
       "\n",
       "\n"
      ],
      "text/plain": [
       "[1] 215685     29"
      ]
     },
     "metadata": {},
     "output_type": "display_data"
    }
   ],
   "source": [
    "sum(myDF$Dest==\"LAX\")\n",
    "FlightsDestLAX<- subset(myDF, myDF$Dest == \"LAX\") \n",
    "dim(FlightsDestLAX)"
   ]
  },
  {
   "cell_type": "markdown",
   "metadata": {
    "run_control": {
     "marked": false
    }
   },
   "source": [
    "#### How many flights departed from ATL and landed at LAX in 2008?"
   ]
  },
  {
   "cell_type": "code",
   "execution_count": 25,
   "metadata": {
    "run_control": {
     "frozen": false,
     "marked": false,
     "read_only": false
    },
    "scrolled": true
   },
   "outputs": [
    {
     "data": {
      "text/html": [
       "5406"
      ],
      "text/latex": [
       "5406"
      ],
      "text/markdown": [
       "5406"
      ],
      "text/plain": [
       "[1] 5406"
      ]
     },
     "metadata": {},
     "output_type": "display_data"
    }
   ],
   "source": [
    "sum(myDF$Origin==\"ATL\" &  myDF$Dest==\"LAX\")\n",
    "# FlightATLtoLAX <- subset(myDF, (myDF$Origin == “ATL”) & (myDF$Dest == “LAX”))"
   ]
  },
  {
   "cell_type": "markdown",
   "metadata": {
    "run_control": {
     "marked": false
    }
   },
   "source": [
    "#### Among the flights from ATL to LAX in 2008, how many departed before 12 noon?"
   ]
  },
  {
   "cell_type": "code",
   "execution_count": 26,
   "metadata": {
    "run_control": {
     "frozen": false,
     "marked": false,
     "read_only": false
    },
    "scrolled": false
   },
   "outputs": [
    {
     "data": {
      "text/html": [
       "&lt;NA&gt;"
      ],
      "text/latex": [
       "<NA>"
      ],
      "text/markdown": [
       "&lt;NA&gt;"
      ],
      "text/plain": [
       "[1] NA"
      ]
     },
     "metadata": {},
     "output_type": "display_data"
    },
    {
     "data": {
      "text/html": [
       "2133"
      ],
      "text/latex": [
       "2133"
      ],
      "text/markdown": [
       "2133"
      ],
      "text/plain": [
       "[1] 2133"
      ]
     },
     "metadata": {},
     "output_type": "display_data"
    }
   ],
   "source": [
    "FlightATLtoLAX <- subset(myDF, (myDF$Origin == \"ATL\") & (myDF$Dest == \"LAX\"))\n",
    "sum(FlightATLtoLAX$DepTime<1200)\n",
    "sum(FlightATLtoLAX$DepTime<1200, na.rm = TRUE)"
   ]
  },
  {
   "cell_type": "markdown",
   "metadata": {},
   "source": [
    "## Popular Flights Paths & Arrival Delay Analysis"
   ]
  },
  {
   "cell_type": "markdown",
   "metadata": {
    "run_control": {
     "marked": false
    }
   },
   "source": [
    "#### Build a table that shows how many cities are the origin for the flights throughout 2008?"
   ]
  },
  {
   "cell_type": "code",
   "execution_count": 27,
   "metadata": {
    "run_control": {
     "frozen": false,
     "read_only": false
    }
   },
   "outputs": [
    {
     "data": {
      "text/plain": [
       "\n",
       "   ABE    ABI    ABQ    ABY    ACK    ACT    ACV    ACY    ADK    ADQ    AEX \n",
       "  4807   2660  41146   1095    457   1993   3714    116    102    706   2330 \n",
       "   AGS    AKN    ALB    ALO    AMA    ANC    ASE    ATL    ATW    AUS    AVL \n",
       "  2403    116  13474    323   7496  19327   5307 414513   5873  49623   4399 \n",
       "   AVP    AZO    BDL    BET    BFL    BGM    BGR    BHM    BIL    BIS    BJI \n",
       "  2386   3924  29449   1035   4502    728   2879  23679   4505   2293     74 \n",
       "   BLI    BMI    BNA    BOI    BOS    BPT    BQK    BQN    BRO    BRW    BTM \n",
       "   120   4801  57539  17024 117915    276    925   1519   1464    728    708 \n",
       "   BTR    BTV    BUF    BUR    BWI    BZN    CAE    CAK    CDC    CDV    CEC \n",
       "  8941   7005  26281  31405 104074   4659  10550   8994    668    725   1063 \n",
       "   CHA    CHO    CHS    CIC    CID    CLD    CLE    CLL    CLT    CMH    CMI \n",
       "  4571    823  14181   1392   9377   2303  65795   1367 126045  34157   2774 \n",
       "   CMX    COD    COS    CPR    CRP    CRW    CSG    CVG    CWA    DAB    DAL \n",
       "   318   1188  16201   2709   5270   3414   1481  91265   2563   2957  53928 \n",
       "   DAY    DBQ    DCA    DEN    DFW    DHN    DLG    DLH    DRO    DSM    DTW \n",
       " 15791   1349  86662 241443 281281   1397    116   2013   3674  16643 161989 \n",
       "   EGE    EKO    ELM    ELP    ERI    EUG    EVV    EWN    EWR    EYW    FAI \n",
       "  3106   1580   1336  20731   1399   5749   5844    791 138506   1009   4822 \n",
       "   FAR    FAT    FAY    FCA    FLG    FLL    FLO    FNT    FSD    FSM    FWA \n",
       "  4431  14278   2267   2762   1871  67177    615   8749   5828   2937   6144 \n",
       "   GCC    GEG    GFK    GGG    GJT    GNV    GPT    GRB    GRK    GRR    GSO \n",
       "  1046  15560   1371    978   5152   2064   8541   7930   3733  16616  13558 \n",
       "   GSP    GST    GTF    GTR    GUC    HDN    HHH    HLN    HNL    HOU    HPN \n",
       " 11856     85   2140    964    959   2398    836   1986  56276  55933  10715 \n",
       "   HRL    HSV    HTS    IAD    IAH    ICT    IDA    ILM    IND    INL    IPL \n",
       "  4421  10791    158  76031 185172  14050   3103   3397  42750     72    989 \n",
       "   ISP    ITH    ITO    IYK    JAC    JAN    JAX    JFK    JNU    KOA    KTN \n",
       " 10183    132   8051    958   3766  12609  32685 118804   4410  12710   2380 \n",
       "   LAN    LAS    LAW    LAX    LBB    LCH    LEX    LFT    LGA    LGB    LIH \n",
       "  3693 172876   2369 215608   8249   1000  10344   4879 119135  15443  13184 \n",
       "   LIT    LMT    LNK    LRD    LSE    LWB    LWS    LYH    MAF    MBS    MCI \n",
       " 15369    511   3037   2115   2005    185    652    625   6839   2918  59370 \n",
       "   MCN    MCO    MDT    MDW    MEI    MEM    MFE    MFR    MGM    MHT    MIA \n",
       "   652 130872   7594  87619    674  80966   4116   5652   3851  18588  62559 \n",
       "   MKE    MKG    MLB    MLI    MLU    MOB    MOD    MOT    MQT    MRY    MSN \n",
       " 42700    396   2002   8567   2530   6348   2325   1085    991   7607  13961 \n",
       "   MSO    MSP    MSY    MTJ    MYR    OAJ    OAK    OGG    OKC    OMA    OME \n",
       "  3256 130289  39422   2419   5335   1184  62535  19940  25152  27007   1090 \n",
       "   ONT    ORD    ORF    OTH    OTZ    OXR    PBI    PDX    PFN    PHF    PHL \n",
       " 35072 350380  16458    515   1086   1292  27822  57860   3875   6406 100499 \n",
       "   PHX    PIA    PIH    PIR    PIT    PLN    PMD    PNS    PSC    PSE    PSG \n",
       "199408   5581   1659      5  41800    264    728   9497   2541    755    727 \n",
       "   PSP    PUB    PVD    PWM    RAP    RDD    RDM    RDU    RFD    RHI    RIC \n",
       " 11979      2  22509   6897   4161   1682   3434  60179    290    221  19977 \n",
       "   RKS    RNO    ROA    ROC    ROW    RST    RSW    SAN    SAT    SAV    SBA \n",
       "   954  24286   3720  14264    961   3353  27136  93775  45270  13774  12568 \n",
       "   SBN    SBP    SCC    SCE    SDF    SEA    SFO    SGF    SGU    SHV    SIT \n",
       "  5319   5846    727    645  22458 109069 140587  10087   3319   8079   1332 \n",
       "   SJC    SJT    SJU    SLC    SLE    SMF    SMX    SNA    SPI    SPS    SRQ \n",
       " 57136   1316  21676 139088    486  53056   1681  47376   1225   1834   6432 \n",
       "   STL    STT    STX    SUN    SUX    SWF    SYR    TEX    TLH    TOL    TPA \n",
       " 62733   2972    436   2871    122   4249  12032    194   5912   1478  78179 \n",
       "   TRI    TUL    TUP    TUS    TVC    TWF    TXK    TYR    TYS    VLD    VPS \n",
       "  2117  23459     10  26661   4262   1813   1250   1585  14004    938   6820 \n",
       "   WRG    WYS    XNA    YAK    YKM    YUM \n",
       "   727    264  14112    725    340   3871 "
      ]
     },
     "metadata": {},
     "output_type": "display_data"
    }
   ],
   "source": [
    "table(myDF$Origin)"
   ]
  },
  {
   "cell_type": "markdown",
   "metadata": {
    "run_control": {
     "marked": false
    }
   },
   "source": [
    "#### Sort the above results in a decreasing order?"
   ]
  },
  {
   "cell_type": "code",
   "execution_count": 28,
   "metadata": {
    "run_control": {
     "frozen": false,
     "read_only": false
    }
   },
   "outputs": [
    {
     "data": {
      "text/plain": [
       "\n",
       "   ATL    ORD    DFW    DEN    LAX    PHX    IAH    LAS    DTW    SFO    SLC \n",
       "414513 350380 281281 241443 215608 199408 185172 172876 161989 140587 139088 \n",
       "   EWR    MCO    MSP    CLT    LGA    JFK    BOS    SEA    BWI    PHL    SAN \n",
       "138506 130872 130289 126045 119135 118804 117915 109069 104074 100499  93775 \n",
       "   CVG    MDW    DCA    MEM    TPA    IAD    FLL    CLE    STL    MIA    OAK \n",
       " 91265  87619  86662  80966  78179  76031  67177  65795  62733  62559  62535 \n",
       "   RDU    MCI    PDX    BNA    SJC    HNL    HOU    DAL    SMF    AUS    SNA \n",
       " 60179  59370  57860  57539  57136  56276  55933  53928  53056  49623  47376 \n",
       "   SAT    IND    MKE    PIT    ABQ    MSY    ONT    CMH    JAX    BUR    BDL \n",
       " 45270  42750  42700  41800  41146  39422  35072  34157  32685  31405  29449 \n",
       "   PBI    RSW    OMA    TUS    BUF    OKC    RNO    BHM    TUL    PVD    SDF \n",
       " 27822  27136  27007  26661  26281  25152  24286  23679  23459  22509  22458 \n",
       "   SJU    ELP    RIC    OGG    ANC    MHT    BOI    DSM    GRR    ORF    COS \n",
       " 21676  20731  19977  19940  19327  18588  17024  16643  16616  16458  16201 \n",
       "   DAY    GEG    LGB    LIT    FAT    ROC    CHS    XNA    ICT    TYS    MSN \n",
       " 15791  15560  15443  15369  14278  14264  14181  14112  14050  14004  13961 \n",
       "   SAV    GSO    ALB    LIH    KOA    JAN    SBA    SYR    PSP    GSP    HSV \n",
       " 13774  13558  13474  13184  12710  12609  12568  12032  11979  11856  10791 \n",
       "   HPN    CAE    LEX    ISP    SGF    PNS    CID    CAK    BTR    FNT    MLI \n",
       " 10715  10550  10344  10183  10087   9497   9377   8994   8941   8749   8567 \n",
       "   GPT    LBB    SHV    ITO    GRB    MRY    MDT    AMA    BTV    PWM    MAF \n",
       "  8541   8249   8079   8051   7930   7607   7594   7496   7005   6897   6839 \n",
       "   VPS    SRQ    PHF    MOB    FWA    TLH    ATW    SBP    EVV    FSD    EUG \n",
       "  6820   6432   6406   6348   6144   5912   5873   5846   5844   5828   5749 \n",
       "   MFR    PIA    MYR    SBN    ASE    CRP    GJT    LFT    FAI    ABE    BMI \n",
       "  5652   5581   5335   5319   5307   5270   5152   4879   4822   4807   4801 \n",
       "   BZN    CHA    BIL    BFL    FAR    HRL    JNU    AVL    TVC    SWF    RAP \n",
       "  4659   4571   4505   4502   4431   4421   4410   4399   4262   4249   4161 \n",
       "   MFE    AZO    PFN    YUM    MGM    JAC    GRK    ROA    ACV    LAN    DRO \n",
       "  4116   3924   3875   3871   3851   3766   3733   3720   3714   3693   3674 \n",
       "   RDM    CRW    ILM    RST    SGU    MSO    EGE    IDA    LNK    STT    DAB \n",
       "  3434   3414   3397   3353   3319   3256   3106   3103   3037   2972   2957 \n",
       "   FSM    MBS    BGR    SUN    CMI    FCA    CPR    ABI    CWA    PSC    MLU \n",
       "  2937   2918   2879   2871   2774   2762   2709   2660   2563   2541   2530 \n",
       "   MTJ    AGS    HDN    AVP    KTN    LAW    AEX    MOD    CLD    BIS    FAY \n",
       "  2419   2403   2398   2386   2380   2369   2330   2325   2303   2293   2267 \n",
       "   GTF    TRI    LRD    GNV    DLH    LSE    MLB    ACT    HLN    FLG    SPS \n",
       "  2140   2117   2115   2064   2013   2005   2002   1993   1986   1871   1834 \n",
       "   TWF    RDD    SMX    PIH    TYR    EKO    BQN    CSG    TOL    BRO    ERI \n",
       "  1813   1682   1681   1659   1585   1580   1519   1481   1478   1464   1399 \n",
       "   DHN    CIC    GFK    CLL    DBQ    ELM    SIT    SJT    OXR    TXK    SPI \n",
       "  1397   1392   1371   1367   1349   1336   1332   1316   1292   1250   1225 \n",
       "   COD    OAJ    ABY    OME    OTZ    MOT    CEC    GCC    BET    EYW    LCH \n",
       "  1188   1184   1095   1090   1086   1085   1063   1046   1035   1009   1000 \n",
       "   MQT    IPL    GGG    GTR    ROW    GUC    IYK    RKS    VLD    BQK    HHH \n",
       "   991    989    978    964    961    959    958    954    938    925    836 \n",
       "   CHO    EWN    PSE    BGM    BRW    PMD    PSG    SCC    WRG    CDV    YAK \n",
       "   823    791    755    728    728    728    727    727    727    725    725 \n",
       "   BTM    ADQ    MEI    CDC    LWS    MCN    SCE    LYH    FLO    OTH    LMT \n",
       "   708    706    674    668    652    652    645    625    615    515    511 \n",
       "   SLE    ACK    STX    MKG    YKM    ALO    CMX    RFD    BPT    PLN    WYS \n",
       "   486    457    436    396    340    323    318    290    276    264    264 \n",
       "   RHI    TEX    LWB    HTS    ITH    SUX    BLI    ACY    AKN    DLG    ADK \n",
       "   221    194    185    158    132    122    120    116    116    116    102 \n",
       "   GST    BJI    INL    TUP    PIR    PUB \n",
       "    85     74     72     10      5      2 "
      ]
     },
     "metadata": {},
     "output_type": "display_data"
    }
   ],
   "source": [
    "sort(table(myDF$Origin),decreasing = TRUE)"
   ]
  },
  {
   "cell_type": "markdown",
   "metadata": {},
   "source": [
    "#### which airport has heighest flights departed in 2008, what is the code of that airport and how many number of flights departed?"
   ]
  },
  {
   "cell_type": "code",
   "execution_count": 29,
   "metadata": {
    "run_control": {
     "frozen": false,
     "read_only": false
    },
    "scrolled": true
   },
   "outputs": [
    {
     "data": {
      "text/plain": [
       "\n",
       "   ATL    ORD    DFW    DEN    LAX    PHX \n",
       "414513 350380 281281 241443 215608 199408 "
      ]
     },
     "metadata": {},
     "output_type": "display_data"
    }
   ],
   "source": [
    "head(sort(table(myDF$Origin), decreasing = TRUE))\n",
    "# its ATL"
   ]
  },
  {
   "cell_type": "markdown",
   "metadata": {},
   "source": [
    "#### what are the top 6 airports which has most flights departed in 2008?"
   ]
  },
  {
   "cell_type": "code",
   "execution_count": 30,
   "metadata": {
    "run_control": {
     "frozen": false,
     "read_only": false
    },
    "scrolled": false
   },
   "outputs": [
    {
     "data": {
      "text/plain": [
       "\n",
       "   ATL    ORD    DFW    DEN    LAX    PHX \n",
       "414513 350380 281281 241443 215608 199408 "
      ]
     },
     "metadata": {},
     "output_type": "display_data"
    }
   ],
   "source": [
    "head(sort(table(myDF$Origin), decreasing = TRUE))"
   ]
  },
  {
   "cell_type": "markdown",
   "metadata": {},
   "source": [
    "#### plot all the flights departed within each hour range during the course of the day"
   ]
  },
  {
   "cell_type": "code",
   "execution_count": 31,
   "metadata": {
    "run_control": {
     "frozen": false,
     "read_only": false
    }
   },
   "outputs": [
    {
     "data": {
      "image/png": "[encoded data removed]",
      "text/plain": [
       "plot without title"
      ]
     },
     "metadata": {},
     "output_type": "display_data",
     "source": "R display func"
    }
   ],
   "source": [
    "plot(table(cut(myDF$DepTime, breaks = seq(0, 2400, by =100))))"
   ]
  },
  {
   "cell_type": "markdown",
   "metadata": {
    "run_control": {
     "frozen": false,
     "marked": false,
     "read_only": false
    }
   },
   "source": [
    "#### Make a table of all the origin-to-destination pairs"
   ]
  },
  {
   "cell_type": "code",
   "execution_count": 32,
   "metadata": {
    "run_control": {
     "frozen": false,
     "read_only": false
    }
   },
   "outputs": [
    {
     "data": {
      "text/plain": [
       "\n",
       "ABE to BHM ACV to SJC ACY to JFK ALB to BOS ALB to SBN AMA to TUL ASE to GJT \n",
       "         1          1          1          1          1          1          1 \n",
       "ASE to MSN ASE to RFD ATW to CHS ATW to DSM ATW to XNA AUS to DSM AUS to DTW \n",
       "         1          1          1          1          1          1          1 \n",
       "AUS to ORF AVP to HPN AZO to FAR AZO to XNA BDL to GRB BFL to FAT BGR to BTV \n",
       "         1          1          1          1          1          1          1 \n",
       "BHM to AUS BHM to HSV BHM to JFK BHM to MKE BIL to GTF BNA to CID BNA to COS \n",
       "         1          1          1          1          1          1          1 \n",
       "BOI to ATW BOI to GJT BOI to PIT BOS to ACK BOS to BTV BOS to GGG BTR to DEN \n",
       "         1          1          1          1          1          1          1 \n",
       "BTR to MSY BTV to IND BUR to PMD BUR to PSP BUR to RNO BUR to TUS BWI to GRR \n",
       "         1          1          1          1          1          1          1 \n",
       "BWI to SAV BZN to BTM BZN to IDA CDC to LAX CDC to SGU CHO to DCA CHS to SAV \n",
       "         1          1          1          1          1          1          1 \n",
       "CIC to FAT CIC to MRY CID to DSM CID to MKE CLT to ATW CLT to GRR CMH to GRB \n",
       "         1          1          1          1          1          1          1 \n",
       "CMH to GRR CMH to ICT CMH to OMA CMH to SYR CMI to ABI CMI to SPI COS to ABQ \n",
       "         1          1          1          1          1          1          1 \n",
       "COS to CLE COS to FAT COS to LAN COS to MKE CPR to PIH CRW to BNA CRW to LEX \n",
       "         1          1          1          1          1          1          1 \n",
       "CVG to ROA CWA to MLI DAB to JAX DAB to MCO DCA to PLN DEN to BTR DEN to CRW \n",
       "         1          1          1          1          1          1          1 \n",
       "DEN to CYS DEN to MBS DEN to PIH DEN to ROC DRO to ABQ DSM to CWA DSM to LNK \n",
       "         1          1          1          1          1          1          1 \n",
       "DSM to ORF DSM to RFD ERI to PIT EUG to FAT EUG to MFR EUG to RDM EVV to STL \n",
       "         1          1          1          1          1          1          1 \n",
       "EWR to GRB EWR to LGA FAR to LAN FAR to MCI FAR to STL FAT to OGD FAT to TWF \n",
       "         1          1          1          1          1          1          1 \n",
       "FLL to MIA FSD to GRB FSD to MSN FSD to PIA FSD to SDF FWA to TVC GEG to BLI \n",
       "         1          1          1          1          1          1          1 \n",
       "GEG to LGB GEG to RDM GJT to HDN GRB to DEN GRB to DSM GRB to GTF GRB to SDF \n",
       "         1          1          1          1          1          1          1 \n",
       "GSO to JAX GSP to CLT GTF to BZN HOU to BTR HPN to EWR HPN to PIA HPN to PIT \n",
       "         1          1          1          1          1          1          1 \n",
       "HSV to TUS IAD to DCA IAH to AGS ICT to CID ICT to COS ICT to MCI ICT to MSY \n",
       "         1          1          1          1          1          1          1 \n",
       "ICT to PIA ICT to SGF ICT to SLC ICT to STL ILM to RDU IND to PIT IND to XNA \n",
       "         1          1          1          1          1          1          1 \n",
       "IYK to BFL IYK to PSP JAC to IDA JAX to TYS JFK to CHS JFK to HPN LAX to MFR \n",
       "         1          1          1          1          1          1          1 \n",
       "LAX to RSW LEX to COS LEX to DAY LGA to PHL LGB to GEG LGB to ONT LGB to TWF \n",
       "         1          1          1          1          1          1          1 \n",
       "LIT to MCO LIT to SAT LMT to MFR LNK to ABE LNK to CRW LNK to LAN LNK to PIA \n",
       "         1          1          1          1          1          1          1 \n",
       "LWS to BOI LWS to IDA MCI to ICT MCI to LNK MCI to MGM MCO to LIT MCO to PBI \n",
       "         1          1          1          1          1          1          1 \n",
       "MCO to TPA MDT to AVP MDT to BWI MDT to DCA MFR to MOD MFR to OTH MFR to RDD \n",
       "         1          1          1          1          1          1          1 \n",
       "MFR to RDM MFR to SBA MFR to TWF MIA to FLL MKE to ABE MKE to AVP MKE to BHM \n",
       "         1          1          1          1          1          1          1 \n",
       "MKE to FAR MOD to BFL MOD to ONT MOD to RNO MSN to ATW MSN to DSM MSN to RFD \n",
       "         1          1          1          1          1          1          1 \n",
       "MSP to SPI MSY to CMH MSY to OKC MSY to TWF MYR to ILM MYR to PHL OAK to SMF \n",
       "         1          1          1          1          1          1          1 \n",
       "OKC to BMI OKC to TUL OMA to ABQ OMA to ATW OMA to BHM OMA to COS OMA to DSM \n",
       "         1          1          1          1          1          1          1 \n",
       "OMA to GRB OMA to LNK ONT to GJT ORF to BDL ORF to BOI ORF to PBI ORF to SAV \n",
       "         1          1          1          1          1          1          1 \n",
       "OXR to PSP PDX to MSN PHL to ATW PHL to AVP PHL to GRR PHL to ICT PIA to HPN \n",
       "         1          1          1          1          1          1          1 \n",
       "PIA to LNK PIT to GRB PIT to SJU PLN to DCA PSC to TWF PSP to FAT PSP to GJT \n",
       "         1          1          1          1          1          1          1 \n",
       "PSP to ONT PSP to TWF PVD to BDL RAP to TWF RDD to SBA RDD to SMF RDM to IDA \n",
       "         1          1          1          1          1          1          1 \n",
       "RDU to GRB RIC to JAX RIC to ORF RIC to RDU RNO to BUR RNO to PIH ROA to BWI \n",
       "         1          1          1          1          1          1          1 \n",
       "ROA to CLT ROA to MSN ROC to BOS RSW to PBI SAT to AMA SAT to MGM SAV to CHS \n",
       "         1          1          1          1          1          1          1 \n",
       "SBA to MRY SBA to SBP SBP to FAT SBP to MFR SDF to SPI SFO to IDA SFO to SJC \n",
       "         1          1          1          1          1          1          1 \n",
       "SGF to FSD SGU to CDC SGU to PIH SGU to PSP SGU to TWF SJC to BFL SJC to FAT \n",
       "         1          1          1          1          1          1          1 \n",
       "SJC to SFO SJC to SMX SJU to PIT SLC to CYS SLC to LBB SLC to OGD SLC to SGF \n",
       "         1          1          1          1          1          1          1 \n",
       "SMF to RDD SMF to SBA SNA to SAN STX to MGM SUN to TWF SWF to BDL SWF to BOS \n",
       "         1          1          1          1          1          1          1 \n",
       "SYR to CAK TPA to MCO TUL to ASE TUL to OKC TUL to OMA TUL to PIA TUL to XNA \n",
       "         1          1          1          1          1          1          1 \n",
       "TUS to PSP TVC to MSN TWF to BOI TYS to MCI XNA to BHM XNA to CAK XNA to COS \n",
       "         1          1          1          1          1          1          1 \n",
       "XNA to FAR XNA to LEX XNA to RFD XNA to SGF YUM to GJT ABE to PHL ACV to MRY \n",
       "         1          1          1          1          1          2          2 \n",
       "ACY to LGA ATL to GUC AVP to JFK BIS to RAP BNA to FSD BOS to BNA BTR to CVG \n",
       "         2          2          2          2          2          2          2 \n",
       "CHS to JAX CLE to ORF CVG to BTR DEN to GRB DSM to GJT FAT to MRY FAT to SBA \n",
       "         2          2          2          2          2          2          2 \n",
       "FCA to IDA GJT to ASE GSO to ORF GUC to ATL GUC to ORD HPN to JFK IAH to HOU \n",
       "         2          2          2          2          2          2          2 \n",
       "ICT to OKC JAX to PIR JFK to LGA LAX to JAX LGA to MLB LGA to VPS MCO to JAX \n",
       "         2          2          2          2          2          2          2 \n",
       "MDT to LGA MKE to MCI MKE to TUS MLB to LGA MSO to PIH ONT to SAN ORD to GUC \n",
       "         2          2          2          2          2          2          2 \n",
       "ORF to CLE PHL to SDF PIR to JAX PUB to COS PWM to BOS RIC to DCA ROA to CVG \n",
       "         2          2          2          2          2          2          2 \n",
       "RSW to MIA SAT to AUS SBP to MRY SDF to PHL SFO to GJT SFO to SMX SFO to TWF \n",
       "         2          2          2          2          2          2          2 \n",
       "SGF to BNA SLC to SDF SLE to TWF SRQ to TPA STX to JAX TUL to GJT TWF to SUN \n",
       "         2          2          2          2          2          2          2 \n",
       "VPS to LGA ABE to JFK AVP to LGA BIL to PIH DSM to SLC EKO to TWF GSO to RDU \n",
       "         2          3          3          3          3          3          3 \n",
       "JAX to LAX MCI to MKE MCI to OMA MSP to PIR PIR to MSP PVD to BOS SAN to ONT \n",
       "         3          3          3          3          3          3          3 \n",
       "SAV to JAX SDF to SLC SLC to DSM TYS to AUS GJT to LAX HSV to BHM KOA to OAK \n",
       "         3          3          3          3          4          4          4 \n",
       "MHT to BOS OAK to KOA PBI to PIT PHL to LGA PIT to PBI SLC to XNA XNA to SLC \n",
       "         4          4          4          4          4          4          4 \n",
       "ATL to CRP CMH to PBI DCA to PHL MCI to RSW OKC to IAD PBI to CMH RSW to MCI \n",
       "         5          5          5          5          5          5          5 \n",
       "SLC to BHM SLC to MKE CLT to OAJ CRP to ATL CVG to DAB DAB to CVG GJT to ORD \n",
       "         5          5          6          6          6          6          6 \n",
       "MKE to SLC MRY to SLC MSP to PVD OAJ to CLT PVD to MSP SLC to MRY AGS to LGA \n",
       "         6          6          6          6          6          6          7 \n",
       "BWI to LGA LGA to AGS PIT to DCA SLC to FSD BHM to SLC CAK to FLL FLL to CAK \n",
       "         7          7          7          7          8          8          8 \n",
       "FSD to SLC LAX to GJT LAX to RDU RDU to LAX ABE to LGA ATL to MFE ATL to TUP \n",
       "         8          8          8          8          9          9          9 \n",
       "LGA to STT MCO to OKC MCO to OMA MCO to TUL OKC to MCO OMA to MCO STT to LGA \n",
       "         9          9          9          9          9          9          9 \n",
       "TUL to MCO CLE to TUL IND to MSY MFE to ATL MSY to IND TUP to ATL BGR to MSP \n",
       "         9         10         10         10         10         10         11 \n",
       "MCO to GSO MSP to BGR ABQ to CLE CLE to ABQ CLE to DAB CVG to SBN DAB to CLE \n",
       "        11         11         12         12         12         12         12 \n",
       "DCA to SRQ DEN to RDM FCA to SFO MSO to SFO RDM to DEN SBN to CVG SFO to FCA \n",
       "        12         12         12         12         12         12         12 \n",
       "SFO to MSO SRQ to DCA BZN to LAX CLT to EGE CLT to HSV CLT to MDW CVG to JAC \n",
       "        12         12         13         13         13         13         13 \n",
       "CVG to MYR CWA to MSP EGE to CLT EGE to JFK FLL to OAK GUC to SLC HDN to JFK \n",
       "        13         13         13         13         13         13         13 \n",
       "HSV to CLT JAC to CVG JFK to HDN LAX to BZN MCO to SAN MDW to CLT MSP to CWA \n",
       "        13         13         13         13         13         13         13 \n",
       "MYR to CVG OAK to FLL ORD to GJT SAN to MCO IAD to PBI IAD to RSW JFK to EGE \n",
       "        13         13         13         13         14         14         14 \n",
       "LAS to MRY LEX to CLE MRY to LAS PBI to IAD RSW to IAD SLC to GUC CLE to LEX \n",
       "        14         14         14         14         14         14         15 \n",
       "EWR to HDN HDN to EWR HDN to LGA JAC to LAX LAX to JAC LGA to HDN AGS to CLT \n",
       "        15         15         15         15         15         15         16 \n",
       "ASE to ATL ATL to ASE BUF to IAD CLT to TRI DTW to STT EGE to LGA EWR to PSE \n",
       "        16         16         16         16         16         16         16 \n",
       "IAD to BUF LGA to EGE MSY to MSP TRI to CLT CLE to CMH CLT to AGS PSE to EWR \n",
       "        16         16         16         16         17         17         17 \n",
       "LAX to MTJ LIT to SLC MTJ to LAX SLC to LIT BZN to DTW DTW to BZN EWR to PHL \n",
       "        18         18         18         18         19         19         19 \n",
       "GSO to MCO PHL to EWR CLT to STX CVG to TOL STX to CLT EWR to MTJ MTJ to EWR \n",
       "        19         19         20         20         20         21         21 \n",
       "OKC to CLE TOL to CVG BOS to SRQ CLT to DAB CVG to SCE DAB to CLT GRR to MKG \n",
       "        21         21         23         23         23         23         23 \n",
       "GTF to ORD KOA to SAN LIH to SNA ORD to GTF SAN to KOA SCE to CVG SNA to LIH \n",
       "        23         23         23         23         23         23         23 \n",
       "SRQ to BOS CMH to CLE LAX to ONT LGA to SLC MKG to GRR ONT to LAX SLC to LGA \n",
       "        23         24         24         24         24         24         24 \n",
       "ATL to FCA FCA to ATL MEM to SJU MSP to SJU SJU to MEM SJU to MSP ANC to OGG \n",
       "        25         25         26         26         26         26         27 \n",
       "CHS to MSP MSP to CHS MSP to MYR MSP to SAV MYR to MSP OGG to ANC SAV to MSP \n",
       "        27         27         27         27         27         27         27 \n",
       "BZN to SFO SFO to BZN CVG to EGE EGE to CVG MTJ to ORD ORD to MTJ LIH to SAN \n",
       "        28         28         30         30         30         30         31 \n",
       "MSP to CPR SAN to LIH BWI to DAB CLE to OKC CPR to MSP DAB to BWI LAX to SNA \n",
       "        31         31         32         32         32         32         32 \n",
       "DAL to HRL HRL to DAL SNA to LAX CVG to CHO EYW to MCO MCO to EYW CHO to CVG \n",
       "        33         33         33         35         35         35         36 \n",
       "CVG to PFN PFN to CVG SNA to KOA ATL to MTJ KOA to SNA MTJ to ATL SRQ to STL \n",
       "        36         36         36         37         37         37         37 \n",
       "AKN to DLG STL to SRQ CLT to LIT CVG to CAK LEX to MCO LIT to CLT MCO to LEX \n",
       "        38         38         39         39         39         39         39 \n",
       "CAK to CVG ATL to BOI BOI to ATL CAK to LAS LAS to DAY MCO to MDT MDT to MCO \n",
       "        40         41         41         42         42         42         42 \n",
       "MSP to PWM PWM to MSP CLE to SJU DAY to LAS EGE to MIA FLL to MKE LAS to CAK \n",
       "        42         42         43         43         43         43         43 \n",
       "MIA to EGE MKE to FLL PHX to CLD SJU to CLE CLD to PHX FLL to PSE MEM to TRI \n",
       "        43         43         43         43         44         44         44 \n",
       "TRI to MEM BOS to MYR DEN to KOA DEN to LIH KOA to DEN LIH to DEN MYR to BOS \n",
       "        44         45         45         45         45         45         45 \n",
       "PSE to FLL SEA to KOA AVL to MCO MCO to AVL BDL to MEM CMH to LAX CVG to LIT \n",
       "        45         45         47         47         48         48         49 \n",
       "LAX to CMH LIT to CVG MEM to BDL BMI to LAS LAS to MLI LGA to TVC TVC to LGA \n",
       "        49         49         49         50         50         50         50 \n",
       "LAS to BMI MLI to LAS IAD to DAY DAY to IAD MSY to DTW CLE to MSY LIH to KOA \n",
       "        51         51         52         53         53         54         54 \n",
       "MSP to AUS MSY to CLE AUS to MSP KOA to LIH ALB to MSP MSP to ALB CLE to MDT \n",
       "        54         54         55         55         57         57         58 \n",
       "MDT to CLE MEM to RSW RKS to GCC RSW to MEM GCC to RKS OAK to ORD ORD to OAK \n",
       "        58         58         58         58         59         59         59 \n",
       "SFO to ASE SMF to OGG ALB to FLL ATL to BZN BMI to DFW BUR to PDX BZN to ATL \n",
       "        59         59         60         60         60         60         60 \n",
       "DFW to BMI FLL to ALB FLL to MCI HPN to TPA MCI to FLL OAK to OGG OGG to LIH \n",
       "        60         60         60         60         60         60         60 \n",
       "OGG to OAK OGG to SMF OGG to SNA ONT to PDX PDX to BUR PDX to ONT RNO to SNA \n",
       "        60         60         60         60         60         60         60 \n",
       "SNA to OGG SNA to RNO TPA to HPN ASE to SFO LAS to PBI PBI to LAS SNA to HNL \n",
       "        60         60         60         62         62         62         64 \n",
       "STX to ATL MCI to MIA MIA to MCI DTW to PWM HNL to SNA ATL to STX PWM to DTW \n",
       "        64         65         65         66         66         67         67 \n",
       "DTW to MSY LGA to HSV IAH to SRQ SRQ to IAH CHA to DTW HSV to LGA INL to MSP \n",
       "        68         69         70         70         72         72         72 \n",
       "MSP to INL CHS to IAH DTW to CHA IAH to CHS LAX to TUL TUL to LAX BJI to MSP \n",
       "        72         73         73         73         73         73         74 \n",
       "LGA to SRQ MSP to BJI SRQ to LGA BTV to MSP IND to SEA MSP to BTV SEA to IND \n",
       "        74         74         74         75         75         75         75 \n",
       "CLT to SMF SMF to CLT CMH to DCA DCA to CMH AKN to ANC ANC to DLG BNA to BOS \n",
       "        76         76         77         77         78         78         78 \n",
       "BOS to SDF FAI to SLC ORD to STT SLC to FAI SDF to BOS LAS to ROC ROC to LAS \n",
       "        80         80         80         80         81         83         84 \n",
       "CLE to SAN GST to JNU JNU to GST OKC to AUS SAN to CLE SAT to OKC AUS to OKC \n",
       "        85         85         85         87         87         87         88 \n",
       "AUS to TUL BOS to STT DEN to TVC OAK to ATL STT to BOS TUL to SAT TUS to ELP \n",
       "        88         88         88         88         88         88         88 \n",
       "BOS to SAV ELP to TUS MSP to ATW OKC to SAT SAT to TUL SAV to BOS TVC to DEN \n",
       "        89         89         89         89         89         89         89 \n",
       "ANC to CVG ATL to OAK ATW to MSP CVG to ANC FNT to LAS GSP to MCO MCO to GSP \n",
       "        90         90         90         90         90         90         90 \n",
       "TUL to AUS LAS to FNT ATL to GRB BUF to DFW DFW to BUF GRB to ATL DEN to PBI \n",
       "        90         91         93         93         93         93         94 \n",
       "AUS to STL CLT to FAY FAR to SLC FAY to CLT PBI to DEN PHF to TPA SLC to FAR \n",
       "        95         95         95         95         95         95         95 \n",
       "STL to AUS TPA to PHF ANC to DTW DTW to ANC TYS to IAD IAD to TYS COS to LAS \n",
       "        95         95         96         96         96         97         98 \n",
       "LAS to COS LAS to YUM YUM to LAS CVG to XNA XNA to CVG ADK to ANC ANC to ADK \n",
       "        98         99         99        101        101        102        102 \n",
       "BFL to LAS LAS to BFL BIL to ORD CVG to VPS VPS to CVG COS to CVG CVG to COS \n",
       "       102        102        103        103        103        104        104 \n",
       "FCA to ORD ORD to FCA RDU to XNA SEA to SIT XNA to RDU DTW to RST FNT to MKG \n",
       "       104        104        104        104        104        105        105 \n",
       "MSO to ORD ORD to BIL ORD to MSO LNK to MSP MKE to SAN MSP to LNK SAN to MKE \n",
       "       105        105        105        106        106        106        106 \n",
       "ATL to HDN HDN to ATL LAX to EGE ASE to PHX DFW to GUC EGE to ATL MEM to SAN \n",
       "       107        107        107        109        109        109        109 \n",
       "MKG to FNT MSP to MBS PHX to ASE SAN to MEM ATL to EGE EGE to LAX GUC to DFW \n",
       "       109        109        109        109        110        111        111 \n",
       "IAD to SAT EGE to MSP HDN to IAH HDN to MSP IAD to TUS IAH to HDN MSP to EGE \n",
       "       111        112        112        112        112        112        112 \n",
       "MSP to HDN TUS to IAD ACY to ATL ATL to ACY FLL to ROC ROC to FLL SLC to BNA \n",
       "       112        112        113        113        114        114        114 \n",
       "ANC to ATL ATL to ANC BNA to SLC MKE to SFO SFO to MKE ANC to AKN DLG to ANC \n",
       "       115        115        115        115        115        116        116 \n",
       "COS to MEM IND to JFK JAC to MSP MBS to MSP MEM to COS MSP to JAC ATL to JAC \n",
       "       117        117        117        117        117        117        118 \n",
       "CLE to SRQ DEN to JAX JAC to ATL JAX to DEN LIT to DEN SRQ to CLE ATL to TOL \n",
       "       118        118        118        118        118        118        119 \n",
       "BDL to IAH BLI to SLC CVG to JAN IAH to BDL SLC to BLI SLC to ELP TOL to ATL \n",
       "       120        120        120        120        120        120        120 \n",
       "ATL to SCE DEN to LIT ELP to SLC EWR to JAN HNL to OAK JAN to CVG JAN to EWR \n",
       "       121        121        121        121        121        121        121 \n",
       "MSP to SUX OAK to HNL SEA to MKE DCA to MKE MKE to DCA MKE to SEA MSP to ORF \n",
       "       121        121        121        122        122        122        122 \n",
       "SCE to ATL SUX to MSP LGA to MYR ORF to MSP EGE to IAH IAH to EGE MYR to LGA \n",
       "       122        122        123        123        124        124        124 \n",
       "CLT to CMH CMH to CLT JFK to IND TYS to MCO CVG to HPN DFW to HDN HPN to CVG \n",
       "       125        125        125        125        126        126        126 \n",
       "MCO to TYS CVG to BGR HDN to DFW GRR to MCO LAS to SBP MCO to GRR SBP to LAS \n",
       "       126        127        127        128        128        128        128 \n",
       "BGR to CVG BTR to DCA BTV to IAD CVG to TVC DCA to BTR IAD to BTV TVC to CVG \n",
       "       129        129        129        129        129        129        129 \n",
       "BDL to LAX CHA to CVG CVG to CHA GSO to BOS ITH to DTW JFK to TUS LAX to BDL \n",
       "       132        132        132        132        132        132        132 \n",
       "TUS to JFK DTW to ITH MDW to MIA MIA to MDW BDL to RSW CPR to ORD MSP to ROC \n",
       "       132        133        133        133        134        134        134 \n",
       "ORD to CPR RSW to BDL ATL to FSD CVG to EVV FSD to ATL PNS to TPA CLT to PDX \n",
       "       134        134        135        135        135        135        136 \n",
       "EVV to CVG PDX to CLT ROC to MSP TPA to PNS CAK to RSW CMH to RSW IAD to STT \n",
       "       136        136        136        136        137        137        137 \n",
       "RSW to CMH RSW to CAK CLE to DSM DSM to CLE LAS to MFR MFR to LAS CVG to ILM \n",
       "       137        138        139        139        139        139        140 \n",
       "BOS to GSO IAD to SPI PDX to LGB CLE to IND LGB to PDX SPI to IAD CLE to JAX \n",
       "       141        141        141        142        142        142        143 \n",
       "JAX to CLE LAX to SJU SJU to LAX FLL to PNS PNS to FLL ILM to CVG SEA to AUS \n",
       "       144        144        144        145        145        146        147 \n",
       "AZO to CVG CLE to GSO GSO to CLE AUS to SEA CVG to AZO FNT to RSW RSW to FNT \n",
       "       148        148        148        149        149        149        149 \n",
       "SAT to IAD CHS to CLE CLE to CHS MIA to RIC TUS to GEG CVG to BTV GEG to TUS \n",
       "       149        150        150        151        151        152        152 \n",
       "MIA to ORF ORF to MIA RIC to MIA ANC to DFW BTV to CVG DFW to ANC MIA to XNA \n",
       "       152        152        152        153        153        153        154 \n",
       "XNA to MIA DTW to SJU IND to SRQ SRQ to IND BOS to CHS CHS to BOS CID to LGA \n",
       "       154        155        155        155        156        156        156 \n",
       "LGA to CID LAN to MSP LIT to MSP MSP to LAN MSP to LIT HTS to CVG BHM to RDU \n",
       "       156        157        157        157        157        158        159 \n",
       "CVG to HTS DAB to LGA LGA to DAB BUF to CVG CVG to BUF RDU to BHM EUG to LAS \n",
       "       159        159        159        160        160        160        162 \n",
       "LAS to EUG LMT to PDX OTH to PDX PDX to LMT PDX to OTH BUR to IAD DEN to OGG \n",
       "       162        162        162        162        162        163        163 \n",
       "IAD to BUR OGG to DEN CAE to IAH CMH to MCI MCI to CMH IAH to CAE EWR to ABQ \n",
       "       163        163        164        164        164        165        166 \n",
       "ABQ to EWR ATL to RNO AVL to CVG CVG to AVL PDX to PSP PSP to PDX RNO to ATL \n",
       "       167        167        167        167        168        169        169 \n",
       "RST to DTW MCO to MLI MLI to MCO SJU to DTW BMI to MCO IND to SFO MCO to BMI \n",
       "       171        172        172        172        173        173        173 \n",
       "SFO to IND MIA to PIT PIT to MIA DSM to LAX DFW to ROC LAX to DSM ROC to DFW \n",
       "       173        174        174        175        176        177        177 \n",
       "DFW to SYR MCI to COS MKE to TPA SYR to DFW TPA to MKE COS to MCI ANC to SFO \n",
       "       178        178        178        178        178        179        181 \n",
       "PIT to RSW RSW to PIT SFO to ANC ICT to LAX ATL to LWB LWB to ATL EWR to TUS \n",
       "       181        181        182        184        185        185        186 \n",
       "LAX to ICT TUS to EWR MSO to MSP MSP to MSO MSP to SAT SAT to MSP MSY to CVG \n",
       "       186        186        189        189        190        191        193 \n",
       "PHX to TEX TEX to PHX CVG to MSY MCO to PFN MSP to GTF GTF to MSP PFN to MCO \n",
       "       194        194        195        195        195        196        196 \n",
       "EGE to ORD MDT to MSP MSP to MDT ORD to EGE ORF to BOS PHL to STT STT to PHL \n",
       "       197        197        197        197        197        198        198 \n",
       "MEM to BOS BOS to MEM EWR to SJC FNT to TPA JAX to MSP ORD to HDN SJC to EWR \n",
       "       199        200        200        200        200        200        200 \n",
       "TPA to FNT MSP to JAX DAY to TPA TPA to DAY FAI to MSP HDN to ORD MSP to FAI \n",
       "       200        201        204        204        205        205        205 \n",
       "IAH to ANC ANC to IAH CLT to SRQ EGE to EWR EWR to EGE IAD to GSO PHL to SMF \n",
       "       206        207        207        207        207        207        207 \n",
       "SMF to PHL SRQ to CLT TUS to CLT CLT to TUS CRW to DTW DTW to CRW GSO to IAD \n",
       "       207        207        207        208        208        208        208 \n",
       "MEM to SFO MKE to BOS SFO to MEM BOS to MKE MSP to FCA SFO to LGB XNA to DCA \n",
       "       208        208        208        209        209        209        209 \n",
       "DCA to XNA FCA to MSP LGB to SFO MOB to ORD ORD to MOB JAN to ORD MIA to IND \n",
       "       210        210        210        210        210        211        211 \n",
       "ORD to JAN ORD to SHV SHV to ORD SLC to CLT CLT to SLC DEN to BDL DFW to JAC \n",
       "       211        211        211        211        212        213        213 \n",
       "GEG to RNO IND to MIA ATL to ISP BDL to DEN JAC to DFW MSP to PSP ORD to GPT \n",
       "       213        213        214        214        214        214        214 \n",
       "PSP to MSP RNO to GEG BTR to ORD GPT to ORD ISP to ATL ORD to BTR IAH to PSP \n",
       "       214        214        215        215        215        215        216 \n",
       "PSP to IAH MIA to JAX RAP to ORD SLC to PIT AUS to IND IND to AUS JAX to MIA \n",
       "       216        217        217        217        218        218        218 \n",
       "ORD to RAP PIT to SLC DTW to SRQ MCO to TLH SRQ to DTW TLH to MCO TUS to RNO \n",
       "       218        218        219        219        219        219        219 \n",
       "DEN to RSW KOA to ORD MSP to RHI OMA to TUS ORD to OGG RHI to MSP TUS to OMA \n",
       "       221        221        221        221        221        221        221 \n",
       "RNO to TUS RSW to DEN ACK to JFK SAN to BFL BFL to SAN RSW to MKE TUL to SMF \n",
       "       222        222        223        224        225        225        225 \n",
       "AUS to JAX JAX to MCI MKE to RSW OKC to SMF SAT to SMF BFL to SMF BUF to MSP \n",
       "       226        226        226        226        226        227        227 \n",
       "MCI to IAD SIT to SEA TUL to ONT AUS to TUS ONT to TUL SAN to TUL SAT to RDU \n",
       "       227        227        227        228        228        228        228 \n",
       "SMF to SAT SMF to TUL TUL to SAN ABQ to OKC JAX to AUS MCI to JAX MSP to BUF \n",
       "       228        228        228        229        229        229        229 \n",
       "MTJ to SLC RDU to SAT SEA to CLE SLC to MTJ SMF to BFL SMF to OKC TUL to ABQ \n",
       "       229        229        229        229        229        229        229 \n",
       "TUS to AUS ABQ to TUL TUS to MCI AUS to RDU CLE to SEA DFW to MTJ OKC to ABQ \n",
       "       229        230        230        231        231        231        231 \n",
       "OKC to ONT ONT to OKC RDU to AUS CLE to SAT EWR to STT MTJ to DFW STT to EWR \n",
       "       231        231        231        232        232        232        232 \n",
       "IAD to BNA MCI to TUS SAT to CLE ACK to EWR EWR to ACK EWR to MYR JFK to ACK \n",
       "       233        233        233        234        234        234        234 \n",
       "MYR to EWR LIT to PHX PHX to LIT SWF to TPA TPA to SWF ANC to HNL AUS to OAK \n",
       "       234        235        235        235        235        236        236 \n",
       "BNA to ORF HNL to ANC IND to SAT JAX to LAS LAS to JAX OAK to AUS ORD to VPS \n",
       "       236        236        236        236        236        236        236 \n",
       "ORF to BNA PDX to MCO SAT to IND VPS to ORD ANC to LAS MCO to PDX RSW to LGA \n",
       "       236        236        236        236        237        237        237 \n",
       "ANC to LAX LAS to ANC LGA to RSW ONT to FAT FAT to ONT LAX to ANC TUS to SAT \n",
       "       238        238        238        238        239        239        239 \n",
       "CLT to TLH ORF to MEM SAT to TUS TLH to CLT FWA to MSP ICT to DTW MEM to ORF \n",
       "       240        240        240        240        241        241        241 \n",
       "BWI to SEA DTW to ICT FLL to SLC MSP to FWA SEA to BWI SLC to FLL BOS to ORF \n",
       "       242        242        242        242        242        242        243 \n",
       "CLT to MKE AUS to LGB AUS to SNA AZO to MSP BHM to IAD BWI to SRQ CVG to SGF \n",
       "       243        245        245        245        245        245        245 \n",
       "DFW to FNT FLL to MHT IAD to BHM IAD to SJC LGB to AUS MKE to CLT SJC to IAD \n",
       "       245        245        245        245        245        245        245 \n",
       "SJU to STT SRQ to BWI FNT to DFW IAH to MGM MGM to IAH MHT to FLL MRY to ONT \n",
       "       245        245        246        246        246        246        246 \n",
       "MSP to AZO ONT to MRY SAT to STL SNA to AUS STL to SAT ABE to CVG CVG to TRI \n",
       "       246        246        246        246        246        247        247 \n",
       "JFK to ONT SGF to CVG CVG to ABE HSV to MCO MCO to HSV ONT to JFK MSN to MCI \n",
       "       247        247        248        248        248        248        249 \n",
       "TRI to CVG DTW to PDX MCI to MSN PDX to DTW LEX to MEM MEM to LEX BOS to MSY \n",
       "       249        250        250        250        252        252        254 \n",
       "MSY to BOS BOS to SJC SJC to BOS SDF to MKE BNA to STL MKE to SDF STL to BNA \n",
       "       254        256        256        257        258        258        258 \n",
       "CVG to MSN MSN to CVG ABQ to CVG CVG to ABQ IAH to CLL IAH to MTJ MTJ to IAH \n",
       "       259        259        260        260        261        261        261 \n",
       "OGG to SLC SLC to OGG TLH to FLL CLL to IAH FLL to TLH DTW to PLN MKG to MKE \n",
       "       261        261        261        262        262        263        263 \n",
       "PLN to DTW BHM to CLE CLE to BHM MKE to MKG SLC to WYS WYS to SLC MCI to PIT \n",
       "       263        264        264        264        264        264        266 \n",
       "PIT to MCI ATL to BGR BGR to ATL DCA to DSM DFW to MDT DSM to DCA ONT to RNO \n",
       "       266        270        270        272        272        272        273 \n",
       "RNO to ONT MDT to DFW IAH to BPT BPT to IAH CLT to PWM JFK to ORF ORF to JFK \n",
       "       273        274        275        276        276        277        277 \n",
       "PWM to CLT MDW to EWR EWR to MDW SAN to OGG LIH to PHX OGG to SAN PHX to LIH \n",
       "       277        278        279        279        280        280        280 \n",
       "SBP to SLC CVG to SNA CWA to MKE MKE to CWA SLC to SBP SNA to CVG DCA to MSN \n",
       "       284        285        285        285        285        285        287 \n",
       "DTW to MYR MSN to DCA MYR to DTW MHT to DCA DEN to RFD AUS to PHL PHL to AUS \n",
       "       287        287        287        288        289        290        290 \n",
       "PHL to SAT RFD to DEN SAT to PHL SLC to CMH CMH to SLC GCC to SLC MEM to RIC \n",
       "       290        290        290        290        291        292        292 \n",
       "ORD to PNS PHL to ORF RIC to MEM JAN to DCA PNS to ORD SLC to GCC ITO to KOA \n",
       "       292        292        292        293        293        293        299 \n",
       "MCI to ONT TLH to TPA TPA to TLH OKC to SAN ONT to MCI ONT to OMA PHX to MFR \n",
       "       301        301        301        302        302        303        303 \n",
       "DCA to ALB DCA to JAN LEX to DCA MFR to PHX OMA to ONT ONT to AUS AUS to ONT \n",
       "       304        304        304        304        304        304        305 \n",
       "EUG to LAX LAS to SBA LAX to EUG SAN to OKC SBA to LAS STL to SNA CLE to PWM \n",
       "       305        305        305        305        305        305        306 \n",
       "DCA to MHT MCI to SMF PWM to CLE SMF to MCI SNA to STL TUS to OAK DCA to GRR \n",
       "       306        306        306        306        306        306        307 \n",
       "GRR to DCA OAK to TUS RDU to CLE FLL to PHF ORD to ASE PHF to FLL DAB to EWR \n",
       "       307        307        307        309        310        310        311 \n",
       "DCA to LEX EWR to DAB PDX to CVG BUF to DCA DCA to SYR EWR to MSN IAD to MCI \n",
       "       311        311        311        312        313        313        313 \n",
       "MQT to ORD MSN to EWR ORD to MQT SYR to DCA OMA to SAN PWM to ORD CLE to MSN \n",
       "       313        313        313        313        314        316        317 \n",
       "MSN to CLE SAN to OMA CMX to MSP CVG to PDX MSP to CMX SJU to BWI BWI to SJU \n",
       "       317        317        318        318        318        318        319 \n",
       "CLE to RDU IAD to OKC DTW to LNK LNK to DTW MKE to STL CLE to SAV SAV to CLE \n",
       "       319        319        320        320        320        321        321 \n",
       "STL to MKE DCA to PIT MQT to GRB ALO to MSP EWR to LIT GRB to MQT MSP to ALO \n",
       "       321        322        322        323        323        323        323 \n",
       "LAX to ASE YUM to IPL ALB to DCA ORD to GEG RDU to SLC FLL to SYR GEG to ORD \n",
       "       324        326        327        327        327        328        328 \n",
       "SLC to MSY SLC to RDU SYR to FLL MSY to SLC SLC to TPA TPA to SLC KOA to PHX \n",
       "       328        328        328        329        329        329        330 \n",
       "PHX to KOA LIT to EWR ASE to ORD FLL to LGB LGB to FLL SYR to PHL ASE to LAX \n",
       "       330        331        332        332        332        333        334 \n",
       "PHL to SYR PHX to BDL BDL to PHX IDA to MSP MSP to IDA ORD to BZN BZN to ORD \n",
       "       334        334        335        336        336        336        337 \n",
       "BGR to JFK JFK to BGR SLC to YKM MSP to RIC RIC to MSP YKM to SLC JFK to SMF \n",
       "       338        338        338        339        340        340        341 \n",
       "AEX to IAH IAH to AEX SMF to JFK DEN to GRR EWR to TUL IPL to YUM ORD to PWM \n",
       "       342        342        342        343        343        343        343 \n",
       "BOS to MDW TUL to EWR CVG to STL MDW to BOS BTV to MCO CLE to SLC GRR to DEN \n",
       "       344        344        345        345        346        346        346 \n",
       "JFK to PSE MCO to BTV MSP to TVC PSE to JFK STL to CVG MCO to PSE PSE to MCO \n",
       "       346        346        346        346        346        347        347 \n",
       "TVC to MSP LMT to SFO SFO to LMT SLC to CLE MEM to SEA MIA to STX SLC to RKS \n",
       "       347        348        348        348        349        349        349 \n",
       "STX to MIA SEA to MEM RKS to SLC OTH to SFO FNT to MSP SFO to OTH LAX to MKE \n",
       "       349        350        351        353        354        354        355 \n",
       "MKE to LAX MSP to FNT AVP to CVG MQT to MKE ATL to CID CID to ATL CVG to AVP \n",
       "       355        355        356        356        357        357        357 \n",
       "MKE to MQT STL to RDU RDU to STL XNA to LAX CAK to TPA LAX to XNA MEM to MSN \n",
       "       357        357        358        358        359        359        359 \n",
       "MSN to MEM MSP to SGF PBI to SWF TPA to CAK CEC to ACV CLE to PVD DTW to SHV \n",
       "       359        359        359        359        360        360        360 \n",
       "EWR to OKC JAC to ORD PVD to CLE SGF to MSP SHV to DTW SWF to PBI LIT to DTW \n",
       "       360        360        360        360        360        360        361 \n",
       "OKC to EWR OME to OTZ OTZ to ANC PHF to MCO SDF to IAH XNA to DTW ACV to CEC \n",
       "       361        361        361        361        361        361        362 \n",
       "ANC to CDV CDV to YAK DTW to LIT DTW to XNA ELP to LBB EWR to HNL GRR to MEM \n",
       "       362        362        362        362        362        362        362 \n",
       "HNL to EWR KTN to JNU MCO to PHF MEM to GRR PIA to DEN YAK to JNU ANC to SCC \n",
       "       362        362        362        362        362        362        363 \n",
       "BNA to OAK CDV to ANC DEN to MRY DEN to PIA DTW to SGF GRR to LGA JNU to PSG \n",
       "       363        363        363        363        363        363        363 \n",
       "JNU to YAK LGA to GRR OAK to BNA PSG to WRG SCC to ANC SGF to DTW WRG to KTN \n",
       "       363        363        363        363        363        363        363 \n",
       "YAK to CDV AVL to MSP BNA to SEA BRW to ANC BRW to FAI COS to SFO FAI to BRW \n",
       "       363        364        364        364        364        364        364 \n",
       "FAI to SCC JFK to ALB JNU to KTN KTN to WRG LBB to ELP MSP to AVL PSG to JNU \n",
       "       364        364        364        364        364        364        364 \n",
       "PVD to LAS SCC to BRW SEA to BNA SFO to COS WRG to PSG ABQ to IAD ANC to OME \n",
       "       364        364        364        364        364        365        365 \n",
       "BNA to BDL BNA to ONT BUF to PHX DCA to LAS DCA to SLC DEN to MFR DFW to EVV \n",
       "       365        365        365        365        365        365        365 \n",
       "DFW to SBA GSO to MSP HLN to MSP HOU to LIT IAD to ABQ IAD to SMF KTN to SIT \n",
       "       365        365        365        365        365        365        365 \n",
       "LAS to MHT LAS to ORF LAS to PVD LIT to HOU MCI to SEA MCO to PNS MDW to RNO \n",
       "       365        365        365        365        365        365        365 \n",
       "MFR to DEN MHT to PHX MIA to SDF MRY to DEN MSP to GSO MSP to HLN MSP to SBN \n",
       "       365        365        365        365        365        365        365 \n",
       "MSP to TYS MSY to PHX ONT to BNA ORD to RNO PHL to BUF PHX to BUF PHX to MHT \n",
       "       365        365        365        365        365        365        365 \n",
       "PHX to MSY PHX to PVD PHX to SDF PVD to PHX RNO to MDW RNO to ORD SAT to TPA \n",
       "       365        365        365        365        365        365        365 \n",
       "SBN to MSP SDF to LAS SDF to PHX SEA to MCI SFO to TUS SIT to KTN SLC to DCA \n",
       "       365        365        365        365        365        365        365 \n",
       "TPA to SAT TUS to SFO TYS to MSP ABQ to LBB ABQ to PDX ABQ to STL ABQ to TPA \n",
       "       365        365        365        366        366        366        366 \n",
       "ALB to LAS AMA to ABQ AMA to LAS ANC to PHX BDL to BNA BDL to LAS BDL to MIA \n",
       "       366        366        366        366        366        366        366 \n",
       "BDL to SJU BHM to JAX BHM to LAS BHM to PHX BHM to STL BNA to PVD BOS to PDX \n",
       "       366        366        366        366        366        366        366 \n",
       "BQN to EWR BWI to LIT BWI to OKC BWI to SFO CMI to DFW DCA to LAX DFW to CMI \n",
       "       366        366        366        366        366        366        366 \n",
       "DFW to OGG ELP to SAN EVV to DFW EWR to BQN FLL to GPT FLL to RIC GPT to FLL \n",
       "       366        366        366        366        366        366        366 \n",
       "GPT to TPA HNL to DEN HNL to MSP HNL to SJC HNL to SLC HNL to SMF HOU to JAX \n",
       "       366        366        366        366        366        366        366 \n",
       "HRL to AUS IND to JAX ISP to LAS ITO to OGG JAX to BHM JAX to HOU JAX to IND \n",
       "       366        366        366        366        366        366        366 \n",
       "JFK to STT LAS to ALB LAS to BDL LAS to BHM LAS to DCA LAS to ISP LAS to LBB \n",
       "       366        366        366        366        366        366        366 \n",
       "LAS to MAF LAS to SDF LAX to DCA LBB to ABQ LBB to LAS LIH to SEA LIT to BWI \n",
       "       366        366        366        366        366        366        366 \n",
       "MAF to ABQ MAF to LAS MCI to PDX MCO to SFO MHT to LAS MIA to BDL MIA to PHX \n",
       "       366        366        366        366        366        366        366 \n",
       "MIA to SEA MSP to HNL OGG to DFW OGG to ITO OGG to PDX OKC to BWI ORF to LAS \n",
       "       366        366        366        366        366        366        366 \n",
       "ORF to TPA PDX to ABQ PDX to BOS PDX to MCI PDX to OGG PHX to ANC PHX to MIA \n",
       "       366        366        366        366        366        366        366 \n",
       "PNS to MCO PVD to BNA RIC to FLL ROC to TPA SAN to ELP SAN to STL SAT to SFO \n",
       "       366        366        366        366        366        366        366 \n",
       "SBA to DFW SDF to MIA SEA to LIH SEA to MIA SFO to BWI SFO to MCO SFO to SAT \n",
       "       366        366        366        366        366        366        366 \n",
       "SJC to HNL SJU to BDL SJU to TPA SLC to HNL SMF to HNL SMF to IAD STL to ABQ \n",
       "       366        366        366        366        366        366        366 \n",
       "STL to BHM STL to SAN STL to SGF STT to JFK TPA to ABQ TPA to GPT TPA to ORF \n",
       "       366        366        366        366        366        366        366 \n",
       "TPA to ROC TPA to SJU ABQ to MAF ALB to JFK AUS to HRL AUS to TPA DEN to HNL \n",
       "       366        366        367        367        367        367        367 \n",
       "IAD to PDX LAS to AMA PDX to IAD PHX to BHM TPA to AUS ABQ to AMA AUS to BOS \n",
       "       367        367        367        367        367        368        368 \n",
       "BOS to AUS SGF to STL PIT to SFO SFO to PIT BFL to SLC CAK to MCO CLT to PNS \n",
       "       368        368        369        369        371        371        371 \n",
       "MCO to CAK PHX to EUG SLC to BFL SMF to GEG EUG to PHX FLL to LAX MEM to LAS \n",
       "       371        371        371        371        372        372        372 \n",
       "PNS to CLT BDL to PBI LAS to MEM LAX to FLL LAX to PIT PBI to BDL PIT to LAX \n",
       "       372        373        373        373        373        373        373 \n",
       "SLC to HDN RSW to ISP GEG to SMF ISP to RSW BUF to RSW RSW to BUF HDN to SLC \n",
       "       373        374        375        375        376        376        378 \n",
       "EWR to ORF PDX to PHL AUS to CLE CLE to AUS IAD to PWM ORF to EWR PHL to PDX \n",
       "       379        379        380        380        380        380        380 \n",
       "ELP to ONT JAN to MCO MCO to JAN LAS to LIT LIT to LAS ONT to ELP CLE to PBI \n",
       "       381        381        381        382        382        382        383 \n",
       "LIT to MDW MDW to LIT PBI to CLE ATL to MSN DEN to SDF MSN to ATL SDF to DEN \n",
       "       383        383        383        384        384        384        384 \n",
       "CMH to DEN DRO to SLC SLC to DRO PHL to RIC RIC to PHL ACV to SLC CVG to PBI \n",
       "       385        386        386        387        387        388        389 \n",
       "EWR to LEX SLC to ACV LAS to TUL LEX to EWR MCO to SYR MSY to MDW PBI to CVG \n",
       "       389        389        390        390        390        390        390 \n",
       "ALB to TPA CRW to CVG CVG to CRW MDW to MSY MSY to BWI SYR to MCO TPA to ALB \n",
       "       391        391        391        391        391        391        391 \n",
       "TUL to LAS BWI to MSY LGA to FNT FNT to LGA HNL to SAN SAN to HNL IAH to SDF \n",
       "       391        392        392        393        393        393        396 \n",
       "HRL to IAH IAH to HRL CLE to MIA EWR to SRQ MIA to CLE SRQ to EWR PWM to IAD \n",
       "       398        398        399        399        399        399        407 \n",
       "DCA to MSY KOA to SEA LEX to LGA CLT to ROC HLN to DEN MSP to CID ROC to CLT \n",
       "       408        411        411        412        412        412        412 \n",
       "IAD to MSY DEN to HLN LGA to LEX CID to MSP DAY to MCO MCO to DAY RSW to STL \n",
       "       413        414        415        416        416        416        417 \n",
       "STL to RSW BNA to IAD CLT to STT STT to CLT IAH to VPS HOU to SAN VPS to IAH \n",
       "       417        418        418        418        420        421        421 \n",
       "SAN to HOU ABQ to SAT COS to SMF FLL to PVD PVD to FLL CHA to DFW DFW to CHA \n",
       "       422        424        424        424        425        426        426 \n",
       "LIH to OGG RDU to SDF SAT to ABQ SDF to RDU SMF to COS IAH to RNO LAX to GEG \n",
       "       426        426        426        426        426        428        428 \n",
       "OMA to CLE RNO to IAH CLE to OMA MSY to DCA SAT to MSY GEG to LAX LGB to FAT \n",
       "       428        428        430        430        430        431        431 \n",
       "MSY to SAT ABQ to AUS MSP to LSE LSE to MSP AUS to ABQ FAT to LGB MRY to LGB \n",
       "       432        433        433        434        435        435        435 \n",
       "LGB to MRY MSP to TUS ONT to SAT TUS to MSP GEG to ONT ONT to GEG SLC to YUM \n",
       "       436        439        439        439        440        440        440 \n",
       "YUM to SLC SAT to ONT MLI to MSP MSY to AUS ONT to ABQ SEA to TUS SLC to ASE \n",
       "       440        441        442        443        443        443        443 \n",
       "AUS to MSY CVG to SRQ TUS to SEA MRY to SAN SRQ to CVG ABQ to ONT SAN to MRY \n",
       "       444        444        444        445        445        446        446 \n",
       "CVG to GRB GRB to CVG PHL to ALB ALB to PHL MSP to COS COS to MSP CVG to ORF \n",
       "       447        447        448        449        449        450        450 \n",
       "MSP to MLI ANC to DEN ATL to STT DEN to ANC ORD to PSP STT to ATL PSP to ORD \n",
       "       450        451        451        451        451        451        452 \n",
       "SAN to GEG GEG to SAN FNT to MCO MCO to FNT CVG to GSP GSP to CVG DFW to EGE \n",
       "       452        454        455        455        456        456        457 \n",
       "EGE to DFW MSY to IAD IAH to AVL IAH to CHA ONT to COS ASE to SLC AUS to MCI \n",
       "       457        457        458        458        458        459        459 \n",
       "AVL to IAH CHA to IAH LGB to RNO MCI to AUS PWM to MCO COS to ONT MCO to PWM \n",
       "       459        459        459        459        459        460        460 \n",
       "MSY to MCI MCI to MSY JFK to BNA ORD to JAC PHX to CVG RNO to LGB ABE to CLT \n",
       "       461        462        463        463        463        464        465 \n",
       "CLT to ABE TUS to SMF ABQ to SMF CLE to SFO SFO to CLE SMF to ABQ BOS to CAK \n",
       "       465        465        466        466        466        466        467 \n",
       "CAK to BOS SMF to TUS CVG to PHX CMH to MIA AUS to MAF DEN to RDU FLL to STL \n",
       "       467        467        468        469        470        470        470 \n",
       "JAX to MSY MIA to CMH RDU to DEN BOI to ONT LAS to OKC MAF to AUS OKC to LAS \n",
       "       470        470        470        471        471        471        471 \n",
       "ONT to BOI COS to SAN DTW to PBI MSY to JAX MSY to RDU PBI to DTW STL to FLL \n",
       "       471        472        472        472        472        472        472 \n",
       "ONT to TUS RDU to MSY BOI to SAN FLL to MSP MSP to FLL SAN to BOI FLL to SWF \n",
       "       474        474        475        475        475        475        476 \n",
       "SAN to COS SWF to FLL TUS to ONT ANC to SLC FSM to MEM SLC to ANC STT to SJU \n",
       "       476        476        477        478        478        478        478 \n",
       "MEM to FLL MEM to FSM FLL to MEM JFK to SJC SEA to CLT AUS to FLL CLT to SEA \n",
       "       479        479        480        480        480        481        481 \n",
       "COD to DEN DEN to COD FLL to AUS IAH to TLH SJC to JFK TLH to IAH LIH to SFO \n",
       "       481        481        481        481        481        482        483 \n",
       "SFO to LIH SLC to SLE SLE to SLC CVG to LAN LAN to CVG TPA to SDF SDF to TPA \n",
       "       483        484        484        485        486        488        489 \n",
       "MKE to RDU RDU to MKE CVG to IND BQN to MCO IAD to ROC MCO to BQN CLE to CVG \n",
       "       490        490        491        492        492        492        493 \n",
       "CVG to CLE CLE to TYS IND to PHL ORF to CVG ATL to BTV BTV to ATL CMH to RDU \n",
       "       493        495        495        499        500        500        500 \n",
       "DTW to SCE OKC to LAX RDU to CMH SCE to DTW LAX to OKC BWI to EWR DTW to JAX \n",
       "       500        500        500        500        501        507        507 \n",
       "IND to CVG PIT to FLL DTW to SAV EWR to BWI JAX to DTW SAV to DTW CLE to GSP \n",
       "       507        507        508        508        508        509        510 \n",
       "DEN to TYS GSP to CLE IAD to PVD MSY to LGA PVD to IAD TYS to CLE TYS to DEN \n",
       "       510        510        511        511        511        511        511 \n",
       "LGA to MSY CMH to JFK RIC to MCO BOS to OAK CLE to BDL LAX to TPA MCO to RIC \n",
       "       512        515        515        516        516        516        517 \n",
       "OAK to BOS MIA to GSO TPA to LAX GSO to MIA HPN to RSW RSW to HPN BDL to PHL \n",
       "       518        519        519        520        520        520        521 \n",
       "PHL to BDL BNA to JFK SLC to IAD IAD to SLC GRK to IAH IAH to GRK SFO to ABQ \n",
       "       521        523        523        524        525        525        529 \n",
       "ABQ to SFO LAS to MKE MKE to LAS BFL to DEN DEN to BFL IAD to MYR MCO to SDF \n",
       "       530        530        531        533        533        533        533 \n",
       "MYR to IAD OGG to SEA SDF to MCO JFK to SRQ SRQ to JFK BDL to MKE BGR to EWR \n",
       "       533        533        533        534        534        536        536 \n",
       "EWR to BGR BTV to BWI BWI to BTV CVG to RSW MKE to BDL RSW to CVG MDT to DTW \n",
       "       536        538        539        539        539        539        542 \n",
       "MSP to OKC DTW to MDT LAW to ATL ATL to LAW BDL to CLE DEN to RKS EWR to XNA \n",
       "       542        543        543        544        544        545        545 \n",
       "FLL to BDL RKS to DEN XNA to EWR ABQ to BWI BDL to FLL HSV to ORD ORD to HSV \n",
       "       545        545        545        546        546        547        547 \n",
       "AUS to SLC IND to LAX LAX to IND BWI to ABQ CWA to DTW DTW to CWA SLC to AUS \n",
       "       548        548        548        549        549        549        550 \n",
       "CVG to FSD CVG to PWM FSD to CVG ORD to ROA ROC to IAD ANC to ORD DCA to HSV \n",
       "       555        555        555        555        560        561        561 \n",
       "ORD to ANC PWM to CVG MDW to SRQ SRQ to MDW STL to SEA SEA to STL CVG to SAN \n",
       "       561        563        565        565        566        567        571 \n",
       "JFK to CMH LGA to SDF DEN to CID DTW to SLC SDF to LGA SAN to CVG SLC to DTW \n",
       "       571        571        572        572        572        573        573 \n",
       "MIA to IAD SFO to STL STL to SFO ATL to ELP ELP to ATL IAD to MIA ANC to PDX \n",
       "       574        574        574        575        575        575        576 \n",
       "PDX to ANC STL to PHL HSV to DCA MCI to SAT FLL to IND IND to FLL PHL to STL \n",
       "       576        576        577        577        578        578        578 \n",
       "SAT to MCI IAH to MLU SAN to DTW FAT to SAN MLU to IAH GRR to EWR SAN to FAT \n",
       "       578        580        580        581        581        582        582 \n",
       "DTW to SAN ATL to AVP MHT to IAD PHL to DCA BDL to IND IAD to MHT AVP to ATL \n",
       "       583        584        584        584        585        585        586 \n",
       "OGG to PHX PHX to OGG IND to BDL JFK to PHL MLI to DFW SAT to SLC SLC to SAT \n",
       "       586        586        587        587        587        587        587 \n",
       "DFW to MLI LAS to BUF ATL to COS BUF to LAS MKE to LGA BOS to PIT COS to ATL \n",
       "       588        588        589        589        590        591        591 \n",
       "LGA to BHM LGA to MKE EWR to GRR FLL to MSY MSY to FLL RSW to CLE CLE to RSW \n",
       "       591        592        593        593        594        594        595 \n",
       "RDU to JAX JAX to RDU DTW to SAT BHM to CVG GJT to DFW TUL to SLC DFW to GJT \n",
       "       595        596        597        598        599        599        600 \n",
       "LGB to ORD ROA to IAD BDL to JFK SLC to TUL JFK to PVD TYS to LGA OKC to DTW \n",
       "       600        601        602        602        603        603        604 \n",
       "ORD to LGB PVD to JFK SLC to OMA IAD to PHL PHL to IAD BOS to SAN MKE to DAY \n",
       "       604        604        605        607        607        608        608 \n",
       "CAE to LGA DAY to MKE GSP to LGA LGA to CAE LGA to GSP OMA to SLC SFO to AUS \n",
       "       609        609        609        609        609        609        609 \n",
       "AUS to SFO SAN to BOS ALB to EWR CLE to BTV ATL to FLO BTV to CLE FLO to ATL \n",
       "       610        610        611        613        614        614        615 \n",
       "PIT to BOS SMF to ACV OKC to MSP ACV to SMF CLE to FLL FLL to CLE EWR to ALB \n",
       "       616        616        617        618        618        618        619 \n",
       "CLE to BUF LGA to MSN PHX to FLL ATL to PIA DTW to OKC FLL to PHX MSN to LGA \n",
       "       620        620        620        622        622        622        622 \n",
       "SYR to IAD PIA to ATL ATL to LYH LYH to ATL MEM to CHA CHA to MEM IAD to AUS \n",
       "       622        623        625        625        629        630        631 \n",
       "JFK to BDL ATL to FSM AUS to MCO DCA to BUF MCO to AUS BUF to CLE FSM to ATL \n",
       "       631        632        632        632        632        633        633 \n",
       "PIA to DFW SJC to ATL CVG to SDF DFW to PIA IAH to PNS IND to CLE PNS to IAH \n",
       "       634        634        635        635        635        635        635 \n",
       "ROA to ORD ATL to HNL HNL to ATL SDF to CVG ATL to SJC HNL to ORD ORD to HNL \n",
       "       635        637        637        639        640        641        641 \n",
       "ATL to GRK LGA to TYS SAT to DTW GRK to ATL SAN to SAT IAH to LEX IPL to LAX \n",
       "       642        642        642        643        643        646        646 \n",
       "LEX to IAH SAT to SAN BOS to JAX MSP to RSW RSW to MSP LWS to SLC DEN to BHM \n",
       "       646        646        647        647        647        650        651 \n",
       "TYS to EWR ATL to MCN JAX to BOS MCI to RDU MCN to ATL RDU to MCI SLC to LWS \n",
       "       651        652        652        652        652        652        652 \n",
       "AUS to CVG CVG to AUS HSV to DEN IAD to SYR DEN to HSV PBI to ORD ORD to PBI \n",
       "       653        653        653        653        654        654        656 \n",
       "SAT to HRL AVL to EWR EWR to AVL MDW to SJC SAT to CLT AUS to CLT HOU to PHL \n",
       "       656        658        658        658        658        659        659 \n",
       "LAX to MOD SJC to MDW CLT to AUS EWR to TYS LAX to IPL PHL to BWI SJC to LGB \n",
       "       659        659        660        660        660        660        660 \n",
       "BQN to JFK CLT to SAT CMH to BOS JFK to BQN LGB to SJC BWI to JAN PSP to SEA \n",
       "       661        661        661        661        661        664        664 \n",
       "BHM to DEN BOI to OAK CDC to SLC DTW to HPN HPN to DTW JAN to BWI SLC to CDC \n",
       "       666        666        666        666        666        666        666 \n",
       "STL to LIT OAK to BOI SEA to PSP TUS to ATL ATL to TUS BHM to EWR DEN to FCA \n",
       "       666        667        667        667        668        668        668 \n",
       "FCA to DEN MEM to MLI LIT to STL MLI to MEM ABQ to MCI AUS to IAD ELP to ORD \n",
       "       668        668        669        669        670        670        670 \n",
       "MCI to ABQ ORD to ELP PHL to SLC DCA to PVD PIT to EWR SLC to PHL BUF to FLL \n",
       "       670        670        670        671        671        671        672 \n",
       "FLL to BUF PVD to DCA IND to RDU RDU to IND ATL to MEI CLE to PHL CRW to IAH \n",
       "       672        672        673        673        674        674        674 \n",
       "IAH to CRW MEI to ATL PHL to CLE SDF to BHM STL to CMH HRL to SAT PHL to JFK \n",
       "       674        674        674        674        674        675        675 \n",
       "HOU to MAF MAF to HOU SAT to BNA XNA to MSP ABQ to MSP BNA to CMH BNA to SAT \n",
       "       676        676        676        676        677        677        677 \n",
       "EWR to PIT FLL to LAS JAN to MDW LAS to FLL MSP to ABQ MSP to XNA BHM to SDF \n",
       "       677        677        677        677        677        677        679 \n",
       "BOI to PHX CLE to SDF CMH to STL MOD to LAX PHX to BOI JFK to PDX PDX to JFK \n",
       "       679        679        679        679        679        680        680 \n",
       "EWR to BHM ATL to SMF DTW to JAN IAD to GSP IAD to ROA MDW to JAN SMF to ATL \n",
       "       681        682        682        682        682        682        682 \n",
       "CVG to FLL SMF to MDW CAE to EWR EWR to CAE OAK to MCI BUF to PHL CMH to BNA \n",
       "       683        683        684        684        684        685        685 \n",
       "DEN to CMH MCO to SLC SBA to SLC XNA to DEN DEN to XNA MCI to OAK MDW to SMF \n",
       "       685        685        685        685        686        686        686 \n",
       "SAN to MCI SYR to CLE EWR to PDX FLL to CVG PHL to HOU SLC to MCO STL to OKC \n",
       "       686        686        687        687        687        687        687 \n",
       "BNA to BHM DSM to IAH IAH to DSM OKC to STL RIC to BOS SLC to SBA BOS to RIC \n",
       "       688        688        688        688        688        688        689 \n",
       "JAN to DTW MCI to SAN LBB to AUS AUS to LBB BWI to PHL DAY to MSP ICT to PHX \n",
       "       689        689        690        692        692        692        692 \n",
       "MSP to DAY PDX to EWR PHX to ICT MSP to SJC ATL to MHT DEN to GCC FLL to RDU \n",
       "       692        692        692        693        695        695        695 \n",
       "GCC to DEN MCI to TPA SJC to MSP BHM to BNA CLE to SYR MHT to ATL RDU to FLL \n",
       "       695        695        695        696        696        696        696 \n",
       "ATW to CVG CVG to ATW DTW to HSV TPA to MCI DTW to RIC MDW to SAT RIC to DTW \n",
       "       697        697        698        699        700        700        700 \n",
       "ROC to MCO DTW to PIA MCO to ROC OMA to MKE PIA to DTW HNL to IAH HSV to DTW \n",
       "       700        701        701        701        701        702        702 \n",
       "IAH to HNL CEC to SFO MKE to OMA CLT to SAN SAN to CLT SLC to BTM CLT to MHT \n",
       "       702        703        703        704        704        704        705 \n",
       "LGA to DSM SFO to CEC ADQ to ANC ANC to ADQ CAE to MEM DCA to RSW MEM to CAE \n",
       "       705        705        706        706        706        706        706 \n",
       "SLC to COD BOS to SLC COD to SLC DSM to LGA IAD to SJU MSP to SDF SEA to PHL \n",
       "       706        707        707        707        707        707        707 \n",
       "SLC to BOS BTM to SLC ORD to CRW PHL to SEA RSW to DCA SEA to ABQ BHM to MDW \n",
       "       707        708        708        708        708        708        709 \n",
       "CRW to ORD MEM to CHS IAD to CHS MSP to IAD SAT to MDW EUG to SLC OAK to HOU \n",
       "       709        709        710        710        710        711        711 \n",
       "AUS to MDW CHS to IAD IAD to MSP JAX to ORF CAE to DTW DFW to FWA DTW to CAE \n",
       "       712        712        712        712        713        713        713 \n",
       "FWA to DFW HOU to OAK KOA to SFO MDW to AUS SFO to KOA CHS to MEM GRR to IAH \n",
       "       713        713        713        713        713        714        714 \n",
       "IAH to GRR ICT to MSP LRD to IAH MSP to ICT SLC to EUG BOS to PHF RDU to LAS \n",
       "       714        714        714        714        714        715        715 \n",
       "SAN to AUS AVP to ORD IAH to LRD PHF to BOS MSP to TUL TUL to MSP ORD to AVP \n",
       "       715        716        716        716        717        717        718 \n",
       "TUS to ABQ ABQ to TUS AUS to SAN GEG to OAK MLI to DEN ORF to JAX RDM to SLC \n",
       "       718        719        719        719        719        719        719 \n",
       "SLC to RDM ABQ to SEA BNA to SAN BWI to SAN DLH to DTW OAK to IAH SGU to LAX \n",
       "       720        721        721        721        721        721        721 \n",
       "AVP to DTW DSM to MKE DTW to AVP DTW to DLH FLL to HOU IAH to OAK LAX to SGU \n",
       "       722        722        722        722        722        722        722 \n",
       "BHM to HOU DEN to MLI HOU to FLL MHT to CLT MKE to DSM TUS to MDW DFW to OAK \n",
       "       723        723        723        723        723        723        724 \n",
       "DTW to SWF LAS to RDU MFR to SLC ROC to CVG SWF to DTW ANC to OTZ IAD to HSV \n",
       "       724        724        724        724        724        725        725 \n",
       "OAK to DFW OTZ to OME DEN to EUG DTW to TUL EUG to DEN HSV to IAD LAS to MSY \n",
       "       725        725        726        726        726        726        726 \n",
       "MCO to ABQ MDW to BHM MSP to RDU OAK to GEG RDU to MSP SLC to MFR TUL to DTW \n",
       "       726        726        726        726        726        726        726 \n",
       "BWI to SLC DCA to SEA MDW to TUS MSY to LAS SAN to BNA SEA to DCA BGM to DTW \n",
       "       727        727        727        727        727        727        728 \n",
       "BUF to BOS BWI to AUS DTW to BGM PMD to SFO SDF to CLE SFO to PMD SLC to BWI \n",
       "       728        728        728        728        728        728        728 \n",
       "TPA to BUF AMA to DEN BOS to BUF BUF to TPA BWI to SAT LAX to MEM LGB to SMF \n",
       "       728        729        729        729        729        729        729 \n",
       "MDW to ALB OME to ANC SAN to BWI SAN to RNO SMF to LGB ABQ to MCO ABQ to MDW \n",
       "       729        729        729        729        729        730        730 \n",
       "ALB to MDW AUS to BWI CVG to ROC DFW to FAT FAT to DFW MDW to ABQ RNO to SAN \n",
       "       730        730        730        730        730        730        730 \n",
       "SAT to BWI SJU to IAH BNA to MIA DEN to AMA IAD to PHX MCO to SEA MDW to ORF \n",
       "       730        730        731        731        731        731        731 \n",
       "MIA to BNA ORF to MDW PHX to IAD SAV to CVG SEA to MCO STL to MIA CVG to SAV \n",
       "       731        731        731        731        731        731        732 \n",
       "DFW to HNL HNL to DFW HNL to LAS HNL to PDX IAH to SJU LAS to HNL MIA to STL \n",
       "       732        732        732        732        732        732        732 \n",
       "MIA to STT PDX to HNL STT to MIA MKE to MEM HOU to BHM IAH to STL BTV to ORD \n",
       "       732        732        732        734        736        736        737 \n",
       "BNA to FLL IND to MKE MKE to IND ORD to BTV EWR to PWM FLL to BNA IAD to PIT \n",
       "       738        738        738        738        740        740        740 \n",
       "SIT to JNU SLC to OKC PWM to EWR TPA to MHT ATL to ATW MHT to TPA ATW to ATL \n",
       "       740        740        741        741        742        742        743 \n",
       "JAX to IAD OKC to SLC MCO to SAT MEM to MKE SAT to MCO DFW to MKE DTW to MLI \n",
       "       743        743        744        744        744        745        745 \n",
       "CVG to DAY SYR to CLT CLT to SYR MKE to DFW DTW to ROA ROA to DTW DSM to PHX \n",
       "       746        746        747        747        748        748        749 \n",
       "MEM to OMA PHX to DSM ABQ to ORD DSM to MEM IAD to JAX GEG to LAS LAS to GEG \n",
       "       749        749        751        751        751        753        753 \n",
       "ORF to MCO ORD to ABQ DAY to CVG LAS to BOI MCO to ORF MLI to DTW PHX to RDU \n",
       "       753        754        755        755        755        755        755 \n",
       "RDU to PHX BOI to LAS CHS to DTW IAD to LGB LGB to IAD RAP to SLC SLC to RAP \n",
       "       755        756        756        756        756        757        757 \n",
       "DTW to CHS OMA to MEM RSW to ORD ORD to RSW SAV to MEM SJU to FLL FLL to SJU \n",
       "       761        763        763        764        764        764        765 \n",
       "LGA to XNA MEM to SAV BDL to EWR CHA to ORD XNA to LGA ORD to CHA PHF to LGA \n",
       "       765        765        766        766        766        767        767 \n",
       "AVL to DTW DTW to AVL BNA to CVG CVG to OKC IAH to LBB LBB to IAH OKC to CVG \n",
       "       768        768        769        769        769        769        769 \n",
       "LGA to PHF MKE to BNA BNA to MKE GRB to MKE MKE to GRB PHL to MKE MKE to PHL \n",
       "       770        771        772        774        774        774        775 \n",
       "CVG to MHT CVG to SFO GEG to PHX MHT to CVG PHX to GEG SGF to DEN CAK to DEN \n",
       "       776        777        777        777        777        777        779 \n",
       "RIC to CVG DEN to CAK PIT to IAD SDF to MSP MSP to BNA SFO to CVG CVG to IAD \n",
       "       779        780        780        780        781        782        783 \n",
       "IAD to CVG MEM to BWI BNA to MSP MEM to MIA MIA to MEM ATL to CHO BHM to CLT \n",
       "       783        783        785        785        785        786        786 \n",
       "CHO to ATL CHS to CVG CVG to CHS CVG to RIC MEM to SDF ORD to BOI BOI to ORD \n",
       "       786        786        786        786        786        786        787 \n",
       "CLT to BHM HSV to CVG LAS to MIA MIA to LAS SDF to MEM BOS to LGB SAT to MEM \n",
       "       787        787        787        787        787        788        788 \n",
       "LGB to BOS CVG to SEA ATL to EWN EWN to ATL SEA to CVG AUS to BNA ELP to ABQ \n",
       "       789        790        791        791        791        792        792 \n",
       "BGR to BOS CAK to LGA DFW to GRR EWR to BDL KOA to OGG LGA to CAK BOS to BGR \n",
       "       793        793        793        793        793        793        794 \n",
       "BNA to AUS CVG to CMH DFW to SAV GRR to DFW JFK to STL SAV to DFW SDF to CLT \n",
       "       795        795        795        795        795        795        795 \n",
       "SJU to CLT STL to JFK ATL to ONT CLT to SDF CLT to SJU ONT to ATL CID to DEN \n",
       "       795        795        796        796        796        797        798 \n",
       "ABQ to ELP RNO to SEA CVG to HSV BGR to DTW DTW to BGR SEA to RNO DEN to PIT \n",
       "       799        799        800        801        801        802        804 \n",
       "ABE to CLE CLE to ABE TUL to MCI BOI to MSP IAH to AMA MSP to BOI AMA to IAH \n",
       "       805        805        806        807        807        807        809 \n",
       "MIA to DEN MSP to SMF DEN to MIA MCI to TUL SMF to MSP PHX to DRO DRO to PHX \n",
       "       809        809        810        810        810        811        812 \n",
       "EWR to SLC SLC to EWR MEM to DSM PHX to MEM MEM to PHX PHL to SAN RST to MSP \n",
       "       812        812        813        816        817        817        817 \n",
       "SAN to PHL BIL to MSP MSP to BIL CRP to IAH IAH to CRP ANC to MSP BTV to DTW \n",
       "       817        820        820        821        823        826        826 \n",
       "DTW to BTV GEG to MSP MSP to ANC MSP to GEG BWI to MEM GSP to IAD MKE to MCO \n",
       "       826        826        826        826        827        828        830 \n",
       "CVG to SYR GUC to DEN MCO to MKE MEM to SAT SYR to CVG TLH to MIA DEN to GUC \n",
       "       831        831        831        831        831        831        832 \n",
       "MIA to TLH DFW to JFK AUS to MEM JFK to DFW MCO to SWF MEM to AUS SWF to MCO \n",
       "       832        833        834        834        834        835        835 \n",
       "ATL to HHH HHH to ATL DAY to DEN FNT to MKE CVG to MKE IAH to CMH MKE to FNT \n",
       "       836        836        838        838        839        839        839 \n",
       "BHM to LGA MKE to CVG SBA to DEN CMH to IAH DEN to SBA IAD to OAK OAK to IAD \n",
       "       840        840        840        841        841        841        841 \n",
       "DTW to MHT SJU to IAD FAT to SLC MHT to DTW SLC to FAT DEN to DAY ATL to ABE \n",
       "       844        844        845        846        849        850        852 \n",
       "CVG to BHM ABE to ATL DFW to PBI LGB to LAS PHL to IND LAS to LGB PBI to DFW \n",
       "       852        853        853        853        853        854        854 \n",
       "IAH to DAY PIT to DEN TPA to MEM MEM to TPA DAY to CLE BWI to ROC JNU to SIT \n",
       "       859        859        860        861        862        863        863 \n",
       "DAY to IAH DTW to ROC ROC to DTW BOS to STL ORD to TUS ROC to BWI STL to BOS \n",
       "       864        864        864        865        865        865        865 \n",
       "TUS to ORD PHX to MKE MKE to PHX DEN to GTF CLE to DAY GTF to DEN GSO to ORD \n",
       "       865        866        867        868        869        869        870 \n",
       "ORD to GSO JAX to MEM MEM to JAX FLL to PIT CVG to CID CID to CVG CLE to TPA \n",
       "       870        871        871        872        873        874        874 \n",
       "TPA to CLE CLT to CVG MSP to RAP RAP to MSP BZN to MSP MSP to BZN BTV to EWR \n",
       "       874        877        877        877        878        878        879 \n",
       "EWR to BTV MSP to RST CVG to SAT CVG to TUL SAT to CVG OKC to MEM TUL to CVG \n",
       "       879        881        882        882        882        883        883 \n",
       "BHM to MEM MEM to LIT DTW to BHM LIT to MEM DCA to JAX TUL to STL MDW to PDX \n",
       "       886        886        887        887        888        890        891 \n",
       "MEM to BHM BHM to DTW PDX to MDW JAX to DCA LAX to BWI BWI to LAX PSP to SLC \n",
       "       891        892        894        896        897        898        898 \n",
       "STL to TUL SEA to OGG SLC to PSP CVG to BNA LAX to BFL FLL to DEN ATL to PWM \n",
       "       899        900        901        902        902        903        904 \n",
       "EVV to MEM MEM to EVV PWM to ATL CLE to RIC GSO to LGA RIC to CLE BFL to LAX \n",
       "       904        904        904        905        905        905        906 \n",
       "LEX to DFW MIA to MSP DEN to FLL DFW to LEX EWR to SNA MSP to MIA DCA to PBI \n",
       "       907        907        908        908        908        908        909 \n",
       "PBI to DCA MRY to PHX PHX to MRY CVG to ALB ALB to CVG HNL to PHX PHX to HNL \n",
       "       909        910        911        912        914        914        914 \n",
       "BOS to CMH CVG to TYS STL to CLE DFW to RSW RSW to DFW LAS to CVG CVG to LAS \n",
       "       916        916        916        918        919        920        921 \n",
       "ROC to CLE ATL to BQK BQK to ATL EWR to ROC CVG to CLT CAE to CVG LGA to GSO \n",
       "       921        924        925        925        926        927        927 \n",
       "CLE to ROC MSY to LAX BWI to MIA MIA to BWI MSP to DSM LAX to MSY OGG to SFO \n",
       "       928        928        929        929        929        930        932 \n",
       "SFO to OGG MSP to BDL ROC to EWR CLE to DCA DCA to CLE PIT to LGA MDT to IAD \n",
       "       932        933        933        934        935        936        937 \n",
       "ATL to VLD VLD to ATL DEN to PSC EWR to AUS MEM to OKC PSC to DEN SFO to BFL \n",
       "       938        938        939        939        940        940        941 \n",
       "CVG to CAE BFL to SFO JFK to HOU MSN to DEN BUR to DEN HOU to JFK CID to DTW \n",
       "       942        943        943        943        944        944        946 \n",
       "DFW to MSN EWR to DAY MSN to DFW DAY to EWR DTW to CID IAH to SAV AUS to EWR \n",
       "       946        946        947        948        948        948        949 \n",
       "EWR to SAT SAV to IAH BOS to IND GSP to IAH IND to BOS DEN to SGF IAH to GSP \n",
       "       949        949        950        950        950        953        954 \n",
       "LAX to IYK SAT to EWR SNA to EWR TYS to CVG ALB to CLT DSM to DTW FAI to SEA \n",
       "       954        954        954        954        956        956        956 \n",
       "IAD to ORF IYK to LAX SEA to FAI CVG to PVD PVD to CVG DFW to ROW ROW to DFW \n",
       "       956        956        956        958        958        961        961 \n",
       "ATL to GTR DFW to MLU GTR to ATL MLU to DFW AUS to SJC DCA to IND DTW to ORF \n",
       "       964        964        964        966        968        968        968 \n",
       "IND to DCA ORF to DTW SJC to AUS DEN to CLE IAH to JFK ORF to IAH IAH to ORF \n",
       "       968        968        968        969        969        969        970 \n",
       "IAH to RIC DFW to GGG RIC to IAH CMH to TPA JFK to IAH TPA to CMH ATL to EYW \n",
       "       970        971        971        972        972        973        974 \n",
       "BWI to MSP EYW to ATL CLE to DEN DTW to DSM CLT to ALB GGG to DFW BOS to SEA \n",
       "       974        974        976        977        978        978        979 \n",
       "DEN to IDA BNA to PHL DAY to BWI IDA to DEN SEA to BOS MEM to MCI PHL to BNA \n",
       "       979        980        980        980        980        981        981 \n",
       "PVD to TPA TPA to PVD ATL to AEX BWI to DAY DSM to CVG AEX to ATL ATL to MLU \n",
       "       981        981        982        982        982        983        983 \n",
       "CVG to DSM MLU to ATL IAD to MDT CLT to GSO DFW to SJU LAX to BOI BDL to MSP \n",
       "       983        983        984        985        985        985        986 \n",
       "SJU to DFW GSO to CLT PHX to SBP SBP to PHX EWR to SYR LAX to COS PHL to CMH \n",
       "       986        987        990        990        993        994        994 \n",
       "SJC to IAH STL to SDF ATL to LFT BWI to PWM IAH to SJC LFT to ATL LGA to SAV \n",
       "       994        994        995        995        995        995        995 \n",
       "PWM to BWI SDF to STL CMH to PHL SAV to LGA ABE to DTW COS to LAX DEN to PSP \n",
       "       995        995        996        996        997        997        997 \n",
       "DTW to ABE SLC to MDW MEM to BTR PSP to DEN BTR to MEM IAH to LCH LCH to IAH \n",
       "       997        997        998        998        999        999       1000 \n",
       "BOI to LAX MEM to PIT OMA to CVG SYR to EWR CVG to OMA DEN to MSN DFW to AEX \n",
       "      1001       1002       1002       1002       1003       1003       1003 \n",
       "IND to BWI MDW to SLC MSY to MEM STL to IAH MEM to MSY OAK to ABQ AEX to DFW \n",
       "      1003       1003       1003       1003       1004       1004       1005 \n",
       "DAL to ORD MCI to MEM MSP to TPA PIT to MEM TPA to MSP CPR to SLC MSP to PIT \n",
       "      1005       1005       1005       1005       1005       1006       1006 \n",
       "SLC to CPR TPA to JAX CVG to MDT ORD to DAL SAV to IAD BHM to MSY IAD to SAV \n",
       "      1006       1006       1007       1007       1007       1008       1008 \n",
       "MDT to CVG MSY to BNA ABQ to HOU SDF to DTW BNA to MSY DSM to MSP MSY to BHM \n",
       "      1008       1010       1011       1011       1012       1012       1012 \n",
       "ALB to DTW DTW to ALB DTW to SYR PHX to TUL SYR to DTW ABQ to OAK BWI to IND \n",
       "      1013       1013       1015       1015       1015       1016       1016 \n",
       "GEG to BOI IAH to SHV JAX to TPA MSP to BWI SHV to IAH ATW to DTW BNA to MEM \n",
       "      1016       1017       1017       1017       1018       1020       1020 \n",
       "DTW to ATW HPN to FLL TUL to PHX FLL to HPN PHX to TPA TPA to PHX HOU to ABQ \n",
       "      1021       1021       1021       1022       1022       1022       1023 \n",
       "MEM to BNA BWI to MCI MCI to BWI RNO to BOI BOI to PDX ATL to FWA BDL to MDW \n",
       "      1024       1025       1025       1025       1027       1028       1028 \n",
       "BOI to RNO FWA to ATL LAX to YUM MKE to ATW ATW to MKE HOU to ELP PHL to MEM \n",
       "      1029       1029       1030       1030       1032       1032       1032 \n",
       "ELP to HOU OMA to STL ABQ to SAN ANC to BET BET to ANC DFW to ORF GSO to IAH \n",
       "      1033       1033       1034       1035       1035       1035       1035 \n",
       "ORF to DFW EWR to GSP IAH to GSO ORD to SJU SNA to MSP ALB to MCO BWI to BHM \n",
       "      1035       1036       1036       1036       1036       1037       1037 \n",
       "DAY to DFW DFW to GSO GJT to PHX GSO to DFW MSP to SNA PHX to GJT SDF to EWR \n",
       "      1037       1037       1037       1037       1037       1037       1037 \n",
       "ATL to SBN BHM to BWI DFW to DAY LAX to KOA MCO to PHX PDX to BOI MEM to PHL \n",
       "      1038       1038       1038       1038       1038       1038       1039 \n",
       "PHX to MCO SBN to ATL GJT to SLC GSP to EWR KOA to LAX MCO to ALB DFW to RIC \n",
       "      1039       1039       1040       1040       1040       1040       1041 \n",
       "MEM to XNA RIC to DFW BOI to GEG LAS to ELP DCA to MEM GSO to MEM HSV to IAH \n",
       "      1041       1041       1042       1042       1043       1043       1043 \n",
       "IAH to HSV MEM to DCA MEM to GSO PIT to BWI STL to OMA CAK to DTW DTW to CAK \n",
       "      1043       1043       1043       1043       1043       1044       1044 \n",
       "XNA to MEM YUM to LAX CVG to MIA MEM to VPS MIA to CVG VPS to MEM MSY to PHL \n",
       "      1044       1044       1045       1045       1045       1045       1046 \n",
       "PBI to HPN ORD to CAK HPN to PBI STL to MEM CAK to ORD MEM to STL CLE to LAX \n",
       "      1046       1047       1048       1048       1049       1049       1050 \n",
       "PIT to MSP SLC to GTF DAL to BHM GTF to SLC SLC to MCI BIS to MSP EWR to SDF \n",
       "      1050       1050       1051       1051       1051       1052       1052 \n",
       "MDW to BDL MSP to BIS TPA to BHM LAX to CLE CMH to MKE MCI to SLC MKE to CMH \n",
       "      1052       1052       1052       1053       1054       1054       1054 \n",
       "SAN to ABQ DEN to HOU ELP to LAS CMH to MEM CVG to GSO IND to RSW ORF to IAD \n",
       "      1054       1056       1056       1057       1057       1057       1057 \n",
       "RDU to TPA RSW to IND BWI to JAX MEM to IND DEN to ELP ELP to DEN MEM to RDU \n",
       "      1057       1057       1058       1058       1060       1060       1062 \n",
       "RDU to MEM SLC to GJT HOU to DEN ATL to ABQ BWI to PIT IAH to RSW BDL to DFW \n",
       "      1062       1062       1063       1064       1064       1064       1065 \n",
       "DFW to BDL IND to MEM JAX to BWI RSW to IAH ABQ to ATL JFK to JAX LAX to LIH \n",
       "      1065       1066       1066       1066       1067       1067       1067 \n",
       "PHX to BOS TPA to RDU JAX to JFK BOS to PHX IND to MCI LIH to LAX JFK to MSY \n",
       "      1067       1067       1068       1069       1069       1069       1070 \n",
       "MSY to JFK SEA to BOI BHM to TPA MEM to CMH SLC to COS BHM to DAL CMH to MCO \n",
       "      1070       1070       1071       1072       1073       1074       1074 \n",
       "COS to SLC MCI to IND ELP to LAX JAN to MEM CMH to MSP LAS to MCO LAX to ELP \n",
       "      1074       1074       1075       1075       1076       1076       1076 \n",
       "MSP to CMH MCO to LAS ORD to SMF SMF to ORD EWR to OMA HSV to MEM SGF to MEM \n",
       "      1076       1077       1077       1077       1079       1079       1079 \n",
       "BOI to SEA ISP to TPA MEM to SGF OMA to EWR PHX to DCA DCA to PHX DTW to SDF \n",
       "      1080       1080       1080       1080       1080       1081       1082 \n",
       "JFK to DEN MEM to JAN MKE to PIT PBI to ISP SFO to RDM MDW to SFO MEM to HSV \n",
       "      1082       1082       1082       1082       1082       1083       1083 \n",
       "OMA to LAS PIT to MKE RDM to SFO SPI to ORD DEN to JFK IAH to SMF MOT to MSP \n",
       "      1083       1083       1083       1083       1084       1085       1085 \n",
       "MSP to MOT ORD to SPI SMF to IAH PHX to PIT PIT to PHX CVG to RDU ISP to FLL \n",
       "      1085       1085       1085       1086       1086       1087       1087 \n",
       "GPT to MEM LAS to OMA MEM to GPT MEM to GSP STL to TPA TPA to MSY GSP to MEM \n",
       "      1088       1088       1088       1088       1088       1088       1089 \n",
       "ORF to ORD PIT to TPA ISP to PBI MEM to MGM MGM to MEM EWR to GSO FLL to ISP \n",
       "      1089       1089       1090       1091       1091       1092       1092 \n",
       "ICT to MEM SFO to MDW DFW to RNO GSO to EWR IAH to ONT MEM to ICT ONT to IAH \n",
       "      1092       1092       1093       1093       1093       1093       1093 \n",
       "STL to CLT TPA to ISP CLT to STL MEM to MOB MEM to SHV MEM to TLH MEM to TUL \n",
       "      1093       1093       1094       1094       1094       1094       1094 \n",
       "MOB to MEM SHV to MEM TLH to MEM TUL to MEM ABY to ATL ATL to ABY ATL to PDX \n",
       "      1094       1094       1094       1094       1095       1095       1095 \n",
       "DFW to PSP MDW to RSW MEM to LAX MEM to PFN PFN to MEM RNO to DFW CMH to PHX \n",
       "      1095       1095       1095       1095       1095       1095       1096 \n",
       "MEM to TYS PHX to CMH PSP to DFW RSW to MDW TPA to PIT GSO to CVG MEM to PNS \n",
       "      1096       1096       1096       1096       1096       1097       1097 \n",
       "MIA to SFO MSY to MIA MSY to TPA PNS to MEM SEA to IAD IAD to SEA MIA to MSY \n",
       "      1097       1097       1097       1097       1097       1098       1098 \n",
       "MIA to RDU RDU to MIA SFO to MIA CVG to TPA TPA to STL EWR to PVD TPA to CVG \n",
       "      1098       1098       1098       1099       1099       1101       1101 \n",
       "PDX to ATL PVD to EWR LGA to IAD LIT to IAH DFW to CLL CLL to DFW DTW to PVD \n",
       "      1102       1102       1103       1103       1104       1105       1105 \n",
       "IAD to LGA PVD to DTW CLE to ALB MSO to DEN PHL to MSY DEN to MSO CLE to PHX \n",
       "      1105       1105       1106       1107       1107       1108       1110 \n",
       "JAX to CVG IAH to LIT ALB to CLE ATL to DSM DSM to ATL PHX to CLE SJU to ORD \n",
       "      1110       1111       1113       1114       1115       1115       1115 \n",
       "CHS to CLT CLT to CHS JFK to BWI PHX to BNA BNA to PHX CVG to JAX EWR to SAV \n",
       "      1121       1122       1123       1123       1124       1125       1127 \n",
       "SAV to EWR CLE to BNA MCI to OKC MSY to EWR ORD to SAV BWI to JFK SAV to ORD \n",
       "      1127       1128       1128       1129       1132       1134       1134 \n",
       "CLE to GRR ELP to IAH IAH to ELP EWR to MSY CVG to LAX CLT to MDT DTW to RSW \n",
       "      1136       1136       1136       1139       1143       1144       1144 \n",
       "LAX to CVG MDT to CLT OKC to MCI ORD to MHT RNO to PDX RSW to DTW MHT to ORD \n",
       "      1144       1144       1144       1144       1144       1144       1145 \n",
       "BNA to CLE GRR to CLE RDU to BDL ATL to EVV BDL to RDU PDX to RNO EVV to ATL \n",
       "      1147       1147       1149       1150       1150       1150       1151 \n",
       "ATL to ALB ALB to ATL DFW to CHS CHS to DFW DFW to GPT CAE to DFW CVG to BDL \n",
       "      1153       1154       1154       1155       1155       1157       1157 \n",
       "DFW to CAE GPT to DFW GSP to ORD SFO to DTW ANC to JNU JNU to ANC OMA to MSP \n",
       "      1157       1157       1159       1160       1163       1163       1163 \n",
       "MCO to CMH MEM to EWR SGF to ATL ATL to SGF DTW to SEA SEA to DTW DEN to MSY \n",
       "      1165       1170       1170       1171       1172       1172       1174 \n",
       "IAD to FLL LAS to TPA DTW to AZO FLL to IAD MSY to DEN AZO to DTW JFK to OAK \n",
       "      1174       1175       1176       1176       1176       1177       1177 \n",
       "MSP to OMA OAK to JFK ATL to OAJ OAJ to ATL TPA to LAS EWR to SAN SAN to EWR \n",
       "      1177       1177       1178       1178       1178       1179       1180 \n",
       "DFW to LFT BDL to DCA DTW to CLE LFT to DFW MCI to CLT CLT to MCI DCA to BDL \n",
       "      1181       1182       1182       1182       1182       1183       1183 \n",
       "CMH to CVG BDL to CVG IAH to MAF MAF to IAH ORD to ORF CLE to STL EWR to MEM \n",
       "      1185       1187       1187       1187       1188       1191       1192 \n",
       "IAD to BDL BFL to PHX PHX to BFL BHM to MCO DEN to LNK LAS to BNA BNA to LAS \n",
       "      1192       1194       1194       1196       1200       1201       1202 \n",
       "DTW to FWA FWA to DTW LNK to DEN MEM to CLE SJC to SBA SBA to SJC DTW to TVC \n",
       "      1202       1202       1204       1205       1206       1208       1209 \n",
       "HLN to SLC JNU to SEA TVC to DTW CLE to MEM MHT to CLE MCO to BHM SLC to HLN \n",
       "      1209       1209       1210       1211       1212       1214       1215 \n",
       "BNA to LGA LGA to BNA MCI to CLE PHL to RSW RSW to PHL GRB to DTW MEM to CVG \n",
       "      1216       1217       1219       1223       1223       1224       1225 \n",
       "CVG to MEM DTW to MIA BWI to CVG MIA to DTW CLE to MCI CLT to IND AUS to LAS \n",
       "      1226       1227       1228       1228       1230       1230       1231 \n",
       "LAS to AUS CLE to MHT CVG to BWI DTW to SFO DEN to BUR GSP to DTW BIS to DEN \n",
       "      1232       1235       1235       1235       1238       1238       1239 \n",
       "DTW to GSP DEN to BIS GRR to MKE MKE to GRR DTW to GRB DTW to GSO GSO to DTW \n",
       "      1239       1240       1244       1244       1245       1245       1245 \n",
       "DEN to FAR DFW to TXK TXK to DFW MCI to DTW CLT to ILM ILM to CLT BWI to HOU \n",
       "      1246       1247       1250       1252       1257       1259       1262 \n",
       "HOU to BWI FAR to DEN FNT to ORD FAT to DEN ORD to FNT PDX to IAH DEN to FAT \n",
       "      1262       1263       1264       1265       1265       1265       1266 \n",
       "TPA to BDL IAH to PDX SJU to BOS BOS to SJU IND to IAH BDL to TPA BUF to MDW \n",
       "      1266       1271       1273       1274       1275       1276       1276 \n",
       "MDW to BUF LAS to PSP PSP to LAS CHS to EWR EWR to CHS LGA to JAX DEN to BZN \n",
       "      1278       1280       1281       1284       1285       1285       1286 \n",
       "BHM to DFW DFW to BHM PIT to CVG KTN to SEA SEA to KTN BWI to MKE MSP to DLH \n",
       "      1287       1287       1288       1289       1289       1290       1290 \n",
       "LAX to OXR OXR to LAX CVG to PIT DLH to MSP BZN to DEN MKE to BWI MSN to MKE \n",
       "      1291       1291       1292       1292       1293       1293       1293 \n",
       "JAX to LGA MKE to MSN DCA to STL STL to DCA LGA to PIT HOU to TUL TUL to HOU \n",
       "      1294       1294       1296       1296       1297       1300       1300 \n",
       "BNA to MCI ORD to GSP MCO to CVG CVG to MCO DEN to HDN PDX to GEG GEG to PDX \n",
       "      1302       1302       1304       1305       1310       1311       1314 \n",
       "HDN to DEN MDW to IND DFW to SJT SJT to DFW MCI to BNA RDU to CVG FLL to DTW \n",
       "      1314       1314       1315       1316       1317       1317       1320 \n",
       "DTW to FLL DAY to DTW DTW to DAY RNO to OAK DTW to OMA OMA to DTW FAR to ORD \n",
       "      1321       1322       1322       1322       1324       1324       1327 \n",
       "MSP to SAN EWR to MHT IAD to SAN IND to LGA LGA to IND MCI to LAX MDW to SEA \n",
       "      1330       1331       1331       1331       1331       1331       1331 \n",
       "OAK to RNO SAN to IAD SAT to ELP IND to MDW ORD to SJC SAN to MSP SEA to JNU \n",
       "      1331       1331       1332       1333       1333       1333       1334 \n",
       "RSW to BWI BWI to RSW DTW to ELM ELM to DTW LGA to RIC CHS to ORD ORD to CHS \n",
       "      1335       1336       1336       1336       1336       1337       1337 \n",
       "ORD to TOL RIC to LGA TOL to ORD LAX to MCI FLL to DCA ORD to MBS DEN to JAC \n",
       "      1337       1337       1337       1338       1339       1339       1340 \n",
       "STL to HOU CMH to LAS HOU to JAN MBS to ORD DTW to EVV EVV to DTW ONT to SEA \n",
       "      1340       1341       1341       1341       1342       1342       1343 \n",
       "SEA to ONT ELP to AUS ELP to SAT ORD to FAR TYS to IAH JAN to HOU DFW to SMF \n",
       "      1343       1344       1344       1344       1344       1345       1346 \n",
       "JFK to CVG ORD to DBQ SMF to DFW HOU to STL SJC to ORD AUS to ELP DBQ to ORD \n",
       "      1346       1347       1347       1348       1348       1349       1349 \n",
       "MCI to MCO MCO to MCI DEN to RNO BWI to PBI GRR to ATL LAS to CMH ATL to GRR \n",
       "      1349       1349       1350       1351       1351       1351       1352 \n",
       "PDX to SAN SAN to PDX IAH to TYS MDW to RDU MHT to EWR OKC to HOU PBI to BWI \n",
       "      1352       1352       1353       1353       1353       1353       1353 \n",
       "RNO to DEN TPA to PBI CLE to BOS JFK to AUS AUS to JFK CLE to DTW RDU to MDW \n",
       "      1353       1353       1354       1356       1358       1359       1360 \n",
       "DCA to FLL SEA to MDW BOS to CLE RNO to SJC PBI to TPA BUR to JFK DFW to JAX \n",
       "      1361       1361       1362       1364       1365       1366       1366 \n",
       "HOU to OKC JAX to DFW JFK to BUR MSP to MDW DTW to RDU RDU to DTW GFK to MSP \n",
       "      1366       1366       1366       1367       1368       1368       1371 \n",
       "MSP to GFK SJC to RNO SJC to SLC SLC to SJC JAX to BNA ORD to CAE PVD to MDW \n",
       "      1371       1371       1372       1372       1373       1373       1373 \n",
       "DFW to BUR BUR to DFW OGG to KOA MDW to PVD BNA to JAX BOS to LAS LAS to BOS \n",
       "      1375       1376       1379       1380       1382       1383       1383 \n",
       "CVG to DEN DEN to CVG CAE to IAD CVG to GRR DFW to SDF SDF to DFW SLC to STL \n",
       "      1384       1384       1386       1386       1386       1386       1386 \n",
       "STL to SLC GRR to CVG ATL to PVD IAD to IAH IAH to PBI PBI to IAH BUR to SEA \n",
       "      1386       1387       1389       1389       1389       1389       1390 \n",
       "CIC to SFO PVD to ATL SEA to BUR CLE to JFK JFK to CLE PHX to COS SFO to CIC \n",
       "      1390       1390       1390       1392       1392       1392       1392 \n",
       "COS to PHX HOU to TPA ATL to DHN BDL to IAD DHN to ATL DFW to MOB DTW to ERI \n",
       "      1393       1396       1397       1397       1397       1398       1398 \n",
       "ERI to DTW MOB to DFW BNA to LAX DFW to LRD DCA to BNA LRD to DFW BNA to DCA \n",
       "      1398       1399       1400       1400       1401       1401       1403 \n",
       "LNK to ORD DEN to DSM ORD to LNK MSP to GRB LAN to ORD ORD to LAN LAS to PIT \n",
       "      1403       1404       1407       1408       1409       1409       1411 \n",
       "PIT to LAS TPA to HOU TUS to SAN CHS to LGA SAN to TUS LGA to CHS MCO to RSW \n",
       "      1411       1411       1412       1413       1413       1414       1414 \n",
       "RSW to MCO HOU to LAX LAX to BNA SNA to PDX ATL to SYR SYR to ATL IAH to MOB \n",
       "      1414       1416       1418       1418       1419       1419       1420 \n",
       "MOB to IAH PDX to SNA IAH to IAD MDW to ISP TYS to DTW ABE to ORD LAX to HOU \n",
       "      1420       1421       1422       1422       1424       1425       1426 \n",
       "ORD to ABE CLT to SFO ISP to MDW DEN to DCA DCA to DEN FSD to DEN SFO to CLT \n",
       "      1426       1427       1427       1428       1429       1429       1429 \n",
       "ATL to CRW CRW to ATL GRB to MSP CLT to SAV MEM to MCO CLE to IAD SAV to CLT \n",
       "      1430       1430       1431       1432       1432       1433       1433 \n",
       "CLT to BUF MCO to MEM BUF to CLT DFW to GSP IAD to CLE IAH to XNA XNA to IAH \n",
       "      1434       1434       1435       1435       1435       1435       1435 \n",
       "GEG to DEN GSP to DFW DTW to MCI MSP to MSN CLT to PVD DFW to MFE MSN to MSP \n",
       "      1436       1436       1438       1438       1439       1439       1439 \n",
       "PVD to CLT DEN to GEG JFK to MSP MFE to DFW MSP to JFK JAC to DEN MKE to DEN \n",
       "      1439       1440       1441       1441       1441       1443       1449 \n",
       "DTW to TPA TPA to DTW IND to PHX CLT to LAX MSY to ORD PHX to IND HOU to LAS \n",
       "      1452       1452       1457       1458       1458       1458       1460 \n",
       "LAX to CLT MBS to DTW TYS to MEM ATL to SNA LAS to HOU SNA to ATL BRO to IAH \n",
       "      1460       1460       1460       1461       1461       1463       1464 \n",
       "LGA to TPA IAH to BRO TPA to LGA CLT to MSY DTW to MBS BUF to EWR BWI to SDF \n",
       "      1464       1465       1465       1466       1468       1469       1474 \n",
       "DEN to FSD PHL to SJU SJU to PHL MDW to MSP ATL to CSG CSG to ATL EWR to BUF \n",
       "      1474       1474       1475       1476       1481       1481       1481 \n",
       "SDF to BWI MCO to HPN HPN to MCO JAC to SLC SLC to JAC SLC to TUS TUS to SLC \n",
       "      1483       1484       1485       1485       1485       1485       1485 \n",
       "CVG to MCI MCI to CVG BHM to ORD LGB to SEA HOU to BNA SEA to LGB MSP to PDX \n",
       "      1491       1491       1497       1499       1500       1500       1501 \n",
       "ORD to MSY PDX to MSP BNA to HOU MSY to CLT DFW to TYS TYS to DFW DTW to BUF \n",
       "      1502       1502       1504       1504       1505       1506       1508 \n",
       "BUF to DTW ORD to BHM PIT to DTW OKC to PHX BDL to DTW GRR to MSP PHX to OKC \n",
       "      1510       1511       1511       1513       1516       1516       1516 \n",
       "COS to ORD DTW to FNT FNT to DTW CVG to LEX ORD to COS IAH to JAX CVG to JFK \n",
       "      1519       1519       1522       1525       1525       1529       1532 \n",
       "DEN to CPR CPR to DEN LEX to CVG JAX to IAH JFK to LGB CLT to ORF MFR to PDX \n",
       "      1533       1536       1539       1541       1541       1543       1543 \n",
       "PDX to MFR DEN to ONT LGB to JFK ONT to DEN EUG to PDX PDX to EUG ORD to MDT \n",
       "      1543       1544       1544       1544       1551       1551       1552 \n",
       "DCA to TPA TPA to DCA DTW to PIT MSP to BOS DTW to BDL MSY to MCO MCO to MSY \n",
       "      1554       1554       1558       1563       1565       1566       1568 \n",
       "LSE to ORD ORD to LSE LAS to SAT SAT to LAS EWR to RIC RIC to EWR EKO to SLC \n",
       "      1571       1572       1573       1575       1576       1576       1577 \n",
       "PDX to DFW DFW to PDX ICT to DEN TPA to IND SLC to EKO EWR to SJU FLL to ORD \n",
       "      1577       1578       1578       1578       1579       1580       1581 \n",
       "JAX to EWR SJU to EWR DEN to ICT ORD to FLL PHL to CVG DFW to TYR TYR to DFW \n",
       "      1581       1582       1583       1583       1583       1585       1585 \n",
       "DEN to MKE IND to CLT IND to TPA MTJ to DEN DEN to MTJ IAH to ICT ICT to IAH \n",
       "      1587       1587       1587       1591       1592       1594       1594 \n",
       "EWR to JAX MDT to ORD ONT to SFO PSC to SLC SFO to ONT SLC to PSC DTW to MSN \n",
       "      1596       1598       1599       1600       1600       1602       1603 \n",
       "MSN to DTW STL to LGA LGA to STL LGA to MEM MHT to MCO MCO to MHT DTW to LAX \n",
       "      1603       1603       1604       1605       1605       1606       1608 \n",
       "MEM to LGA ATL to SWF RDU to BNA SBA to PHX SWF to ATL PHX to FAT PHX to SBA \n",
       "      1608       1617       1617       1617       1617       1618       1618 \n",
       "RDM to PDX SLC to CVG MDW to FLL PDX to RDM FLL to MDW BNA to RDU IAD to LAS \n",
       "      1619       1620       1621       1621       1622       1623       1623 \n",
       "LGB to PHX PHX to LGB FAT to PHX LAS to IAD BWI to LAS MSP to STL CVG to SLC \n",
       "      1623       1624       1625       1625       1626       1626       1627 \n",
       "BIL to DEN DEN to TUL LAS to BWI ALB to ORD JFK to SAN SAN to JFK DEN to BIL \n",
       "      1628       1628       1628       1630       1630       1630       1631 \n",
       "LGB to OAK TUL to DEN OAK to LGB ORD to ALB BOS to MSP SFO to PSP DTW to SBN \n",
       "      1631       1631       1632       1632       1635       1636       1638 \n",
       "PSP to SFO SBN to DTW SEA to HNL LAN to DTW DTW to LAN HNL to SEA MHT to MDW \n",
       "      1638       1638       1638       1641       1642       1643       1643 \n",
       "MOD to SFO MSP to GRR CMH to EWR LAS to STL MDW to MHT STL to LAS EWR to CMH \n",
       "      1643       1645       1646       1647       1649       1651       1653 \n",
       "MCO to RDU CLE to DFW CLE to LAS LEX to DTW JAX to PHL DTW to LEX ONT to SLC \n",
       "      1655       1656       1656       1656       1657       1658       1658 \n",
       "PIH to SLC SLC to PIH SLC to SMF SMF to SLC MSP to IND SLC to ONT DFW to CLE \n",
       "      1659       1660       1660       1660       1661       1661       1665 \n",
       "PHL to JAX SFO to MOD LAS to CLE TUS to IAH IAH to TUS CVG to PHL MKE to IAH \n",
       "      1665       1665       1667       1669       1670       1671       1671 \n",
       "BUR to SLC DEN to EGE IAH to MKE EGE to DEN LAS to IND SLC to BUR IND to LAS \n",
       "      1673       1673       1673       1674       1674       1674       1675 \n",
       "ORF to BWI STL to BWI PHX to HOU IAD to RDU LAX to SMX RDD to SFO CMH to BWI \n",
       "      1675       1676       1677       1679       1679       1680       1681 \n",
       "SMX to LAX BWI to STL DEN to TPA BWI to CMH BWI to ORF SFO to RDD IAD to DTW \n",
       "      1681       1682       1682       1683       1683       1683       1684 \n",
       "SDF to MDW DAL to OKC LAX to STL OKC to DAL STL to LAX MDW to SDF TPA to DEN \n",
       "      1685       1686       1686       1687       1687       1690       1692 \n",
       "CLE to MSP CMH to DFW DFW to CMH JFK to RIC TPA to BNA CAE to ORD STL to MSP \n",
       "      1693       1694       1694       1694       1695       1696       1696 \n",
       "ORD to JAX IND to MSP RIC to JFK DSM to DEN JAX to ORD EWR to STL DTW to IAD \n",
       "      1697       1700       1703       1704       1704       1707       1708 \n",
       "MDW to SAN SAN to MDW IAD to CAE MSP to PHL IAH to PIT ORD to SAT DFW to HSV \n",
       "      1708       1708       1709       1709       1713       1713       1714 \n",
       "CWA to ORD ORD to CWA BOS to RSW RSW to BOS HSV to DFW IND to EWR MDW to OAK \n",
       "      1715       1715       1716       1716       1717       1717       1719 \n",
       "PIT to IAH BNA to TPA IAH to JAN OAK to MDW JAN to IAH EWR to IND HOU to PHX \n",
       "      1719       1720       1720       1720       1721       1722       1722 \n",
       "RDU to IAD ORD to FSD COS to IAH IAH to COS LAX to MCO MCO to LAX STL to EWR \n",
       "      1722       1724       1725       1725       1725       1725       1725 \n",
       "BWI to IAH IAH to BWI ATL to OMA DEN to MEM LAS to CLT MEM to DEN OMA to ATL \n",
       "      1728       1728       1730       1730       1730       1731       1731 \n",
       "ROA to ATL ATL to ROA IAH to PHL LAX to AUS PHL to IAH AUS to LAX CLT to LAS \n",
       "      1731       1732       1732       1732       1732       1733       1734 \n",
       "RDU to MCO DFW to ONT FCA to SLC DTW to MKE ONT to DFW SLC to FCA BOS to PBI \n",
       "      1738       1741       1741       1742       1742       1742       1743 \n",
       "FAR to MSP MSP to FAR CVG to MSP IAD to TPA PBI to BOS DFW to OMA OMA to DFW \n",
       "      1743       1744       1745       1746       1746       1747       1748 \n",
       "PHL to MSP SFO to SBP PHX to PSP PSP to PHX HOU to MCO BOI to SFO DTW to JFK \n",
       "      1749       1751       1752       1752       1753       1754       1754 \n",
       "BDL to MCO MCO to BDL MCO to HOU SBP to SFO MSP to CVG IAH to IND MCI to STL \n",
       "      1755       1758       1758       1758       1760       1763       1763 \n",
       "CLT to RSW RSW to CLT SFO to BOI XNA to ATL ATL to XNA FSD to ORD SLC to TWF \n",
       "      1765       1765       1766       1768       1769       1770       1772 \n",
       "DFW to MAF MAF to DFW LAX to SAT MCO to BNA TPA to BOS SAT to LAX SLC to JFK \n",
       "      1777       1778       1781       1782       1782       1783       1784 \n",
       "BOS to TPA STL to MCI ORD to DAY IDA to SLC DTW to TYS SLC to IDA ATL to MDT \n",
       "      1785       1785       1786       1787       1788       1788       1789 \n",
       "EWR to IAD MDT to ATL ORD to PVD IAD to EWR DFW to ICT PVD to ORD ICT to DFW \n",
       "      1789       1789       1789       1790       1792       1792       1794 \n",
       "JFK to SLC ATL to CMH BNA to MCO EWR to MCI DAY to ORD MCI to EWR BOS to IAH \n",
       "      1795       1796       1798       1798       1799       1799       1800 \n",
       "RIC to CLT CLT to RIC LIT to ORD ORD to LIT CMH to ATL TRI to ATL ATL to TRI \n",
       "      1800       1801       1806       1806       1808       1808       1809 \n",
       "JAX to FLL TWF to SLC EWR to BNA FLL to JAX MSP to CLT RNO to SLC SAT to ORD \n",
       "      1809       1810       1812       1812       1814       1814       1815 \n",
       "ATL to SHV CLT to MSP SHV to ATL SLC to RNO PWM to JFK DFW to LAW IAH to BOS \n",
       "      1816       1816       1817       1817       1818       1822       1822 \n",
       "JFK to PWM JFK to SYR DFW to FSM SYR to JFK FSM to DFW LAW to DFW SNA to IAH \n",
       "      1824       1824       1825       1825       1826       1826       1826 \n",
       "MIA to TPA TPA to MIA DFW to SPS JFK to CLT BDL to CLT CLT to BDL SPS to DFW \n",
       "      1829       1829       1831       1833       1834       1834       1834 \n",
       "BNA to EWR ORF to CLT DCA to CVG MSO to SLC DCA to MCO MCO to DCA SLC to MSO \n",
       "      1836       1836       1841       1841       1845       1845       1845 \n",
       "JFK to DTW SEA to JFK ATL to MYR MYR to ATL JFK to SEA CVG to BOS CLT to JFK \n",
       "      1848       1852       1853       1854       1855       1859       1866 \n",
       "FLG to PHX PBI to CLT PHX to FLG SJU to ATL CLT to PBI EWR to RSW IAH to SNA \n",
       "      1871       1871       1871       1872       1873       1873       1873 \n",
       "ATL to SJU RSW to EWR BUF to MCO MSP to CLE MCO to BUF ATL to OKC OKC to ATL \n",
       "      1874       1874       1876       1876       1877       1883       1884 \n",
       "ORD to RIC RIC to ORD SFO to RNO RNO to SFO RSW to JFK JFK to RSW DTW to CMH \n",
       "      1884       1884       1885       1886       1890       1893       1894 \n",
       "CID to DFW DFW to CID LAX to RNO PBI to PHL PHL to PBI MKE to DTW RNO to LAX \n",
       "      1897       1897       1898       1899       1903       1905       1905 \n",
       "TPA to IAD GPT to IAH IAH to GPT CMH to DTW MCO to CLE MSP to SFO LAS to MCI \n",
       "      1906       1908       1908       1909       1909       1909       1913 \n",
       "ATL to JFK CLE to MCO EUG to SFO SFO to EUG CLT to DEN DEN to CLT MSP to FSD \n",
       "      1915       1915       1919       1923       1925       1925       1925 \n",
       "MCI to LAS FSD to MSP MCO to MSP MSP to MCO HOU to CRP CRP to HOU FLL to IAH \n",
       "      1926       1927       1929       1931       1932       1933       1933 \n",
       "IAH to FLL LGA to PBI PBI to LGA ATL to AVL AVL to ATL BOS to CVG ORD to OKC \n",
       "      1933       1934       1934       1936       1936       1937       1937 \n",
       "EVV to ORD ORD to EVV SLC to GEG BIL to SLC GEG to SLC SLC to BIL YUM to PHX \n",
       "      1944       1944       1947       1950       1951       1953       1961 \n",
       "DFW to VPS PHX to YUM SFO to BUR TPA to IAH IAH to TPA ORD to LEX LEX to ORD \n",
       "      1962       1962       1962       1962       1963       1965       1967 \n",
       "VPS to DFW CLT to CLE LAX to DTW MSP to MCI TUL to ATL ATL to TUL CLE to CLT \n",
       "      1968       1971       1972       1976       1980       1981       1981 \n",
       "SFO to MSP IAH to RDU ILM to ATL ACT to DFW DFW to ACT MAF to DAL RDU to IAH \n",
       "      1984       1987       1991       1993       1994       1995       1995 \n",
       "ATL to ILM DAL to MAF ATL to MLB MLB to ATL ORD to BMI BMI to ORD BTR to IAH \n",
       "      1996       1997       2000       2000       2005       2007       2009 \n",
       "IAD to DFW IAH to BTR DFW to IAD CVG to DCA SNA to SLC SLC to SNA ORD to TYS \n",
       "      2009       2009       2010       2015       2015       2016       2017 \n",
       "LAS to TUS TYS to ORD DFW to PNS PNS to DFW SEA to EWR BZN to SLC SLC to BZN \n",
       "      2018       2019       2020       2024       2026       2029       2029 \n",
       "TUS to DEN EWR to SEA DFW to COS COS to DFW LAS to DTW MDW to PIT DTW to LAS \n",
       "      2029       2030       2034       2036       2036       2037       2038 \n",
       "OKC to ORD TUL to ORD ORD to TUL IAH to CVG OMA to MDW MDW to OMA CVG to IAH \n",
       "      2038       2038       2040       2045       2045       2047       2048 \n",
       "MDW to HOU HOU to MDW LAX to OGG OGG to LAX PHX to OMA ATL to GNV BOI to DEN \n",
       "      2052       2054       2054       2058       2060       2064       2064 \n",
       "GNV to ATL MDW to IAD OMA to PHX DEN to BOI PIT to MDW MCO to FLL IAD to MDW \n",
       "      2064       2065       2067       2069       2070       2074       2075 \n",
       "BOS to DEN RDU to BWI MSY to DAL ATL to CHA BWI to RDU DEN to IND CHA to ATL \n",
       "      2077       2078       2079       2082       2082       2083       2086 \n",
       "DFW to IND IND to DFW DEN to TUS IND to DEN FAT to LAS FLL to MCO DAL to MSY \n",
       "      2086       2087       2089       2089       2092       2095       2096 \n",
       "BWI to PHX IAH to OMA OMA to IAH LAS to FAT EWR to CLE PHX to BWI CLE to EWR \n",
       "      2098       2098       2099       2101       2103       2103       2105 \n",
       "ISP to MCO MCO to ISP CLT to BNA DEN to STL BNA to CLT DFW to DSM MCI to MSP \n",
       "      2105       2110       2126       2126       2127       2134       2136 \n",
       "DSM to DFW ATL to BDL DFW to PIT PHX to MCI PIT to DFW BDL to ATL IAH to CLE \n",
       "      2137       2140       2140       2140       2140       2141       2147 \n",
       "PVD to MCO MCO to PVD CLE to IAH ATL to HPN HPN to ATL MCI to PHX FAY to ATL \n",
       "      2148       2149       2151       2155       2158       2165       2172 \n",
       "ATL to FAY PHX to CLT PDX to ORD CLT to PHX DEN to EWR SLC to MSP MIA to BOS \n",
       "      2173       2183       2184       2186       2189       2191       2193 \n",
       "MSP to DCA MCO to MIA MIA to MCO BOS to MIA MSP to SLC DCA to MSP MIA to PHL \n",
       "      2194       2195       2195       2196       2197       2199       2203 \n",
       "MEM to DTW PHL to MIA BTV to JFK JFK to BTV EWR to DEN ATL to LEX MYR to CLT \n",
       "      2205       2206       2207       2207       2209       2213       2216 \n",
       "CLT to MYR LEX to ATL TPA to MDW ATL to MOB MOB to ATL CLE to MKE MKE to CLE \n",
       "      2217       2217       2218       2224       2225       2226       2226 \n",
       "MDW to TPA BOS to LAX DEN to BOS PHL to SFO PHL to LAX TUS to LAS JFK to PIT \n",
       "      2231       2234       2234       2237       2240       2242       2244 \n",
       "LAX to PHL PIT to JFK DFW to SJC AUS to ATL JFK to PHX ATL to AUS PHX to JFK \n",
       "      2246       2249       2250       2252       2254       2255       2256 \n",
       "BUR to SFO LAX to CLD CLD to LAX ABQ to IAH IAH to ABQ SJC to DFW SBN to ORD \n",
       "      2258       2258       2259       2261       2261       2264       2265 \n",
       "ORD to SBN EWR to DCA DAL to TUL JFK to ATL DAL to ELP TUL to DAL ATW to ORD \n",
       "      2266       2269       2277       2279       2282       2284       2288 \n",
       "ORD to ATW TPA to ORD DCA to EWR ELP to DAL SLC to ABQ BWI to ALB DFW to FLL \n",
       "      2288       2288       2289       2290       2293       2296       2296 \n",
       "ALB to BWI IAD to JFK FLL to DFW IND to MCO JFK to IAD SMF to SFO SFO to SMF \n",
       "      2297       2297       2298       2298       2299       2300       2301 \n",
       "BOS to DTW MCO to IND ORD to SGF ABQ to SLC DEN to RAP DFW to BWI RAP to DEN \n",
       "      2306       2306       2306       2307       2308       2309       2309 \n",
       "HOU to AUS IAH to TUL BWI to DFW ORD to SYR AUS to HOU TUL to IAH PDX to SJC \n",
       "      2310       2310       2311       2314       2319       2319       2322 \n",
       "SJC to PDX LIT to DAL DAL to LIT IAH to BHM SFO to ACV RDU to CLT CLT to RDU \n",
       "      2322       2327       2330       2333       2337       2339       2340 \n",
       "LAS to EWR SYR to ORD ACV to SFO BHM to IAH DFW to RDU RDU to DFW CLT to PIT \n",
       "      2341       2342       2343       2345       2347       2347       2349 \n",
       "EWR to LAS LGA to CMH ORD to AZO AZO to ORD CMH to LGA PHL to MHT HNL to SFO \n",
       "      2350       2350       2350       2352       2355       2357       2359 \n",
       "SFO to HNL MHT to PHL RST to ORD ORD to RST PIT to CLT DTW to BOS AGS to ATL \n",
       "      2359       2365       2365       2366       2376       2377       2380 \n",
       "ATL to AGS LAX to MDW SAN to IAH MSP to LAX MDW to LAX EWR to RDU IAH to SAN \n",
       "      2381       2388       2388       2389       2390       2391       2392 \n",
       "LAX to MSP IAH to SEA ORD to PDX RDU to EWR ABQ to LAX SEA to IAH ABQ to LAS \n",
       "      2392       2393       2394       2394       2395       2395       2402 \n",
       "ORD to CMI CMI to ORD LAS to ABQ SFO to FAT SFO to MRY DAB to ATL ATL to DAB \n",
       "      2404       2406       2408       2410       2410       2412       2413 \n",
       "LAX to ABQ SJU to MCO MCO to SJU STL to MCO MCO to STL DFW to HOU HOU to DFW \n",
       "      2415       2415       2420       2421       2422       2425       2425 \n",
       "JFK to ROC BWI to ISP ATL to TYS MRY to SFO STL to DEN TYS to ATL ORD to TVC \n",
       "      2425       2427       2428       2428       2430       2431       2435 \n",
       "ROC to JFK TVC to ORD BWI to BUF FAT to SFO ISP to BWI BUF to BWI LAX to BOS \n",
       "      2435       2436       2437       2438       2438       2439       2441 \n",
       "ORD to TPA PDX to SEA SEA to PDX ATL to GSP GSP to ATL MSP to IAH STL to DTW \n",
       "      2443       2449       2449       2450       2450       2451       2455 \n",
       "MEM to DFW MSP to LAS GJT to DEN LAS to MSP MCO to PIT IAH to MSP DEN to GJT \n",
       "      2458       2461       2463       2464       2465       2466       2469 \n",
       "PIT to MCO PDX to OAK DEN to DRO FLL to BOS SEA to MSP DRO to DEN MSP to SEA \n",
       "      2470       2471       2473       2473       2474       2475       2475 \n",
       "BOS to FLL OAK to PDX SMF to PDX ATL to TLH PDX to SMF ROC to ORD TLH to ATL \n",
       "      2476       2482       2482       2484       2484       2484       2484 \n",
       "ROC to ATL ATL to ROC BWI to BNA SGF to ORD ATL to CAE IAH to MCO MIA to LAX \n",
       "      2488       2489       2492       2492       2494       2494       2494 \n",
       "LAX to MIA SNA to SMF MCO to IAH SLC to LGB LGB to SLC DFW to MEM DFW to MSY \n",
       "      2495       2498       2499       2499       2500       2501       2501 \n",
       "MSY to DFW BNA to BWI SMF to SNA CAE to ATL ATL to BMI DFW to CRP CRP to DFW \n",
       "      2501       2502       2503       2508       2509       2509       2510 \n",
       "SAT to DEN BMI to ATL ATL to MGM AUS to ORD MGM to ATL ORD to AUS DTW to STL \n",
       "      2510       2511       2513       2514       2514       2515       2516 \n",
       "IAH to MCI JAX to CLT BNA to IAH EWR to MKE CLT to JAX MKE to EWR LIT to ATL \n",
       "      2516       2520       2522       2523       2524       2524       2526 \n",
       "ATL to LIT DTW to GRR MCI to IAH BNA to DEN PBI to JFK JFK to PBI BWI to CLE \n",
       "      2527       2527       2527       2529       2531       2534       2543 \n",
       "IAH to BNA ATL to PFN PFN to ATL SLC to SAN SAN to SLC ORD to ROC PHL to PVD \n",
       "      2547       2548       2548       2548       2549       2550       2550 \n",
       "DFW to AMA MSP to MEM SFO to PHL SNA to ORD AMA to DFW DEN to BNA MDW to CLE \n",
       "      2551       2551       2554       2554       2556       2556       2556 \n",
       "IND to DTW MIA to SJU SJU to MIA CLE to MDW CLE to BWI DFW to GRK DTW to MEM \n",
       "      2558       2559       2560       2561       2562       2562       2562 \n",
       "PVD to PHL GRK to DFW SFO to MFR MFR to SFO SEA to ATL HOU to SAT ATL to SEA \n",
       "      2563       2565       2570       2571       2571       2572       2574 \n",
       "MEM to CLT CLT to MEM ORD to MLI PHX to EWR MLI to ORD ORD to SNA SAT to HOU \n",
       "      2576       2578       2579       2579       2580       2580       2582 \n",
       "ATL to MLI MLI to ATL SFO to BOS SGU to SLC SLC to SGU LAX to PSP PSP to LAX \n",
       "      2590       2592       2594       2594       2594       2596       2597 \n",
       "EWR to PHX DFW to JAN DTW to IND JAN to DFW HSV to ATL IAH to OKC ATL to HSV \n",
       "      2601       2604       2605       2605       2622       2625       2627 \n",
       "OKC to IAH DEN to OKC CMH to MDW MDW to CMH DEN to SAT PHL to MDW DEN to BWI \n",
       "      2635       2636       2643       2644       2651       2652       2655 \n",
       "GRR to DTW IAH to SFO ABI to DFW DFW to ABI SFO to IAH BTR to ATL BWI to DEN \n",
       "      2655       2655       2660       2660       2660       2663       2664 \n",
       "MDW to PHL ATL to BTR DAL to AMA IAH to MFE MFE to IAH BOS to SFO AMA to DAL \n",
       "      2664       2665       2665       2665       2665       2668       2669 \n",
       "AUS to DEN TUS to DFW DFW to TUS LAS to IAH LBB to DAL DAL to LBB IAH to LAS \n",
       "      2673       2676       2677       2678       2679       2680       2682 \n",
       "SBP to LAX LAX to SBP ATL to JAN IAH to SLC SLC to IAH CLT to DTW LFT to IAH \n",
       "      2682       2684       2694       2696       2698       2701       2702 \n",
       "DTW to CLT IAH to LFT FLL to BWI JAN to ATL BNA to DTW BWI to FLL DTW to BNA \n",
       "      2703       2703       2704       2704       2708       2710       2712 \n",
       "STL to DAL DEN to AUS LGA to MSP SJC to ONT DAL to STL MSP to LGA DCA to RDU \n",
       "      2718       2719       2719       2719       2722       2723       2732 \n",
       "SFO to IAD MIA to IAH IAH to MIA JFK to MIA DTW to IAH IAH to DTW ONT to SJC \n",
       "      2732       2734       2735       2737       2740       2742       2742 \n",
       "MIA to JFK ATL to SDF PHX to STL SDF to ATL CVG to ATL MRY to LAX PHL to DTW \n",
       "      2743       2754       2755       2756       2758       2758       2760 \n",
       "IAD to CLT LAX to MRY STL to PHX SAT to PHX EWR to PBI PBI to EWR RDU to DCA \n",
       "      2762       2763       2763       2767       2769       2770       2772 \n",
       "MDW to BWI PHX to RNO EWR to SFO RNO to PHX DFW to XNA XNA to DFW AUS to PHX \n",
       "      2776       2776       2777       2779       2780       2781       2783 \n",
       "PHX to SAT ATL to ORF ORF to ATL PHX to AUS DTW to PHL DFW to DTW PHX to MDW \n",
       "      2783       2784       2784       2786       2791       2792       2795 \n",
       "DTW to DFW MDW to PHX DFW to TPA TPA to DFW BWI to MDW ATL to CVG DFW to MSP \n",
       "      2799       2800       2803       2804       2809       2810       2810 \n",
       "CLT to TPA TPA to CLT LAS to PHL SAN to SEA SEA to SAN PHL to LAS TPA to EWR \n",
       "      2811       2825       2829       2831       2833       2836       2837 \n",
       "EWR to TPA MEM to MSP OKC to DFW DFW to OKC GSO to ATL OKC to DEN MSP to DFW \n",
       "      2838       2845       2845       2846       2848       2848       2851 \n",
       "FAI to ANC SAN to ATL ATL to SAN BNA to DFW ATL to SLC ORD to SLC SEA to SNA \n",
       "      2853       2855       2857       2859       2860       2860       2860 \n",
       "DFW to BNA SNA to SEA BWI to BDL SLC to ORD ATL to CLE ATL to GSO SLC to ATL \n",
       "      2861       2862       2863       2863       2865       2866       2866 \n",
       "SUN to SLC ATL to BHM EWR to MIA MIA to EWR BHM to ATL MCI to DFW DFW to MCI \n",
       "      2870       2871       2873       2873       2876       2877       2878 \n",
       "BDL to BWI PHX to PHL PHL to PHX ABQ to DFW DFW to ABQ ORD to IAD DFW to ELP \n",
       "      2880       2883       2885       2888       2888       2891       2900 \n",
       "ELP to DFW SLC to SUN DEN to DTW DCA to IAH DFW to BTR DTW to DEN LGA to CLE \n",
       "      2901       2903       2913       2919       2919       2919       2920 \n",
       "BTR to DFW DTW to PHX PHX to DTW CLE to LGA IAH to DCA JFK to DCA DEN to IAD \n",
       "      2922       2928       2929       2936       2941       2941       2943 \n",
       "FLL to CLT IAD to ORD SAN to ORD HRL to HOU ORD to FWA FWA to ORD PHL to DEN \n",
       "      2947       2948       2948       2949       2956       2958       2961 \n",
       "HOU to HRL CLT to MIA LGA to DEN MIA to CLT SFO to PDX DEN to PHL FLL to PHL \n",
       "      2967       2970       2970       2970       2972       2975       2977 \n",
       "PHL to FLL DCA to DTW MIA to DCA IAD to DEN DTW to DCA DCA to MIA CLT to DCA \n",
       "      2977       2982       2982       2984       2986       2987       2988 \n",
       "SFO to SBA BNA to MDW MCO to DEN DCA to CLT ORD to ICT ICT to ORD DFW to LBB \n",
       "      2991       2993       2997       3001       3001       3005       3012 \n",
       "DEN to MCO LBB to DFW MDW to BNA DCA to JFK CVG to DTW BOS to DFW DFW to BOS \n",
       "      3015       3015       3016       3017       3023       3036       3036 \n",
       "FLL to TPA VPS to ATL ATL to VPS IAH to MEM SBA to SFO DEN to LGA TPA to FLL \n",
       "      3036       3045       3046       3046       3047       3051       3051 \n",
       "MDW to DTW ABQ to DAL MEM to IAH PDX to SFO CVG to EWR RDU to ORD EWR to CVG \n",
       "      3070       3078       3079       3088       3094       3094       3095 \n",
       "ATL to BNA BNA to ATL SFO to ATL DTW to CVG DEN to OAK DTW to BWI OAK to DEN \n",
       "      3096       3097       3098       3099       3100       3101       3101 \n",
       "EWR to MSP BWI to DTW DAL to ABQ XNA to ORD CLE to ATL ORD to XNA CLT to IAD \n",
       "      3103       3105       3106       3114       3115       3116       3126 \n",
       "BDL to ORD ATL to FNT FNT to ATL SLC to OAK SFO to EWR IAD to SFO ORD to RDU \n",
       "      3131       3132       3133       3134       3137       3139       3140 \n",
       "DFW to SLC MSP to EWR ATL to ICT ICT to ATL OAK to SLC FLL to LGA SLC to DFW \n",
       "      3143       3144       3146       3146       3146       3149       3149 \n",
       "LGA to FLL MCO to LGA LGA to MCO DEN to OMA DTW to MDW PHL to PIT ANC to FAI \n",
       "      3152       3156       3158       3169       3179       3188       3217 \n",
       "SGF to DFW DFW to SGF OMA to DEN ATL to SAT EWR to LAX SAT to ATL CVG to DFW \n",
       "      3228       3231       3231       3239       3239       3241       3244 \n",
       "DFW to CVG DFW to LIT LIT to DFW LAX to EWR ATL to MDW DFW to TUL ORD to PIA \n",
       "      3244       3245       3245       3249       3256       3256       3256 \n",
       "MDW to ATL PIA to ORD TUL to DFW MCO to CLT CLT to MCO PDX to SLC SLC to PDX \n",
       "      3257       3259       3260       3276       3277       3277       3289 \n",
       "CLT to FLL ORD to SAN ATL to SRQ SNA to DEN SMF to DEN SRQ to ATL DEN to SMF \n",
       "      3295       3308       3326       3326       3327       3327       3331 \n",
       "ORD to BDL DEN to SNA BOI to SLC MIA to ORD ORD to MIA MIA to DFW PHL to RDU \n",
       "      3335       3340       3342       3343       3343       3346       3347 \n",
       "DFW to MIA RDU to PHL SLC to BOI BUR to SJC SJC to BUR TPA to PHL BWI to TPA \n",
       "      3350       3363       3370       3377       3380       3380       3388 \n",
       "JFK to TPA PHL to TPA TPA to JFK IAH to LGA ORD to MKE TPA to BWI LGA to IAH \n",
       "      3390       3390       3395       3399       3400       3402       3418 \n",
       "BUF to ORD ORD to BUF ATL to GPT GPT to ATL BUR to SMF ATL to SFO MKE to MSP \n",
       "      3437       3437       3441       3441       3458       3462       3464 \n",
       "SMF to BUR BOS to MCO TUS to PHX MCO to DTW MCO to BOS DTW to MCO DFW to PHL \n",
       "      3466       3474       3474       3477       3478       3481       3483 \n",
       "PHL to DFW DFW to SFO SFO to DFW ONT to LAS ORD to SDF SDF to ORD LAS to ONT \n",
       "      3485       3486       3487       3494       3496       3497       3501 \n",
       "LAX to PDX PHX to MSP IND to ATL MSP to PHX ATL to IND PDX to LAX PIT to ORD \n",
       "      3503       3508       3515       3515       3517       3517       3521 \n",
       "CLT to PHL DFW to SAN SAN to DFW BOS to CLT SEA to SJC MKE to ORD SJC to SEA \n",
       "      3525       3526       3528       3533       3534       3541       3543 \n",
       "BWI to ORD PHL to CLT CLT to BOS ORD to BWI SJU to JFK PDX to LAS JFK to SJU \n",
       "      3545       3545       3551       3552       3558       3564       3565 \n",
       "MCO to MDW LAS to PDX MDW to MCO BUF to ATL ATL to BUF DFW to SHV SHV to DFW \n",
       "      3565       3568       3568       3575       3578       3579       3579 \n",
       "LGA to MIA MIA to LGA ATL to HOU HOU to ATL STL to DFW DFW to STL MKE to ATL \n",
       "      3586       3587       3593       3595       3597       3598       3606 \n",
       "ATL to MKE ORD to PIT MSP to MKE ORD to HPN HPN to ORD MHT to BWI ORD to GRB \n",
       "      3610       3611       3619       3624       3626       3628       3631 \n",
       "BWI to MHT GRB to ORD LGA to CVG SMF to SEA SEA to SMF CVG to LGA OAK to SNA \n",
       "      3633       3634       3635       3638       3642       3645       3645 \n",
       "BWI to CLT SNA to OAK SNA to DFW DFW to SNA SJC to DEN JFK to ORD JFK to BUF \n",
       "      3652       3652       3656       3669       3670       3672       3674 \n",
       "BUF to JFK CLT to BWI DEN to SJC ORD to JFK PHX to TUS AUS to IAH GRR to ORD \n",
       "      3679       3684       3684       3684       3684       3691       3696 \n",
       "ONT to OAK ORD to GRR OAK to ONT IAH to AUS SLC to SFO IAH to CLT CLT to IAH \n",
       "      3697       3699       3701       3704       3705       3709       3711 \n",
       "BNA to ORD HOU to MSY DFW to EWR EWR to DFW DAL to IAH IAH to DAL MSY to HOU \n",
       "      3725       3726       3728       3729       3730       3730       3737 \n",
       "SAT to IAH STL to MDW IAH to SAT MEM to ORD SLC to SEA SEA to SLC BOS to RDU \n",
       "      3755       3755       3760       3769       3771       3774       3777 \n",
       "ORD to MEM MDW to STL CLT to DFW DFW to CLT ORD to MCO ONT to SMF SMF to ONT \n",
       "      3782       3784       3796       3797       3798       3803       3814 \n",
       "MDW to LAS LAS to MDW LAX to IAD MCI to ORD IAD to BOS LAX to IAH MCI to MDW \n",
       "      3832       3836       3836       3837       3846       3849       3850 \n",
       "IAH to LAX EWR to BOS RDU to BOS BOS to EWR MDW to MCI SAV to ATL ATL to SAV \n",
       "      3867       3870       3870       3883       3885       3888       3892 \n",
       "ORD to MCI ATL to CAK CAK to ATL ORD to BNA DFW to SEA SEA to DFW DAL to MCI \n",
       "      3900       3902       3905       3905       3915       3917       3922 \n",
       "CID to ORD MCI to DAL PDX to PHX PHX to PDX SFO to SNA STL to ATL ATL to STL \n",
       "      3931       3943       3946       3948       3955       3956       3958 \n",
       "DCA to DFW DFW to DCA IAH to EWR MCO to ORD DEN to ASE PVD to BWI BWI to PVD \n",
       "      3965       3965       3970       3978       3979       3981       3988 \n",
       "EWR to IAH RDU to JFK ASE to DEN SNA to SFO FAT to LAX SJC to PHX LAX to FAT \n",
       "      3989       3989       3992       3994       4022       4027       4045 \n",
       "OMA to ORD PHX to SJC LAS to SMF SFO to SLC SMF to LAS IAD to LAX MCO to IAD \n",
       "      4045       4050       4054       4064       4064       4092       4094 \n",
       "ORD to OMA IND to ORD ORD to IND DFW to MCO MCO to DFW LAS to SNA SMF to PHX \n",
       "      4097       4102       4103       4114       4114       4115       4115 \n",
       "SNA to LAS PHX to SMF RDU to LGA ELP to PHX ATL to MCI MCI to ATL LAX to TUS \n",
       "      4130       4134       4135       4136       4140       4140       4141 \n",
       "LAS to SJC JFK to RDU PHX to OAK ORD to CID PHX to ELP PHF to ATL ATL to PHF \n",
       "      4148       4149       4150       4154       4155       4157       4158 \n",
       "PIT to PHL IAH to PHX SJC to LAS BOS to IAD DEN to COS TUS to LAX ATL to RSW \n",
       "      4169       4176       4176       4184       4188       4190       4193 \n",
       "COS to DEN RSW to ATL PHX to IAH OAK to PHX IAD to MCO IAH to MSY STL to ORD \n",
       "      4193       4196       4197       4213       4244       4248       4256 \n",
       "MSY to IAH PBI to ATL ATL to PBI DEN to ABQ ABQ to DEN MDW to DEN DEN to MDW \n",
       "      4257       4262       4263       4309       4318       4325       4338 \n",
       "SEA to GEG DAY to ATL ATL to DAY GEG to SEA DTW to EWR EWR to DTW LGA to RDU \n",
       "      4346       4369       4372       4372       4374       4419       4423 \n",
       "ATL to PNS PNS to ATL FLL to EWR EWR to FLL JFK to LAS LAS to JFK ATL to CHS \n",
       "      4429       4430       4431       4432       4471       4481       4492 \n",
       "LAS to RNO CHS to ATL SBA to LAX RNO to LAS DSM to ORD ATL to RIC RIC to ATL \n",
       "      4492       4494       4498       4508       4525       4532       4536 \n",
       "LAX to SBA ATL to PIT PIT to ATL ORD to STL DEN to PDX ORD to CLE CLE to ORD \n",
       "      4554       4555       4557       4558       4563       4567       4569 \n",
       "SMF to SAN IAH to DEN DTW to LGA LGA to DTW ATL to PHX SAN to SMF PHX to ATL \n",
       "      4573       4584       4594       4601       4603       4603       4607 \n",
       "SEA to ORD OAK to LAS PDX to DEN ORD to CMH LAS to OAK ATL to MSY MSY to ATL \n",
       "      4608       4642       4654       4664       4693       4695       4695 \n",
       "JFK to FLL FLL to JFK BUR to PHX PHX to BUR LAS to ATL ATL to LAS DEN to IAH \n",
       "      4696       4699       4751       4754       4761       4766       4788 \n",
       "BWI to BOS BOS to BWI ORD to SEA ORD to DSM ATL to MEM MEM to ATL SFO to PHX \n",
       "      4795       4797       4802       4823       4866       4870       4870 \n",
       "ORD to MSN PHX to SFO BWI to MCO MCO to BWI MSN to ORD DTW to MSP DFW to LAS \n",
       "      4878       4884       4926       4926       4943       4947       4956 \n",
       "LGA to CLT CMH to ORD LAS to DFW HNL to LAX LAX to HNL DAL to SAT MCO to EWR \n",
       "      4958       4959       4959       4963       4964       4973       4977 \n",
       "EWR to MCO IAH to ATL SAT to DAL DEN to MSP OAK to SEA SEA to LAS SEA to PHX \n",
       "      4978       4989       4999       5011       5047       5051       5062 \n",
       "LAS to SEA PHX to SEA SEA to OAK DEN to MCI ORD to PHX PHX to ORD LAS to BUR \n",
       "      5065       5072       5095       5111       5124       5130       5154 \n",
       "BUR to LAS LAX to SLC SLC to LAX PHX to ABQ LAS to ORD SJC to SAN MCI to DEN \n",
       "      5162       5178       5178       5234       5235       5254       5256 \n",
       "ORD to LAS SAN to DEN ABQ to PHX ATL to IAH SAN to SJC ATL to IAD CLT to LGA \n",
       "      5257       5263       5265       5268       5286       5309       5339 \n",
       "DEN to SAN IAD to ATL DFW to LGA ATL to MSP MSP to ATL MCO to JFK LGA to DFW \n",
       "      5358       5362       5365       5368       5369       5371       5372 \n",
       "JFK to MCO SLC to LAS MSP to DEN SFO to DEN LAS to SLC SJC to SNA PHX to DFW \n",
       "      5373       5373       5374       5374       5378       5383       5387 \n",
       "DFW to PHX SNA to SJC LAX to ATL ATL to LAX SEA to SFO ATL to RDU SAT to DFW \n",
       "      5388       5401       5402       5406       5409       5411       5413 \n",
       "DFW to SAT SFO to SEA RDU to ATL OAK to BUR BUR to OAK MSP to DTW ORD to IAH \n",
       "      5414       5414       5418       5420       5423       5459       5463 \n",
       "SNA to PHX PHX to SNA AUS to DFW DFW to AUS ORD to SFO DFW to IAH IAH to DFW \n",
       "      5477       5497       5506       5508       5524       5526       5539 \n",
       "AUS to DAL DAL to AUS DEN to SFO ATL to DTW DTW to ATL PHX to ONT ONT to PHX \n",
       "      5573       5583       5604       5612       5612       5627       5628 \n",
       "CLT to ORD IAH to ORD ATL to JAX JAX to ATL LAX to SMF SMF to LAX ATL to DEN \n",
       "      5639       5651       5656       5656       5692       5717       5726 \n",
       "SFO to ORD ORD to DEN SAN to OAK OAK to SAN LAS to SAN SAN to LAS DEN to ATL \n",
       "      5746       5773       5831       5851       5895       5902       5903 \n",
       "EWR to CLT CLT to EWR BWI to ATL ATL to BWI BOS to ATL ATL to BOS ORD to CVG \n",
       "      5945       5953       5972       5978       5982       5990       5993 \n",
       "ORD to CLT CVG to ORD DEN to ORD SEA to ANC ANC to SEA SFO to SAN BOS to PHL \n",
       "      6013       6014       6051       6256       6257       6312       6375 \n",
       "PHL to BOS DEN to SEA DFW to LAX LAX to DFW JFK to SFO MIA to ATL SEA to DEN \n",
       "      6384       6414       6571       6571       6591       6623       6623 \n",
       "ATL to MIA ATL to CLT CLT to ATL ORD to PHL SAN to SFO SEA to LAX LAX to SEA \n",
       "      6628       6720       6722       6733       6769       6865       6876 \n",
       "ATL to PHL PHL to ATL SFO to JFK ORD to LAX LAS to SFO SFO to LAS PHL to MCO \n",
       "      6915       6918       6971       6974       6994       7007       7032 \n",
       "MCO to PHL PHL to ORD BOS to ORD ORD to BOS SLC to PHX ORD to EWR PHX to SLC \n",
       "      7034       7078       7085       7133       7168       7174       7177 \n",
       "ATL to DCA DCA to ATL ATL to TPA TPA to ATL LAX to ORD BOS to JFK ITO to HNL \n",
       "      7289       7296       7311       7313       7333       7372       7386 \n",
       "DCA to ORD ORD to DCA ORD to ATL EWR to ORD JFK to BOS DTW to ORD OAK to LAX \n",
       "      7427       7430       7449       7505       7513       7553       7578 \n",
       "SAN to PHX LAX to OAK ORD to DTW PHX to SAN ATL to FLL FLL to ATL ATL to ORD \n",
       "      7581       7583       7602       7609       7665       7666       7677 \n",
       "HNL to ITO ATL to EWR LAX to JFK EWR to ATL JFK to LAX ORD to DFW DEN to LAS \n",
       "      7685       8028       8058       8060       8078       8093       8147 \n",
       "DFW to ORD LAS to DEN DFW to DEN DEN to DFW DEN to PHX PHX to DEN HNL to KOA \n",
       "      8165       8165       8193       8268       8391       8402       8745 \n",
       "DEN to LAX LAX to DEN BOS to DCA DEN to SLC LAX to SJC DCA to BOS SJC to LAX \n",
       "      8811       8894       8899       8905       8908       8929       8939 \n",
       "KOA to HNL SLC to DEN MSP to ORD MCO to ATL ATL to MCO ORD to MSP HOU to DAL \n",
       "      9038       9269       9356       9611       9613       9688       9766 \n",
       "DAL to HOU ATL to DFW DFW to ATL LAX to PHX PHX to LAX PHX to LAS LIH to HNL \n",
       "      9790       9847       9849       9897       9992      10337      10407 \n",
       "ATL to LGA LGA to ATL LAS to PHX HNL to LIH ORD to LGA LGA to ORD LGA to DCA \n",
       "     10506      10507      10626      10769      10770      10862      11063 \n",
       "DCA to LGA SAN to LAX LAX to SAN LAS to LAX LAX to LAS HNL to OGG BOS to LGA \n",
       "     11102      11224      11257      11729      11773      12014      12029 \n",
       "LGA to BOS OGG to HNL LAX to SFO SFO to LAX \n",
       "     12035      12383      13390      13788 "
      ]
     },
     "metadata": {},
     "output_type": "display_data"
    }
   ],
   "source": [
    "sort(table(paste(myDF$Origin, \"to\", myDF$Dest)))"
   ]
  },
  {
   "cell_type": "markdown",
   "metadata": {},
   "source": [
    "#### what are the first 6 values from the above table?"
   ]
  },
  {
   "cell_type": "code",
   "execution_count": 33,
   "metadata": {
    "run_control": {
     "frozen": false,
     "read_only": false
    }
   },
   "outputs": [
    {
     "data": {
      "text/plain": [
       "\n",
       "ABE to BHM ACV to SJC ACY to JFK ALB to BOS ALB to SBN AMA to TUL \n",
       "         1          1          1          1          1          1 "
      ]
     },
     "metadata": {},
     "output_type": "display_data"
    }
   ],
   "source": [
    "head(sort(table(paste(myDF$Origin, \"to\", myDF$Dest))))"
   ]
  },
  {
   "cell_type": "markdown",
   "metadata": {},
   "source": [
    "#### what are the laste 6 values from the above table? "
   ]
  },
  {
   "cell_type": "code",
   "execution_count": 34,
   "metadata": {
    "run_control": {
     "frozen": false,
     "read_only": false
    },
    "scrolled": true
   },
   "outputs": [
    {
     "data": {
      "text/plain": [
       "\n",
       "HNL to OGG BOS to LGA LGA to BOS OGG to HNL LAX to SFO SFO to LAX \n",
       "     12014      12029      12035      12383      13390      13788 "
      ]
     },
     "metadata": {},
     "output_type": "display_data"
    }
   ],
   "source": [
    "tail(sort(table(paste(myDF$Origin, \"to\", myDF$Dest))))"
   ]
  },
  {
   "cell_type": "markdown",
   "metadata": {},
   "source": [
    "#### what are the 20 most such popular pairs?"
   ]
  },
  {
   "cell_type": "code",
   "execution_count": 35,
   "metadata": {
    "run_control": {
     "frozen": false,
     "read_only": false
    },
    "scrolled": true
   },
   "outputs": [
    {
     "data": {
      "text/plain": [
       "\n",
       "PHX to LAS LIH to HNL ATL to LGA LGA to ATL LAS to PHX HNL to LIH ORD to LGA \n",
       "     10337      10407      10506      10507      10626      10769      10770 \n",
       "LGA to ORD LGA to DCA DCA to LGA SAN to LAX LAX to SAN LAS to LAX LAX to LAS \n",
       "     10862      11063      11102      11224      11257      11729      11773 \n",
       "HNL to OGG BOS to LGA LGA to BOS OGG to HNL LAX to SFO SFO to LAX \n",
       "     12014      12029      12035      12383      13390      13788 "
      ]
     },
     "metadata": {},
     "output_type": "display_data"
    }
   ],
   "source": [
    "tail(sort(table(paste(myDF$Origin, \"to\", myDF$Dest))), 20)"
   ]
  },
  {
   "cell_type": "markdown",
   "metadata": {},
   "source": [
    "#### How many origin-to-destination paths were only flown one time (each) in 2008?"
   ]
  },
  {
   "cell_type": "code",
   "execution_count": 36,
   "metadata": {
    "run_control": {
     "frozen": false,
     "read_only": false
    }
   },
   "outputs": [
    {
     "data": {
      "text/html": [
       "285"
      ],
      "text/latex": [
       "285"
      ],
      "text/markdown": [
       "285"
      ],
      "text/plain": [
       "[1] 285"
      ]
     },
     "metadata": {},
     "output_type": "display_data"
    }
   ],
   "source": [
    "sum(table(paste(myDF$Origin, \"to\", myDF$Dest))==1) # \n",
    "# sum(table(paste(myDF$Origin, \"to\", myDF$Dest)==1)) # here single bracket removal can change a lot"
   ]
  },
  {
   "cell_type": "markdown",
   "metadata": {},
   "source": [
    "#### Find the average departure delay at each airport"
   ]
  },
  {
   "cell_type": "code",
   "execution_count": 37,
   "metadata": {
    "run_control": {
     "frozen": false,
     "read_only": false
    },
    "scrolled": true
   },
   "outputs": [
    {
     "name": "stdout",
     "output_type": "stream",
     "text": [
      "         ABE          ABI          ABQ          ABY          ACK          ACT \n",
      " 8.012223890  6.880397402  7.440110738 10.962894249 29.854415274  5.207399687 \n",
      "         ACV          ACY          ADK          ADQ          AEX          AGS \n",
      "15.202118762 18.548672566 13.652173913  5.739064857  8.754432624 11.804154303 \n",
      "         AKN          ALB          ALO          AMA          ANC          ASE \n",
      "21.938596491  9.012564335  6.327137546  8.112769711  6.969479260 12.865643790 \n",
      "         ATL          ATW          AUS          AVL          AVP          AZO \n",
      "11.520395856  9.231488138  7.424662017 10.025116279 12.551573427  8.655678670 \n",
      "         BDL          BET          BFL          BGM          BGR          BHM \n",
      " 7.593445803  7.858987090  1.667415730  5.980000000 12.536777897  9.156193665 \n",
      "         BIL          BIS          BJI          BLI          BMI          BNA \n",
      " 0.744399642  3.300932091 -2.698630137 -5.529411765 11.820008737 10.146187187 \n",
      "         BOI          BOS          BPT          BQK          BQN          BRO \n",
      " 6.874652470  9.603785141  0.350194553  6.241455347  5.339735099  4.811481219 \n",
      "         BRW          BTM          BTR          BTV          BUF          BUR \n",
      "16.331926864 -2.878260870 11.462662338 11.906676449 10.441367761  6.871367951 \n",
      "         BWI          BZN          CAE          CAK          CDC          CDV \n",
      "10.136788701  4.420961455 12.850747737 10.017789942 -0.701219512  8.346045198 \n",
      "         CEC          CHA          CHO          CHS          CIC          CID \n",
      "24.186206897  7.367365337  7.866004963 10.480281792 17.157740279 10.445054330 \n",
      "         CLD          CLE          CLL          CLT          CMH          CMI \n",
      " 1.879629630  9.094109797  6.083584337  9.447532158  9.738679923 10.649696049 \n",
      "         CMX          COD          COS          CPR          CRP          CRW \n",
      "10.358422939 -3.973549488  6.508432073  1.185863874  6.214842228  8.948826008 \n",
      "         CSG          CVG          CWA          DAB          DAL          DAY \n",
      " 9.692041522  9.070383003 11.238566131 11.412110727 10.955640745  7.069919647 \n",
      "         DBQ          DCA          DEN          DFW          DHN          DLG \n",
      " 7.847929936  6.313124695  9.940648544 11.868716796 12.239477504 16.495495495 \n",
      "         DLH          DRO          DSM          DTW          EGE          EKO \n",
      " 2.489091832  2.348577803  9.053753418  9.243286633 16.519732441  0.049581455 \n",
      "         ELM          ELP          ERI          EUG          EVV          EWN \n",
      " 3.396788991  6.629838827  4.388639761  5.469070343  6.625625447  8.129820051 \n",
      "         EWR          EYW          FAI          FAR          FAT          FAY \n",
      "18.285081075 15.173212487  3.719183845  7.292339640  5.779321097 12.401701747 \n",
      "         FCA          FLG          FLL          FLO          FNT          FSD \n",
      " 1.399415845  2.859242510 11.135225175  7.828618968  5.449545560  9.965173259 \n",
      "         FSM          FWA          GCC          GEG          GFK          GGG \n",
      " 5.412860155 11.916894665  8.301941748  5.950302478  3.416481069  6.789137380 \n",
      "         GJT          GNV          GPT          GRB          GRK          GRR \n",
      " 4.876823019  9.941641939  7.181916039 10.079281184  8.730202834  7.837265465 \n",
      "         GSO          GSP          GST          GTF          GTR          GUC \n",
      " 9.230487526  8.560800769  9.795180723 -0.499292786 10.274841438 13.531147541 \n",
      "         HDN          HHH          HLN          HNL          HOU          HPN \n",
      " 9.871120690 14.930643127  1.677024962  2.824106919 12.270937592  9.925933070 \n",
      "         HRL          HSV          HTS          IAD          IAH          ICT \n",
      "10.238050389  7.301320414 -1.141935484 13.636257942 10.602171751  8.805100316 \n",
      "         IDA          ILM          IND          INL          IPL          ISP \n",
      " 2.580571053  9.393167516  7.554902287 -4.802816901 -2.315897436  8.677049342 \n",
      "         ITH          ITO          IYK          JAC          JAN          JAX \n",
      " 8.622950820 -0.149943771 -1.911572052  9.572051212  7.714123837  8.951447565 \n",
      "         JFK          JNU          KOA          KTN          LAN          LAS \n",
      "13.303373896 13.803716609  1.790031646  8.976211073 10.238446272 10.466182401 \n",
      "         LAW          LAX          LBB          LCH          LEX          LFT \n",
      " 4.544117647  8.688356969  8.696869245  7.090052356  9.042479109  7.506997455 \n",
      "         LGA          LGB          LIH          LIT          LMT          LNK \n",
      "11.199888902  6.699980404  0.003745605 11.461359559 20.046558704 10.512559403 \n",
      "         LRD          LSE          LWB          LWS          LYH          MAF \n",
      " 6.454457831  6.340897098 10.841530055  0.696923077  2.913114754  9.130807931 \n",
      "         MBS          MCI          MCN          MCO          MDT          MDW \n",
      " 7.198913043  9.066590362 10.512861736  9.959782734  9.452300634 12.427698150 \n",
      "         MEI          MEM          MFE          MFR          MGM          MHT \n",
      " 9.222054381  7.875328761  3.786856572  8.230115691  8.056054997 10.483407140 \n",
      "         MIA          MKE          MKG          MLB          MLI          MLU \n",
      "15.881970185 10.268242153  2.859335038  8.708524758 10.826008211  5.316775244 \n",
      "         MOB          MOD          MOT          MQT          MRY          MSN \n",
      " 6.818965517 13.371594462  3.522346369 12.519453207  7.558466109  9.267762023 \n",
      "         MSO          MSP          MSY          MTJ          MYR          OAJ \n",
      " 1.084158416  7.464918420  8.948354011  6.623164079  7.155281893  8.570069204 \n",
      "         OAK          OGG          OKC          OMA          OME          ONT \n",
      " 7.538391581  2.099827007  7.970195065  8.812594212  5.730434783  6.839753556 \n",
      "         ORD          ORF          OTH          OTZ          OXR          PBI \n",
      "17.291271166  9.867842773 21.765531062  6.453244275 -1.827044025 11.247107048 \n",
      "         PDX          PFN          PHF          PHL          PHX          PIA \n",
      " 6.846679483 10.894514768  7.920559263 12.899159749  8.294811440  9.369178342 \n",
      "         PIH          PIR          PIT          PLN          PMD          PNS \n",
      "-4.150091519 22.800000000  9.861636293  3.294820717 12.591807910  7.065827686 \n",
      "         PSC          PSE          PSG          PSP          PUB          PVD \n",
      "-0.524322169  0.042953020 13.545845272  6.076786469 27.000000000 10.345095559 \n",
      "         PWM          RAP          RDD          RDM          RDU          RFD \n",
      "12.629269023  1.643963610 16.140767824  6.499413490  9.809857482  2.312280702 \n",
      "         RHI          RIC          RKS          RNO          ROA          ROC \n",
      " 4.608695652 10.196068367  3.908207343  7.719986684 11.396142018 10.780235668 \n",
      "         ROW          RST          RSW          SAN          SAT          SAV \n",
      " 7.514225501  9.196627426  8.669555192  7.834495056  7.769560941 10.736693007 \n",
      "         SBA          SBN          SBP          SCC          SCE          SDF \n",
      " 6.888358933 15.399238782  7.032903900 10.988888889  4.346839546 10.945184984 \n",
      "         SEA          SFO          SGF          SGU          SHV          SIT \n",
      " 8.598653068 13.379122195 12.557590810 -0.151902588  6.806579621  9.061832061 \n",
      "         SJC          SJT          SJU          SLC          SLE          SMF \n",
      " 6.150263574  3.709428130 11.584487664  5.209806777  2.148453608  7.350211211 \n",
      "         SMX          SNA          SPI          SPS          SRQ          STL \n",
      " 1.602914390  6.157043038 22.314516129  4.309049516  9.898126279  9.734940740 \n",
      "         STT          STX          SUN          SUX          SWF          SYR \n",
      " 8.984369691 14.791666667 -1.231340512  5.747747748  6.953527169 11.529507078 \n",
      "         TEX          TLH          TOL          TPA          TRI          TUL \n",
      "15.856209150  7.197824961  7.823065903  9.023058550  6.231553398  7.944514174 \n",
      "         TUP          TUS          TVC          TWF          TXK          TYR \n",
      "-3.800000000  5.324085274 10.877227239  0.434856176  6.030988275  5.242345277 \n",
      "         TYS          VLD          VPS          WRG          WYS          XNA \n",
      " 9.343863736 10.808026030  9.502466736  8.255747126 -6.155893536 11.366454166 \n",
      "         YAK          YKM          YUM \n",
      " 7.215796897  1.145400593  2.881216931 \n"
     ]
    }
   ],
   "source": [
    "print(tapply(myDF$DepDelay, myDF$Origin, mean, na.rm=TRUE))\n",
    "# OR\n",
    "# print(tapply(myDF$DepDelay, myDF$Origin, function(x) mean(x, na.rm=TRUE)))"
   ]
  },
  {
   "cell_type": "markdown",
   "metadata": {},
   "source": [
    "#### Which airports has shortest and longest average departure delay "
   ]
  },
  {
   "cell_type": "code",
   "execution_count": 38,
   "metadata": {
    "run_control": {
     "frozen": false,
     "read_only": false
    }
   },
   "outputs": [
    {
     "name": "stdout",
     "output_type": "stream",
     "text": [
      "      WYS       BLI       INL       PIH       COD       TUP \n",
      "-6.155894 -5.529412 -4.802817 -4.150092 -3.973549 -3.800000 \n",
      "     AKN      SPI      PIR      CEC      PUB      ACK \n",
      "21.93860 22.31452 22.80000 24.18621 27.00000 29.85442 \n"
     ]
    }
   ],
   "source": [
    "print(head(sort(tapply(myDF$DepDelay, myDF$Origin, mean, na.rm=TRUE))))\n",
    "print(tail(sort(tapply(myDF$DepDelay, myDF$Origin, mean, na.rm=TRUE))))\n",
    "#WYS\n",
    "#ACK"
   ]
  },
  {
   "cell_type": "markdown",
   "metadata": {},
   "source": [
    "#### Which airports has shortest and longest average arrival delay "
   ]
  },
  {
   "cell_type": "code",
   "execution_count": 39,
   "metadata": {
    "run_control": {
     "frozen": false,
     "read_only": false
    }
   },
   "outputs": [
    {
     "name": "stdout",
     "output_type": "stream",
     "text": [
      "       BLI        WYS        SLE        HTS        COD        PIH \n",
      "-12.042017 -11.167300  -9.217391  -7.838710  -7.755764  -6.556777 \n",
      "     AKN      PIR      CEC      OTH      ACK      PUB \n",
      "22.04464 23.80000 24.67095 26.38105 28.60382 74.00000 \n"
     ]
    }
   ],
   "source": [
    "print(head(sort(tapply(myDF$ArrDelay, myDF$Origin, mean, na.rm=TRUE))))\n",
    "print(tail(sort(tapply(myDF$ArrDelay, myDF$Origin, mean, na.rm=TRUE))))\n",
    "#BLI\n",
    "#PUB"
   ]
  },
  {
   "cell_type": "markdown",
   "metadata": {},
   "source": [
    "#### When considering all flights to an airport, take an average of the distances (in miles) of the flights to that airport. Suppose that we do such an analysis of all airports. Which airport has the longest average distance of flights (in miles) arriving to that airport?"
   ]
  },
  {
   "cell_type": "code",
   "execution_count": 40,
   "metadata": {
    "run_control": {
     "frozen": false,
     "read_only": false
    }
   },
   "outputs": [
    {
     "name": "stdout",
     "output_type": "stream",
     "text": [
      "     STX      ANC      STT      PSE      BQN      SJU \n",
      "1235.085 1256.723 1365.657 1381.649 1433.386 1500.404 \n"
     ]
    }
   ],
   "source": [
    "# Flights arriving at SJU have distance 1500.404 miles on average. This answer can be obtained by \n",
    "print(tail(sort(tapply(myDF$Distance, myDF$Dest, mean))))"
   ]
  },
  {
   "cell_type": "markdown",
   "metadata": {},
   "source": [
    "#### Which day of the week should we fly, if we want to minimize the expected arrival delay of the flight?"
   ]
  },
  {
   "cell_type": "code",
   "execution_count": 41,
   "metadata": {
    "run_control": {
     "frozen": false,
     "read_only": false
    },
    "scrolled": true
   },
   "outputs": [
    {
     "name": "stdout",
     "output_type": "stream",
     "text": [
      "        1         2         3         4         5         6         7 \n",
      " 8.210850  7.481208  6.522017  8.411599 10.953440  5.789666  9.495886 \n"
     ]
    }
   ],
   "source": [
    "print(tapply(myDF$ArrDelay, myDF$DayOfWeek, mean, na.rm=TRUE))"
   ]
  },
  {
   "cell_type": "code",
   "execution_count": 42,
   "metadata": {
    "run_control": {
     "frozen": false,
     "read_only": false
    }
   },
   "outputs": [
    {
     "data": {
      "image/png": "[encoded data removed]",
      "text/plain": [
       "plot without title"
      ]
     },
     "metadata": {},
     "output_type": "display_data",
     "source": "R display func"
    }
   ],
   "source": [
    "plot(tapply(myDF$ArrDelay, myDF$DayOfWeek, mean, na.rm=TRUE))\n",
    "# 1 - Monday\n",
    "# 2 - Tuesday\n",
    "# --\n",
    "# --\n",
    "# 7 - Sunday\n"
   ]
  },
  {
   "cell_type": "markdown",
   "metadata": {},
   "source": [
    "#### what is the average arrival day of the only IND arrivals flights for each day of the week?"
   ]
  },
  {
   "cell_type": "code",
   "execution_count": 43,
   "metadata": {
    "run_control": {
     "frozen": false,
     "read_only": false
    },
    "scrolled": true
   },
   "outputs": [
    {
     "name": "stdout",
     "output_type": "stream",
     "text": [
      "       1        2        3        4        5        6        7 \n",
      "6.648562 7.386780 5.623430 6.768748 9.480579 4.706112 9.227550 \n"
     ]
    }
   ],
   "source": [
    "print(tapply(myDF$ArrDelay[myDF$Dest==\"IND\"], myDF$DayOfWeek[myDF$Dest==\"IND\"], mean, na.rm=TRUE))"
   ]
  },
  {
   "cell_type": "markdown",
   "metadata": {},
   "source": [
    "#### How many flights occur per month?"
   ]
  },
  {
   "cell_type": "code",
   "execution_count": 44,
   "metadata": {
    "run_control": {
     "frozen": false,
     "read_only": false
    }
   },
   "outputs": [
    {
     "data": {
      "text/plain": [
       "\n",
       "     1      2      3      4      5      6      7      8      9     10     11 \n",
       "605765 569236 616090 598126 606293 608665 627931 612279 540908 556205 523272 \n",
       "    12 \n",
       "544958 "
      ]
     },
     "metadata": {},
     "output_type": "display_data"
    },
    {
     "name": "stdout",
     "output_type": "stream",
     "text": [
      "     1      2      3      4      5      6      7      8      9     10     11 \n",
      "605765 569236 616090 598126 606293 608665 627931 612279 540908 556205 523272 \n",
      "    12 \n",
      "544958 \n"
     ]
    }
   ],
   "source": [
    "table(myDF$Month)\n",
    "print(tapply(myDF$Month, myDF$Month, length))"
   ]
  },
  {
   "cell_type": "markdown",
   "metadata": {},
   "source": [
    "#### Which airline has the worst average departure delay?"
   ]
  },
  {
   "cell_type": "code",
   "execution_count": 45,
   "metadata": {
    "run_control": {
     "frozen": false,
     "read_only": false
    }
   },
   "outputs": [
    {
     "name": "stdout",
     "output_type": "stream",
     "text": [
      "        9E         AA         AQ         AS         B6         CO         DL \n",
      " 6.7658597 13.2808983 -1.3977829  6.8487220 12.6533957 13.1852298  8.0077656 \n",
      "        EV         F9         FL         HA         MQ         NW         OH \n",
      "11.9225380  5.9196015  9.2627130  0.4552013 10.6956418  6.4632357 11.5361531 \n",
      "        OO         UA         US         WN         XE         YV \n",
      " 7.4564428 14.1125766  5.7174897 10.3830348 11.3958665 12.0006753 \n"
     ]
    }
   ],
   "source": [
    "print(tapply(myDF$DepDelay, myDF$UniqueCarrier, mean, na.rm=TRUE))\n",
    "# UA or United Airlines Inc."
   ]
  },
  {
   "cell_type": "markdown",
   "metadata": {},
   "source": [
    "#### Which airlines have the best average arrival delays\n",
    "\n",
    "#### Which airlines have the worst average arrival delays"
   ]
  },
  {
   "cell_type": "code",
   "execution_count": 46,
   "metadata": {
    "run_control": {
     "frozen": false,
     "read_only": false
    },
    "scrolled": true
   },
   "outputs": [
    {
     "name": "stdout",
     "output_type": "stream",
     "text": [
      "       9E        AA        AQ        AS        B6        CO        DL        EV \n",
      " 4.111135 12.607194 -2.888674  4.804346 11.084184 10.979037  7.855163 10.208002 \n",
      "       F9        FL        HA        MQ        NW        OH        OO        UA \n",
      " 6.108247  9.091375  1.264409  9.890668  7.368539 11.817468  6.598885 11.291322 \n",
      "       US        WN        XE        YV \n",
      " 2.848110  5.179678 10.635405 11.775181 \n"
     ]
    }
   ],
   "source": [
    "print(tapply(myDF$ArrDelay, myDF$UniqueCarrier, mean, na.rm=TRUE))"
   ]
  },
  {
   "cell_type": "markdown",
   "metadata": {},
   "source": [
    "#### sort the expected ArrDelay for each day of the year 2008 ?"
   ]
  },
  {
   "cell_type": "code",
   "execution_count": 47,
   "metadata": {
    "collapsed": true,
    "run_control": {
     "frozen": false,
     "read_only": false
    }
   },
   "outputs": [],
   "source": [
    "mydates <- paste(myDF$Month, myDF$DayofMonth, myDF$Year, sep=\"/\")"
   ]
  },
  {
   "cell_type": "code",
   "execution_count": 48,
   "metadata": {
    "run_control": {
     "frozen": false,
     "read_only": false
    },
    "scrolled": false
   },
   "outputs": [
    {
     "name": "stdout",
     "output_type": "stream",
     "text": [
      "  11/27/2008    8/31/2008   11/28/2008    9/20/2008    5/25/2008    11/4/2008 \n",
      "-6.520943065 -6.193653157 -6.052476704 -5.353697305 -5.211261591 -4.813559322 \n",
      "   1/12/2008   10/18/2008     9/1/2008    10/4/2008   11/18/2008    10/1/2008 \n",
      "-4.534298687 -4.447613785 -4.409300309 -4.245299972 -4.237894144 -3.973805855 \n",
      "  10/14/2008   11/23/2008     9/3/2008     7/4/2008    9/30/2008    9/23/2008 \n",
      "-3.934282220 -3.917130240 -3.852885294 -3.843008994 -3.520214429 -3.421111235 \n",
      "   11/1/2008    9/16/2008    9/17/2008   11/19/2008    8/30/2008   10/29/2008 \n",
      "-2.986219252 -2.910031489 -2.838416648 -2.725904614 -2.651392224 -2.623829459 \n",
      "  10/31/2008   10/21/2008   11/17/2008    11/5/2008    11/8/2008     9/2/2008 \n",
      "-2.416388235 -2.411223294 -2.340307892 -2.216006173 -2.091789075 -2.064145347 \n",
      "   10/6/2008   11/26/2008    11/3/2008    9/10/2008    9/18/2008    5/17/2008 \n",
      "-2.053351940 -2.040170258 -1.980103009 -1.864889906 -1.730787794 -1.727380459 \n",
      "   10/2/2008   10/11/2008   10/20/2008     9/5/2008     9/7/2008   10/13/2008 \n",
      "-1.667202056 -1.576917770 -1.517650834 -1.516802471 -1.485628945 -1.480299385 \n",
      "  10/30/2008    9/27/2008    4/22/2008    9/24/2008   11/24/2008    10/7/2008 \n",
      "-1.297931626 -1.291960703 -1.099544567 -0.974321230 -0.918255534 -0.808115198 \n",
      "   9/29/2008    4/15/2008   11/10/2008    9/19/2008   10/19/2008     9/6/2008 \n",
      "-0.803420631 -0.792980518 -0.769356955 -0.725541171 -0.610834089 -0.323861643 \n",
      "  11/25/2008    12/6/2008    8/19/2008    8/27/2008    8/23/2008    9/22/2008 \n",
      "-0.289571745 -0.258513824 -0.175263593 -0.120745379 -0.105330413 -0.047774275 \n",
      "   5/26/2008    4/19/2008   10/12/2008    5/10/2008     6/2/2008    10/3/2008 \n",
      "-0.001764859  0.018873506  0.021608439  0.030891018  0.084982652  0.145293679 \n",
      "   4/30/2008    12/5/2008   10/23/2008     2/9/2008    5/29/2008    1/15/2008 \n",
      " 0.155137610  0.162079007  0.173743939  0.508920719  0.660668759  0.681901184 \n",
      "   5/24/2008    4/16/2008   11/22/2008    10/5/2008    1/16/2008    10/9/2008 \n",
      " 0.691318714  0.753232070  0.755018737  0.909571745  0.916666667  1.162427869 \n",
      "   11/2/2008   12/13/2008    4/14/2008   10/10/2008    12/8/2008     7/1/2008 \n",
      " 1.179390857  1.185262864  1.196185819  1.222718808  1.260555154  1.274311793 \n",
      "    7/5/2008     1/9/2008    4/17/2008    8/24/2008    4/29/2008     5/4/2008 \n",
      " 1.287357637  1.336182043  1.364412152  1.368101372  1.390853536  1.411621018 \n",
      "  11/16/2008     5/6/2008    3/11/2008    9/11/2008    9/21/2008   11/15/2008 \n",
      " 1.413366480  1.522927375  1.551101499  1.632671528  1.660986140  1.723131478 \n",
      "   7/16/2008   12/29/2008     9/4/2008    8/28/2008   10/17/2008    5/28/2008 \n",
      " 1.766094834  1.768179839  1.942370697  1.978356912  2.038928533  2.093198493 \n",
      "   11/9/2008   11/20/2008   11/11/2008    3/26/2008   10/25/2008    12/3/2008 \n",
      " 2.234220708  2.247672353  2.290397332  2.318043272  2.328278946  2.342099323 \n",
      "   3/24/2008    1/13/2008    4/21/2008    8/13/2008   11/12/2008     3/1/2008 \n",
      " 2.357700947  2.425683325  2.429896958  2.432929195  2.464920538  2.491443563 \n",
      "   1/14/2008    2/28/2008    9/28/2008    3/23/2008    8/17/2008    9/25/2008 \n",
      " 2.493350649  2.549895844  2.633458007  2.715262313  2.758822333  2.861930939 \n",
      "   4/23/2008   10/22/2008     5/3/2008    5/13/2008    4/24/2008    1/20/2008 \n",
      " 2.877165354  2.929051079  2.942778476  2.954322502  2.969840187  2.976124436 \n",
      "   5/21/2008    8/18/2008    4/18/2008    12/2/2008    10/8/2008   10/26/2008 \n",
      " 2.989184899  3.075738499  3.204424994  3.227603443  3.257700318  3.295225630 \n",
      "   3/13/2008    9/13/2008     7/3/2008    9/15/2008     4/2/2008    7/15/2008 \n",
      " 3.309278351  3.357169854  3.378327455  3.416363235  3.438742374  3.456253956 \n",
      "  10/16/2008     5/8/2008    7/26/2008    2/27/2008    3/12/2008    8/29/2008 \n",
      " 3.544580886  3.602239796  3.747637576  3.753335325  3.806440460  3.809273754 \n",
      "   5/19/2008   11/29/2008    8/22/2008     5/5/2008   10/15/2008    5/18/2008 \n",
      " 3.814361807  3.827448609  3.838087705  3.838555287  3.911196699  3.974606637 \n",
      "   4/27/2008    4/26/2008    4/13/2008   11/21/2008    12/4/2008    8/12/2008 \n",
      " 3.976759765  4.008905624  4.148595823  4.223966986  4.255857545  4.261346389 \n",
      "    2/2/2008    1/30/2008   10/28/2008    1/26/2008    11/7/2008     8/9/2008 \n",
      " 4.274850488  4.412005672  4.443314201  4.465979512  4.495793788  4.513481959 \n",
      "  10/27/2008     5/1/2008     4/8/2008    3/29/2008    12/7/2008     4/7/2008 \n",
      " 4.738931626  4.757441792  4.803831457  4.816111370  5.050306676  5.157323778 \n",
      "   7/17/2008    5/15/2008    7/19/2008     6/1/2008    11/6/2008    6/30/2008 \n",
      " 5.248934438  5.345238095  5.424365088  5.457195934  5.629783285  5.736315280 \n",
      "    9/8/2008    7/29/2008    5/14/2008    1/10/2008   12/12/2008     8/6/2008 \n",
      " 5.906633775  5.963084295  6.004353919  6.125439037  6.261817981  6.284739817 \n",
      "   7/30/2008    4/12/2008    7/11/2008    8/25/2008    8/20/2008    7/28/2008 \n",
      " 6.325616312  6.390650188  6.403335422  6.574334820  6.785065945  6.789876854 \n",
      "   8/21/2008    3/22/2008     4/9/2008   12/30/2008    7/25/2008    6/24/2008 \n",
      " 6.908265529  6.964546463  7.039152224  7.063934245  7.094393153  7.143479112 \n",
      "    3/2/2008    7/21/2008   12/25/2008     2/7/2008    4/20/2008     8/3/2008 \n",
      " 7.275360042  7.313677988  7.328728729  7.328997782  7.329571222  7.367024251 \n",
      "   2/20/2008    8/26/2008     3/6/2008    1/11/2008    1/24/2008    7/18/2008 \n",
      " 7.395663290  7.467320093  7.467773041  7.476200101  7.530780441  7.566414480 \n",
      "   8/16/2008     5/7/2008    9/26/2008     4/5/2008    7/12/2008    1/19/2008 \n",
      " 7.601958232  7.635589399  7.719059406  7.727728910  7.970352653  7.978828741 \n",
      "   2/16/2008    3/10/2008    3/17/2008    3/25/2008    5/30/2008    7/14/2008 \n",
      " 8.007001871  8.161434089  8.162409118  8.216964599  8.235256283  8.364988890 \n",
      "    3/5/2008    12/9/2008    2/19/2008    6/18/2008     7/2/2008    3/14/2008 \n",
      " 8.397076432  8.504560165  8.518268131  8.552024952  8.687914230  8.736146860 \n",
      "   5/11/2008    9/14/2008    6/21/2008     9/9/2008     6/7/2008    6/20/2008 \n",
      " 8.790586630  8.859258800  8.932665554  8.945825476  8.961722488  8.976946352 \n",
      "   6/17/2008   11/13/2008     8/1/2008     2/8/2008   12/14/2008     5/9/2008 \n",
      " 9.018154909  9.055059362  9.162190881  9.274924774  9.279511935  9.361662132 \n",
      "   1/28/2008     8/8/2008    2/24/2008    5/23/2008    6/12/2008    5/20/2008 \n",
      " 9.531293392  9.591709945  9.600302367  9.613069983  9.629081411  9.647474337 \n",
      "   6/25/2008     1/8/2008     4/3/2008    2/11/2008    2/25/2008    5/12/2008 \n",
      " 9.689683739  9.698649497  9.723963946  9.781979578  9.782714941  9.867645590 \n",
      "  12/31/2008    3/16/2008    6/11/2008     8/5/2008    1/23/2008     1/7/2008 \n",
      " 9.958460114  9.991113867 10.061701190 10.113497706 10.186933889 10.233424713 \n",
      "   2/14/2008    1/18/2008    1/29/2008    2/23/2008    2/15/2008    5/31/2008 \n",
      "10.277575519 10.311439518 10.344702898 10.440112757 10.698141662 10.821464692 \n",
      "   2/29/2008    7/22/2008    3/27/2008    9/12/2008    1/25/2008     1/4/2008 \n",
      "11.116477837 11.165886123 11.376156423 11.415921741 11.485602955 11.558524933 \n",
      "  12/28/2008   10/24/2008     6/3/2008    6/14/2008    3/28/2008     4/6/2008 \n",
      "11.603864734 11.609663843 11.765234613 11.811201087 12.030826921 12.090196483 \n",
      "  12/11/2008    8/14/2008    2/10/2008     3/3/2008    5/16/2008    7/20/2008 \n",
      "12.118656547 12.200942840 12.324655603 12.424326227 12.443259972 12.533947648 \n",
      "   3/20/2008    6/28/2008    4/25/2008    5/22/2008     7/9/2008     3/9/2008 \n",
      "12.693649549 12.766645994 13.037510016 13.380865983 13.659542303 13.757388316 \n",
      "    1/3/2008     2/3/2008    6/19/2008     1/6/2008    5/27/2008   12/10/2008 \n",
      "13.831776615 14.168852006 14.408749512 14.696802128 15.006669745 15.202686984 \n",
      "   2/21/2008    6/10/2008     4/1/2008    4/28/2008     3/4/2008     8/4/2008 \n",
      "15.268718258 15.459035299 15.479371018 15.629472740 15.679625780 15.789373146 \n",
      "    2/5/2008     8/7/2008     1/5/2008     6/6/2008    6/15/2008     8/2/2008 \n",
      "15.802641633 15.867083659 15.903450242 15.952383292 15.964750487 15.975933230 \n",
      "   8/11/2008    3/21/2008     2/6/2008     6/5/2008    8/10/2008     6/9/2008 \n",
      "16.121724809 16.215418798 16.327966198 16.500835874 16.573895352 16.640860747 \n",
      "  11/14/2008     7/7/2008    6/23/2008    7/10/2008    7/24/2008    3/30/2008 \n",
      "16.657526734 16.718760558 16.755802614 16.978039216 17.221899463 17.274269067 \n",
      "   1/22/2008    6/27/2008    6/13/2008     7/6/2008    4/11/2008    2/17/2008 \n",
      "17.284124947 17.363499539 17.414059068 17.667917448 17.897745123 17.941067727 \n",
      "   3/15/2008     7/8/2008    7/31/2008    8/15/2008    3/18/2008    1/17/2008 \n",
      "17.986734754 18.530771163 18.743783520 18.935868755 19.035633888 19.087852495 \n",
      "    1/1/2008    1/27/2008     2/4/2008    2/18/2008   12/15/2008    6/16/2008 \n",
      "19.211324407 19.494058752 19.523002024 19.665282849 19.678838315 19.797793021 \n",
      "   6/29/2008    1/21/2008     6/8/2008    6/26/2008    7/23/2008    6/22/2008 \n",
      "19.907688338 19.966999898 20.310848732 20.389500465 20.659396918 20.787822878 \n",
      "   7/27/2008     1/2/2008    4/10/2008    2/26/2008     6/4/2008    2/13/2008 \n",
      "20.857681235 21.230027413 21.259351621 21.716473914 21.878600201 22.385864888 \n",
      "    3/7/2008    1/31/2008   12/17/2008   12/16/2008    3/19/2008   12/18/2008 \n",
      "23.031452974 23.868297026 23.995646369 24.746236951 25.038368702 25.105394804 \n",
      "    2/1/2008     5/2/2008    2/12/2008    3/31/2008    7/13/2008    2/22/2008 \n",
      "25.813709465 25.931091928 26.846661031 27.742319685 28.192635153 28.566023499 \n",
      "  12/22/2008   12/26/2008     3/8/2008     4/4/2008   12/24/2008    12/1/2008 \n",
      "30.061081234 30.183217189 30.302616465 30.756633624 32.974102650 33.276450698 \n",
      "  12/27/2008   12/20/2008   12/23/2008   11/30/2008   12/21/2008   12/19/2008 \n",
      "36.280331527 37.445984641 38.355864023 39.405316905 41.297050296 42.131141618 \n"
     ]
    }
   ],
   "source": [
    "print(sort(tapply(myDF$ArrDelay, mydates, mean, na.rm=TRUE)))"
   ]
  },
  {
   "cell_type": "markdown",
   "metadata": {},
   "source": [
    "#### What is the expected ArrDelay for the flights arriving to IND for each date?"
   ]
  },
  {
   "cell_type": "code",
   "execution_count": 49,
   "metadata": {
    "run_control": {
     "frozen": false,
     "read_only": false
    },
    "scrolled": false
   },
   "outputs": [
    {
     "name": "stdout",
     "output_type": "stream",
     "text": [
      "  11/27/2008   11/28/2008    11/4/2008     9/6/2008    8/31/2008    9/20/2008 \n",
      "-11.39130435 -10.35714286  -9.85046729  -8.94444444  -8.50666667  -8.37362637 \n",
      "  10/18/2008     9/1/2008    9/23/2008    11/1/2008    11/3/2008    5/25/2008 \n",
      " -8.33333333  -8.04672897  -7.90090090  -7.72043011  -7.20183486  -7.07766990 \n",
      "  11/23/2008   11/25/2008    10/1/2008   10/13/2008    1/12/2008     9/7/2008 \n",
      " -6.72549020  -6.07142857  -6.03603604  -6.02654867  -6.00000000  -5.99074074 \n",
      "   10/4/2008   11/22/2008    8/30/2008   10/10/2008    10/6/2008     7/4/2008 \n",
      " -5.92553191  -5.86956522  -5.62790698  -5.43478261  -5.37272727  -5.36082474 \n",
      "  10/14/2008   11/19/2008    9/13/2008   12/25/2008    9/19/2008     9/2/2008 \n",
      " -5.26548673  -5.01801802  -4.94186047  -4.93023256  -4.87931034  -4.75000000 \n",
      "  10/12/2008    9/10/2008   10/11/2008    11/5/2008    11/8/2008   11/10/2008 \n",
      " -4.55660377  -4.55357143  -4.48936170  -4.43243243  -4.09574468  -4.04629630 \n",
      "   8/13/2008   12/13/2008    9/18/2008   10/31/2008    9/28/2008     9/3/2008 \n",
      " -4.03759398  -3.56179775  -3.54782609  -3.52631579  -3.45794393  -3.41964286 \n",
      "  12/29/2008    9/27/2008     9/5/2008    8/18/2008    5/10/2008    5/29/2008 \n",
      " -3.40566038  -3.37634409  -3.33620690  -3.30708661  -3.27722772  -3.18110236 \n",
      "   12/4/2008    9/16/2008   10/29/2008    9/29/2008   10/21/2008    4/16/2008 \n",
      " -3.02727273  -2.99099099  -2.95575221  -2.90350877  -2.73451327  -2.66666667 \n",
      "   9/21/2008   10/19/2008    9/24/2008   11/24/2008    8/12/2008   11/17/2008 \n",
      " -2.49056604  -2.47663551  -2.45871560  -2.40566038  -2.33587786  -2.09174312 \n",
      "   8/27/2008    12/8/2008    10/7/2008    8/19/2008    7/15/2008   10/20/2008 \n",
      " -2.06837607  -1.95412844  -1.92920354  -1.85964912  -1.73880597  -1.73684211 \n",
      "   5/28/2008   11/26/2008    8/22/2008   12/11/2008   11/16/2008   10/17/2008 \n",
      " -1.67716535  -1.46017699  -1.31304348  -1.28971963  -1.28712871  -1.26956522 \n",
      "   9/22/2008    9/25/2008    1/16/2008    4/19/2008    10/2/2008    4/17/2008 \n",
      " -1.23893805  -1.21929825  -1.06956522  -1.00000000  -0.96460177  -0.91869919 \n",
      "   5/26/2008    7/16/2008    8/17/2008    9/17/2008    11/2/2008     5/6/2008 \n",
      " -0.88000000  -0.83088235  -0.77310924  -0.67857143  -0.61764706  -0.58400000 \n",
      "  12/12/2008     5/4/2008     4/7/2008    9/30/2008    5/24/2008   11/29/2008 \n",
      " -0.56880734  -0.56410256  -0.37500000  -0.30909091  -0.30769231  -0.30612245 \n",
      "  10/16/2008   11/18/2008    8/26/2008     6/2/2008   11/11/2008     1/9/2008 \n",
      " -0.19469027  -0.10185185  -0.06034483  -0.03968254   0.04807692   0.08771930 \n",
      "    5/3/2008    12/3/2008    1/20/2008    5/17/2008     7/5/2008   11/20/2008 \n",
      "  0.09278351   0.10185185   0.13761468   0.16831683   0.17475728   0.17857143 \n",
      "  10/26/2008    8/24/2008     9/4/2008   10/23/2008   11/13/2008    10/5/2008 \n",
      "  0.19444444   0.20000000   0.20353982   0.25438596   0.40000000   0.40740741 \n",
      "   10/3/2008    8/28/2008   11/15/2008    3/26/2008    10/9/2008     8/3/2008 \n",
      "  0.46017699   0.56410256   0.58064516   0.65600000   0.65789474   0.66666667 \n",
      "   4/24/2008    4/18/2008    3/29/2008     7/1/2008   10/30/2008    6/17/2008 \n",
      "  0.70161290   0.93600000   0.94174757   1.02255639   1.12389381   1.18181818 \n",
      "    4/8/2008    9/26/2008    11/7/2008   12/28/2008    12/2/2008    4/27/2008 \n",
      "  1.25833333   1.30973451   1.31818182   1.35714286   1.38532110   1.50877193 \n",
      "    2/2/2008    4/29/2008     8/6/2008    8/23/2008    6/24/2008    7/18/2008 \n",
      "  1.57425743   1.63114754   1.64615385   1.76041667   1.88888889   1.91044776 \n",
      "    9/9/2008    3/24/2008    4/15/2008    7/28/2008    4/23/2008   11/21/2008 \n",
      "  2.10280374   2.10400000   2.19512195   2.25547445   2.28688525   2.30000000 \n",
      "   4/22/2008    9/11/2008    8/16/2008    5/13/2008     7/9/2008     2/9/2008 \n",
      "  2.31707317   2.32173913   2.32380952   2.39200000   2.44186047   2.44554455 \n",
      "  12/14/2008    8/29/2008   10/25/2008    10/8/2008   10/22/2008    8/20/2008 \n",
      "  2.46534653   2.61739130   2.65591398   2.67543860   2.70175439   2.76068376 \n",
      "   7/25/2008     8/8/2008    1/15/2008    12/7/2008    12/9/2008    7/17/2008 \n",
      "  2.76470588   2.77343750   2.85470085   2.91089109   2.93203883   2.97794118 \n",
      "   7/30/2008   10/27/2008    3/13/2008    3/12/2008    9/15/2008     4/2/2008 \n",
      "  3.00000000   3.01754386   3.04687500   3.11200000   3.14035088   3.31746032 \n",
      "  10/28/2008     5/8/2008   12/15/2008    6/18/2008    12/6/2008    8/21/2008 \n",
      "  3.40540541   3.51587302   3.60377358   3.61481481   3.62637363   3.62711864 \n",
      "   7/11/2008    4/26/2008    1/24/2008    4/21/2008     7/3/2008   10/15/2008 \n",
      "  3.67175573   3.84375000   3.84873950   3.85365854   3.86567164   3.87719298 \n",
      "   6/30/2008    1/14/2008   11/12/2008    2/27/2008    11/6/2008    12/5/2008 \n",
      "  3.91111111   3.95726496   3.97247706   4.05691057   4.06363636   4.12037037 \n",
      "    5/5/2008    5/18/2008     8/9/2008    4/30/2008    6/20/2008    3/11/2008 \n",
      "  4.31200000   4.36974790   4.48598131   4.59677419   4.63157895   4.66400000 \n",
      "   3/25/2008     8/1/2008    1/30/2008    4/13/2008    5/20/2008    7/21/2008 \n",
      "  4.68000000   4.85496183   4.91964286   4.96638655   5.16935484   5.37121212 \n",
      "   5/15/2008    5/11/2008    5/31/2008    4/14/2008     9/8/2008    1/11/2008 \n",
      "  5.57936508   5.59322034   5.61538462   5.61718750   5.62831858   5.69166667 \n",
      "  12/30/2008    1/25/2008     5/9/2008    11/9/2008     5/7/2008    7/14/2008 \n",
      "  5.71962617   5.72500000   5.83870968   5.86407767   5.97619048   5.98507463 \n",
      "   7/26/2008   12/31/2008    2/16/2008    1/28/2008    1/10/2008     2/3/2008 \n",
      "  6.12844037   6.14942529   6.19607843   6.22033898   6.34166667   6.34615385 \n",
      "    6/1/2008    5/19/2008    5/12/2008    3/22/2008    7/19/2008    6/25/2008 \n",
      "  6.50413223   6.52380952   6.52419355   6.55445545   6.58715596   6.61764706 \n",
      "   1/26/2008    2/28/2008    5/23/2008    3/14/2008    5/14/2008    2/14/2008 \n",
      "  6.62376238   6.62903226   6.76691729   6.80314961   6.88888889   6.97580645 \n",
      "   7/29/2008     5/1/2008    9/12/2008    5/21/2008    9/14/2008    3/17/2008 \n",
      "  7.15151515   7.19200000   7.45614035   7.46923077   7.55789474   7.58400000 \n",
      "   1/18/2008    6/12/2008    3/23/2008     1/8/2008    1/23/2008    5/30/2008 \n",
      "  7.82500000   7.86567164   7.89915966   8.05217391   8.11304348   8.14173228 \n",
      "    3/1/2008    6/11/2008    2/23/2008    2/24/2008     1/4/2008    3/10/2008 \n",
      "  8.20192308   8.20588235   8.22330097   8.26548673   8.47457627   8.51612903 \n",
      "    3/2/2008     1/7/2008    6/23/2008    8/14/2008    6/21/2008    7/12/2008 \n",
      "  8.77391304   9.06666667   9.19696970   9.25757576   9.28037383   9.35849057 \n",
      "   1/19/2008    8/11/2008    3/21/2008     1/6/2008     7/2/2008    2/15/2008 \n",
      "  9.39393939   9.45801527   9.47058824   9.66355140   9.70370370   9.75200000 \n",
      "   8/25/2008    3/16/2008    6/28/2008    4/12/2008     6/5/2008    4/20/2008 \n",
      "  9.80000000   9.91525424  10.18691589  10.38613861  10.51515152  10.52586207 \n",
      "    4/5/2008   11/14/2008    7/10/2008     8/7/2008    1/21/2008     8/4/2008 \n",
      " 10.61764706  10.76851852  10.85820896  10.89230769  10.97478992  11.24800000 \n",
      "    6/6/2008     4/3/2008    5/16/2008    1/27/2008    3/28/2008     4/9/2008 \n",
      " 11.29457364  11.30468750  11.36800000  11.70000000  11.71428571  11.85123967 \n",
      "   3/27/2008    2/21/2008    6/14/2008     3/5/2008    1/13/2008    4/25/2008 \n",
      " 11.85245902  11.96610169  12.02912621  12.08800000  12.22018349  12.27419355 \n",
      "   5/22/2008    2/29/2008    4/28/2008   12/10/2008     2/7/2008    2/11/2008 \n",
      " 12.32061069  12.37903226  12.38016529  12.53773585  12.62393162  12.78761062 \n",
      "    1/3/2008     1/5/2008     6/3/2008    7/24/2008    5/27/2008     8/5/2008 \n",
      " 12.93220339  13.00000000  13.01652893  13.06766917  13.07086614  13.15447154 \n",
      "    3/3/2008    7/20/2008    1/29/2008    6/13/2008    2/25/2008   10/24/2008 \n",
      " 13.18852459  13.19008264  13.23423423  14.06451613  14.13675214  14.18421053 \n",
      "   6/16/2008    6/10/2008    2/20/2008    1/22/2008    3/20/2008     6/7/2008 \n",
      " 14.23134328  14.24031008  14.31200000  14.52678571  14.65873016  14.67619048 \n",
      "   7/22/2008    3/18/2008    6/19/2008     4/6/2008    6/29/2008     7/7/2008 \n",
      " 15.44615385  15.53781513  15.59259259  15.80645161  16.10833333  16.32592593 \n",
      "    3/6/2008     2/8/2008    2/10/2008   12/22/2008     7/6/2008     3/9/2008 \n",
      " 16.41880342  16.48245614  16.59433962  16.73333333  16.86440678  16.91452991 \n",
      "   8/15/2008   12/17/2008    6/15/2008   12/18/2008    8/10/2008     7/8/2008 \n",
      " 16.93023256  17.13592233  17.29824561  17.37254902  17.92372881  17.95041322 \n",
      "   3/19/2008    7/23/2008   12/16/2008    6/26/2008     8/2/2008    1/31/2008 \n",
      " 18.34400000  18.36153846  18.40206186  18.46268657  18.49523810  18.59813084 \n",
      "    6/8/2008    1/17/2008    2/19/2008     2/5/2008    7/31/2008     4/1/2008 \n",
      " 18.83333333  19.08928571  19.51219512  19.66055046  19.90298507  20.57480315 \n",
      "    6/4/2008     2/6/2008   12/24/2008    6/22/2008    7/27/2008    3/30/2008 \n",
      " 20.92063492  21.59405941  22.08433735  22.63636364  22.71186441  22.99152542 \n",
      "   2/18/2008    3/15/2008     3/4/2008    4/11/2008    4/10/2008     6/9/2008 \n",
      " 23.17741935  24.13861386  24.15384615  24.63934426  24.79831933  25.43181818 \n",
      "    2/1/2008     1/1/2008    6/27/2008     4/4/2008    2/13/2008     3/8/2008 \n",
      " 26.87500000  27.12844037  27.51908397  28.31746032  28.63888889  28.89690722 \n",
      "   3/31/2008     5/2/2008   12/27/2008     2/4/2008    2/26/2008     3/7/2008 \n",
      " 29.02479339  30.27272727  30.44943820  31.90909091  33.25641026  34.24576271 \n",
      "   12/1/2008    7/13/2008    2/22/2008   12/26/2008   12/21/2008   12/19/2008 \n",
      " 34.29357798  35.82608696  36.37383178  36.62068966  39.53684211  40.06185567 \n",
      "    1/2/2008   12/20/2008    2/17/2008   11/30/2008   12/23/2008    2/12/2008 \n",
      " 40.27350427  41.12941176  43.88679245  44.35514019  46.36363636  47.11428571 \n"
     ]
    }
   ],
   "source": [
    "print(sort(tapply(myDF$ArrDelay[myDF$Dest==\"IND\"], \n",
    "                  mydates[myDF$Dest==\"IND\"], \n",
    "                  mean, na.rm=TRUE)))"
   ]
  },
  {
   "cell_type": "markdown",
   "metadata": {
    "run_control": {
     "marked": false
    }
   },
   "source": [
    "#### On which day of the year were the average departure delays the worst?"
   ]
  },
  {
   "cell_type": "code",
   "execution_count": 50,
   "metadata": {
    "run_control": {
     "frozen": false,
     "read_only": false
    }
   },
   "outputs": [
    {
     "name": "stdout",
     "output_type": "stream",
     "text": [
      "   9/23/2008     9/3/2008   11/28/2008    11/4/2008    10/1/2008   11/27/2008 \n",
      "-0.007731242  0.140756417  0.231145935  0.296467147  0.416153846  0.434270929 \n",
      "   8/31/2008    9/20/2008   11/18/2008    5/25/2008   10/14/2008    9/30/2008 \n",
      " 0.453684922  0.474414750  0.568969397  0.583912249  0.696461308  0.855437814 \n",
      "  10/18/2008    9/10/2008   10/21/2008   11/23/2008    10/4/2008     9/1/2008 \n",
      " 0.884878183  0.975164751  1.041989196  1.172792855  1.195706199  1.288413644 \n",
      "   11/5/2008    10/6/2008     9/5/2008    9/17/2008    1/12/2008   10/29/2008 \n",
      " 1.313707148  1.336619341  1.365852360  1.427942794  1.521840206  1.541577474 \n",
      "    9/2/2008    9/16/2008    9/24/2008    9/18/2008     7/4/2008    4/22/2008 \n",
      " 1.730467923  1.741302760  1.764314901  1.801457976  1.818986626  1.892773193 \n",
      "  11/17/2008   10/31/2008   11/24/2008   11/19/2008    4/15/2008    9/27/2008 \n",
      " 1.922897829  2.091715005  2.099064091  2.101954074  2.128495540  2.267918796 \n",
      "   10/7/2008   10/30/2008   10/11/2008   10/20/2008   11/26/2008    4/30/2008 \n",
      " 2.373586587  2.385023017  2.400550585  2.426984297  2.499441816  2.526468562 \n",
      "   9/22/2008    11/3/2008    10/2/2008    12/6/2008    11/1/2008   10/13/2008 \n",
      " 2.532785135  2.533055390  2.545600428  2.554666852  2.580081217  2.692106527 \n",
      "   9/19/2008   11/10/2008    8/30/2008     9/7/2008    8/27/2008    11/8/2008 \n",
      " 2.733587665  2.838919976  2.862654821  2.907319820  2.950741152  2.979721509 \n",
      "   9/29/2008   10/23/2008    5/17/2008    1/16/2008     6/2/2008    5/29/2008 \n",
      " 3.035788687  3.100500373  3.125444208  3.172238108  3.219244288  3.256126250 \n",
      "   4/16/2008    12/8/2008    5/10/2008   11/25/2008   10/19/2008     5/6/2008 \n",
      " 3.259322950  3.295926850  3.316068030  3.391703080  3.392990601  3.404520061 \n",
      "   8/19/2008    12/5/2008    9/11/2008     9/6/2008    5/26/2008    10/3/2008 \n",
      " 3.452142488  3.469318431  3.529896359  3.559327966  3.570702619  3.579765708 \n",
      "  10/12/2008    5/13/2008    4/29/2008    1/15/2008     2/9/2008   10/10/2008 \n",
      " 3.634809195  3.771166114  3.787144573  3.910596199  4.012979684  4.036086310 \n",
      "   4/17/2008    4/14/2008    4/23/2008    10/9/2008    12/3/2008    10/5/2008 \n",
      " 4.043831090  4.152394917  4.156314395  4.225481308  4.240333202  4.258465203 \n",
      "   5/28/2008   11/11/2008   11/15/2008    4/19/2008   12/13/2008   10/17/2008 \n",
      " 4.267852718  4.327006477  4.342341729  4.345530858  4.380899268  4.500265986 \n",
      "  11/20/2008     9/4/2008    5/24/2008     1/9/2008    8/23/2008   11/12/2008 \n",
      " 4.501504891  4.538184941  4.547210558  4.608085172  4.694805195  4.740826702 \n",
      "   9/25/2008    4/21/2008    8/28/2008     7/1/2008    4/24/2008     7/5/2008 \n",
      " 4.770538999  4.771873323  4.798247351  4.826858723  4.992063878  4.995603015 \n",
      "  11/16/2008    8/24/2008   10/22/2008     5/4/2008    1/14/2008    7/16/2008 \n",
      " 5.003522347  5.031797500  5.036613398  5.097033920  5.102444341  5.205490007 \n",
      "   9/21/2008     4/2/2008   11/22/2008     5/1/2008    3/11/2008     5/5/2008 \n",
      " 5.246432616  5.257888528  5.260945008  5.263793442  5.356043515  5.361758762 \n",
      "   5/21/2008    12/4/2008   10/25/2008    9/28/2008    1/13/2008    2/28/2008 \n",
      " 5.368971499  5.386805937  5.414549493  5.458269763  5.477512374  5.506978816 \n",
      "    4/8/2008    8/13/2008    3/26/2008    3/24/2008     5/8/2008    10/8/2008 \n",
      " 5.538433797  5.538621725  5.539536741  5.545343735  5.601148692  5.752048956 \n",
      "   1/26/2008    4/18/2008    4/27/2008    3/13/2008     5/3/2008   10/15/2008 \n",
      " 5.812949187  5.857281648  5.880000000  5.946611610  6.053906904  6.146107456 \n",
      "    3/1/2008    3/23/2008   10/16/2008    2/27/2008    11/2/2008    1/20/2008 \n",
      " 6.170817445  6.190232293  6.210823780  6.271366033  6.318441558  6.381614691 \n",
      "    7/3/2008   11/29/2008    12/2/2008   11/21/2008    8/18/2008     4/7/2008 \n",
      " 6.554466441  6.590300398  6.615533873  6.615957162  6.663811874  6.698906809 \n",
      "   8/22/2008    5/15/2008    5/19/2008    1/30/2008    4/13/2008    9/13/2008 \n",
      " 6.750900035  6.755037845  6.761555139  6.785403450  6.809851913  6.814845579 \n",
      "   12/7/2008   10/28/2008    4/26/2008    7/17/2008    11/9/2008    7/15/2008 \n",
      " 6.822048356  6.827449425  6.848477612  6.895769525  6.907916739  6.962989946 \n",
      "  10/27/2008   10/26/2008    8/17/2008    5/18/2008    12/9/2008     9/8/2008 \n",
      " 7.018466824  7.039206773  7.075082550  7.104832020  7.216629686  7.265385850 \n",
      "    6/1/2008    9/15/2008    3/12/2008    8/12/2008    8/29/2008    1/10/2008 \n",
      " 7.290438904  7.300314032  7.333957892  7.413111546  7.413619292  7.445702264 \n",
      "    2/2/2008   12/29/2008    7/26/2008     5/7/2008    5/14/2008    3/29/2008 \n",
      " 7.467416578  7.491878972  7.532214282  7.566741685  7.610520006  7.614243323 \n",
      "   11/7/2008    7/29/2008    1/24/2008    8/20/2008     8/9/2008   12/12/2008 \n",
      " 7.789680616  7.817942467  7.932233146  8.007210094  8.076120149  8.213376673 \n",
      "    4/9/2008    4/12/2008     3/6/2008    7/30/2008     8/6/2008    4/20/2008 \n",
      " 8.297226856  8.370885019  8.504961021  8.537458339  8.544314259  8.561288000 \n",
      "   7/19/2008    6/30/2008     2/7/2008    8/26/2008    3/17/2008    8/25/2008 \n",
      " 8.599080638  8.638656680  8.667992348  8.761997940  8.773122025  8.816987916 \n",
      "   11/6/2008    7/11/2008    2/20/2008     4/3/2008    8/21/2008     3/2/2008 \n",
      " 8.879607415  8.919349406  8.979684970  8.998094587  9.053675670  9.187503265 \n",
      "   6/18/2008    5/30/2008   11/13/2008    7/18/2008    6/24/2008    5/23/2008 \n",
      " 9.238254871  9.276517959  9.310625815  9.497107892  9.517009127  9.596151973 \n",
      "   1/11/2008    5/20/2008    5/11/2008    3/14/2008    6/11/2008    6/20/2008 \n",
      " 9.630163934  9.663217691  9.664814427  9.690346966  9.809777300  9.817837631 \n",
      "  12/14/2008    1/23/2008    7/21/2008    1/29/2008    2/16/2008     6/7/2008 \n",
      " 9.915776427  9.916636349  9.931898428  9.941211242  9.969597026 10.095724169 \n",
      "   6/12/2008     4/5/2008     9/9/2008    1/19/2008    7/28/2008     3/5/2008 \n",
      "10.103952512 10.109148711 10.113264550 10.114356339 10.212524822 10.234399920 \n",
      "   7/25/2008     6/3/2008     7/2/2008    3/22/2008    9/26/2008    6/21/2008 \n",
      "10.240405399 10.258781253 10.265367462 10.280480691 10.315922403 10.395126004 \n",
      "    5/9/2008     8/3/2008    7/12/2008     1/8/2008     2/8/2008    2/19/2008 \n",
      "10.432060918 10.446196755 10.470438159 10.485084374 10.487274549 10.491531317 \n",
      "   3/25/2008    6/17/2008    6/25/2008   12/30/2008    3/10/2008    1/18/2008 \n",
      "10.492246123 10.686651584 10.770520399 10.808681848 10.924875204 11.121383835 \n",
      "   7/14/2008    7/22/2008   12/25/2008    2/25/2008    1/28/2008    8/16/2008 \n",
      "11.207410624 11.237523287 11.241335896 11.278305405 11.293870223 11.359688259 \n",
      "   5/12/2008    5/31/2008    3/16/2008    2/14/2008    1/25/2008    2/11/2008 \n",
      "11.416795492 11.485182551 11.508324313 11.520487373 11.621032949 11.660832182 \n",
      "   2/15/2008    9/14/2008    2/24/2008     8/8/2008    3/27/2008     8/1/2008 \n",
      "11.666909621 11.730719438 11.844732459 11.894841366 12.028515781 12.050195284 \n",
      "    1/7/2008    2/29/2008    9/12/2008    6/14/2008   12/31/2008   10/24/2008 \n",
      "12.066015783 12.162214499 12.178884149 12.389132389 12.390035494 12.482846657 \n",
      "    3/3/2008    8/14/2008    4/25/2008   12/11/2008    5/22/2008    2/10/2008 \n",
      "12.604516939 12.665722656 12.716049998 12.738033416 12.750844223 12.784187456 \n",
      "   2/23/2008     4/6/2008     8/5/2008    3/28/2008    5/16/2008    6/28/2008 \n",
      "12.784345431 12.791419890 12.930764206 12.938704028 12.988021012 13.178587419 \n",
      "   7/20/2008     1/4/2008     7/9/2008   12/10/2008    3/20/2008     2/3/2008 \n",
      "13.510965134 13.758581349 13.810598575 14.153486223 14.226936818 14.369978509 \n",
      "   2/21/2008     3/4/2008    6/10/2008    6/19/2008     2/5/2008    5/27/2008 \n",
      "14.530565167 14.787761425 14.949590328 14.950226024 14.983286303 15.072072990 \n",
      "   4/28/2008     2/6/2008     8/7/2008     6/5/2008     4/1/2008   12/28/2008 \n",
      "15.120856147 15.220259328 15.321490973 15.369310666 15.426668685 15.821885580 \n",
      "    6/6/2008     1/3/2008    6/13/2008    3/30/2008    1/22/2008    3/21/2008 \n",
      "15.926238352 16.112305737 16.174825856 16.222147198 16.235133836 16.506102900 \n",
      "  11/14/2008     3/9/2008    4/11/2008     1/6/2008     6/9/2008     7/7/2008 \n",
      "16.604543221 16.690081335 16.783667911 16.822421151 16.858183967 16.917280917 \n",
      "   6/27/2008    7/10/2008    6/15/2008    6/23/2008     1/5/2008     8/2/2008 \n",
      "16.993660472 17.242992019 17.289558335 17.360124702 17.386419122 17.393246930 \n",
      "    7/8/2008    1/17/2008    8/10/2008     8/4/2008    3/15/2008    8/11/2008 \n",
      "17.579062702 17.595650381 17.664173678 18.129812488 18.144416555 18.217116714 \n",
      "    7/6/2008     2/4/2008   12/15/2008     6/4/2008    7/23/2008    7/24/2008 \n",
      "18.455122393 18.569742257 18.610513874 18.641811253 18.655638563 18.756485849 \n",
      "   1/21/2008    3/18/2008    2/26/2008     1/1/2008    2/17/2008    7/31/2008 \n",
      "18.831824194 18.929513983 18.973356561 19.013953738 19.129930912 19.255572282 \n",
      "   6/26/2008   12/16/2008     6/8/2008    8/15/2008    4/10/2008    6/22/2008 \n",
      "19.266083576 19.328175603 19.342066653 19.443067963 19.512329051 19.631425800 \n",
      "   6/16/2008    1/27/2008    2/18/2008    6/29/2008     3/7/2008    1/31/2008 \n",
      "19.902679412 19.985670532 20.092823635 20.222000410 20.664613348 20.666180150 \n",
      "   2/12/2008    7/27/2008     1/2/2008    2/13/2008   12/17/2008     5/2/2008 \n",
      "21.749901933 22.048173967 22.165288852 22.255158773 22.308322825 23.264356834 \n",
      "   3/19/2008     2/1/2008    3/31/2008   12/18/2008    2/22/2008    7/13/2008 \n",
      "24.252645834 24.503730951 24.890742625 25.093355053 25.821848649 26.526984951 \n",
      "    4/4/2008     3/8/2008   12/26/2008   12/22/2008   12/24/2008    12/1/2008 \n",
      "27.053870710 28.859644686 30.010532944 31.217242155 32.060646540 32.081040004 \n",
      "  12/20/2008   11/30/2008   12/27/2008   12/23/2008   12/19/2008   12/21/2008 \n",
      "34.153593085 34.191394659 34.703404282 35.493148377 38.848105790 38.865549372 \n"
     ]
    }
   ],
   "source": [
    "print(sort(tapply(myDF$DepDelay, \n",
    "                  mydates, \n",
    "                  mean, na.rm=TRUE)))\n",
    "# On average, the departure delays were 38.865549372 minutes on 12/21/2008."
   ]
  },
  {
   "cell_type": "markdown",
   "metadata": {},
   "source": [
    "#### On which day of the year were the average departure times the worst for flights departing from O’Hare (ORD)?"
   ]
  },
  {
   "cell_type": "code",
   "execution_count": 51,
   "metadata": {
    "run_control": {
     "frozen": false,
     "read_only": false
    },
    "scrolled": false
   },
   "outputs": [
    {
     "name": "stdout",
     "output_type": "stream",
     "text": [
      "  11/28/2008    11/4/2008   10/11/2008   11/27/2008    10/4/2008    11/5/2008 \n",
      " -1.80877743  -0.80322209  -0.76587302  -0.60104530  -0.08211921   0.06382979 \n",
      "  10/14/2008     9/3/2008   10/21/2008   11/29/2008    11/1/2008   10/18/2008 \n",
      "  0.32446809   0.45323741   0.52547771   0.55808081   0.70911528   0.86737401 \n",
      "  11/23/2008    9/10/2008    10/6/2008    8/30/2008   10/12/2008     5/6/2008 \n",
      "  0.92874109   0.96932515   1.06398349   1.20348059   1.21172638   1.25074627 \n",
      "  11/26/2008     9/1/2008    9/16/2008   10/13/2008   10/10/2008    9/27/2008 \n",
      "  1.34108527   1.51167513   1.62367865   1.62836439   1.62939959   1.70418848 \n",
      "  10/31/2008    10/9/2008   10/19/2008    4/19/2008    9/23/2008    5/25/2008 \n",
      "  1.70525188   1.89740933   1.91096634   2.02470588   2.03789474   2.09057971 \n",
      "    7/4/2008   11/18/2008    5/24/2008   11/25/2008    11/3/2008    8/24/2008 \n",
      "  2.10765240   2.16627907   2.17233294   2.29287305   2.35754190   2.42012448 \n",
      "  10/23/2008    9/19/2008     9/7/2008   11/22/2008    10/1/2008    9/11/2008 \n",
      "  2.47308489   2.58588957   2.70967742   2.75804196   2.76495278   2.79979571 \n",
      "   11/2/2008   11/10/2008   11/19/2008   12/13/2008    8/25/2008    9/17/2008 \n",
      "  2.81582054   2.83445946   2.96300448   2.99294781   3.05329457   3.22997947 \n",
      "    9/2/2008    11/8/2008   10/22/2008    8/31/2008    4/30/2008    4/15/2008 \n",
      "  3.45267490   3.46025105   3.48390447   3.52356021   3.56237817   3.56888008 \n",
      "   4/22/2008    5/28/2008   10/30/2008   10/29/2008   10/17/2008    8/18/2008 \n",
      "  3.58788481   3.61960784   3.67014614   3.68333333   3.70454545   3.73921381 \n",
      "  11/15/2008    10/2/2008    1/16/2008    10/5/2008    11/9/2008     9/5/2008 \n",
      "  3.76150628   3.82505176   3.96098563   4.01090513   4.08530806   4.11562500 \n",
      "   8/19/2008    5/29/2008    8/13/2008     6/2/2008    9/18/2008    8/27/2008 \n",
      "  4.12362911   4.19196866   4.20582524   4.34141610   4.35860656   4.37074148 \n",
      "   1/12/2008    9/22/2008    9/20/2008    9/25/2008    5/18/2008    5/26/2008 \n",
      "  4.37403599   4.38211382   4.39107612   4.53435897   4.56486210   4.57282502 \n",
      "  10/25/2008    7/15/2008    5/10/2008    3/11/2008    1/15/2008    5/17/2008 \n",
      "  4.59313078   4.80576923   4.88511137   5.01516684   5.08000000   5.09860789 \n",
      "   3/12/2008    5/21/2008    9/30/2008    3/26/2008    8/20/2008    9/28/2008 \n",
      "  5.26900000   5.32778865   5.33930453   5.43440860   5.47770069   5.51453175 \n",
      "   10/3/2008     7/5/2008    4/29/2008    4/17/2008     7/1/2008    8/28/2008 \n",
      "  5.54771784   5.62696629   5.64960630   5.68252427   5.71497585   5.78404669 \n",
      "   3/29/2008     9/6/2008    8/21/2008     4/7/2008    5/23/2008     3/6/2008 \n",
      "  5.91491985   5.94063325   5.97187197   6.04580897   6.12512031   6.12968592 \n",
      "   7/30/2008    10/8/2008    5/15/2008    8/12/2008   10/20/2008    3/24/2008 \n",
      "  6.30563515   6.32087227   6.33009709   6.33040078   6.42061856   6.49403579 \n",
      "   12/4/2008    8/29/2008     5/5/2008   11/24/2008    2/28/2008    8/23/2008 \n",
      "  6.57800224   6.61143411   6.64785992   6.66517357   6.70803662   6.71942446 \n",
      "  12/29/2008    3/13/2008     4/2/2008     5/1/2008    12/8/2008   12/12/2008 \n",
      "  6.74570447   6.75972084   6.79076621   6.79411765   6.83972125   7.22460497 \n",
      "  11/13/2008    3/14/2008   10/28/2008    4/14/2008    5/19/2008    7/29/2008 \n",
      "  7.24076148   7.28444004   7.41928494   7.43095005   7.44422701   7.49663138 \n",
      "   7/16/2008    9/24/2008    7/26/2008     3/1/2008    4/20/2008    6/24/2008 \n",
      "  7.54030710   7.67110656   7.74555556   7.75434243   7.76852792   7.80310378 \n",
      "    4/6/2008   10/24/2008     4/5/2008    4/18/2008   11/14/2008     6/1/2008 \n",
      "  7.81134021   7.83850932   7.83859223   7.90722656   7.91582492   8.03669725 \n",
      "    1/9/2008     5/8/2008    8/17/2008   11/16/2008    6/19/2008     5/4/2008 \n",
      "  8.08255934   8.14019608   8.14501511   8.18712753   8.24065197   8.30524152 \n",
      "   12/5/2008   11/20/2008    6/21/2008    9/15/2008    3/23/2008    4/21/2008 \n",
      "  8.44319460   8.50334076   8.56708005   8.61387164   8.66386555   8.68590998 \n",
      "   8/26/2008   10/16/2008   11/21/2008     7/3/2008    7/17/2008    1/13/2008 \n",
      "  8.72111554   8.76994819   8.80335196   8.81506196   8.82437620   8.85650224 \n",
      "   4/13/2008    4/27/2008    8/16/2008    5/12/2008   12/11/2008    6/18/2008 \n",
      "  8.96954315   8.99178645   9.04836895   9.05386876   9.07990868   9.09565217 \n",
      "   5/31/2008    2/23/2008    5/20/2008    9/26/2008     8/8/2008    3/15/2008 \n",
      "  9.21561772   9.31552795   9.31881188   9.38627049   9.39000961   9.51231527 \n",
      "  11/17/2008    2/16/2008    1/24/2008    3/16/2008     3/5/2008    2/24/2008 \n",
      "  9.54292085   9.54487990   9.58588957   9.67928496   9.79776423   9.81493165 \n",
      "   12/2/2008     8/9/2008    5/13/2008   12/31/2008    7/25/2008    7/22/2008 \n",
      "  9.89580974  10.01238739  10.03209629  10.09392265  10.19980695  10.25096154 \n",
      "    7/6/2008    5/22/2008    2/20/2008    6/30/2008     8/6/2008     5/9/2008 \n",
      " 10.32544379  10.37974684  10.56036217  10.57266603  10.59901961  10.80471050 \n",
      "   8/14/2008   12/14/2008   12/30/2008    12/3/2008    4/23/2008     8/3/2008 \n",
      " 10.82358674  10.84280532  11.10388128  11.13048636  11.13437196  11.21641026 \n",
      "    1/4/2008    5/27/2008    1/27/2008    2/27/2008    12/7/2008    10/7/2008 \n",
      " 11.32558140  11.41906653  11.54426230  11.95171026  12.00598086  12.16221985 \n",
      "    8/7/2008     5/3/2008     9/9/2008   11/11/2008     2/9/2008    12/6/2008 \n",
      " 12.45330739  12.46407538  12.47783784  12.47856315  12.52220727  12.76511955 \n",
      "   7/28/2008    6/14/2008    3/10/2008    1/20/2008    8/10/2008    1/11/2008 \n",
      " 13.33877159  13.34514286  13.40404040  13.48675497  13.74089490  13.79648760 \n",
      "    4/9/2008    11/7/2008    2/21/2008     4/3/2008    7/21/2008     1/3/2008 \n",
      " 13.80117647  13.89342404  14.25181347  14.25904203  14.38551859  14.39518556 \n",
      "   3/20/2008    7/23/2008    9/29/2008    7/14/2008    2/14/2008    4/12/2008 \n",
      " 14.61122244  14.65243902  14.75000000  14.75521822  14.76291793  14.78484108 \n",
      "   8/15/2008    8/11/2008    6/17/2008    1/26/2008   12/18/2008     7/8/2008 \n",
      " 14.79571984  14.88965517  15.04057971  15.13071895  15.33293698  15.47984267 \n",
      "   5/16/2008    4/24/2008    6/23/2008   12/10/2008    6/11/2008    7/20/2008 \n",
      " 15.51115422  15.65429688  15.67661213  15.75320140  16.04863813  16.25997953 \n",
      "   1/19/2008    3/17/2008     3/2/2008     7/9/2008    1/10/2008    5/14/2008 \n",
      " 16.55684755  16.60122075  16.63463569  17.05792350  17.09801877  17.12007874 \n",
      "    8/2/2008    8/22/2008     3/4/2008    11/6/2008    3/28/2008    6/10/2008 \n",
      " 17.22811060  17.27870461  17.32244468  18.26674365  18.35070140  18.53174603 \n",
      "   2/19/2008     9/8/2008    7/27/2008     3/7/2008   10/27/2008    7/11/2008 \n",
      " 18.82153846  18.90861890  19.05995935  20.05681818  20.10890052  20.36971485 \n",
      "   6/20/2008    4/16/2008    2/15/2008    1/30/2008   10/15/2008     2/7/2008 \n",
      " 20.39399806  20.60639361  20.82412060  20.86933045  21.02444208  21.25105042 \n",
      "    2/2/2008   11/12/2008   12/28/2008    9/21/2008    6/25/2008    7/12/2008 \n",
      " 21.33831522  21.45224396  21.56552538  21.64022346  21.71893491  21.74715262 \n",
      "  10/26/2008    6/12/2008    7/24/2008     4/4/2008   12/25/2008     4/8/2008 \n",
      " 22.00436205  22.10433071  22.25320197  22.30814524  22.74895978  22.78111111 \n",
      "   1/25/2008    2/13/2008    1/14/2008    6/26/2008    2/22/2008    7/13/2008 \n",
      " 23.60640496  23.94261424  24.18238342  24.66927593  25.02801724  25.26470588 \n",
      "   3/19/2008    3/22/2008     1/5/2008    4/26/2008    1/18/2008     4/1/2008 \n",
      " 25.33061224  26.22360248  26.31228070  26.61603888  26.64853556  26.83266129 \n",
      "   6/27/2008    6/22/2008     3/8/2008    3/30/2008   12/17/2008     3/3/2008 \n",
      " 27.24609375  28.52808989  28.80888291  28.99458874  29.02840237  29.04347826 \n",
      "    7/2/2008    12/9/2008    6/16/2008    6/28/2008     8/1/2008    7/19/2008 \n",
      " 29.44263959  29.54651163  29.66237624  29.77056779  29.93849206  30.45733788 \n",
      "   7/18/2008     3/9/2008   12/15/2008     2/8/2008    2/10/2008     6/7/2008 \n",
      " 30.60647694  30.80151025  31.34832757  31.71475410  32.40022805  32.92261905 \n",
      "    8/5/2008     5/7/2008     9/4/2008    3/25/2008     6/5/2008     6/4/2008 \n",
      " 33.31041456  33.44366899  34.74943567  34.94031414  35.26178536  35.54554759 \n",
      "   7/31/2008     7/7/2008    6/29/2008     6/9/2008     1/6/2008    4/28/2008 \n",
      " 35.66965174  35.72259942  36.35602094  36.62315996  36.67027677  37.22796353 \n",
      "   7/10/2008    9/12/2008    4/11/2008     2/5/2008    2/11/2008     1/8/2008 \n",
      " 37.31230926  37.73369565  37.93362350  37.96486826  38.31413043  38.44273128 \n",
      "   5/11/2008    6/13/2008    9/14/2008     6/3/2008    3/18/2008    1/28/2008 \n",
      " 38.80603949  40.41935484  40.73580533  41.88683351  42.00337079  42.65254237 \n",
      "   9/13/2008     1/2/2008    1/23/2008    1/29/2008     2/3/2008    2/17/2008 \n",
      " 42.74045802  43.07083333  43.28505214  43.34297521  43.49870466  43.95918367 \n",
      "   2/29/2008    2/25/2008   12/20/2008    4/25/2008   12/22/2008    2/18/2008 \n",
      " 45.29798515  47.11750600  47.68850267  48.66292135  50.88421053  51.02896996 \n",
      "  12/16/2008    2/26/2008    5/30/2008    3/27/2008     1/7/2008    1/21/2008 \n",
      " 52.00436681  52.11138924  53.98893805  54.13725490  54.94275701  55.12971175 \n",
      "  11/30/2008     2/4/2008    1/31/2008     2/1/2008    6/15/2008     6/6/2008 \n",
      " 55.98433735  56.48679868  56.56671664  56.71330590  57.35469613  58.55248619 \n",
      "   4/10/2008     1/1/2008     6/8/2008     2/6/2008   12/19/2008   12/27/2008 \n",
      " 59.75849515  59.89608802  61.17318436  62.29411765  62.45887446  62.79452055 \n",
      "   1/17/2008    1/22/2008    3/31/2008    3/21/2008   12/21/2008   12/26/2008 \n",
      " 63.91299304  65.04561003  67.92673522  71.76143791  73.10123119  73.21019108 \n",
      "  12/24/2008     5/2/2008    2/12/2008    12/1/2008     8/4/2008   12/23/2008 \n",
      " 73.30453880  73.92417062  75.47218260  84.63250883 107.96884273 111.03069467 \n"
     ]
    }
   ],
   "source": [
    "print(sort(tapply(myDF$DepDelay[myDF$Origin==\"ORD\"], \n",
    "                  mydates[myDF$Origin==\"ORD\"], \n",
    "                  mean, na.rm=TRUE)))\n",
    "# On average, the departure delays from ORD were 111.03069467 minutes on 12/23/2008."
   ]
  },
  {
   "cell_type": "markdown",
   "metadata": {},
   "source": [
    "#### Categorize the Expected arrival delay for the flights from ORD to IND according to the date?"
   ]
  },
  {
   "cell_type": "code",
   "execution_count": 52,
   "metadata": {
    "run_control": {
     "frozen": false,
     "read_only": false
    },
    "scrolled": true
   },
   "outputs": [
    {
     "name": "stdout",
     "output_type": "stream",
     "text": [
      "  11/27/2008   11/28/2008   11/26/2008    11/4/2008   11/23/2008   11/25/2008 \n",
      "-17.40000000 -14.71428571 -13.00000000 -12.80000000 -12.50000000 -11.30000000 \n",
      "   11/8/2008   11/10/2008   11/16/2008   11/29/2008    11/1/2008   11/22/2008 \n",
      "-11.11111111 -10.80000000 -10.33333333 -10.22222222  -9.90909091  -9.44444444 \n",
      "   5/28/2008   12/29/2008   12/31/2008    11/5/2008   10/18/2008    8/30/2008 \n",
      " -8.90909091  -8.77777778  -8.62500000  -8.10000000  -8.00000000  -7.88888889 \n",
      "   12/4/2008    5/18/2008    5/24/2008    10/3/2008    3/12/2008   10/21/2008 \n",
      " -7.80000000  -7.53846154  -7.40000000  -7.33333333  -7.18181818  -7.16666667 \n",
      "   8/18/2008    9/17/2008   11/18/2008    5/10/2008    5/25/2008    8/31/2008 \n",
      " -7.15384615  -7.08333333  -7.00000000  -7.00000000  -6.81818182  -6.62500000 \n",
      "   9/16/2008   11/19/2008     9/5/2008    9/10/2008    9/20/2008   11/15/2008 \n",
      " -6.50000000  -6.40000000  -6.33333333  -5.91666667  -5.72727273  -5.55555556 \n",
      "   1/16/2008    5/17/2008    4/27/2008     7/1/2008    10/1/2008    9/28/2008 \n",
      " -5.54545455  -5.40000000  -5.23076923  -5.15384615  -5.08333333  -5.00000000 \n",
      "   11/3/2008   12/12/2008    9/26/2008    9/18/2008    6/18/2008    9/23/2008 \n",
      " -4.60000000  -4.60000000  -4.50000000  -4.33333333  -4.15384615  -3.91666667 \n",
      "   5/20/2008     7/4/2008    4/20/2008    10/4/2008    5/19/2008    10/2/2008 \n",
      " -3.90909091  -3.87500000  -3.84615385  -3.72727273  -3.63636364  -3.50000000 \n",
      "    9/1/2008   10/11/2008    8/19/2008   11/13/2008    4/19/2008    9/27/2008 \n",
      " -3.41666667  -3.36363636  -3.30769231  -3.30000000  -3.30000000  -3.18181818 \n",
      "   11/2/2008    8/13/2008    9/25/2008     3/6/2008    8/20/2008    6/23/2008 \n",
      " -3.00000000  -2.69230769  -2.66666667  -2.54545455  -2.46153846  -2.41666667 \n",
      "   1/12/2008     4/6/2008    5/27/2008   11/17/2008    2/23/2008    5/21/2008 \n",
      " -2.27272727  -2.23076923  -2.18181818  -1.90000000  -1.90000000  -1.27272727 \n",
      "   7/16/2008    8/24/2008    1/15/2008     5/6/2008    8/12/2008    5/26/2008 \n",
      " -1.23076923  -1.18181818  -0.90909091  -0.81818182  -0.76923077  -0.69230769 \n",
      "   8/27/2008   11/14/2008     8/7/2008   10/13/2008    5/31/2008    9/22/2008 \n",
      " -0.61538462  -0.50000000  -0.38461538  -0.33333333  -0.10000000  -0.08333333 \n",
      "   5/16/2008     7/5/2008    7/22/2008    6/14/2008     8/2/2008    3/24/2008 \n",
      "  0.09090909   0.27272727   0.30769231   0.36363636   0.36363636   0.45454545 \n",
      "   4/29/2008    5/29/2008     1/9/2008    8/23/2008    3/13/2008     4/7/2008 \n",
      "  0.45454545   0.54545455   0.63636364   0.72727273   0.81818182   0.81818182 \n",
      "   4/23/2008    9/19/2008    8/14/2008    10/9/2008    3/23/2008    4/22/2008 \n",
      "  0.90000000   0.91666667   0.92307692   1.00000000   1.00000000   1.00000000 \n",
      "  10/30/2008   10/14/2008    6/21/2008    4/15/2008    5/23/2008    11/6/2008 \n",
      "  1.08333333   1.25000000   1.72727273   1.81818182   1.81818182   1.88888889 \n",
      "    9/7/2008     8/6/2008   10/10/2008   10/29/2008   12/13/2008    1/27/2008 \n",
      "  2.00000000   2.38461538   2.41666667   2.41666667   2.44444444   2.63636364 \n",
      "   8/25/2008   10/17/2008     7/3/2008    10/6/2008     8/8/2008   10/12/2008 \n",
      "  2.69230769   2.83333333   2.84615385   3.00000000   3.00000000   3.07142857 \n",
      "   9/30/2008    3/10/2008    3/29/2008     5/9/2008    10/8/2008     6/2/2008 \n",
      "  3.08333333   3.09090909   3.10000000   3.18181818   3.50000000   3.50000000 \n",
      "   7/26/2008    7/23/2008    8/21/2008     2/9/2008     3/1/2008    1/13/2008 \n",
      "  3.54545455   3.61538462   3.61538462   3.63636364   3.80000000   3.81818182 \n",
      "   6/30/2008    8/10/2008     5/4/2008   10/28/2008    9/11/2008    4/16/2008 \n",
      "  3.84615385   3.90909091   4.00000000   4.16666667   4.16666667   4.20000000 \n",
      "  10/19/2008    4/26/2008    1/24/2008     7/6/2008   10/22/2008    5/12/2008 \n",
      "  4.21428571   4.30000000   4.36363636   4.41666667   4.50000000   4.50000000 \n",
      "   12/8/2008    6/19/2008    4/17/2008   10/31/2008    1/19/2008   10/25/2008 \n",
      "  4.60000000   4.61538462   4.63636364   4.75000000   4.81818182   4.81818182 \n",
      "   2/16/2008    3/15/2008     8/9/2008     6/1/2008    8/17/2008   10/16/2008 \n",
      "  4.88888889   5.00000000   5.00000000   5.07142857   5.08333333   5.16666667 \n",
      "   1/20/2008    9/15/2008    3/14/2008    4/30/2008   12/30/2008     7/9/2008 \n",
      "  5.18181818   5.25000000   5.27272727   5.45454545   5.66666667   5.66666667 \n",
      "   5/15/2008   10/20/2008     3/2/2008    8/16/2008    5/22/2008     9/9/2008 \n",
      "  5.90909091   5.91666667   6.09090909   6.09090909   6.18181818   6.25000000 \n",
      "    3/5/2008    1/11/2008    9/29/2008    7/15/2008    7/13/2008    9/24/2008 \n",
      "  6.36363636   6.54545455   7.00000000   7.46153846   7.50000000   7.66666667 \n",
      "   8/11/2008   12/11/2008    6/24/2008    12/2/2008    8/28/2008    3/19/2008 \n",
      "  7.69230769   7.70000000   8.07692308   8.10000000   8.23076923   8.27272727 \n",
      "    9/6/2008   12/25/2008     1/3/2008    7/25/2008    7/14/2008   11/24/2008 \n",
      "  8.30000000   8.33333333   8.40000000   8.58333333   8.69230769   8.90000000 \n",
      "    4/3/2008   11/11/2008     5/8/2008     1/4/2008   11/21/2008     4/8/2008 \n",
      "  8.90909091   9.00000000   9.09090909   9.30000000   9.30000000   9.30000000 \n",
      "   7/30/2008   12/10/2008    3/11/2008     4/9/2008     5/1/2008    11/7/2008 \n",
      "  9.38461538   9.80000000   9.81818182   9.90000000  10.18181818  10.20000000 \n",
      "   6/28/2008     4/2/2008     5/3/2008    7/29/2008    12/7/2008     5/5/2008 \n",
      " 10.27272727  10.36363636  10.60000000  10.76923077  11.00000000  11.09090909 \n",
      "   2/24/2008    7/24/2008    4/18/2008    10/5/2008    7/28/2008     9/2/2008 \n",
      " 11.45454545  11.46153846  11.90909091  11.92307692  11.92307692  12.09090909 \n",
      "   4/12/2008    2/14/2008    1/26/2008    3/17/2008   10/23/2008    12/5/2008 \n",
      " 12.10000000  12.36363636  12.63636364  12.90909091  13.00000000  13.00000000 \n",
      "   3/26/2008    4/13/2008    8/15/2008    3/22/2008    2/28/2008    2/27/2008 \n",
      " 13.40000000  13.69230769  13.72727273  13.80000000  13.90000000  14.00000000 \n",
      "   12/3/2008   10/27/2008    8/29/2008     8/3/2008    11/9/2008    10/7/2008 \n",
      " 14.30000000  14.33333333  14.54545455  14.54545455  14.60000000  14.66666667 \n",
      "  12/20/2008     9/3/2008    3/30/2008    9/21/2008     3/9/2008   12/14/2008 \n",
      " 15.12500000  15.16666667  15.50000000  15.66666667  15.72727273  15.90000000 \n",
      "   2/19/2008    6/10/2008   12/18/2008    2/21/2008   11/20/2008    3/16/2008 \n",
      " 16.54545455  16.75000000  16.77777778  16.81818182  17.00000000  17.30000000 \n",
      "   3/28/2008   12/15/2008    4/24/2008   10/26/2008    1/14/2008    12/6/2008 \n",
      " 17.45454545  17.60000000  17.63636364  18.14285714  18.18181818  18.33333333 \n",
      "    2/2/2008    3/20/2008    7/17/2008    6/16/2008    7/27/2008     2/3/2008 \n",
      " 18.54545455  18.54545455  18.84615385  19.07692308  19.08333333  19.44444444 \n",
      "  12/17/2008    7/21/2008     8/5/2008    6/17/2008    8/26/2008   12/28/2008 \n",
      " 19.70000000  19.75000000  20.27272727  20.46153846  20.69230769  20.88888889 \n",
      "  10/24/2008    5/14/2008    1/10/2008    5/13/2008     6/5/2008    7/20/2008 \n",
      " 20.91666667  21.09090909  21.18181818  21.18181818  21.30769231  21.54545455 \n",
      "   2/13/2008     7/2/2008     8/1/2008     3/7/2008     5/7/2008     3/4/2008 \n",
      " 21.81818182  22.08333333  22.36363636  22.45454545  22.45454545  23.10000000 \n",
      "   1/25/2008    1/18/2008   12/27/2008    4/14/2008     4/5/2008     7/8/2008 \n",
      " 23.18181818  23.30000000  24.33333333  24.81818182  25.10000000  25.18181818 \n",
      "   9/12/2008   11/12/2008    2/15/2008    6/20/2008    6/11/2008   10/15/2008 \n",
      " 25.72727273  25.88888889  25.90909091  25.90909091  26.00000000  26.16666667 \n",
      "   4/21/2008     2/5/2008     9/8/2008     4/4/2008     3/8/2008    6/22/2008 \n",
      " 26.18181818  26.66666667  26.90909091  27.36363636  27.50000000  28.00000000 \n",
      "   6/26/2008    6/25/2008    7/11/2008    4/28/2008     1/8/2008    9/13/2008 \n",
      " 28.76923077  29.25000000  30.50000000  30.54545455  30.80000000  31.22222222 \n",
      "   4/11/2008     1/5/2008     4/1/2008    7/10/2008    4/10/2008    2/25/2008 \n",
      " 31.88888889  32.44444444  32.60000000  34.00000000  34.10000000  34.37500000 \n",
      "    2/7/2008   12/22/2008    12/9/2008    7/12/2008    7/19/2008     2/6/2008 \n",
      " 34.90000000  35.37500000  35.75000000  36.11111111  37.09090909  37.50000000 \n",
      "    9/4/2008    6/29/2008    4/25/2008    5/11/2008    2/20/2008    7/31/2008 \n",
      " 37.70000000  38.75000000  39.40000000  39.63636364  41.45454545  42.07692308 \n",
      "   7/18/2008    2/29/2008    1/30/2008    2/22/2008     1/2/2008    3/25/2008 \n",
      " 42.91666667  43.00000000  43.36363636  44.09090909  44.40000000  44.54545455 \n",
      "    6/6/2008    6/12/2008    1/23/2008    2/10/2008    3/18/2008   12/24/2008 \n",
      " 45.87500000  46.61538462  47.40000000  47.54545455  50.33333333  50.80000000 \n",
      "   1/21/2008   12/19/2008     3/3/2008    8/22/2008   11/30/2008    1/28/2008 \n",
      " 51.90000000  53.12500000  53.50000000  54.33333333  55.37500000  56.87500000 \n",
      "   2/11/2008     1/6/2008    2/18/2008    9/14/2008     7/7/2008    1/22/2008 \n",
      " 58.72727273  58.87500000  59.18181818  59.30000000  60.18181818  61.22222222 \n",
      "    1/7/2008     6/9/2008    6/27/2008    6/13/2008    3/27/2008     6/7/2008 \n",
      " 61.55555556  61.61538462  62.18181818  62.37500000  63.44444444  63.71428571 \n",
      "    6/8/2008    1/17/2008     6/4/2008   12/16/2008    5/30/2008    6/15/2008 \n",
      " 65.33333333  67.12500000  68.63636364  70.00000000  70.44444444  71.33333333 \n",
      "   2/17/2008     6/3/2008   12/26/2008    1/29/2008     8/4/2008   12/21/2008 \n",
      " 73.16666667  76.50000000  77.20000000  81.37500000  81.60000000  82.62500000 \n",
      "    2/8/2008    1/31/2008    3/31/2008     2/1/2008     5/2/2008    2/26/2008 \n",
      " 83.00000000  86.12500000  87.85714286  93.77777778 101.50000000 106.71428571 \n",
      "   3/21/2008    12/1/2008     1/1/2008    2/12/2008   12/23/2008 \n",
      "111.75000000 114.42857143 123.50000000 142.80000000 186.66666667 \n"
     ]
    }
   ],
   "source": [
    "ORDtoIND  <-  myDF$Dest==\"IND\" & myDF$Origin==\"ORD\"\n",
    "print(sort(tapply(myDF$ArrDelay[ORDtoIND], mydates[ORDtoIND], mean, na.rm=TRUE )))\n",
    "# December 23rd there is 3 hrs delay , Feb 12th 142 mins delay on average may be due to bad whether or any other reason"
   ]
  },
  {
   "cell_type": "markdown",
   "metadata": {},
   "source": [
    "#### Consider flights that departed from ATL and landed at LAX in 2008. For how many days of the year were the average departure delays more than 90 minutes?"
   ]
  },
  {
   "cell_type": "code",
   "execution_count": 53,
   "metadata": {
    "run_control": {
     "frozen": false,
     "read_only": false
    }
   },
   "outputs": [
    {
     "name": "stdout",
     "output_type": "stream",
     "text": [
      "   1/29/2008    4/16/2008    5/25/2008    9/24/2008    9/28/2008     9/4/2008 \n",
      " -2.20000000  -1.73333333  -1.57142857  -1.46153846  -1.35714286  -1.00000000 \n",
      "  11/26/2008   11/23/2008     2/5/2008    4/23/2008    9/30/2008    8/31/2008 \n",
      " -0.85714286  -0.76923077  -0.66666667  -0.66666667  -0.61538462  -0.53846154 \n",
      "   9/10/2008    9/13/2008    1/11/2008   10/21/2008    5/26/2008   10/29/2008 \n",
      " -0.53846154  -0.38461538  -0.33333333  -0.21428571  -0.06666667   0.00000000 \n",
      "   1/24/2008    8/27/2008    10/3/2008    10/1/2008    4/26/2008    4/25/2008 \n",
      "  0.06666667   0.06666667   0.21428571   0.46153846   0.66666667   0.68750000 \n",
      "   1/22/2008   11/25/2008    6/20/2008   10/22/2008    9/18/2008    1/10/2008 \n",
      "  0.71428571   0.71428571   0.75000000   0.78571429   0.78571429   0.80000000 \n",
      "    4/2/2008    4/24/2008    11/5/2008    4/22/2008     7/2/2008    9/29/2008 \n",
      "  0.80000000   0.81250000   0.85714286   0.86666667   0.87500000   0.92307692 \n",
      "    5/4/2008   11/19/2008    9/25/2008    10/7/2008    8/23/2008    8/22/2008 \n",
      "  1.00000000   1.14285714   1.20000000   1.21428571   1.21428571   1.26666667 \n",
      "    9/1/2008     9/7/2008    3/22/2008    2/28/2008    4/19/2008    2/10/2008 \n",
      "  1.26666667   1.28571429   1.33333333   1.35714286   1.40000000   1.46666667 \n",
      "  10/14/2008     3/1/2008    11/2/2008     9/3/2008   12/25/2008     2/2/2008 \n",
      "  1.50000000   1.50000000   1.53846154   1.57142857   1.66666667   1.84615385 \n",
      "   5/13/2008    4/18/2008     7/4/2008    9/11/2008    3/11/2008    1/23/2008 \n",
      "  1.93333333   1.93750000   2.00000000   2.00000000   2.06666667   2.14285714 \n",
      "  11/24/2008    8/30/2008    9/14/2008    10/4/2008    11/8/2008    2/11/2008 \n",
      "  2.14285714   2.16666667   2.21428571   2.23076923   2.25000000   2.26666667 \n",
      "  10/23/2008     9/5/2008    9/22/2008    6/18/2008    8/19/2008    10/2/2008 \n",
      "  2.33333333   2.33333333   2.42857143   2.50000000   2.50000000   2.60000000 \n",
      "    2/8/2008     5/6/2008   12/12/2008    4/29/2008    12/6/2008     9/6/2008 \n",
      "  2.60000000   2.60000000   2.61538462   2.73333333   2.75000000   2.76923077 \n",
      "   2/16/2008   12/13/2008   11/10/2008    9/21/2008     5/1/2008    7/28/2008 \n",
      "  2.78571429   2.83333333   2.85714286   2.85714286   3.06666667   3.12500000 \n",
      "    8/8/2008   12/31/2008    9/17/2008     2/6/2008     5/8/2008     8/9/2008 \n",
      "  3.29411765   3.30769231   3.30769231   3.35714286   3.37500000   3.37500000 \n",
      "   1/30/2008    9/16/2008     6/1/2008     9/2/2008   10/26/2008    8/29/2008 \n",
      "  3.42857143   3.46153846   3.46666667   3.46666667   3.50000000   3.56250000 \n",
      "  11/21/2008     3/5/2008    5/29/2008    5/23/2008     9/9/2008    5/27/2008 \n",
      "  3.64285714   3.66666667   3.68750000   3.75000000   3.76923077   3.81250000 \n",
      "   3/25/2008    10/5/2008    8/16/2008    5/19/2008    6/24/2008    8/28/2008 \n",
      "  3.86666667   3.93333333   4.00000000   4.06250000   4.06250000   4.06250000 \n",
      "   1/21/2008     1/7/2008   11/18/2008     6/3/2008    11/9/2008   11/22/2008 \n",
      "  4.06666667   4.13333333   4.14285714   4.18750000   4.23076923   4.25000000 \n",
      "   3/20/2008    1/27/2008    4/17/2008    6/28/2008     8/6/2008    1/20/2008 \n",
      "  4.25000000   4.26666667   4.31250000   4.62500000   4.62500000   4.71428571 \n",
      "    5/5/2008     6/6/2008   11/27/2008    5/30/2008    6/19/2008    5/24/2008 \n",
      "  4.73333333   4.75000000   4.77777778   4.80000000   4.81250000   4.85714286 \n",
      "  11/20/2008    9/15/2008     4/9/2008   10/12/2008    12/5/2008    8/21/2008 \n",
      "  4.92857143   4.92857143   4.93333333   5.00000000   5.00000000   5.00000000 \n",
      "    5/3/2008    5/31/2008    6/25/2008    1/15/2008    5/14/2008    4/15/2008 \n",
      "  5.14285714   5.31250000   5.37500000   5.40000000   5.40000000   5.50000000 \n",
      "   8/24/2008    12/9/2008   11/15/2008    12/8/2008    8/15/2008     6/2/2008 \n",
      "  5.53333333   5.53846154   5.58333333   5.61538462   5.70588235   5.75000000 \n",
      "  11/28/2008    8/13/2008     7/3/2008     7/1/2008   11/12/2008     2/4/2008 \n",
      "  5.81818182   5.87500000   5.93750000   6.00000000   6.07142857   6.07142857 \n",
      "    2/9/2008     8/5/2008    1/18/2008    1/28/2008    4/30/2008   12/18/2008 \n",
      "  6.07692308   6.12500000   6.13333333   6.13333333   6.13333333   6.15384615 \n",
      "   6/12/2008    11/4/2008    4/21/2008    4/27/2008    1/13/2008    3/13/2008 \n",
      "  6.25000000   6.28571429   6.31250000   6.31250000   6.35714286   6.37500000 \n",
      "    5/9/2008    8/11/2008   12/24/2008    2/20/2008    9/19/2008   10/15/2008 \n",
      "  6.37500000   6.37500000   6.38461538   6.46666667   6.46666667   6.50000000 \n",
      "   6/10/2008    5/15/2008    7/30/2008    2/12/2008    3/28/2008    11/3/2008 \n",
      "  6.50000000   6.56250000   6.56250000   6.60000000   6.62500000   6.64285714 \n",
      "  10/31/2008    5/17/2008    8/17/2008    2/24/2008    3/12/2008   12/15/2008 \n",
      "  6.66666667   6.73333333   6.76470588   6.86666667   6.86666667   7.00000000 \n",
      "    1/8/2008    9/12/2008    7/20/2008    1/14/2008    5/11/2008     2/3/2008 \n",
      "  7.20000000   7.20000000   7.23529412   7.33333333   7.33333333   7.40000000 \n",
      "   5/16/2008    6/17/2008     2/7/2008     6/7/2008    8/14/2008    10/9/2008 \n",
      "  7.50000000   7.50000000   7.53333333   7.56250000   7.64705882   7.66666667 \n",
      "   6/30/2008   12/11/2008    3/23/2008    7/16/2008    12/2/2008    4/28/2008 \n",
      "  7.68750000   7.78571429   7.81250000   7.81250000   7.84615385   8.00000000 \n",
      "   11/7/2008   12/14/2008     1/9/2008    9/20/2008    5/10/2008    3/16/2008 \n",
      "  8.07142857   8.08333333   8.14285714   8.25000000   8.42857143   8.43750000 \n",
      "   6/13/2008    1/31/2008    7/19/2008    2/27/2008    12/4/2008    2/14/2008 \n",
      "  8.43750000   8.61538462   8.68750000   8.73333333   8.78571429   8.80000000 \n",
      "   7/15/2008     4/7/2008   10/11/2008   10/28/2008    5/18/2008    2/19/2008 \n",
      "  8.81250000   8.87500000   8.92307692   8.92857143   8.93333333   9.00000000 \n",
      "   8/12/2008    5/12/2008   12/21/2008    1/12/2008    3/26/2008     4/8/2008 \n",
      "  9.12500000   9.31250000   9.41666667   9.46153846   9.60000000   9.60000000 \n",
      "   3/10/2008    3/21/2008    1/25/2008    10/6/2008   11/16/2008    7/21/2008 \n",
      "  9.81250000  10.18750000  10.20000000  10.20000000  10.30769231  10.31250000 \n",
      "  12/20/2008    5/28/2008    1/26/2008    2/25/2008    4/12/2008    9/23/2008 \n",
      " 10.33333333  10.37500000  10.50000000  10.50000000  10.53333333  10.61538462 \n",
      "    8/3/2008   10/13/2008   10/18/2008    12/7/2008     1/4/2008    5/21/2008 \n",
      " 10.64705882  10.80000000  10.84615385  10.91666667  10.93333333  11.00000000 \n",
      "    7/7/2008   10/27/2008   10/19/2008   11/17/2008    7/17/2008    4/14/2008 \n",
      " 11.37500000  11.40000000  11.42857143  11.50000000  11.52941176  11.56250000 \n",
      "   6/27/2008     3/6/2008    8/20/2008   12/16/2008    6/15/2008    6/23/2008 \n",
      " 11.56250000  11.62500000  11.73333333  11.76923077  11.80000000  11.93750000 \n",
      "   2/29/2008    7/27/2008    12/1/2008    12/3/2008    7/25/2008   10/30/2008 \n",
      " 12.00000000  12.05882353  12.07142857  12.07692308  12.17647059  12.50000000 \n",
      "   5/22/2008   12/17/2008     4/1/2008     7/5/2008     5/7/2008     1/5/2008 \n",
      " 12.50000000  12.69230769  12.73333333  13.07142857  13.13333333  13.23076923 \n",
      "   3/17/2008     4/3/2008    6/22/2008     1/1/2008   10/17/2008    11/6/2008 \n",
      " 13.37500000  13.37500000  13.56250000  13.60000000  13.71428571  13.78571429 \n",
      "   3/18/2008   12/30/2008    4/10/2008    2/13/2008    1/17/2008     1/6/2008 \n",
      " 13.80000000  14.00000000  14.00000000  14.21428571  14.26666667  14.26666667 \n",
      "   6/11/2008     3/3/2008     6/5/2008    3/24/2008   10/20/2008     5/2/2008 \n",
      " 14.31250000  14.46666667  14.46666667  14.87500000  14.93333333  15.13333333 \n",
      "   9/26/2008   10/10/2008     6/4/2008     6/9/2008     1/3/2008   12/27/2008 \n",
      " 15.26666667  15.35714286  15.40000000  15.62500000  15.66666667  15.66666667 \n",
      "  12/19/2008    4/13/2008    2/18/2008    3/29/2008    8/10/2008    8/18/2008 \n",
      " 15.76923077  15.81250000  15.85714286  15.86666667  15.88235294  15.93750000 \n",
      "   6/16/2008    2/15/2008    4/11/2008    7/23/2008    3/14/2008   12/23/2008 \n",
      " 16.06250000  16.26666667  16.37500000  16.81250000  17.06250000  17.46153846 \n",
      "    3/2/2008   12/29/2008     8/1/2008    11/1/2008   12/22/2008    2/21/2008 \n",
      " 17.53333333  17.53846154  17.70588235  17.76923077  17.84615385  17.85714286 \n",
      "   3/27/2008    1/16/2008     7/8/2008   10/25/2008    6/26/2008     8/4/2008 \n",
      " 17.87500000  18.00000000  18.00000000  18.14285714  18.43750000  18.62500000 \n",
      "   7/12/2008    7/11/2008    7/29/2008    7/24/2008     1/2/2008   11/11/2008 \n",
      " 18.81250000  19.00000000  19.00000000  19.11764706  19.12500000  19.14285714 \n",
      "  11/13/2008    6/21/2008    8/25/2008   10/16/2008    7/26/2008     2/1/2008 \n",
      " 19.21428571  20.00000000  20.40000000  21.00000000  21.56250000  21.66666667 \n",
      "   6/29/2008    3/30/2008    7/18/2008     6/8/2008    7/14/2008   11/29/2008 \n",
      " 21.87500000  22.81250000  23.52941176  23.75000000  24.12500000  24.41666667 \n",
      "    7/9/2008     8/7/2008    9/27/2008    3/31/2008    2/23/2008   12/28/2008 \n",
      " 25.12500000  25.35294118  26.15384615  27.35294118  27.38461538  28.66666667 \n",
      "   4/20/2008    7/22/2008    3/19/2008     9/8/2008    2/26/2008     3/7/2008 \n",
      " 29.06250000  29.62500000  30.26666667  30.35714286  30.53333333  30.75000000 \n",
      "    4/5/2008    10/8/2008   12/10/2008   11/30/2008    5/20/2008     4/6/2008 \n",
      " 32.00000000  32.78571429  33.15384615  34.14285714  34.26666667  34.81250000 \n",
      "   2/22/2008    6/14/2008   12/26/2008     8/2/2008     3/9/2008    8/26/2008 \n",
      " 36.86666667  37.75000000  38.84615385  41.37500000  47.00000000  50.85714286 \n",
      "    3/4/2008   11/14/2008   10/24/2008    3/15/2008    2/17/2008    7/31/2008 \n",
      " 53.46666667  55.50000000  61.57142857  66.00000000  66.38461538  69.00000000 \n",
      "    7/6/2008    7/10/2008     4/4/2008    1/19/2008     3/8/2008    7/13/2008 \n",
      " 72.20000000  73.23529412  74.33333333  79.00000000  80.46666667 102.70588235 \n"
     ]
    }
   ],
   "source": [
    "ATLtoLAX  <-  myDF$Dest==\"LAX\" & myDF$Origin==\"ATL\"\n",
    "\n",
    "print(sort(tapply(myDF$DepDelay[ATLtoLAX], mydates[ATLtoLAX], mean, na.rm=TRUE )))\n",
    "# On average, the departure delays from ATL to LAX were 102.70588235 minutes on 7/13/2008."
   ]
  },
  {
   "cell_type": "markdown",
   "metadata": {},
   "source": [
    "## Final note"
   ]
  },
  {
   "cell_type": "markdown",
   "metadata": {},
   "source": [
    "> **Create Your Own Data Frame**\n",
    "Build a data frame of your own, containing the flights that depart from an airport of interest to you (New York City’s JFK airport, for instance).  try to answer some questions about your own data frame. How do the questions and answers compare/contrast for bigger or smaller airports? Another possibility is to try to analyze other years of the airline flight data, using the rest of the data provided by the ASA Data Expo 2009. The flight data from this website goes back to 1987."
   ]
  },
  {
   "cell_type": "markdown",
   "metadata": {},
   "source": [
    "## Identifying the Most Popular Airports"
   ]
  },
  {
   "cell_type": "code",
   "execution_count": 56,
   "metadata": {
    "run_control": {
     "frozen": false,
     "read_only": false
    },
    "scrolled": true
   },
   "outputs": [
    {
     "data": {
      "text/plain": [
       "\n",
       "   PUB    PIR    TUP    INL    BJI    GST    ADK    ACY    AKN    DLG    BLI \n",
       "     2      5     10     72     74     85    102    116    116    116    120 \n",
       "   SUX    ITH    HTS    LWB    TEX    RHI    PLN    WYS    BPT    RFD    CMX \n",
       "   122    132    158    185    194    221    264    264    276    290    318 \n",
       "   ALO    YKM    MKG    STX    ACK    SLE    LMT    OTH    FLO    LYH    SCE \n",
       "   323    340    396    436    457    486    511    515    615    625    645 \n",
       "   LWS    MCN    CDC    MEI    ADQ    BTM    CDV    YAK    PSG    SCC    WRG \n",
       "   652    652    668    674    706    708    725    725    727    727    727 \n",
       "   BGM    BRW    PMD    PSE    EWN    CHO    HHH    BQK    VLD    RKS    IYK \n",
       "   728    728    728    755    791    823    836    925    938    954    958 \n",
       "   GUC    ROW    GTR    GGG    IPL    MQT    LCH    EYW    BET    GCC    CEC \n",
       "   959    961    964    978    989    991   1000   1009   1035   1046   1063 \n",
       "   MOT    OTZ    OME    ABY    OAJ    COD    SPI    TXK    OXR    SJT    SIT \n",
       "  1085   1086   1090   1095   1184   1188   1225   1250   1292   1316   1332 \n",
       "   ELM    DBQ    CLL    GFK    CIC    DHN    ERI    BRO    TOL    CSG    BQN \n",
       "  1336   1349   1367   1371   1392   1397   1399   1464   1478   1481   1519 \n",
       "   EKO    TYR    PIH    SMX    RDD    TWF    SPS    FLG    HLN    ACT    MLB \n",
       "  1580   1585   1659   1681   1682   1813   1834   1871   1986   1993   2002 \n",
       "   LSE    DLH    GNV    LRD    TRI    GTF    FAY    BIS    CLD    MOD    AEX \n",
       "  2005   2013   2064   2115   2117   2140   2267   2293   2303   2325   2330 \n",
       "   LAW    KTN    AVP    HDN    AGS    MTJ    MLU    PSC    CWA    ABI    CPR \n",
       "  2369   2380   2386   2398   2403   2419   2530   2541   2563   2660   2709 \n",
       "   FCA    CMI    SUN    BGR    MBS    FSM    DAB    STT    LNK    IDA    EGE \n",
       "  2762   2774   2871   2879   2918   2937   2957   2972   3037   3103   3106 \n",
       "   MSO    SGU    RST    ILM    CRW    RDM    DRO    LAN    ACV    ROA    GRK \n",
       "  3256   3319   3353   3397   3414   3434   3674   3693   3714   3720   3733 \n",
       "   JAC    MGM    YUM    PFN    AZO    MFE    RAP    SWF    TVC    AVL    JNU \n",
       "  3766   3851   3871   3875   3924   4116   4161   4249   4262   4399   4410 \n",
       "   HRL    FAR    BFL    BIL    CHA    BZN    BMI    ABE    FAI    LFT    GJT \n",
       "  4421   4431   4502   4505   4571   4659   4801   4807   4822   4879   5152 \n",
       "   CRP    ASE    SBN    MYR    PIA    MFR    EUG    FSD    EVV    SBP    ATW \n",
       "  5270   5307   5319   5335   5581   5652   5749   5828   5844   5846   5873 \n",
       "   TLH    FWA    MOB    PHF    SRQ    VPS    MAF    PWM    BTV    AMA    MDT \n",
       "  5912   6144   6348   6406   6432   6820   6839   6897   7005   7496   7594 \n",
       "   MRY    GRB    ITO    SHV    LBB    GPT    MLI    FNT    BTR    CAK    CID \n",
       "  7607   7930   8051   8079   8249   8541   8567   8749   8941   8994   9377 \n",
       "   PNS    SGF    ISP    LEX    CAE    HPN    HSV    GSP    PSP    SYR    SBA \n",
       "  9497  10087  10183  10344  10550  10715  10791  11856  11979  12032  12568 \n",
       "   JAN    KOA    LIH    ALB    GSO    SAV    MSN    TYS    ICT    XNA    CHS \n",
       " 12609  12710  13184  13474  13558  13774  13961  14004  14050  14112  14181 \n",
       "   ROC    FAT    LIT    LGB    GEG    DAY    COS    ORF    GRR    DSM    BOI \n",
       " 14264  14278  15369  15443  15560  15791  16201  16458  16616  16643  17024 \n",
       "   MHT    ANC    OGG    RIC    ELP    SJU    SDF    PVD    TUL    BHM    RNO \n",
       " 18588  19327  19940  19977  20731  21676  22458  22509  23459  23679  24286 \n",
       "   OKC    BUF    TUS    OMA    RSW    PBI    BDL    BUR    JAX    CMH    ONT \n",
       " 25152  26281  26661  27007  27136  27822  29449  31405  32685  34157  35072 \n",
       "   MSY    ABQ    PIT    MKE    IND    SAT    SNA    AUS    SMF    DAL    HOU \n",
       " 39422  41146  41800  42700  42750  45270  47376  49623  53056  53928  55933 \n",
       "   HNL    SJC    BNA    PDX    MCI    RDU    OAK    MIA    STL    CLE    FLL \n",
       " 56276  57136  57539  57860  59370  60179  62535  62559  62733  65795  67177 \n",
       "   IAD    TPA    MEM    DCA    MDW    CVG    SAN    PHL    BWI    SEA    BOS \n",
       " 76031  78179  80966  86662  87619  91265  93775 100499 104074 109069 117915 \n",
       "   JFK    LGA    CLT    MSP    MCO    EWR    SLC    SFO    DTW    LAS    IAH \n",
       "118804 119135 126045 130289 130872 138506 139088 140587 161989 172876 185172 \n",
       "   PHX    LAX    DEN    DFW    ORD    ATL \n",
       "199408 215608 241443 281281 350380 414513 "
      ]
     },
     "metadata": {},
     "output_type": "display_data"
    }
   ],
   "source": [
    "sort(table(myDF$Origin))"
   ]
  },
  {
   "cell_type": "code",
   "execution_count": 57,
   "metadata": {
    "run_control": {
     "frozen": false,
     "read_only": false
    },
    "scrolled": true
   },
   "outputs": [
    {
     "data": {
      "text/plain": [
       "\n",
       "   ATL    ORD    DFW    DEN    LAX    PHX    IAH    LAS    DTW    SFO    SLC \n",
       "414513 350380 281281 241443 215608 199408 185172 172876 161989 140587 139088 \n",
       "   EWR    MCO    MSP    CLT    LGA    JFK    BOS    SEA    BWI    PHL    SAN \n",
       "138506 130872 130289 126045 119135 118804 117915 109069 104074 100499  93775 \n",
       "   CVG    MDW    DCA    MEM    TPA    IAD    FLL    CLE    STL    MIA    OAK \n",
       " 91265  87619  86662  80966  78179  76031  67177  65795  62733  62559  62535 \n",
       "   RDU    MCI    PDX    BNA    SJC    HNL    HOU    DAL    SMF    AUS    SNA \n",
       " 60179  59370  57860  57539  57136  56276  55933  53928  53056  49623  47376 \n",
       "   SAT    IND    MKE    PIT    ABQ    MSY    ONT    CMH    JAX    BUR    BDL \n",
       " 45270  42750  42700  41800  41146  39422  35072  34157  32685  31405  29449 \n",
       "   PBI    RSW    OMA    TUS    BUF    OKC    RNO    BHM    TUL    PVD    SDF \n",
       " 27822  27136  27007  26661  26281  25152  24286  23679  23459  22509  22458 \n",
       "   SJU    ELP    RIC    OGG    ANC    MHT    BOI    DSM    GRR    ORF    COS \n",
       " 21676  20731  19977  19940  19327  18588  17024  16643  16616  16458  16201 \n",
       "   DAY    GEG    LGB    LIT    FAT    ROC    CHS    XNA    ICT    TYS    MSN \n",
       " 15791  15560  15443  15369  14278  14264  14181  14112  14050  14004  13961 \n",
       "   SAV    GSO    ALB    LIH    KOA    JAN    SBA    SYR    PSP    GSP    HSV \n",
       " 13774  13558  13474  13184  12710  12609  12568  12032  11979  11856  10791 \n",
       "   HPN    CAE    LEX    ISP    SGF    PNS    CID    CAK    BTR    FNT    MLI \n",
       " 10715  10550  10344  10183  10087   9497   9377   8994   8941   8749   8567 \n",
       "   GPT    LBB    SHV    ITO    GRB    MRY    MDT    AMA    BTV    PWM    MAF \n",
       "  8541   8249   8079   8051   7930   7607   7594   7496   7005   6897   6839 \n",
       "   VPS    SRQ    PHF    MOB    FWA    TLH    ATW    SBP    EVV    FSD    EUG \n",
       "  6820   6432   6406   6348   6144   5912   5873   5846   5844   5828   5749 \n",
       "   MFR    PIA    MYR    SBN    ASE    CRP    GJT    LFT    FAI    ABE    BMI \n",
       "  5652   5581   5335   5319   5307   5270   5152   4879   4822   4807   4801 \n",
       "   BZN    CHA    BIL    BFL    FAR    HRL    JNU    AVL    TVC    SWF    RAP \n",
       "  4659   4571   4505   4502   4431   4421   4410   4399   4262   4249   4161 \n",
       "   MFE    AZO    PFN    YUM    MGM    JAC    GRK    ROA    ACV    LAN    DRO \n",
       "  4116   3924   3875   3871   3851   3766   3733   3720   3714   3693   3674 \n",
       "   RDM    CRW    ILM    RST    SGU    MSO    EGE    IDA    LNK    STT    DAB \n",
       "  3434   3414   3397   3353   3319   3256   3106   3103   3037   2972   2957 \n",
       "   FSM    MBS    BGR    SUN    CMI    FCA    CPR    ABI    CWA    PSC    MLU \n",
       "  2937   2918   2879   2871   2774   2762   2709   2660   2563   2541   2530 \n",
       "   MTJ    AGS    HDN    AVP    KTN    LAW    AEX    MOD    CLD    BIS    FAY \n",
       "  2419   2403   2398   2386   2380   2369   2330   2325   2303   2293   2267 \n",
       "   GTF    TRI    LRD    GNV    DLH    LSE    MLB    ACT    HLN    FLG    SPS \n",
       "  2140   2117   2115   2064   2013   2005   2002   1993   1986   1871   1834 \n",
       "   TWF    RDD    SMX    PIH    TYR    EKO    BQN    CSG    TOL    BRO    ERI \n",
       "  1813   1682   1681   1659   1585   1580   1519   1481   1478   1464   1399 \n",
       "   DHN    CIC    GFK    CLL    DBQ    ELM    SIT    SJT    OXR    TXK    SPI \n",
       "  1397   1392   1371   1367   1349   1336   1332   1316   1292   1250   1225 \n",
       "   COD    OAJ    ABY    OME    OTZ    MOT    CEC    GCC    BET    EYW    LCH \n",
       "  1188   1184   1095   1090   1086   1085   1063   1046   1035   1009   1000 \n",
       "   MQT    IPL    GGG    GTR    ROW    GUC    IYK    RKS    VLD    BQK    HHH \n",
       "   991    989    978    964    961    959    958    954    938    925    836 \n",
       "   CHO    EWN    PSE    BGM    BRW    PMD    PSG    SCC    WRG    CDV    YAK \n",
       "   823    791    755    728    728    728    727    727    727    725    725 \n",
       "   BTM    ADQ    MEI    CDC    LWS    MCN    SCE    LYH    FLO    OTH    LMT \n",
       "   708    706    674    668    652    652    645    625    615    515    511 \n",
       "   SLE    ACK    STX    MKG    YKM    ALO    CMX    RFD    BPT    PLN    WYS \n",
       "   486    457    436    396    340    323    318    290    276    264    264 \n",
       "   RHI    TEX    LWB    HTS    ITH    SUX    BLI    ACY    AKN    DLG    ADK \n",
       "   221    194    185    158    132    122    120    116    116    116    102 \n",
       "   GST    BJI    INL    TUP    PIR    PUB \n",
       "    85     74     72     10      5      2 "
      ]
     },
     "metadata": {},
     "output_type": "display_data"
    }
   ],
   "source": [
    "# from most popular to least popular\n",
    "sort(table(myDF$Origin), decreasing = TRUE)"
   ]
  },
  {
   "cell_type": "code",
   "execution_count": 59,
   "metadata": {
    "run_control": {
     "frozen": false,
     "read_only": false
    }
   },
   "outputs": [
    {
     "data": {
      "text/html": [
       "<strong>DFW:</strong> 281281"
      ],
      "text/latex": [
       "\\textbf{DFW:} 281281"
      ],
      "text/markdown": [
       "**DFW:** 281281"
      ],
      "text/plain": [
       "   DFW \n",
       "281281 "
      ]
     },
     "metadata": {},
     "output_type": "display_data"
    }
   ],
   "source": [
    "sort(table(myDF$Origin), decreasing = TRUE)[3]"
   ]
  },
  {
   "cell_type": "code",
   "execution_count": null,
   "metadata": {
    "run_control": {
     "frozen": false,
     "read_only": false
    }
   },
   "outputs": [],
   "source": [
    "sort(table(myDF$Origin), decreasing = TRUE)[2]"
   ]
  },
  {
   "cell_type": "markdown",
   "metadata": {},
   "source": [
    "## Identifying the Most Popular Airports"
   ]
  },
  {
   "cell_type": "markdown",
   "metadata": {},
   "source": [
    "### Identifying the Most Popular Airports \n",
    "Are you curious about the most popular airports in 2008? This activity will reveal the answer!"
   ]
  },
  {
   "cell_type": "code",
   "execution_count": 2,
   "metadata": {
    "run_control": {
     "frozen": false,
     "read_only": false
    }
   },
   "outputs": [
    {
     "data": {
      "text/plain": [
       "\n",
       "   PUB    PIR    TUP    INL    BJI    GST    ADK    ACY    AKN    DLG    BLI \n",
       "     2      5     10     72     74     85    102    116    116    116    120 \n",
       "   SUX    ITH    HTS    LWB    TEX    RHI    PLN    WYS    BPT    RFD    CMX \n",
       "   122    132    158    185    194    221    264    264    276    290    318 \n",
       "   ALO    YKM    MKG    STX    ACK    SLE    LMT    OTH    FLO    LYH    SCE \n",
       "   323    340    396    436    457    486    511    515    615    625    645 \n",
       "   LWS    MCN    CDC    MEI    ADQ    BTM    CDV    YAK    PSG    SCC    WRG \n",
       "   652    652    668    674    706    708    725    725    727    727    727 \n",
       "   BGM    BRW    PMD    PSE    EWN    CHO    HHH    BQK    VLD    RKS    IYK \n",
       "   728    728    728    755    791    823    836    925    938    954    958 \n",
       "   GUC    ROW    GTR    GGG    IPL    MQT    LCH    EYW    BET    GCC    CEC \n",
       "   959    961    964    978    989    991   1000   1009   1035   1046   1063 \n",
       "   MOT    OTZ    OME    ABY    OAJ    COD    SPI    TXK    OXR    SJT    SIT \n",
       "  1085   1086   1090   1095   1184   1188   1225   1250   1292   1316   1332 \n",
       "   ELM    DBQ    CLL    GFK    CIC    DHN    ERI    BRO    TOL    CSG    BQN \n",
       "  1336   1349   1367   1371   1392   1397   1399   1464   1478   1481   1519 \n",
       "   EKO    TYR    PIH    SMX    RDD    TWF    SPS    FLG    HLN    ACT    MLB \n",
       "  1580   1585   1659   1681   1682   1813   1834   1871   1986   1993   2002 \n",
       "   LSE    DLH    GNV    LRD    TRI    GTF    FAY    BIS    CLD    MOD    AEX \n",
       "  2005   2013   2064   2115   2117   2140   2267   2293   2303   2325   2330 \n",
       "   LAW    KTN    AVP    HDN    AGS    MTJ    MLU    PSC    CWA    ABI    CPR \n",
       "  2369   2380   2386   2398   2403   2419   2530   2541   2563   2660   2709 \n",
       "   FCA    CMI    SUN    BGR    MBS    FSM    DAB    STT    LNK    IDA    EGE \n",
       "  2762   2774   2871   2879   2918   2937   2957   2972   3037   3103   3106 \n",
       "   MSO    SGU    RST    ILM    CRW    RDM    DRO    LAN    ACV    ROA    GRK \n",
       "  3256   3319   3353   3397   3414   3434   3674   3693   3714   3720   3733 \n",
       "   JAC    MGM    YUM    PFN    AZO    MFE    RAP    SWF    TVC    AVL    JNU \n",
       "  3766   3851   3871   3875   3924   4116   4161   4249   4262   4399   4410 \n",
       "   HRL    FAR    BFL    BIL    CHA    BZN    BMI    ABE    FAI    LFT    GJT \n",
       "  4421   4431   4502   4505   4571   4659   4801   4807   4822   4879   5152 \n",
       "   CRP    ASE    SBN    MYR    PIA    MFR    EUG    FSD    EVV    SBP    ATW \n",
       "  5270   5307   5319   5335   5581   5652   5749   5828   5844   5846   5873 \n",
       "   TLH    FWA    MOB    PHF    SRQ    VPS    MAF    PWM    BTV    AMA    MDT \n",
       "  5912   6144   6348   6406   6432   6820   6839   6897   7005   7496   7594 \n",
       "   MRY    GRB    ITO    SHV    LBB    GPT    MLI    FNT    BTR    CAK    CID \n",
       "  7607   7930   8051   8079   8249   8541   8567   8749   8941   8994   9377 \n",
       "   PNS    SGF    ISP    LEX    CAE    HPN    HSV    GSP    PSP    SYR    SBA \n",
       "  9497  10087  10183  10344  10550  10715  10791  11856  11979  12032  12568 \n",
       "   JAN    KOA    LIH    ALB    GSO    SAV    MSN    TYS    ICT    XNA    CHS \n",
       " 12609  12710  13184  13474  13558  13774  13961  14004  14050  14112  14181 \n",
       "   ROC    FAT    LIT    LGB    GEG    DAY    COS    ORF    GRR    DSM    BOI \n",
       " 14264  14278  15369  15443  15560  15791  16201  16458  16616  16643  17024 \n",
       "   MHT    ANC    OGG    RIC    ELP    SJU    SDF    PVD    TUL    BHM    RNO \n",
       " 18588  19327  19940  19977  20731  21676  22458  22509  23459  23679  24286 \n",
       "   OKC    BUF    TUS    OMA    RSW    PBI    BDL    BUR    JAX    CMH    ONT \n",
       " 25152  26281  26661  27007  27136  27822  29449  31405  32685  34157  35072 \n",
       "   MSY    ABQ    PIT    MKE    IND    SAT    SNA    AUS    SMF    DAL    HOU \n",
       " 39422  41146  41800  42700  42750  45270  47376  49623  53056  53928  55933 \n",
       "   HNL    SJC    BNA    PDX    MCI    RDU    OAK    MIA    STL    CLE    FLL \n",
       " 56276  57136  57539  57860  59370  60179  62535  62559  62733  65795  67177 \n",
       "   IAD    TPA    MEM    DCA    MDW    CVG    SAN    PHL    BWI    SEA    BOS \n",
       " 76031  78179  80966  86662  87619  91265  93775 100499 104074 109069 117915 \n",
       "   JFK    LGA    CLT    MSP    MCO    EWR    SLC    SFO    DTW    LAS    IAH \n",
       "118804 119135 126045 130289 130872 138506 139088 140587 161989 172876 185172 \n",
       "   PHX    LAX    DEN    DFW    ORD    ATL \n",
       "199408 215608 241443 281281 350380 414513 "
      ]
     },
     "metadata": {},
     "output_type": "display_data"
    }
   ],
   "source": [
    "sort(table(myDF$Origin))"
   ]
  },
  {
   "cell_type": "code",
   "execution_count": 6,
   "metadata": {
    "run_control": {
     "frozen": false,
     "read_only": false
    }
   },
   "outputs": [],
   "source": [
    "sort(table(myDF$Origin), decreasing = TRUE)"
   ]
  },
  {
   "cell_type": "code",
   "execution_count": 7,
   "metadata": {
    "run_control": {
     "frozen": false,
     "read_only": false
    }
   },
   "outputs": [
    {
     "data": {
      "text/plain": [
       "\n",
       "   ATL    ORD    DFW    DEN    LAX    PHX \n",
       "414513 350380 281281 241443 215608 199408 "
      ]
     },
     "metadata": {},
     "output_type": "display_data"
    }
   ],
   "source": [
    "head(sort(table(myDF$Origin), decreasing = TRUE)) # top 6 popular airports"
   ]
  },
  {
   "cell_type": "code",
   "execution_count": 3,
   "metadata": {
    "run_control": {
     "frozen": false,
     "read_only": false
    }
   },
   "outputs": [
    {
     "data": {
      "text/plain": [
       "\n",
       "   ATL    ORD    DFW    DEN    LAX    PHX    IAH    LAS    DTW    SFO \n",
       "414513 350380 281281 241443 215608 199408 185172 172876 161989 140587 "
      ]
     },
     "metadata": {},
     "output_type": "display_data"
    }
   ],
   "source": [
    "sort(table(myDF$Origin), decreasing = TRUE)[1:10] # top 10 most popular airports according no of origins"
   ]
  },
  {
   "cell_type": "code",
   "execution_count": 6,
   "metadata": {
    "run_control": {
     "frozen": false,
     "read_only": false
    }
   },
   "outputs": [
    {
     "data": {
      "text/html": [
       "<ol class=list-inline>\n",
       "\t<li>'ATL'</li>\n",
       "\t<li>'ORD'</li>\n",
       "\t<li>'DFW'</li>\n",
       "\t<li>'DEN'</li>\n",
       "\t<li>'LAX'</li>\n",
       "\t<li>'PHX'</li>\n",
       "\t<li>'IAH'</li>\n",
       "\t<li>'LAS'</li>\n",
       "\t<li>'DTW'</li>\n",
       "\t<li>'SFO'</li>\n",
       "</ol>\n"
      ],
      "text/latex": [
       "\\begin{enumerate*}\n",
       "\\item 'ATL'\n",
       "\\item 'ORD'\n",
       "\\item 'DFW'\n",
       "\\item 'DEN'\n",
       "\\item 'LAX'\n",
       "\\item 'PHX'\n",
       "\\item 'IAH'\n",
       "\\item 'LAS'\n",
       "\\item 'DTW'\n",
       "\\item 'SFO'\n",
       "\\end{enumerate*}\n"
      ],
      "text/markdown": [
       "1. 'ATL'\n",
       "2. 'ORD'\n",
       "3. 'DFW'\n",
       "4. 'DEN'\n",
       "5. 'LAX'\n",
       "6. 'PHX'\n",
       "7. 'IAH'\n",
       "8. 'LAS'\n",
       "9. 'DTW'\n",
       "10. 'SFO'\n",
       "\n",
       "\n"
      ],
      "text/plain": [
       " [1] \"ATL\" \"ORD\" \"DFW\" \"DEN\" \"LAX\" \"PHX\" \"IAH\" \"LAS\" \"DTW\" \"SFO\""
      ]
     },
     "metadata": {},
     "output_type": "display_data"
    }
   ],
   "source": [
    "names(sort(table(myDF$Origin), decreasing = TRUE)[1:10]) # top 10 most popular airports according no of origin names"
   ]
  },
  {
   "cell_type": "code",
   "execution_count": 8,
   "metadata": {
    "run_control": {
     "frozen": false,
     "read_only": false
    },
    "scrolled": true
   },
   "outputs": [
    {
     "data": {
      "text/html": [
       "2363257"
      ],
      "text/latex": [
       "2363257"
      ],
      "text/markdown": [
       "2363257"
      ],
      "text/plain": [
       "[1] 2363257"
      ]
     },
     "metadata": {},
     "output_type": "display_data"
    }
   ],
   "source": [
    "mostpopular <- names(sort(table(myDF$Origin), decreasing = TRUE)[1:10]) \n",
    "sum(myDF$Origin %in% mostpopular) # 2.3 millian flights of the 7 millian flights had their origin  in one of these popular cities"
   ]
  },
  {
   "cell_type": "code",
   "execution_count": 9,
   "metadata": {
    "run_control": {
     "frozen": false,
     "read_only": false
    }
   },
   "outputs": [
    {
     "data": {
      "text/html": [
       "2363555"
      ],
      "text/latex": [
       "2363555"
      ],
      "text/markdown": [
       "2363555"
      ],
      "text/plain": [
       "[1] 2363555"
      ]
     },
     "metadata": {},
     "output_type": "display_data"
    }
   ],
   "source": [
    "#same concept for destination\n",
    "sum(myDF$Dest %in% mostpopular)"
   ]
  },
  {
   "cell_type": "code",
   "execution_count": 10,
   "metadata": {
    "run_control": {
     "frozen": false,
     "read_only": false
    }
   },
   "outputs": [
    {
     "data": {
      "text/html": [
       "519064"
      ],
      "text/latex": [
       "519064"
      ],
      "text/markdown": [
       "519064"
      ],
      "text/plain": [
       "[1] 519064"
      ]
     },
     "metadata": {},
     "output_type": "display_data"
    }
   ],
   "source": [
    "# combine both of the above queries\n",
    "sum(myDF$Origin %in% mostpopular & myDF$Dest %in% mostpopular) #these are the sum of the 10 most popular airports of origin and distination \n",
    "# half a million of the flights had origin and dest at one of the 10 most popular airports"
   ]
  },
  {
   "cell_type": "markdown",
   "metadata": {},
   "source": [
    "### What is Your Favorite Airport?  \n",
    "What is your favorite US airport? (If you have never been to one, what is one that you have heard about through a friend or the news?) Why is it your favorite? How many flights departed from your favorite airport in 2008? Do you find this number surprising? How does the number compare to the most popular airport?"
   ]
  },
  {
   "cell_type": "markdown",
   "metadata": {},
   "source": [
    "#### We observed that 2363257 flights departed from the ten most popular airports. For the purposes of this question, treat the group of the 200 least popular airports according to the number of flights having these as the origins.  \n",
    "How many flights had one of these 200 least popular airports as their origin?"
   ]
  },
  {
   "cell_type": "code",
   "execution_count": 11,
   "metadata": {
    "run_control": {
     "frozen": false,
     "read_only": false
    }
   },
   "outputs": [
    {
     "data": {
      "text/html": [
       "551776"
      ],
      "text/latex": [
       "551776"
      ],
      "text/markdown": [
       "551776"
      ],
      "text/plain": [
       "[1] 551776"
      ]
     },
     "metadata": {},
     "output_type": "display_data"
    }
   ],
   "source": [
    "leastpopular <- names(sort(table(myDF$Origin))[1:200])\n",
    "sum(myDF$Origin %in% leastpopular)"
   ]
  },
  {
   "cell_type": "markdown",
   "metadata": {},
   "source": [
    "### Using Airport Codes"
   ]
  },
  {
   "cell_type": "code",
   "execution_count": 13,
   "metadata": {
    "run_control": {
     "frozen": false,
     "read_only": false
    },
    "scrolled": true
   },
   "outputs": [
    {
     "data": {
      "text/plain": [
       "\n",
       "   ABE    ABI    ABQ    ABY    ACK    ACT    ACV    ACY    ADK    ADQ    AEX \n",
       "  4807   2660  41146   1095    457   1993   3714    116    102    706   2330 \n",
       "   AGS    AKN    ALB    ALO    AMA    ANC    ASE    ATL    ATW    AUS    AVL \n",
       "  2403    116  13474    323   7496  19327   5307 414513   5873  49623   4399 \n",
       "   AVP    AZO    BDL    BET    BFL    BGM    BGR    BHM    BIL    BIS    BJI \n",
       "  2386   3924  29449   1035   4502    728   2879  23679   4505   2293     74 \n",
       "   BLI    BMI    BNA    BOI    BOS    BPT    BQK    BQN    BRO    BRW    BTM \n",
       "   120   4801  57539  17024 117915    276    925   1519   1464    728    708 \n",
       "   BTR    BTV    BUF    BUR    BWI    BZN    CAE    CAK    CDC    CDV    CEC \n",
       "  8941   7005  26281  31405 104074   4659  10550   8994    668    725   1063 \n",
       "   CHA    CHO    CHS    CIC    CID    CLD    CLE    CLL    CLT    CMH    CMI \n",
       "  4571    823  14181   1392   9377   2303  65795   1367 126045  34157   2774 \n",
       "   CMX    COD    COS    CPR    CRP    CRW    CSG    CVG    CWA    DAB    DAL \n",
       "   318   1188  16201   2709   5270   3414   1481  91265   2563   2957  53928 \n",
       "   DAY    DBQ    DCA    DEN    DFW    DHN    DLG    DLH    DRO    DSM    DTW \n",
       " 15791   1349  86662 241443 281281   1397    116   2013   3674  16643 161989 \n",
       "   EGE    EKO    ELM    ELP    ERI    EUG    EVV    EWN    EWR    EYW    FAI \n",
       "  3106   1580   1336  20731   1399   5749   5844    791 138506   1009   4822 \n",
       "   FAR    FAT    FAY    FCA    FLG    FLL    FLO    FNT    FSD    FSM    FWA \n",
       "  4431  14278   2267   2762   1871  67177    615   8749   5828   2937   6144 \n",
       "   GCC    GEG    GFK    GGG    GJT    GNV    GPT    GRB    GRK    GRR    GSO \n",
       "  1046  15560   1371    978   5152   2064   8541   7930   3733  16616  13558 \n",
       "   GSP    GST    GTF    GTR    GUC    HDN    HHH    HLN    HNL    HOU    HPN \n",
       " 11856     85   2140    964    959   2398    836   1986  56276  55933  10715 \n",
       "   HRL    HSV    HTS    IAD    IAH    ICT    IDA    ILM    IND    INL    IPL \n",
       "  4421  10791    158  76031 185172  14050   3103   3397  42750     72    989 \n",
       "   ISP    ITH    ITO    IYK    JAC    JAN    JAX    JFK    JNU    KOA    KTN \n",
       " 10183    132   8051    958   3766  12609  32685 118804   4410  12710   2380 \n",
       "   LAN    LAS    LAW    LAX    LBB    LCH    LEX    LFT    LGA    LGB    LIH \n",
       "  3693 172876   2369 215608   8249   1000  10344   4879 119135  15443  13184 \n",
       "   LIT    LMT    LNK    LRD    LSE    LWB    LWS    LYH    MAF    MBS    MCI \n",
       " 15369    511   3037   2115   2005    185    652    625   6839   2918  59370 \n",
       "   MCN    MCO    MDT    MDW    MEI    MEM    MFE    MFR    MGM    MHT    MIA \n",
       "   652 130872   7594  87619    674  80966   4116   5652   3851  18588  62559 \n",
       "   MKE    MKG    MLB    MLI    MLU    MOB    MOD    MOT    MQT    MRY    MSN \n",
       " 42700    396   2002   8567   2530   6348   2325   1085    991   7607  13961 \n",
       "   MSO    MSP    MSY    MTJ    MYR    OAJ    OAK    OGG    OKC    OMA    OME \n",
       "  3256 130289  39422   2419   5335   1184  62535  19940  25152  27007   1090 \n",
       "   ONT    ORD    ORF    OTH    OTZ    OXR    PBI    PDX    PFN    PHF    PHL \n",
       " 35072 350380  16458    515   1086   1292  27822  57860   3875   6406 100499 \n",
       "   PHX    PIA    PIH    PIR    PIT    PLN    PMD    PNS    PSC    PSE    PSG \n",
       "199408   5581   1659      5  41800    264    728   9497   2541    755    727 \n",
       "   PSP    PUB    PVD    PWM    RAP    RDD    RDM    RDU    RFD    RHI    RIC \n",
       " 11979      2  22509   6897   4161   1682   3434  60179    290    221  19977 \n",
       "   RKS    RNO    ROA    ROC    ROW    RST    RSW    SAN    SAT    SAV    SBA \n",
       "   954  24286   3720  14264    961   3353  27136  93775  45270  13774  12568 \n",
       "   SBN    SBP    SCC    SCE    SDF    SEA    SFO    SGF    SGU    SHV    SIT \n",
       "  5319   5846    727    645  22458 109069 140587  10087   3319   8079   1332 \n",
       "   SJC    SJT    SJU    SLC    SLE    SMF    SMX    SNA    SPI    SPS    SRQ \n",
       " 57136   1316  21676 139088    486  53056   1681  47376   1225   1834   6432 \n",
       "   STL    STT    STX    SUN    SUX    SWF    SYR    TEX    TLH    TOL    TPA \n",
       " 62733   2972    436   2871    122   4249  12032    194   5912   1478  78179 \n",
       "   TRI    TUL    TUP    TUS    TVC    TWF    TXK    TYR    TYS    VLD    VPS \n",
       "  2117  23459     10  26661   4262   1813   1250   1585  14004    938   6820 \n",
       "   WRG    WYS    XNA    YAK    YKM    YUM \n",
       "   727    264  14112    725    340   3871 "
      ]
     },
     "metadata": {},
     "output_type": "display_data"
    }
   ],
   "source": [
    "# how many flights originate at each airport\n",
    "table(myDF$Origin)"
   ]
  },
  {
   "cell_type": "code",
   "execution_count": 14,
   "metadata": {
    "run_control": {
     "frozen": false,
     "read_only": false
    }
   },
   "outputs": [
    {
     "data": {
      "text/html": [
       "<ol class=list-inline>\n",
       "\t<li>'ABE'</li>\n",
       "\t<li>'ABI'</li>\n",
       "\t<li>'ABQ'</li>\n",
       "\t<li>'ABY'</li>\n",
       "\t<li>'ACK'</li>\n",
       "\t<li>'ACT'</li>\n",
       "\t<li>'ACV'</li>\n",
       "\t<li>'ACY'</li>\n",
       "\t<li>'ADK'</li>\n",
       "\t<li>'ADQ'</li>\n",
       "\t<li>'AEX'</li>\n",
       "\t<li>'AGS'</li>\n",
       "\t<li>'AKN'</li>\n",
       "\t<li>'ALB'</li>\n",
       "\t<li>'ALO'</li>\n",
       "\t<li>'AMA'</li>\n",
       "\t<li>'ANC'</li>\n",
       "\t<li>'ASE'</li>\n",
       "\t<li>'ATL'</li>\n",
       "\t<li>'ATW'</li>\n",
       "\t<li>'AUS'</li>\n",
       "\t<li>'AVL'</li>\n",
       "\t<li>'AVP'</li>\n",
       "\t<li>'AZO'</li>\n",
       "\t<li>'BDL'</li>\n",
       "\t<li>'BET'</li>\n",
       "\t<li>'BFL'</li>\n",
       "\t<li>'BGM'</li>\n",
       "\t<li>'BGR'</li>\n",
       "\t<li>'BHM'</li>\n",
       "\t<li>'BIL'</li>\n",
       "\t<li>'BIS'</li>\n",
       "\t<li>'BJI'</li>\n",
       "\t<li>'BLI'</li>\n",
       "\t<li>'BMI'</li>\n",
       "\t<li>'BNA'</li>\n",
       "\t<li>'BOI'</li>\n",
       "\t<li>'BOS'</li>\n",
       "\t<li>'BPT'</li>\n",
       "\t<li>'BQK'</li>\n",
       "\t<li>'BQN'</li>\n",
       "\t<li>'BRO'</li>\n",
       "\t<li>'BRW'</li>\n",
       "\t<li>'BTM'</li>\n",
       "\t<li>'BTR'</li>\n",
       "\t<li>'BTV'</li>\n",
       "\t<li>'BUF'</li>\n",
       "\t<li>'BUR'</li>\n",
       "\t<li>'BWI'</li>\n",
       "\t<li>'BZN'</li>\n",
       "\t<li>'CAE'</li>\n",
       "\t<li>'CAK'</li>\n",
       "\t<li>'CDC'</li>\n",
       "\t<li>'CDV'</li>\n",
       "\t<li>'CEC'</li>\n",
       "\t<li>'CHA'</li>\n",
       "\t<li>'CHO'</li>\n",
       "\t<li>'CHS'</li>\n",
       "\t<li>'CIC'</li>\n",
       "\t<li>'CID'</li>\n",
       "\t<li>'CLD'</li>\n",
       "\t<li>'CLE'</li>\n",
       "\t<li>'CLL'</li>\n",
       "\t<li>'CLT'</li>\n",
       "\t<li>'CMH'</li>\n",
       "\t<li>'CMI'</li>\n",
       "\t<li>'CMX'</li>\n",
       "\t<li>'COD'</li>\n",
       "\t<li>'COS'</li>\n",
       "\t<li>'CPR'</li>\n",
       "\t<li>'CRP'</li>\n",
       "\t<li>'CRW'</li>\n",
       "\t<li>'CSG'</li>\n",
       "\t<li>'CVG'</li>\n",
       "\t<li>'CWA'</li>\n",
       "\t<li>'DAB'</li>\n",
       "\t<li>'DAL'</li>\n",
       "\t<li>'DAY'</li>\n",
       "\t<li>'DBQ'</li>\n",
       "\t<li>'DCA'</li>\n",
       "\t<li>'DEN'</li>\n",
       "\t<li>'DFW'</li>\n",
       "\t<li>'DHN'</li>\n",
       "\t<li>'DLG'</li>\n",
       "\t<li>'DLH'</li>\n",
       "\t<li>'DRO'</li>\n",
       "\t<li>'DSM'</li>\n",
       "\t<li>'DTW'</li>\n",
       "\t<li>'EGE'</li>\n",
       "\t<li>'EKO'</li>\n",
       "\t<li>'ELM'</li>\n",
       "\t<li>'ELP'</li>\n",
       "\t<li>'ERI'</li>\n",
       "\t<li>'EUG'</li>\n",
       "\t<li>'EVV'</li>\n",
       "\t<li>'EWN'</li>\n",
       "\t<li>'EWR'</li>\n",
       "\t<li>'EYW'</li>\n",
       "\t<li>'FAI'</li>\n",
       "\t<li>'FAR'</li>\n",
       "\t<li>'FAT'</li>\n",
       "\t<li>'FAY'</li>\n",
       "\t<li>'FCA'</li>\n",
       "\t<li>'FLG'</li>\n",
       "\t<li>'FLL'</li>\n",
       "\t<li>'FLO'</li>\n",
       "\t<li>'FNT'</li>\n",
       "\t<li>'FSD'</li>\n",
       "\t<li>'FSM'</li>\n",
       "\t<li>'FWA'</li>\n",
       "\t<li>'GCC'</li>\n",
       "\t<li>'GEG'</li>\n",
       "\t<li>'GFK'</li>\n",
       "\t<li>'GGG'</li>\n",
       "\t<li>'GJT'</li>\n",
       "\t<li>'GNV'</li>\n",
       "\t<li>'GPT'</li>\n",
       "\t<li>'GRB'</li>\n",
       "\t<li>'GRK'</li>\n",
       "\t<li>'GRR'</li>\n",
       "\t<li>'GSO'</li>\n",
       "\t<li>'GSP'</li>\n",
       "\t<li>'GST'</li>\n",
       "\t<li>'GTF'</li>\n",
       "\t<li>'GTR'</li>\n",
       "\t<li>'GUC'</li>\n",
       "\t<li>'HDN'</li>\n",
       "\t<li>'HHH'</li>\n",
       "\t<li>'HLN'</li>\n",
       "\t<li>'HNL'</li>\n",
       "\t<li>'HOU'</li>\n",
       "\t<li>'HPN'</li>\n",
       "\t<li>'HRL'</li>\n",
       "\t<li>'HSV'</li>\n",
       "\t<li>'HTS'</li>\n",
       "\t<li>'IAD'</li>\n",
       "\t<li>'IAH'</li>\n",
       "\t<li>'ICT'</li>\n",
       "\t<li>'IDA'</li>\n",
       "\t<li>'ILM'</li>\n",
       "\t<li>'IND'</li>\n",
       "\t<li>'INL'</li>\n",
       "\t<li>'IPL'</li>\n",
       "\t<li>'ISP'</li>\n",
       "\t<li>'ITH'</li>\n",
       "\t<li>'ITO'</li>\n",
       "\t<li>'IYK'</li>\n",
       "\t<li>'JAC'</li>\n",
       "\t<li>'JAN'</li>\n",
       "\t<li>'JAX'</li>\n",
       "\t<li>'JFK'</li>\n",
       "\t<li>'JNU'</li>\n",
       "\t<li>'KOA'</li>\n",
       "\t<li>'KTN'</li>\n",
       "\t<li>'LAN'</li>\n",
       "\t<li>'LAS'</li>\n",
       "\t<li>'LAW'</li>\n",
       "\t<li>'LAX'</li>\n",
       "\t<li>'LBB'</li>\n",
       "\t<li>'LCH'</li>\n",
       "\t<li>'LEX'</li>\n",
       "\t<li>'LFT'</li>\n",
       "\t<li>'LGA'</li>\n",
       "\t<li>'LGB'</li>\n",
       "\t<li>'LIH'</li>\n",
       "\t<li>'LIT'</li>\n",
       "\t<li>'LMT'</li>\n",
       "\t<li>'LNK'</li>\n",
       "\t<li>'LRD'</li>\n",
       "\t<li>'LSE'</li>\n",
       "\t<li>'LWB'</li>\n",
       "\t<li>'LWS'</li>\n",
       "\t<li>'LYH'</li>\n",
       "\t<li>'MAF'</li>\n",
       "\t<li>'MBS'</li>\n",
       "\t<li>'MCI'</li>\n",
       "\t<li>'MCN'</li>\n",
       "\t<li>'MCO'</li>\n",
       "\t<li>'MDT'</li>\n",
       "\t<li>'MDW'</li>\n",
       "\t<li>'MEI'</li>\n",
       "\t<li>'MEM'</li>\n",
       "\t<li>'MFE'</li>\n",
       "\t<li>'MFR'</li>\n",
       "\t<li>'MGM'</li>\n",
       "\t<li>'MHT'</li>\n",
       "\t<li>'MIA'</li>\n",
       "\t<li>'MKE'</li>\n",
       "\t<li>'MKG'</li>\n",
       "\t<li>'MLB'</li>\n",
       "\t<li>'MLI'</li>\n",
       "\t<li>'MLU'</li>\n",
       "\t<li>'MOB'</li>\n",
       "\t<li>'MOD'</li>\n",
       "\t<li>'MOT'</li>\n",
       "\t<li>'MQT'</li>\n",
       "\t<li>'MRY'</li>\n",
       "\t<li>'MSN'</li>\n",
       "\t<li>'MSO'</li>\n",
       "\t<li>'MSP'</li>\n",
       "\t<li>'MSY'</li>\n",
       "\t<li>'MTJ'</li>\n",
       "\t<li>'MYR'</li>\n",
       "\t<li>'OAJ'</li>\n",
       "\t<li>'OAK'</li>\n",
       "\t<li>'OGG'</li>\n",
       "\t<li>'OKC'</li>\n",
       "\t<li>'OMA'</li>\n",
       "\t<li>'OME'</li>\n",
       "\t<li>'ONT'</li>\n",
       "\t<li>'ORD'</li>\n",
       "\t<li>'ORF'</li>\n",
       "\t<li>'OTH'</li>\n",
       "\t<li>'OTZ'</li>\n",
       "\t<li>'OXR'</li>\n",
       "\t<li>'PBI'</li>\n",
       "\t<li>'PDX'</li>\n",
       "\t<li>'PFN'</li>\n",
       "\t<li>'PHF'</li>\n",
       "\t<li>'PHL'</li>\n",
       "\t<li>'PHX'</li>\n",
       "\t<li>'PIA'</li>\n",
       "\t<li>'PIH'</li>\n",
       "\t<li>'PIR'</li>\n",
       "\t<li>'PIT'</li>\n",
       "\t<li>'PLN'</li>\n",
       "\t<li>'PMD'</li>\n",
       "\t<li>'PNS'</li>\n",
       "\t<li>'PSC'</li>\n",
       "\t<li>'PSE'</li>\n",
       "\t<li>'PSG'</li>\n",
       "\t<li>'PSP'</li>\n",
       "\t<li>'PUB'</li>\n",
       "\t<li>'PVD'</li>\n",
       "\t<li>'PWM'</li>\n",
       "\t<li>'RAP'</li>\n",
       "\t<li>'RDD'</li>\n",
       "\t<li>'RDM'</li>\n",
       "\t<li>'RDU'</li>\n",
       "\t<li>'RFD'</li>\n",
       "\t<li>'RHI'</li>\n",
       "\t<li>'RIC'</li>\n",
       "\t<li>'RKS'</li>\n",
       "\t<li>'RNO'</li>\n",
       "\t<li>'ROA'</li>\n",
       "\t<li>'ROC'</li>\n",
       "\t<li>'ROW'</li>\n",
       "\t<li>'RST'</li>\n",
       "\t<li>'RSW'</li>\n",
       "\t<li>'SAN'</li>\n",
       "\t<li>'SAT'</li>\n",
       "\t<li>'SAV'</li>\n",
       "\t<li>'SBA'</li>\n",
       "\t<li>'SBN'</li>\n",
       "\t<li>'SBP'</li>\n",
       "\t<li>'SCC'</li>\n",
       "\t<li>'SCE'</li>\n",
       "\t<li>'SDF'</li>\n",
       "\t<li>'SEA'</li>\n",
       "\t<li>'SFO'</li>\n",
       "\t<li>'SGF'</li>\n",
       "\t<li>'SGU'</li>\n",
       "\t<li>'SHV'</li>\n",
       "\t<li>'SIT'</li>\n",
       "\t<li>'SJC'</li>\n",
       "\t<li>'SJT'</li>\n",
       "\t<li>'SJU'</li>\n",
       "\t<li>'SLC'</li>\n",
       "\t<li>'SLE'</li>\n",
       "\t<li>'SMF'</li>\n",
       "\t<li>'SMX'</li>\n",
       "\t<li>'SNA'</li>\n",
       "\t<li>'SPI'</li>\n",
       "\t<li>'SPS'</li>\n",
       "\t<li>'SRQ'</li>\n",
       "\t<li>'STL'</li>\n",
       "\t<li>'STT'</li>\n",
       "\t<li>'STX'</li>\n",
       "\t<li>'SUN'</li>\n",
       "\t<li>'SUX'</li>\n",
       "\t<li>'SWF'</li>\n",
       "\t<li>'SYR'</li>\n",
       "\t<li>'TEX'</li>\n",
       "\t<li>'TLH'</li>\n",
       "\t<li>'TOL'</li>\n",
       "\t<li>'TPA'</li>\n",
       "\t<li>'TRI'</li>\n",
       "\t<li>'TUL'</li>\n",
       "\t<li>'TUP'</li>\n",
       "\t<li>'TUS'</li>\n",
       "\t<li>'TVC'</li>\n",
       "\t<li>'TWF'</li>\n",
       "\t<li>'TXK'</li>\n",
       "\t<li>'TYR'</li>\n",
       "\t<li>'TYS'</li>\n",
       "\t<li>'VLD'</li>\n",
       "\t<li>'VPS'</li>\n",
       "\t<li>'WRG'</li>\n",
       "\t<li>'WYS'</li>\n",
       "\t<li>'XNA'</li>\n",
       "\t<li>'YAK'</li>\n",
       "\t<li>'YKM'</li>\n",
       "\t<li>'YUM'</li>\n",
       "</ol>\n"
      ],
      "text/latex": [
       "\\begin{enumerate*}\n",
       "\\item 'ABE'\n",
       "\\item 'ABI'\n",
       "\\item 'ABQ'\n",
       "\\item 'ABY'\n",
       "\\item 'ACK'\n",
       "\\item 'ACT'\n",
       "\\item 'ACV'\n",
       "\\item 'ACY'\n",
       "\\item 'ADK'\n",
       "\\item 'ADQ'\n",
       "\\item 'AEX'\n",
       "\\item 'AGS'\n",
       "\\item 'AKN'\n",
       "\\item 'ALB'\n",
       "\\item 'ALO'\n",
       "\\item 'AMA'\n",
       "\\item 'ANC'\n",
       "\\item 'ASE'\n",
       "\\item 'ATL'\n",
       "\\item 'ATW'\n",
       "\\item 'AUS'\n",
       "\\item 'AVL'\n",
       "\\item 'AVP'\n",
       "\\item 'AZO'\n",
       "\\item 'BDL'\n",
       "\\item 'BET'\n",
       "\\item 'BFL'\n",
       "\\item 'BGM'\n",
       "\\item 'BGR'\n",
       "\\item 'BHM'\n",
       "\\item 'BIL'\n",
       "\\item 'BIS'\n",
       "\\item 'BJI'\n",
       "\\item 'BLI'\n",
       "\\item 'BMI'\n",
       "\\item 'BNA'\n",
       "\\item 'BOI'\n",
       "\\item 'BOS'\n",
       "\\item 'BPT'\n",
       "\\item 'BQK'\n",
       "\\item 'BQN'\n",
       "\\item 'BRO'\n",
       "\\item 'BRW'\n",
       "\\item 'BTM'\n",
       "\\item 'BTR'\n",
       "\\item 'BTV'\n",
       "\\item 'BUF'\n",
       "\\item 'BUR'\n",
       "\\item 'BWI'\n",
       "\\item 'BZN'\n",
       "\\item 'CAE'\n",
       "\\item 'CAK'\n",
       "\\item 'CDC'\n",
       "\\item 'CDV'\n",
       "\\item 'CEC'\n",
       "\\item 'CHA'\n",
       "\\item 'CHO'\n",
       "\\item 'CHS'\n",
       "\\item 'CIC'\n",
       "\\item 'CID'\n",
       "\\item 'CLD'\n",
       "\\item 'CLE'\n",
       "\\item 'CLL'\n",
       "\\item 'CLT'\n",
       "\\item 'CMH'\n",
       "\\item 'CMI'\n",
       "\\item 'CMX'\n",
       "\\item 'COD'\n",
       "\\item 'COS'\n",
       "\\item 'CPR'\n",
       "\\item 'CRP'\n",
       "\\item 'CRW'\n",
       "\\item 'CSG'\n",
       "\\item 'CVG'\n",
       "\\item 'CWA'\n",
       "\\item 'DAB'\n",
       "\\item 'DAL'\n",
       "\\item 'DAY'\n",
       "\\item 'DBQ'\n",
       "\\item 'DCA'\n",
       "\\item 'DEN'\n",
       "\\item 'DFW'\n",
       "\\item 'DHN'\n",
       "\\item 'DLG'\n",
       "\\item 'DLH'\n",
       "\\item 'DRO'\n",
       "\\item 'DSM'\n",
       "\\item 'DTW'\n",
       "\\item 'EGE'\n",
       "\\item 'EKO'\n",
       "\\item 'ELM'\n",
       "\\item 'ELP'\n",
       "\\item 'ERI'\n",
       "\\item 'EUG'\n",
       "\\item 'EVV'\n",
       "\\item 'EWN'\n",
       "\\item 'EWR'\n",
       "\\item 'EYW'\n",
       "\\item 'FAI'\n",
       "\\item 'FAR'\n",
       "\\item 'FAT'\n",
       "\\item 'FAY'\n",
       "\\item 'FCA'\n",
       "\\item 'FLG'\n",
       "\\item 'FLL'\n",
       "\\item 'FLO'\n",
       "\\item 'FNT'\n",
       "\\item 'FSD'\n",
       "\\item 'FSM'\n",
       "\\item 'FWA'\n",
       "\\item 'GCC'\n",
       "\\item 'GEG'\n",
       "\\item 'GFK'\n",
       "\\item 'GGG'\n",
       "\\item 'GJT'\n",
       "\\item 'GNV'\n",
       "\\item 'GPT'\n",
       "\\item 'GRB'\n",
       "\\item 'GRK'\n",
       "\\item 'GRR'\n",
       "\\item 'GSO'\n",
       "\\item 'GSP'\n",
       "\\item 'GST'\n",
       "\\item 'GTF'\n",
       "\\item 'GTR'\n",
       "\\item 'GUC'\n",
       "\\item 'HDN'\n",
       "\\item 'HHH'\n",
       "\\item 'HLN'\n",
       "\\item 'HNL'\n",
       "\\item 'HOU'\n",
       "\\item 'HPN'\n",
       "\\item 'HRL'\n",
       "\\item 'HSV'\n",
       "\\item 'HTS'\n",
       "\\item 'IAD'\n",
       "\\item 'IAH'\n",
       "\\item 'ICT'\n",
       "\\item 'IDA'\n",
       "\\item 'ILM'\n",
       "\\item 'IND'\n",
       "\\item 'INL'\n",
       "\\item 'IPL'\n",
       "\\item 'ISP'\n",
       "\\item 'ITH'\n",
       "\\item 'ITO'\n",
       "\\item 'IYK'\n",
       "\\item 'JAC'\n",
       "\\item 'JAN'\n",
       "\\item 'JAX'\n",
       "\\item 'JFK'\n",
       "\\item 'JNU'\n",
       "\\item 'KOA'\n",
       "\\item 'KTN'\n",
       "\\item 'LAN'\n",
       "\\item 'LAS'\n",
       "\\item 'LAW'\n",
       "\\item 'LAX'\n",
       "\\item 'LBB'\n",
       "\\item 'LCH'\n",
       "\\item 'LEX'\n",
       "\\item 'LFT'\n",
       "\\item 'LGA'\n",
       "\\item 'LGB'\n",
       "\\item 'LIH'\n",
       "\\item 'LIT'\n",
       "\\item 'LMT'\n",
       "\\item 'LNK'\n",
       "\\item 'LRD'\n",
       "\\item 'LSE'\n",
       "\\item 'LWB'\n",
       "\\item 'LWS'\n",
       "\\item 'LYH'\n",
       "\\item 'MAF'\n",
       "\\item 'MBS'\n",
       "\\item 'MCI'\n",
       "\\item 'MCN'\n",
       "\\item 'MCO'\n",
       "\\item 'MDT'\n",
       "\\item 'MDW'\n",
       "\\item 'MEI'\n",
       "\\item 'MEM'\n",
       "\\item 'MFE'\n",
       "\\item 'MFR'\n",
       "\\item 'MGM'\n",
       "\\item 'MHT'\n",
       "\\item 'MIA'\n",
       "\\item 'MKE'\n",
       "\\item 'MKG'\n",
       "\\item 'MLB'\n",
       "\\item 'MLI'\n",
       "\\item 'MLU'\n",
       "\\item 'MOB'\n",
       "\\item 'MOD'\n",
       "\\item 'MOT'\n",
       "\\item 'MQT'\n",
       "\\item 'MRY'\n",
       "\\item 'MSN'\n",
       "\\item 'MSO'\n",
       "\\item 'MSP'\n",
       "\\item 'MSY'\n",
       "\\item 'MTJ'\n",
       "\\item 'MYR'\n",
       "\\item 'OAJ'\n",
       "\\item 'OAK'\n",
       "\\item 'OGG'\n",
       "\\item 'OKC'\n",
       "\\item 'OMA'\n",
       "\\item 'OME'\n",
       "\\item 'ONT'\n",
       "\\item 'ORD'\n",
       "\\item 'ORF'\n",
       "\\item 'OTH'\n",
       "\\item 'OTZ'\n",
       "\\item 'OXR'\n",
       "\\item 'PBI'\n",
       "\\item 'PDX'\n",
       "\\item 'PFN'\n",
       "\\item 'PHF'\n",
       "\\item 'PHL'\n",
       "\\item 'PHX'\n",
       "\\item 'PIA'\n",
       "\\item 'PIH'\n",
       "\\item 'PIR'\n",
       "\\item 'PIT'\n",
       "\\item 'PLN'\n",
       "\\item 'PMD'\n",
       "\\item 'PNS'\n",
       "\\item 'PSC'\n",
       "\\item 'PSE'\n",
       "\\item 'PSG'\n",
       "\\item 'PSP'\n",
       "\\item 'PUB'\n",
       "\\item 'PVD'\n",
       "\\item 'PWM'\n",
       "\\item 'RAP'\n",
       "\\item 'RDD'\n",
       "\\item 'RDM'\n",
       "\\item 'RDU'\n",
       "\\item 'RFD'\n",
       "\\item 'RHI'\n",
       "\\item 'RIC'\n",
       "\\item 'RKS'\n",
       "\\item 'RNO'\n",
       "\\item 'ROA'\n",
       "\\item 'ROC'\n",
       "\\item 'ROW'\n",
       "\\item 'RST'\n",
       "\\item 'RSW'\n",
       "\\item 'SAN'\n",
       "\\item 'SAT'\n",
       "\\item 'SAV'\n",
       "\\item 'SBA'\n",
       "\\item 'SBN'\n",
       "\\item 'SBP'\n",
       "\\item 'SCC'\n",
       "\\item 'SCE'\n",
       "\\item 'SDF'\n",
       "\\item 'SEA'\n",
       "\\item 'SFO'\n",
       "\\item 'SGF'\n",
       "\\item 'SGU'\n",
       "\\item 'SHV'\n",
       "\\item 'SIT'\n",
       "\\item 'SJC'\n",
       "\\item 'SJT'\n",
       "\\item 'SJU'\n",
       "\\item 'SLC'\n",
       "\\item 'SLE'\n",
       "\\item 'SMF'\n",
       "\\item 'SMX'\n",
       "\\item 'SNA'\n",
       "\\item 'SPI'\n",
       "\\item 'SPS'\n",
       "\\item 'SRQ'\n",
       "\\item 'STL'\n",
       "\\item 'STT'\n",
       "\\item 'STX'\n",
       "\\item 'SUN'\n",
       "\\item 'SUX'\n",
       "\\item 'SWF'\n",
       "\\item 'SYR'\n",
       "\\item 'TEX'\n",
       "\\item 'TLH'\n",
       "\\item 'TOL'\n",
       "\\item 'TPA'\n",
       "\\item 'TRI'\n",
       "\\item 'TUL'\n",
       "\\item 'TUP'\n",
       "\\item 'TUS'\n",
       "\\item 'TVC'\n",
       "\\item 'TWF'\n",
       "\\item 'TXK'\n",
       "\\item 'TYR'\n",
       "\\item 'TYS'\n",
       "\\item 'VLD'\n",
       "\\item 'VPS'\n",
       "\\item 'WRG'\n",
       "\\item 'WYS'\n",
       "\\item 'XNA'\n",
       "\\item 'YAK'\n",
       "\\item 'YKM'\n",
       "\\item 'YUM'\n",
       "\\end{enumerate*}\n"
      ],
      "text/markdown": [
       "1. 'ABE'\n",
       "2. 'ABI'\n",
       "3. 'ABQ'\n",
       "4. 'ABY'\n",
       "5. 'ACK'\n",
       "6. 'ACT'\n",
       "7. 'ACV'\n",
       "8. 'ACY'\n",
       "9. 'ADK'\n",
       "10. 'ADQ'\n",
       "11. 'AEX'\n",
       "12. 'AGS'\n",
       "13. 'AKN'\n",
       "14. 'ALB'\n",
       "15. 'ALO'\n",
       "16. 'AMA'\n",
       "17. 'ANC'\n",
       "18. 'ASE'\n",
       "19. 'ATL'\n",
       "20. 'ATW'\n",
       "21. 'AUS'\n",
       "22. 'AVL'\n",
       "23. 'AVP'\n",
       "24. 'AZO'\n",
       "25. 'BDL'\n",
       "26. 'BET'\n",
       "27. 'BFL'\n",
       "28. 'BGM'\n",
       "29. 'BGR'\n",
       "30. 'BHM'\n",
       "31. 'BIL'\n",
       "32. 'BIS'\n",
       "33. 'BJI'\n",
       "34. 'BLI'\n",
       "35. 'BMI'\n",
       "36. 'BNA'\n",
       "37. 'BOI'\n",
       "38. 'BOS'\n",
       "39. 'BPT'\n",
       "40. 'BQK'\n",
       "41. 'BQN'\n",
       "42. 'BRO'\n",
       "43. 'BRW'\n",
       "44. 'BTM'\n",
       "45. 'BTR'\n",
       "46. 'BTV'\n",
       "47. 'BUF'\n",
       "48. 'BUR'\n",
       "49. 'BWI'\n",
       "50. 'BZN'\n",
       "51. 'CAE'\n",
       "52. 'CAK'\n",
       "53. 'CDC'\n",
       "54. 'CDV'\n",
       "55. 'CEC'\n",
       "56. 'CHA'\n",
       "57. 'CHO'\n",
       "58. 'CHS'\n",
       "59. 'CIC'\n",
       "60. 'CID'\n",
       "61. 'CLD'\n",
       "62. 'CLE'\n",
       "63. 'CLL'\n",
       "64. 'CLT'\n",
       "65. 'CMH'\n",
       "66. 'CMI'\n",
       "67. 'CMX'\n",
       "68. 'COD'\n",
       "69. 'COS'\n",
       "70. 'CPR'\n",
       "71. 'CRP'\n",
       "72. 'CRW'\n",
       "73. 'CSG'\n",
       "74. 'CVG'\n",
       "75. 'CWA'\n",
       "76. 'DAB'\n",
       "77. 'DAL'\n",
       "78. 'DAY'\n",
       "79. 'DBQ'\n",
       "80. 'DCA'\n",
       "81. 'DEN'\n",
       "82. 'DFW'\n",
       "83. 'DHN'\n",
       "84. 'DLG'\n",
       "85. 'DLH'\n",
       "86. 'DRO'\n",
       "87. 'DSM'\n",
       "88. 'DTW'\n",
       "89. 'EGE'\n",
       "90. 'EKO'\n",
       "91. 'ELM'\n",
       "92. 'ELP'\n",
       "93. 'ERI'\n",
       "94. 'EUG'\n",
       "95. 'EVV'\n",
       "96. 'EWN'\n",
       "97. 'EWR'\n",
       "98. 'EYW'\n",
       "99. 'FAI'\n",
       "100. 'FAR'\n",
       "101. 'FAT'\n",
       "102. 'FAY'\n",
       "103. 'FCA'\n",
       "104. 'FLG'\n",
       "105. 'FLL'\n",
       "106. 'FLO'\n",
       "107. 'FNT'\n",
       "108. 'FSD'\n",
       "109. 'FSM'\n",
       "110. 'FWA'\n",
       "111. 'GCC'\n",
       "112. 'GEG'\n",
       "113. 'GFK'\n",
       "114. 'GGG'\n",
       "115. 'GJT'\n",
       "116. 'GNV'\n",
       "117. 'GPT'\n",
       "118. 'GRB'\n",
       "119. 'GRK'\n",
       "120. 'GRR'\n",
       "121. 'GSO'\n",
       "122. 'GSP'\n",
       "123. 'GST'\n",
       "124. 'GTF'\n",
       "125. 'GTR'\n",
       "126. 'GUC'\n",
       "127. 'HDN'\n",
       "128. 'HHH'\n",
       "129. 'HLN'\n",
       "130. 'HNL'\n",
       "131. 'HOU'\n",
       "132. 'HPN'\n",
       "133. 'HRL'\n",
       "134. 'HSV'\n",
       "135. 'HTS'\n",
       "136. 'IAD'\n",
       "137. 'IAH'\n",
       "138. 'ICT'\n",
       "139. 'IDA'\n",
       "140. 'ILM'\n",
       "141. 'IND'\n",
       "142. 'INL'\n",
       "143. 'IPL'\n",
       "144. 'ISP'\n",
       "145. 'ITH'\n",
       "146. 'ITO'\n",
       "147. 'IYK'\n",
       "148. 'JAC'\n",
       "149. 'JAN'\n",
       "150. 'JAX'\n",
       "151. 'JFK'\n",
       "152. 'JNU'\n",
       "153. 'KOA'\n",
       "154. 'KTN'\n",
       "155. 'LAN'\n",
       "156. 'LAS'\n",
       "157. 'LAW'\n",
       "158. 'LAX'\n",
       "159. 'LBB'\n",
       "160. 'LCH'\n",
       "161. 'LEX'\n",
       "162. 'LFT'\n",
       "163. 'LGA'\n",
       "164. 'LGB'\n",
       "165. 'LIH'\n",
       "166. 'LIT'\n",
       "167. 'LMT'\n",
       "168. 'LNK'\n",
       "169. 'LRD'\n",
       "170. 'LSE'\n",
       "171. 'LWB'\n",
       "172. 'LWS'\n",
       "173. 'LYH'\n",
       "174. 'MAF'\n",
       "175. 'MBS'\n",
       "176. 'MCI'\n",
       "177. 'MCN'\n",
       "178. 'MCO'\n",
       "179. 'MDT'\n",
       "180. 'MDW'\n",
       "181. 'MEI'\n",
       "182. 'MEM'\n",
       "183. 'MFE'\n",
       "184. 'MFR'\n",
       "185. 'MGM'\n",
       "186. 'MHT'\n",
       "187. 'MIA'\n",
       "188. 'MKE'\n",
       "189. 'MKG'\n",
       "190. 'MLB'\n",
       "191. 'MLI'\n",
       "192. 'MLU'\n",
       "193. 'MOB'\n",
       "194. 'MOD'\n",
       "195. 'MOT'\n",
       "196. 'MQT'\n",
       "197. 'MRY'\n",
       "198. 'MSN'\n",
       "199. 'MSO'\n",
       "200. 'MSP'\n",
       "201. 'MSY'\n",
       "202. 'MTJ'\n",
       "203. 'MYR'\n",
       "204. 'OAJ'\n",
       "205. 'OAK'\n",
       "206. 'OGG'\n",
       "207. 'OKC'\n",
       "208. 'OMA'\n",
       "209. 'OME'\n",
       "210. 'ONT'\n",
       "211. 'ORD'\n",
       "212. 'ORF'\n",
       "213. 'OTH'\n",
       "214. 'OTZ'\n",
       "215. 'OXR'\n",
       "216. 'PBI'\n",
       "217. 'PDX'\n",
       "218. 'PFN'\n",
       "219. 'PHF'\n",
       "220. 'PHL'\n",
       "221. 'PHX'\n",
       "222. 'PIA'\n",
       "223. 'PIH'\n",
       "224. 'PIR'\n",
       "225. 'PIT'\n",
       "226. 'PLN'\n",
       "227. 'PMD'\n",
       "228. 'PNS'\n",
       "229. 'PSC'\n",
       "230. 'PSE'\n",
       "231. 'PSG'\n",
       "232. 'PSP'\n",
       "233. 'PUB'\n",
       "234. 'PVD'\n",
       "235. 'PWM'\n",
       "236. 'RAP'\n",
       "237. 'RDD'\n",
       "238. 'RDM'\n",
       "239. 'RDU'\n",
       "240. 'RFD'\n",
       "241. 'RHI'\n",
       "242. 'RIC'\n",
       "243. 'RKS'\n",
       "244. 'RNO'\n",
       "245. 'ROA'\n",
       "246. 'ROC'\n",
       "247. 'ROW'\n",
       "248. 'RST'\n",
       "249. 'RSW'\n",
       "250. 'SAN'\n",
       "251. 'SAT'\n",
       "252. 'SAV'\n",
       "253. 'SBA'\n",
       "254. 'SBN'\n",
       "255. 'SBP'\n",
       "256. 'SCC'\n",
       "257. 'SCE'\n",
       "258. 'SDF'\n",
       "259. 'SEA'\n",
       "260. 'SFO'\n",
       "261. 'SGF'\n",
       "262. 'SGU'\n",
       "263. 'SHV'\n",
       "264. 'SIT'\n",
       "265. 'SJC'\n",
       "266. 'SJT'\n",
       "267. 'SJU'\n",
       "268. 'SLC'\n",
       "269. 'SLE'\n",
       "270. 'SMF'\n",
       "271. 'SMX'\n",
       "272. 'SNA'\n",
       "273. 'SPI'\n",
       "274. 'SPS'\n",
       "275. 'SRQ'\n",
       "276. 'STL'\n",
       "277. 'STT'\n",
       "278. 'STX'\n",
       "279. 'SUN'\n",
       "280. 'SUX'\n",
       "281. 'SWF'\n",
       "282. 'SYR'\n",
       "283. 'TEX'\n",
       "284. 'TLH'\n",
       "285. 'TOL'\n",
       "286. 'TPA'\n",
       "287. 'TRI'\n",
       "288. 'TUL'\n",
       "289. 'TUP'\n",
       "290. 'TUS'\n",
       "291. 'TVC'\n",
       "292. 'TWF'\n",
       "293. 'TXK'\n",
       "294. 'TYR'\n",
       "295. 'TYS'\n",
       "296. 'VLD'\n",
       "297. 'VPS'\n",
       "298. 'WRG'\n",
       "299. 'WYS'\n",
       "300. 'XNA'\n",
       "301. 'YAK'\n",
       "302. 'YKM'\n",
       "303. 'YUM'\n",
       "\n",
       "\n"
      ],
      "text/plain": [
       "  [1] \"ABE\" \"ABI\" \"ABQ\" \"ABY\" \"ACK\" \"ACT\" \"ACV\" \"ACY\" \"ADK\" \"ADQ\" \"AEX\" \"AGS\"\n",
       " [13] \"AKN\" \"ALB\" \"ALO\" \"AMA\" \"ANC\" \"ASE\" \"ATL\" \"ATW\" \"AUS\" \"AVL\" \"AVP\" \"AZO\"\n",
       " [25] \"BDL\" \"BET\" \"BFL\" \"BGM\" \"BGR\" \"BHM\" \"BIL\" \"BIS\" \"BJI\" \"BLI\" \"BMI\" \"BNA\"\n",
       " [37] \"BOI\" \"BOS\" \"BPT\" \"BQK\" \"BQN\" \"BRO\" \"BRW\" \"BTM\" \"BTR\" \"BTV\" \"BUF\" \"BUR\"\n",
       " [49] \"BWI\" \"BZN\" \"CAE\" \"CAK\" \"CDC\" \"CDV\" \"CEC\" \"CHA\" \"CHO\" \"CHS\" \"CIC\" \"CID\"\n",
       " [61] \"CLD\" \"CLE\" \"CLL\" \"CLT\" \"CMH\" \"CMI\" \"CMX\" \"COD\" \"COS\" \"CPR\" \"CRP\" \"CRW\"\n",
       " [73] \"CSG\" \"CVG\" \"CWA\" \"DAB\" \"DAL\" \"DAY\" \"DBQ\" \"DCA\" \"DEN\" \"DFW\" \"DHN\" \"DLG\"\n",
       " [85] \"DLH\" \"DRO\" \"DSM\" \"DTW\" \"EGE\" \"EKO\" \"ELM\" \"ELP\" \"ERI\" \"EUG\" \"EVV\" \"EWN\"\n",
       " [97] \"EWR\" \"EYW\" \"FAI\" \"FAR\" \"FAT\" \"FAY\" \"FCA\" \"FLG\" \"FLL\" \"FLO\" \"FNT\" \"FSD\"\n",
       "[109] \"FSM\" \"FWA\" \"GCC\" \"GEG\" \"GFK\" \"GGG\" \"GJT\" \"GNV\" \"GPT\" \"GRB\" \"GRK\" \"GRR\"\n",
       "[121] \"GSO\" \"GSP\" \"GST\" \"GTF\" \"GTR\" \"GUC\" \"HDN\" \"HHH\" \"HLN\" \"HNL\" \"HOU\" \"HPN\"\n",
       "[133] \"HRL\" \"HSV\" \"HTS\" \"IAD\" \"IAH\" \"ICT\" \"IDA\" \"ILM\" \"IND\" \"INL\" \"IPL\" \"ISP\"\n",
       "[145] \"ITH\" \"ITO\" \"IYK\" \"JAC\" \"JAN\" \"JAX\" \"JFK\" \"JNU\" \"KOA\" \"KTN\" \"LAN\" \"LAS\"\n",
       "[157] \"LAW\" \"LAX\" \"LBB\" \"LCH\" \"LEX\" \"LFT\" \"LGA\" \"LGB\" \"LIH\" \"LIT\" \"LMT\" \"LNK\"\n",
       "[169] \"LRD\" \"LSE\" \"LWB\" \"LWS\" \"LYH\" \"MAF\" \"MBS\" \"MCI\" \"MCN\" \"MCO\" \"MDT\" \"MDW\"\n",
       "[181] \"MEI\" \"MEM\" \"MFE\" \"MFR\" \"MGM\" \"MHT\" \"MIA\" \"MKE\" \"MKG\" \"MLB\" \"MLI\" \"MLU\"\n",
       "[193] \"MOB\" \"MOD\" \"MOT\" \"MQT\" \"MRY\" \"MSN\" \"MSO\" \"MSP\" \"MSY\" \"MTJ\" \"MYR\" \"OAJ\"\n",
       "[205] \"OAK\" \"OGG\" \"OKC\" \"OMA\" \"OME\" \"ONT\" \"ORD\" \"ORF\" \"OTH\" \"OTZ\" \"OXR\" \"PBI\"\n",
       "[217] \"PDX\" \"PFN\" \"PHF\" \"PHL\" \"PHX\" \"PIA\" \"PIH\" \"PIR\" \"PIT\" \"PLN\" \"PMD\" \"PNS\"\n",
       "[229] \"PSC\" \"PSE\" \"PSG\" \"PSP\" \"PUB\" \"PVD\" \"PWM\" \"RAP\" \"RDD\" \"RDM\" \"RDU\" \"RFD\"\n",
       "[241] \"RHI\" \"RIC\" \"RKS\" \"RNO\" \"ROA\" \"ROC\" \"ROW\" \"RST\" \"RSW\" \"SAN\" \"SAT\" \"SAV\"\n",
       "[253] \"SBA\" \"SBN\" \"SBP\" \"SCC\" \"SCE\" \"SDF\" \"SEA\" \"SFO\" \"SGF\" \"SGU\" \"SHV\" \"SIT\"\n",
       "[265] \"SJC\" \"SJT\" \"SJU\" \"SLC\" \"SLE\" \"SMF\" \"SMX\" \"SNA\" \"SPI\" \"SPS\" \"SRQ\" \"STL\"\n",
       "[277] \"STT\" \"STX\" \"SUN\" \"SUX\" \"SWF\" \"SYR\" \"TEX\" \"TLH\" \"TOL\" \"TPA\" \"TRI\" \"TUL\"\n",
       "[289] \"TUP\" \"TUS\" \"TVC\" \"TWF\" \"TXK\" \"TYR\" \"TYS\" \"VLD\" \"VPS\" \"WRG\" \"WYS\" \"XNA\"\n",
       "[301] \"YAK\" \"YKM\" \"YUM\""
      ]
     },
     "metadata": {},
     "output_type": "display_data"
    }
   ],
   "source": [
    "# how many flights originate at each airport and their names\n",
    "names(table(myDF$Origin))"
   ]
  },
  {
   "cell_type": "code",
   "execution_count": 16,
   "metadata": {
    "run_control": {
     "frozen": false,
     "read_only": false
    },
    "scrolled": true
   },
   "outputs": [
    {
     "data": {
      "text/html": [
       "<strong>IND:</strong> 42750"
      ],
      "text/latex": [
       "\\textbf{IND:} 42750"
      ],
      "text/markdown": [
       "**IND:** 42750"
      ],
      "text/plain": [
       "  IND \n",
       "42750 "
      ]
     },
     "metadata": {},
     "output_type": "display_data"
    },
    {
     "data": {
      "text/plain": [
       "\n",
       "   IND    ORD    JFK    EWR    IAD \n",
       " 42750 350380 118804 138506  76031 "
      ]
     },
     "metadata": {},
     "output_type": "display_data"
    }
   ],
   "source": [
    "table(myDF$Origin)[\"IND\"] #indexing and getting the value with the name\n",
    "table(myDF$Origin)[c(\"IND\",\"ORD\",\"JFK\",\"EWR\",\"IAD\")] # if you want to get a collection of such airports"
   ]
  },
  {
   "cell_type": "markdown",
   "metadata": {},
   "source": [
    "#### How many flights landed at Ronald Reagan Washington National or Washington Dulles Airport in 2008? Use just one command to get both of these counts simultaneously."
   ]
  },
  {
   "cell_type": "code",
   "execution_count": null,
   "metadata": {
    "run_control": {
     "frozen": false,
     "read_only": false
    }
   },
   "outputs": [],
   "source": []
  },
  {
   "cell_type": "markdown",
   "metadata": {},
   "source": [
    "### Analysis of On-Time and Early Departures"
   ]
  },
  {
   "cell_type": "code",
   "execution_count": null,
   "metadata": {
    "run_control": {
     "frozen": false,
     "read_only": false
    }
   },
   "outputs": [],
   "source": [
    "myairports <- c(\"IND\", \"ORD\", \"JFK\", \"EWR\", \"IAD\")"
   ]
  },
  {
   "cell_type": "code",
   "execution_count": 6,
   "metadata": {
    "run_control": {
     "frozen": false,
     "read_only": false
    },
    "scrolled": false
   },
   "outputs": [
    {
     "data": {
      "text/plain": [
       "\n",
       "   IND    ORD    JFK    EWR    IAD \n",
       " 42750 350380 118804 138506  76031 "
      ]
     },
     "metadata": {},
     "output_type": "display_data"
    }
   ],
   "source": [
    "# use this as an index into the table of counts\n",
    "table(myDF$Origin)[myairports]"
   ]
  },
  {
   "cell_type": "markdown",
   "metadata": {},
   "source": [
    "#### what are the first 20 flights that departed on time (or early)"
   ]
  },
  {
   "cell_type": "code",
   "execution_count": 3,
   "metadata": {
    "run_control": {
     "frozen": false,
     "read_only": false
    }
   },
   "outputs": [
    {
     "data": {
      "text/html": [
       "<ol class=list-inline>\n",
       "\t<li>FALSE</li>\n",
       "\t<li>FALSE</li>\n",
       "\t<li>FALSE</li>\n",
       "\t<li>TRUE</li>\n",
       "\t<li>FALSE</li>\n",
       "\t<li>FALSE</li>\n",
       "\t<li>FALSE</li>\n",
       "\t<li>TRUE</li>\n",
       "\t<li>FALSE</li>\n",
       "\t<li>TRUE</li>\n",
       "\t<li>FALSE</li>\n",
       "\t<li>FALSE</li>\n",
       "\t<li>TRUE</li>\n",
       "\t<li>TRUE</li>\n",
       "\t<li>FALSE</li>\n",
       "\t<li>FALSE</li>\n",
       "\t<li>FALSE</li>\n",
       "\t<li>FALSE</li>\n",
       "\t<li>FALSE</li>\n",
       "\t<li>FALSE</li>\n",
       "</ol>\n"
      ],
      "text/latex": [
       "\\begin{enumerate*}\n",
       "\\item FALSE\n",
       "\\item FALSE\n",
       "\\item FALSE\n",
       "\\item TRUE\n",
       "\\item FALSE\n",
       "\\item FALSE\n",
       "\\item FALSE\n",
       "\\item TRUE\n",
       "\\item FALSE\n",
       "\\item TRUE\n",
       "\\item FALSE\n",
       "\\item FALSE\n",
       "\\item TRUE\n",
       "\\item TRUE\n",
       "\\item FALSE\n",
       "\\item FALSE\n",
       "\\item FALSE\n",
       "\\item FALSE\n",
       "\\item FALSE\n",
       "\\item FALSE\n",
       "\\end{enumerate*}\n"
      ],
      "text/markdown": [
       "1. FALSE\n",
       "2. FALSE\n",
       "3. FALSE\n",
       "4. TRUE\n",
       "5. FALSE\n",
       "6. FALSE\n",
       "7. FALSE\n",
       "8. TRUE\n",
       "9. FALSE\n",
       "10. TRUE\n",
       "11. FALSE\n",
       "12. FALSE\n",
       "13. TRUE\n",
       "14. TRUE\n",
       "15. FALSE\n",
       "16. FALSE\n",
       "17. FALSE\n",
       "18. FALSE\n",
       "19. FALSE\n",
       "20. FALSE\n",
       "\n",
       "\n"
      ],
      "text/plain": [
       " [1] FALSE FALSE FALSE  TRUE FALSE FALSE FALSE  TRUE FALSE  TRUE FALSE FALSE\n",
       "[13]  TRUE  TRUE FALSE FALSE FALSE FALSE FALSE FALSE"
      ]
     },
     "metadata": {},
     "output_type": "display_data"
    }
   ],
   "source": [
    "head(myDF$DepDelay<=0, 20)"
   ]
  },
  {
   "cell_type": "code",
   "execution_count": 4,
   "metadata": {
    "run_control": {
     "frozen": false,
     "read_only": false
    }
   },
   "outputs": [
    {
     "data": {
      "text/html": [
       "<ol class=list-inline>\n",
       "\t<li>FALSE</li>\n",
       "\t<li>FALSE</li>\n",
       "\t<li>FALSE</li>\n",
       "\t<li>TRUE</li>\n",
       "\t<li>FALSE</li>\n",
       "\t<li>FALSE</li>\n",
       "\t<li>FALSE</li>\n",
       "\t<li>TRUE</li>\n",
       "\t<li>FALSE</li>\n",
       "\t<li>TRUE</li>\n",
       "\t<li>FALSE</li>\n",
       "\t<li>FALSE</li>\n",
       "\t<li>TRUE</li>\n",
       "\t<li>TRUE</li>\n",
       "\t<li>FALSE</li>\n",
       "\t<li>FALSE</li>\n",
       "\t<li>FALSE</li>\n",
       "\t<li>FALSE</li>\n",
       "\t<li>FALSE</li>\n",
       "\t<li>FALSE</li>\n",
       "</ol>\n"
      ],
      "text/latex": [
       "\\begin{enumerate*}\n",
       "\\item FALSE\n",
       "\\item FALSE\n",
       "\\item FALSE\n",
       "\\item TRUE\n",
       "\\item FALSE\n",
       "\\item FALSE\n",
       "\\item FALSE\n",
       "\\item TRUE\n",
       "\\item FALSE\n",
       "\\item TRUE\n",
       "\\item FALSE\n",
       "\\item FALSE\n",
       "\\item TRUE\n",
       "\\item TRUE\n",
       "\\item FALSE\n",
       "\\item FALSE\n",
       "\\item FALSE\n",
       "\\item FALSE\n",
       "\\item FALSE\n",
       "\\item FALSE\n",
       "\\end{enumerate*}\n"
      ],
      "text/markdown": [
       "1. FALSE\n",
       "2. FALSE\n",
       "3. FALSE\n",
       "4. TRUE\n",
       "5. FALSE\n",
       "6. FALSE\n",
       "7. FALSE\n",
       "8. TRUE\n",
       "9. FALSE\n",
       "10. TRUE\n",
       "11. FALSE\n",
       "12. FALSE\n",
       "13. TRUE\n",
       "14. TRUE\n",
       "15. FALSE\n",
       "16. FALSE\n",
       "17. FALSE\n",
       "18. FALSE\n",
       "19. FALSE\n",
       "20. FALSE\n",
       "\n",
       "\n"
      ],
      "text/plain": [
       " [1] FALSE FALSE FALSE  TRUE FALSE FALSE FALSE  TRUE FALSE  TRUE FALSE FALSE\n",
       "[13]  TRUE  TRUE FALSE FALSE FALSE FALSE FALSE FALSE"
      ]
     },
     "metadata": {},
     "output_type": "display_data"
    }
   ],
   "source": [
    "(myDF$DepDelay<=0)[1:20]"
   ]
  },
  {
   "cell_type": "code",
   "execution_count": null,
   "metadata": {
    "run_control": {
     "frozen": false,
     "read_only": false
    }
   },
   "outputs": [],
   "source": [
    "tapply(myDF$DepDelay <=0, myDF$Origin, sum, na.rm=TRUE)"
   ]
  },
  {
   "cell_type": "markdown",
   "metadata": {},
   "source": [
    "## Analysis of On-Time and Early Departures"
   ]
  },
  {
   "cell_type": "markdown",
   "metadata": {},
   "source": [
    "### On-time and Early Departures\n",
    "This activity allows learners to analyze the percentage of flights that departed on time or early."
   ]
  },
  {
   "cell_type": "code",
   "execution_count": null,
   "metadata": {},
   "outputs": [],
   "source": []
  }
 ],
 "metadata": {
  "hide_input": false,
  "kernelspec": {
   "display_name": "R",
   "language": "R",
   "name": "ir"
  },
  "language_info": {
   "codemirror_mode": "r",
   "file_extension": ".r",
   "mimetype": "text/x-r-source",
   "name": "R",
   "pygments_lexer": "r",
   "version": "3.3.2"
  },
  "nav_menu": {},
  "toc": {
   "navigate_menu": true,
   "number_sections": true,
   "sideBar": true,
   "threshold": 6,
   "toc_cell": false,
   "toc_section_display": "block",
   "toc_window_display": false
  }
 },
 "nbformat": 4,
 "nbformat_minor": 2
}
